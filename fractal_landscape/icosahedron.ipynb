{
 "cells": [
  {
   "cell_type": "code",
   "execution_count": 1,
   "id": "597454b7-3a11-4337-8d0b-ca5fc9af326c",
   "metadata": {},
   "outputs": [],
   "source": [
    "import sympy as sp"
   ]
  },
  {
   "cell_type": "code",
   "execution_count": 2,
   "id": "d9c418c0-0679-4c39-958a-70b5916de29c",
   "metadata": {},
   "outputs": [],
   "source": [
    "gamma =  sp.Symbol('gamma')\n",
    "x,y,z=(gamma,1,0)\n",
    "rho = sp.sqrt(x**2+y**2+z**2).simplify()\n",
    "gamma_val = (1+sp.sqrt(5))/2"
   ]
  },
  {
   "cell_type": "code",
   "execution_count": 3,
   "id": "6eabfa50-eccc-4a84-961e-84303538d6ad",
   "metadata": {},
   "outputs": [
    {
     "data": {
      "text/latex": [
       "$\\displaystyle \\sqrt{\\gamma^{2} + 1}$"
      ],
      "text/plain": [
       "sqrt(gamma**2 + 1)"
      ]
     },
     "execution_count": 3,
     "metadata": {},
     "output_type": "execute_result"
    }
   ],
   "source": [
    "rho"
   ]
  },
  {
   "cell_type": "code",
   "execution_count": null,
   "id": "d0f9ddd7-9f07-475b-94ac-1855d41587c7",
   "metadata": {},
   "outputs": [],
   "source": []
  },
  {
   "cell_type": "code",
   "execution_count": 4,
   "id": "ae609475-13d7-405f-8ed1-dedec68740d7",
   "metadata": {},
   "outputs": [
    {
     "ename": "NameError",
     "evalue": "name 'cart2sphr' is not defined",
     "output_type": "error",
     "traceback": [
      "\u001b[0;31m---------------------------------------------------------------------------\u001b[0m",
      "\u001b[0;31mNameError\u001b[0m                                 Traceback (most recent call last)",
      "Cell \u001b[0;32mIn[4], line 1\u001b[0m\n\u001b[0;32m----> 1\u001b[0m theta_coord, phi_coord \u001b[38;5;241m=\u001b[39m \u001b[43mcart2sphr\u001b[49m(x,y,z)\n",
      "\u001b[0;31mNameError\u001b[0m: name 'cart2sphr' is not defined"
     ]
    }
   ],
   "source": [
    "theta_coord, phi_coord = cart2sphr(x,y,z)"
   ]
  },
  {
   "cell_type": "code",
   "execution_count": null,
   "id": "5d9631ce-18a3-44d6-8496-c2b3e8f96b70",
   "metadata": {},
   "outputs": [],
   "source": [
    "theta_coord.subs(phi,phi_val).simplify() # theta = "
   ]
  },
  {
   "cell_type": "code",
   "execution_count": null,
   "id": "43b2a24a-cf54-4582-a2fb-231b666bcd58",
   "metadata": {},
   "outputs": [],
   "source": []
  },
  {
   "cell_type": "code",
   "execution_count": null,
   "id": "fa39faee-0ffe-445f-8dfd-09233bc14a96",
   "metadata": {},
   "outputs": [],
   "source": [
    "(( (1+sp.sqrt(5))/2) * ( (1-sp.sqrt(5))/2)).simplify()"
   ]
  },
  {
   "cell_type": "code",
   "execution_count": null,
   "id": "522e9de2-2942-475f-b853-9aa5fc2e9694",
   "metadata": {},
   "outputs": [],
   "source": [
    "cart2sphr(1,0,phi)"
   ]
  },
  {
   "cell_type": "code",
   "execution_count": null,
   "id": "b496f687-00a9-4719-9d23-a891cd8016a8",
   "metadata": {},
   "outputs": [],
   "source": [
    "x = (1/sp.sin(sp.pi/5))"
   ]
  },
  {
   "cell_type": "code",
   "execution_count": 6,
   "id": "64bb7017-db73-4c8d-9ceb-6cb6dd8ea4cf",
   "metadata": {},
   "outputs": [
    {
     "data": {
      "text/latex": [
       "$\\displaystyle \\pi - 2 \\operatorname{asin}{\\left(\\frac{2 \\sqrt{2}}{\\sqrt{5 - \\sqrt{5}}} \\right)}$"
      ],
      "text/plain": [
       "pi - 2*asin(2*sqrt(2)/sqrt(5 - sqrt(5)))"
      ]
     },
     "execution_count": 6,
     "metadata": {},
     "output_type": "execute_result"
    }
   ],
   "source": [
    "(sp.pi-2*sp.asin(x)).simplify()"
   ]
  },
  {
   "cell_type": "code",
   "execution_count": 7,
   "id": "3f37c18e-55ae-4dde-af3d-c7076fcda795",
   "metadata": {},
   "outputs": [
    {
     "data": {
      "text/latex": [
       "$\\displaystyle \\pi - 2 \\operatorname{asin}{\\left(\\frac{2 \\sqrt{2}}{\\sqrt{5 - \\sqrt{5}}} \\right)}$"
      ],
      "text/plain": [
       "pi - 2*asin(2*sqrt(2)/sqrt(5 - sqrt(5)))"
      ]
     },
     "execution_count": 7,
     "metadata": {},
     "output_type": "execute_result"
    }
   ],
   "source": [
    "(sp.pi-2*sp.asin(x)).subs(gamma, sp.pi/5).simplify()"
   ]
  },
  {
   "cell_type": "code",
   "execution_count": 8,
   "id": "87cec1d4-eaee-4cfa-9a59-369447a64385",
   "metadata": {},
   "outputs": [],
   "source": [
    "alpha = sp.Symbol('alpha')\n",
    "beta = sp.Symbol('beta')\n",
    "alpha_val = 2*sp.pi/5\n",
    "x = (1/sp.sin(alpha/2))\n",
    "beta_in_alpha = (sp.pi-2*sp.asin(x)).simplify()\n",
    "beta_val = beta_in_alpha.subs(alpha,alpha_val).simplify()\n",
    "gamma = sp.Symbol('gamma')\n",
    "gamma_val = (sp.pi - beta_val).simplify()"
   ]
  },
  {
   "cell_type": "code",
   "execution_count": 9,
   "id": "b1e79ecb-e578-4258-ba69-2628dc66d6bd",
   "metadata": {},
   "outputs": [
    {
     "data": {
      "text/latex": [
       "$\\displaystyle 2 \\operatorname{asin}{\\left(\\frac{2 \\sqrt{2}}{\\sqrt{5 - \\sqrt{5}}} \\right)}$"
      ],
      "text/plain": [
       "2*asin(2*sqrt(2)/sqrt(5 - sqrt(5)))"
      ]
     },
     "execution_count": 9,
     "metadata": {},
     "output_type": "execute_result"
    }
   ],
   "source": [
    "gamma_val"
   ]
  },
  {
   "cell_type": "code",
   "execution_count": 10,
   "id": "29715f57-0caf-4995-81fa-7c16bddcf506",
   "metadata": {},
   "outputs": [],
   "source": [
    "ico = [\n",
    "    (0,0),\n",
    "    *((0+i*alpha,sp.pi-gamma) for i in range(5)),\n",
    "    *((alpha/2+i*alpha,gamma) for i in range(5)),\n",
    "    (0,sp.pi)\n",
    "]"
   ]
  },
  {
   "cell_type": "code",
   "execution_count": 11,
   "id": "f8f18bd5-6c32-42cf-b7a8-f2aa8d8573e3",
   "metadata": {},
   "outputs": [],
   "source": [
    "ico = [\n",
    "    (\n",
    "        phi.simplify() if isinstance(phi, sp.Expr) else phi\n",
    "        , theta.simplify() if isinstance(theta, sp.Expr) else theta\n",
    "    )\n",
    "    for (phi, theta) in ico\n",
    "]"
   ]
  },
  {
   "cell_type": "code",
   "execution_count": 12,
   "id": "e785fc69-82d6-4dc9-9867-f8b35b084a07",
   "metadata": {},
   "outputs": [
    {
     "data": {
      "text/plain": [
       "[(0, 0),\n",
       " (0, pi - gamma),\n",
       " (alpha, pi - gamma),\n",
       " (2*alpha, pi - gamma),\n",
       " (3*alpha, pi - gamma),\n",
       " (4*alpha, pi - gamma),\n",
       " (alpha/2, gamma),\n",
       " (3*alpha/2, gamma),\n",
       " (5*alpha/2, gamma),\n",
       " (7*alpha/2, gamma),\n",
       " (9*alpha/2, gamma),\n",
       " (0, pi)]"
      ]
     },
     "execution_count": 12,
     "metadata": {},
     "output_type": "execute_result"
    }
   ],
   "source": [
    "ico"
   ]
  },
  {
   "cell_type": "code",
   "execution_count": 13,
   "id": "0032c1f0-9a61-4469-b299-dcfc10ae7270",
   "metadata": {},
   "outputs": [],
   "source": [
    "def cart2sphr(x,y,z):\n",
    "    theta=sp.atan(y/x).simplify()\n",
    "    phi=sp.acos(z/rho).simplify()\n",
    "    return theta, phi\n",
    "def midpoint(t1,p1,t2,p2):\n",
    "    def xyz(t,p):\n",
    "        x = sp.sin(t)*sp.cos(p)\n",
    "        y = sp.sin(t)*sp.sin(p)\n",
    "        z = sp.cos(t)\n",
    "        return x,y,z\n",
    "    x1, y1, z1 = xyz(t1,p1)\n",
    "    x2, y2, z2 = xyz(t2,p2)\n",
    "    x_,y_,z_ = (x1+x2)/2, (y1+y2)/2, (z1+z2)/2\n",
    "    t_, p_ = cart2sphr(x_,y_,z_)\n",
    "    return t_, p_"
   ]
  },
  {
   "cell_type": "code",
   "execution_count": 14,
   "id": "a924561d-11be-48dd-9546-85bc76759830",
   "metadata": {},
   "outputs": [],
   "source": [
    "t, p = midpoint(\n",
    "    ico[1][1],ico[1][0],\n",
    "    ico[6][1],ico[6][0]\n",
    ")"
   ]
  },
  {
   "cell_type": "code",
   "execution_count": 15,
   "id": "170d9b0b-f56a-4a48-87ab-16ea2c804255",
   "metadata": {},
   "outputs": [
    {
     "data": {
      "text/latex": [
       "$\\displaystyle \\operatorname{atan}{\\left(\\frac{\\sin{\\left(\\frac{\\alpha}{2} \\right)}}{\\cos{\\left(\\frac{\\alpha}{2} \\right)} + 1} \\right)}$"
      ],
      "text/plain": [
       "atan(sin(alpha/2)/(cos(alpha/2) + 1))"
      ]
     },
     "execution_count": 15,
     "metadata": {},
     "output_type": "execute_result"
    }
   ],
   "source": [
    "t"
   ]
  },
  {
   "cell_type": "code",
   "execution_count": 16,
   "id": "0fcea9bd-1352-4ba5-8e98-e522bf1a7bca",
   "metadata": {},
   "outputs": [
    {
     "data": {
      "text/latex": [
       "$\\displaystyle \\sqrt{\\gamma^{2} + 1}$"
      ],
      "text/plain": [
       "sqrt(gamma**2 + 1)"
      ]
     },
     "execution_count": 16,
     "metadata": {},
     "output_type": "execute_result"
    }
   ],
   "source": [
    "rho"
   ]
  },
  {
   "cell_type": "code",
   "execution_count": null,
   "id": "c4152cba-5045-4091-9d99-0e668d7e8674",
   "metadata": {},
   "outputs": [],
   "source": []
  }
 ],
 "metadata": {
  "kernelspec": {
   "display_name": "game",
   "language": "python",
   "name": "game"
  },
  "language_info": {
   "codemirror_mode": {
    "name": "ipython",
    "version": 3
   },
   "file_extension": ".py",
   "mimetype": "text/x-python",
   "name": "python",
   "nbconvert_exporter": "python",
   "pygments_lexer": "ipython3",
   "version": "3.11.9"
  }
 },
 "nbformat": 4,
 "nbformat_minor": 5
}
