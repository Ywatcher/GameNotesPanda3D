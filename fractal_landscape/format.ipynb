{
 "cells": [
  {
   "cell_type": "code",
   "execution_count": 2,
   "id": "cbed4ae8-82cd-48f6-8bd9-0f3e7e3fa2e8",
   "metadata": {},
   "outputs": [],
   "source": [
    "from panda3d.core import Geom, GeomVertexData, GeomVertexFormat\n",
    "import numpy as np\n",
    "\n",
    "# 创建带位置和颜色的自定义顶点格式\n",
    "format = GeomVertexFormat.get_v3c4()  # v3c4 表示 3D 位置 + 4 分量颜色\n",
    "vertex_data = GeomVertexData(\"vertices\", format, Geom.UHStatic)\n",
    "position_array = vertex_data.modify_array(0)  # 获取第一个数组（位置数据）\n",
    "position_handle = position_array.modify_handle()\n",
    "_ = (position_handle.get_data())\n",
    "\n",
    "\n",
    "# 创建位置数据，假设是 Nx3 的 NumPy 数组\n",
    "positions = np.array([\n",
    "    [1.0, 2.0, 3.0],\n",
    "    [4.0, 5.0, 6.0],\n",
    "    [7.0, 8.0, 9.0]\n",
    "], dtype=np.float32)\n",
    "\n",
    "# 将 NumPy 数组直接写入到 GeomVertexData 的位置流\n",
    "position_array = vertex_data.modify_array(0)  # 获取第一个数组（位置数据）\n",
    "position_handle = position_array.modify_handle()\n",
    "position_handle.set_data(positions.tobytes())  # 将位置数据写入\n",
    "\n",
    "# 此时颜色数据未设置，保持为空或为默认值\n"
   ]
  },
  {
   "cell_type": "code",
   "execution_count": 16,
   "id": "1ba4a872-6346-451b-bfe4-41895d9175eb",
   "metadata": {},
   "outputs": [
    {
     "data": {
      "text/plain": [
       "3"
      ]
     },
     "execution_count": 16,
     "metadata": {},
     "output_type": "execute_result"
    }
   ],
   "source": [
    "positions.shape[0]"
   ]
  },
  {
   "cell_type": "code",
   "execution_count": null,
   "id": "a51304b6-8b56-4ad9-9255-fcf4736cf74f",
   "metadata": {},
   "outputs": [],
   "source": [
    "num_vertices = vertex_data.get_num_rows()\n",
    "num_vertices"
   ]
  },
  {
   "cell_type": "code",
   "execution_count": 10,
   "id": "6f7e8dc6-f8a7-43fc-a07d-09d07329b1d0",
   "metadata": {},
   "outputs": [
    {
     "name": "stdout",
     "output_type": "stream",
     "text": [
      "Help on built-in function modify_array:\n",
      "\n",
      "modify_array(...) method of panda3d.core.GeomVertexData instance\n",
      "    C++ Interface:\n",
      "    modify_array(const GeomVertexData self, int i)\n",
      "    \n",
      "    /**\n",
      "     * Returns a modifiable pointer to the indicated vertex array, so that\n",
      "     * application code may directly manipulate the data.  You should avoid\n",
      "     * changing the length of this array, since all of the arrays should be kept\n",
      "     * in sync--use set_num_rows() instead.\n",
      "     *\n",
      "     * Don't call this in a downstream thread unless you don't mind it blowing\n",
      "     * away other changes you might have recently made in an upstream thread.\n",
      "     */\n",
      "\n"
     ]
    }
   ],
   "source": [
    "help(vertex_data.modify_array)"
   ]
  },
  {
   "cell_type": "code",
   "execution_count": 7,
   "id": "3f4a7f7f-3319-4cfa-9fb4-3c0336710587",
   "metadata": {},
   "outputs": [
    {
     "data": {
      "text/plain": [
       "panda3d.core.GeomVertexArrayFormat"
      ]
     },
     "execution_count": 7,
     "metadata": {},
     "output_type": "execute_result"
    }
   ],
   "source": [
    "form = position_array.array_format\n",
    "type(form)"
   ]
  },
  {
   "cell_type": "code",
   "execution_count": 20,
   "id": "2ec3c9ad-b73c-49b1-ad32-66c9aeb0236b",
   "metadata": {},
   "outputs": [],
   "source": [
    "from panda3d.core import GeomVertexArrayFormat\n",
    "from typing import Dict, Literal, Tuple\n",
    "def getFormatField(vformat:GeomVertexArrayFormat) -> Dict[str, Tuple[int,int]]:\n",
    "    n_col = vformat.get_num_columns()\n",
    "    field_lengths = [v.get_num_values() for v in vformat.columns]\n",
    "    field_dict = {\n",
    "        vformat.columns[i].getName():(sum(field_lengths[:i]), sum(field_lengths[:i+1]))\n",
    "        for i in range(n_col)\n",
    "    }\n",
    "    return field_dict\n",
    "\n",
    "def getFormatLength(vformat:GeomVertexArrayFormat) -> int:\n",
    "    return sum([v.get_num_values() for v in vformat.columns])\n",
    "d = getFormatField(form)"
   ]
  },
  {
   "cell_type": "code",
   "execution_count": 61,
   "id": "6ce45300-a127-45bd-aec3-e8790b223ef0",
   "metadata": {},
   "outputs": [],
   "source": [
    "v= (list(form.columns)[0])"
   ]
  },
  {
   "cell_type": "code",
   "execution_count": 49,
   "id": "66900b47-1642-4e6d-82db-09a99f351120",
   "metadata": {},
   "outputs": [
    {
     "data": {
      "text/plain": [
       "panda3d.core.GeomVertexColumn"
      ]
     },
     "execution_count": 49,
     "metadata": {},
     "output_type": "execute_result"
    }
   ],
   "source": [
    "type(v)"
   ]
  },
  {
   "cell_type": "code",
   "execution_count": 14,
   "id": "030c3b57-b414-4697-8ea6-7c41ac20d5cb",
   "metadata": {},
   "outputs": [
    {
     "data": {
      "text/plain": [
       "<GeomVertexArrayFormat.columns[2] of [ vertex(3f) color(4b) ]>"
      ]
     },
     "execution_count": 14,
     "metadata": {},
     "output_type": "execute_result"
    }
   ],
   "source": [
    "# start_column\n",
    "# end_column\n",
    "form.columns"
   ]
  },
  {
   "cell_type": "code",
   "execution_count": 25,
   "id": "e777d8e9-1cdf-4cd7-921a-d53e6f4374e0",
   "metadata": {},
   "outputs": [
    {
     "data": {
      "text/plain": [
       "'vertex'"
      ]
     },
     "execution_count": 25,
     "metadata": {},
     "output_type": "execute_result"
    }
   ],
   "source": [
    "str(list(d.keys())[0])"
   ]
  },
  {
   "cell_type": "code",
   "execution_count": 46,
   "id": "b4d9bfb7-b1ca-4bf9-ba6b-eb21d59b76f6",
   "metadata": {},
   "outputs": [
    {
     "data": {
      "text/plain": [
       "vertex"
      ]
     },
     "execution_count": 46,
     "metadata": {},
     "output_type": "execute_result"
    }
   ],
   "source": [
    "v.getName()"
   ]
  },
  {
   "cell_type": "code",
   "execution_count": 50,
   "id": "fd5ba2f1-2e00-4184-93b8-2f7fa318b76d",
   "metadata": {},
   "outputs": [
    {
     "data": {
      "text/plain": [
       "3"
      ]
     },
     "execution_count": 50,
     "metadata": {},
     "output_type": "execute_result"
    }
   ],
   "source": [
    "v.get_num_values()\n",
    "# help(v.get_element_stride)"
   ]
  },
  {
   "cell_type": "code",
   "execution_count": 48,
   "id": "802775ac-1d2f-4c78-ad1e-c975965b9ca4",
   "metadata": {},
   "outputs": [
    {
     "data": {
      "text/plain": [
       "b'\\x00\\x00\\x80?\\x00\\x00\\x00@\\x00\\x00@@\\x00\\x00\\x80@\\x00\\x00\\xa0@\\x00\\x00\\xc0@\\x00\\x00\\xe0@\\x00\\x00\\x00A\\x00\\x00\\x10A'"
      ]
     },
     "execution_count": 48,
     "metadata": {},
     "output_type": "execute_result"
    }
   ],
   "source": [
    "position_handle.get_data()"
   ]
  },
  {
   "cell_type": "code",
   "execution_count": 18,
   "id": "01e93b82-da02-49d2-88a6-c6b9b4556b47",
   "metadata": {},
   "outputs": [],
   "source": [
    "_  = np.frombuffer(\n",
    "    positions.tobytes(),\n",
    "    np.float32\n",
    ")\n",
    "_.resize(3,3)"
   ]
  },
  {
   "cell_type": "code",
   "execution_count": 19,
   "id": "7617fc91-3973-4844-8d64-49509999b2c8",
   "metadata": {},
   "outputs": [
    {
     "data": {
      "text/plain": [
       "array([[1., 2., 3.],\n",
       "       [4., 5., 6.],\n",
       "       [7., 8., 9.]], dtype=float32)"
      ]
     },
     "execution_count": 19,
     "metadata": {},
     "output_type": "execute_result"
    }
   ],
   "source": [
    "_"
   ]
  },
  {
   "cell_type": "code",
   "execution_count": null,
   "id": "ff6ef57f-f517-4172-aa98-9323cc551d8c",
   "metadata": {},
   "outputs": [],
   "source": []
  }
 ],
 "metadata": {
  "kernelspec": {
   "display_name": "game",
   "language": "python",
   "name": "game"
  },
  "language_info": {
   "codemirror_mode": {
    "name": "ipython",
    "version": 3
   },
   "file_extension": ".py",
   "mimetype": "text/x-python",
   "name": "python",
   "nbconvert_exporter": "python",
   "pygments_lexer": "ipython3",
   "version": "3.11.9"
  }
 },
 "nbformat": 4,
 "nbformat_minor": 5
}
