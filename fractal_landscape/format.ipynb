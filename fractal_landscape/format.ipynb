{
 "cells": [
  {
   "cell_type": "code",
   "execution_count": 37,
   "id": "cbed4ae8-82cd-48f6-8bd9-0f3e7e3fa2e8",
   "metadata": {},
   "outputs": [],
   "source": [
    "from panda3d.core import Geom, GeomVertexData, GeomVertexFormat\n",
    "import numpy as np\n",
    "\n",
    "# 创建带位置和颜色的自定义顶点格式\n",
    "format = GeomVertexFormat.get_v3c4()  # v3c4 表示 3D 位置 + 4 分量颜色\n",
    "vertex_data = GeomVertexData(\"vertices\", format, Geom.UHStatic)\n",
    "position_array = vertex_data.modify_array(0)  # 获取第一个数组（位置数据）\n",
    "position_handle = position_array.modify_handle()\n",
    "_ = (position_handle.get_data())\n",
    "\n",
    "\n",
    "# 创建位置数据，假设是 Nx3 的 NumPy 数组\n",
    "positions = np.array([\n",
    "    [1.0, 2.0, 3.0],\n",
    "    [4.0, 5.0, 6.0],\n",
    "    [7.0, 8.0, 9.0]\n",
    "], dtype=np.float32)\n",
    "\n",
    "# 将 NumPy 数组直接写入到 GeomVertexData 的位置流\n",
    "position_array = vertex_data.modify_array(0)  # 获取第一个数组（位置数据）\n",
    "position_handle = position_array.modify_handle()\n",
    "position_handle.set_data(positions.tobytes())  # 将位置数据写入\n",
    "\n",
    "# 此时颜色数据未设置，保持为空或为默认值\n"
   ]
  },
  {
   "cell_type": "code",
   "execution_count": 38,
   "id": "1ba4a872-6346-451b-bfe4-41895d9175eb",
   "metadata": {},
   "outputs": [
    {
     "data": {
      "text/plain": [
       "3"
      ]
     },
     "execution_count": 38,
     "metadata": {},
     "output_type": "execute_result"
    }
   ],
   "source": [
    "positions.shape[0]"
   ]
  },
  {
   "cell_type": "code",
   "execution_count": 39,
   "id": "a51304b6-8b56-4ad9-9255-fcf4736cf74f",
   "metadata": {},
   "outputs": [
    {
     "data": {
      "text/plain": [
       "2"
      ]
     },
     "execution_count": 39,
     "metadata": {},
     "output_type": "execute_result"
    }
   ],
   "source": [
    "num_vertices = vertex_data.get_num_rows()\n",
    "num_vertices"
   ]
  },
  {
   "cell_type": "code",
   "execution_count": 40,
   "id": "6f7e8dc6-f8a7-43fc-a07d-09d07329b1d0",
   "metadata": {},
   "outputs": [
    {
     "name": "stdout",
     "output_type": "stream",
     "text": [
      "Help on built-in function modify_array:\n",
      "\n",
      "modify_array(...) method of panda3d.core.GeomVertexData instance\n",
      "    C++ Interface:\n",
      "    modify_array(const GeomVertexData self, int i)\n",
      "    \n",
      "    /**\n",
      "     * Returns a modifiable pointer to the indicated vertex array, so that\n",
      "     * application code may directly manipulate the data.  You should avoid\n",
      "     * changing the length of this array, since all of the arrays should be kept\n",
      "     * in sync--use set_num_rows() instead.\n",
      "     *\n",
      "     * Don't call this in a downstream thread unless you don't mind it blowing\n",
      "     * away other changes you might have recently made in an upstream thread.\n",
      "     */\n",
      "\n"
     ]
    }
   ],
   "source": [
    "help(vertex_data.modify_array)"
   ]
  },
  {
   "cell_type": "code",
   "execution_count": 41,
   "id": "3f4a7f7f-3319-4cfa-9fb4-3c0336710587",
   "metadata": {},
   "outputs": [
    {
     "data": {
      "text/plain": [
       "panda3d.core.GeomVertexArrayFormat"
      ]
     },
     "execution_count": 41,
     "metadata": {},
     "output_type": "execute_result"
    }
   ],
   "source": [
    "form = position_array.array_format\n",
    "type(form)"
   ]
  },
  {
   "cell_type": "code",
   "execution_count": 42,
   "id": "2ec3c9ad-b73c-49b1-ad32-66c9aeb0236b",
   "metadata": {},
   "outputs": [],
   "source": [
    "from panda3d.core import GeomVertexArrayFormat\n",
    "from typing import Dict, Literal, Tuple\n",
    "def getFormatField(vformat:GeomVertexArrayFormat) -> Dict[str, Tuple[int,int]]:\n",
    "    n_col = vformat.get_num_columns()\n",
    "    field_lengths = [v.get_num_values() for v in vformat.columns]\n",
    "    field_dict = {\n",
    "        vformat.columns[i].getName():(sum(field_lengths[:i]), sum(field_lengths[:i+1]))\n",
    "        for i in range(n_col)\n",
    "    }\n",
    "    return field_dict\n",
    "\n",
    "def getFormatLength(vformat:GeomVertexArrayFormat) -> int:\n",
    "    return sum([v.get_num_values() for v in vformat.columns])\n",
    "d = getFormatField(form)"
   ]
  },
  {
   "cell_type": "code",
   "execution_count": 47,
   "id": "6ce45300-a127-45bd-aec3-e8790b223ef0",
   "metadata": {},
   "outputs": [],
   "source": [
    "v= (list(form.columns)[0])\n",
    "c=(list(form.columns)[1])"
   ]
  },
  {
   "cell_type": "code",
   "execution_count": 48,
   "id": "66900b47-1642-4e6d-82db-09a99f351120",
   "metadata": {},
   "outputs": [
    {
     "data": {
      "text/plain": [
       "panda3d.core.GeomVertexColumn"
      ]
     },
     "execution_count": 48,
     "metadata": {},
     "output_type": "execute_result"
    }
   ],
   "source": [
    "type(v)"
   ]
  },
  {
   "cell_type": "code",
   "execution_count": 54,
   "id": "ae9c10ff-cd95-4973-a120-3bb34ff5ca7a",
   "metadata": {},
   "outputs": [
    {
     "data": {
      "text/plain": [
       "12"
      ]
     },
     "execution_count": 54,
     "metadata": {},
     "output_type": "execute_result"
    }
   ],
   "source": [
    "v.getTotalBytes()"
   ]
  },
  {
   "cell_type": "code",
   "execution_count": 55,
   "id": "d7a2c2c1-9633-4703-b0de-c481b70a65be",
   "metadata": {},
   "outputs": [
    {
     "data": {
      "text/plain": [
       "12"
      ]
     },
     "execution_count": 55,
     "metadata": {},
     "output_type": "execute_result"
    }
   ],
   "source": [
    "v.getElementStride()"
   ]
  },
  {
   "cell_type": "code",
   "execution_count": 50,
   "id": "ab863cc4-7f02-488c-84ec-b210b01f50ee",
   "metadata": {},
   "outputs": [
    {
     "data": {
      "text/plain": [
       "color(4b)"
      ]
     },
     "execution_count": 50,
     "metadata": {},
     "output_type": "execute_result"
    }
   ],
   "source": [
    "c"
   ]
  },
  {
   "cell_type": "code",
   "execution_count": 53,
   "id": "de977ddd-337e-4660-9b39-0a0856106200",
   "metadata": {},
   "outputs": [
    {
     "data": {
      "text/plain": [
       "4"
      ]
     },
     "execution_count": 53,
     "metadata": {},
     "output_type": "execute_result"
    }
   ],
   "source": [
    "c.getTotalBytes()"
   ]
  },
  {
   "cell_type": "code",
   "execution_count": 58,
   "id": "8dc8de3e-184b-4bd7-8a6d-b540b6cda23e",
   "metadata": {},
   "outputs": [
    {
     "data": {
      "text/plain": [
       "1"
      ]
     },
     "execution_count": 58,
     "metadata": {},
     "output_type": "execute_result"
    }
   ],
   "source": [
    "c.getComponentBytes()"
   ]
  },
  {
   "cell_type": "code",
   "execution_count": 57,
   "id": "cbc2c484-c240-4ca9-a018-873f603524bb",
   "metadata": {},
   "outputs": [
    {
     "name": "stdout",
     "output_type": "stream",
     "text": [
      "Help on built-in function getTotalBytes:\n",
      "\n",
      "getTotalBytes(...) method of panda3d.core.GeomVertexColumn instance\n",
      "    C++ Interface:\n",
      "    get_total_bytes(GeomVertexColumn self)\n",
      "    \n",
      "    /**\n",
      "     * Returns the number of bytes used by each element of the column:\n",
      "     * component_bytes * num_components.\n",
      "     */\n",
      "\n"
     ]
    }
   ],
   "source": [
    "help(c.getTotalBytes)"
   ]
  },
  {
   "cell_type": "code",
   "execution_count": 56,
   "id": "13b70a2b-1adf-4dfb-9605-d611827c48cf",
   "metadata": {},
   "outputs": [
    {
     "data": {
      "text/plain": [
       "4"
      ]
     },
     "execution_count": 56,
     "metadata": {},
     "output_type": "execute_result"
    }
   ],
   "source": [
    "c.getElementStride()"
   ]
  },
  {
   "cell_type": "code",
   "execution_count": 14,
   "id": "030c3b57-b414-4697-8ea6-7c41ac20d5cb",
   "metadata": {},
   "outputs": [
    {
     "data": {
      "text/plain": [
       "<GeomVertexArrayFormat.columns[2] of [ vertex(3f) color(4b) ]>"
      ]
     },
     "execution_count": 14,
     "metadata": {},
     "output_type": "execute_result"
    }
   ],
   "source": [
    "# start_column\n",
    "# end_column\n",
    "form.columns"
   ]
  },
  {
   "cell_type": "code",
   "execution_count": 25,
   "id": "e777d8e9-1cdf-4cd7-921a-d53e6f4374e0",
   "metadata": {},
   "outputs": [
    {
     "data": {
      "text/plain": [
       "'vertex'"
      ]
     },
     "execution_count": 25,
     "metadata": {},
     "output_type": "execute_result"
    }
   ],
   "source": [
    "str(list(d.keys())[0])"
   ]
  },
  {
   "cell_type": "code",
   "execution_count": 46,
   "id": "b4d9bfb7-b1ca-4bf9-ba6b-eb21d59b76f6",
   "metadata": {},
   "outputs": [
    {
     "data": {
      "text/plain": [
       "vertex"
      ]
     },
     "execution_count": 46,
     "metadata": {},
     "output_type": "execute_result"
    }
   ],
   "source": [
    "v.getName()"
   ]
  },
  {
   "cell_type": "code",
   "execution_count": 76,
   "id": "90e49638-ccb8-4c2a-aba5-25b7834071a2",
   "metadata": {},
   "outputs": [
    {
     "data": {
      "text/plain": [
       "0"
      ]
     },
     "execution_count": 76,
     "metadata": {},
     "output_type": "execute_result"
    }
   ],
   "source": [
    "c.get_numeric_type()"
   ]
  },
  {
   "cell_type": "code",
   "execution_count": 50,
   "id": "fd5ba2f1-2e00-4184-93b8-2f7fa318b76d",
   "metadata": {},
   "outputs": [
    {
     "data": {
      "text/plain": [
       "3"
      ]
     },
     "execution_count": 50,
     "metadata": {},
     "output_type": "execute_result"
    }
   ],
   "source": [
    "v.get_num_values()\n",
    "# help(v.get_element_stride)"
   ]
  },
  {
   "cell_type": "code",
   "execution_count": 48,
   "id": "802775ac-1d2f-4c78-ad1e-c975965b9ca4",
   "metadata": {},
   "outputs": [
    {
     "data": {
      "text/plain": [
       "b'\\x00\\x00\\x80?\\x00\\x00\\x00@\\x00\\x00@@\\x00\\x00\\x80@\\x00\\x00\\xa0@\\x00\\x00\\xc0@\\x00\\x00\\xe0@\\x00\\x00\\x00A\\x00\\x00\\x10A'"
      ]
     },
     "execution_count": 48,
     "metadata": {},
     "output_type": "execute_result"
    }
   ],
   "source": [
    "position_handle.get_data()"
   ]
  },
  {
   "cell_type": "code",
   "execution_count": 18,
   "id": "01e93b82-da02-49d2-88a6-c6b9b4556b47",
   "metadata": {},
   "outputs": [],
   "source": [
    "_  = np.frombuffer(\n",
    "    positions.tobytes(),\n",
    "    np.float32\n",
    ")\n",
    "_.resize(3,3)"
   ]
  },
  {
   "cell_type": "code",
   "execution_count": 19,
   "id": "7617fc91-3973-4844-8d64-49509999b2c8",
   "metadata": {},
   "outputs": [
    {
     "data": {
      "text/plain": [
       "array([[1., 2., 3.],\n",
       "       [4., 5., 6.],\n",
       "       [7., 8., 9.]], dtype=float32)"
      ]
     },
     "execution_count": 19,
     "metadata": {},
     "output_type": "execute_result"
    }
   ],
   "source": [
    "_"
   ]
  },
  {
   "cell_type": "code",
   "execution_count": 3,
   "id": "f08799de-4831-4217-a3b1-89d242834a80",
   "metadata": {},
   "outputs": [],
   "source": [
    "from panda3d.core import Geom, GeomVertexData, GeomVertexFormat, GeomVertexWriter, GeomVertexReader\n",
    "import numpy as np\n",
    "v3c4 = GeomVertexFormat.get_v3c4() "
   ]
  },
  {
   "cell_type": "code",
   "execution_count": null,
   "id": "ff6ef57f-f517-4172-aa98-9323cc551d8c",
   "metadata": {},
   "outputs": [],
   "source": [
    "\n",
    "\n",
    "# 创建带位置和颜色的自定义顶点格式\n",
    " # v3c4 表示 3D 位置 + 4 分量颜色\n",
    "vertex_data = GeomVertexData(\"vertices\", format, Geom.UHStatic)\n",
    "position_array = vertex_data.modify_array(0)  # 获取第一个数组（位置数据）\n",
    "position_handle = position_array.modify_handle()\n",
    "_ = (position_handle.get_data())\n",
    "\n",
    "\n",
    "# 创建位置数据，假设是 Nx3 的 NumPy 数组\n",
    "positions = np.array([\n",
    "    [1.0, 2.0, 3.0],\n",
    "    [4.0, 5.0, 6.0],\n",
    "    [7.0, 8.0, 9.0]\n",
    "], dtype=np.float32)\n",
    "\n",
    "# 将 NumPy 数组直接写入到 GeomVertexData 的位置流\n",
    "position_array = vertex_data.modify_array(0)  # 获取第一个数组（位置数据）\n",
    "position_handle = position_array.modify_handle()\n",
    "position_handle.set_data(positions.tobytes())  # 将位置数据写入\n",
    "\n",
    "# 此时颜色数据未设置，保持为空或为默认值\n"
   ]
  },
  {
   "cell_type": "code",
   "execution_count": 4,
   "id": "4b32b9b2-e940-4da7-a4ed-48f63cb176f6",
   "metadata": {},
   "outputs": [],
   "source": [
    "vertex_data_manual = GeomVertexData('manual', v3c4, Geom.UHStatic)\n",
    "vertex_writer = GeomVertexWriter(vertex_data_manual, 'vertex')\n",
    "positions = np.array([\n",
    "    [1.0, 2.0, 3.0],\n",
    "    [4.0, 5.0, 6.0],\n",
    "    [7.0, 8.0, 9.0]\n",
    "], dtype=np.float32)\n",
    "for i in range(3):\n",
    "    \n",
    "    vertex_writer.add_data3f(*positions[i])\n",
    "    "
   ]
  },
  {
   "cell_type": "code",
   "execution_count": 5,
   "id": "fc00c36f-efa8-4723-b13e-fde77a77ade4",
   "metadata": {},
   "outputs": [],
   "source": [
    "vmarr = vertex_data_manual.modify_array(0)"
   ]
  },
  {
   "cell_type": "code",
   "execution_count": 6,
   "id": "5a22cb6f-4b62-47cf-8bfc-59bd7e429405",
   "metadata": {},
   "outputs": [
    {
     "data": {
      "text/plain": [
       "3 rows: [ vertex(3f) color(4b) ]"
      ]
     },
     "execution_count": 6,
     "metadata": {},
     "output_type": "execute_result"
    }
   ],
   "source": [
    "vmarr"
   ]
  },
  {
   "cell_type": "code",
   "execution_count": 7,
   "id": "09eccb30-ec6d-44a8-a56d-f777f1770eb5",
   "metadata": {},
   "outputs": [],
   "source": [
    "vmh = vmarr.modifyHandle()"
   ]
  },
  {
   "cell_type": "code",
   "execution_count": 9,
   "id": "46dd28a1-1bf4-4b02-9df8-1543a7eff239",
   "metadata": {},
   "outputs": [],
   "source": [
    "vmb = vmh.getData()"
   ]
  },
  {
   "cell_type": "code",
   "execution_count": 10,
   "id": "611b2960-5f1d-4d92-a3a1-8142af97c43b",
   "metadata": {},
   "outputs": [],
   "source": [
    "vmnp = np.frombuffer(vmb, np.float32)"
   ]
  },
  {
   "cell_type": "code",
   "execution_count": 12,
   "id": "c01fe60f-38e9-4567-b90a-a012dbb4df1c",
   "metadata": {},
   "outputs": [
    {
     "data": {
      "text/plain": [
       "(12,)"
      ]
     },
     "execution_count": 12,
     "metadata": {},
     "output_type": "execute_result"
    }
   ],
   "source": [
    "vmnp.shape"
   ]
  },
  {
   "cell_type": "code",
   "execution_count": 13,
   "id": "f782d268-012a-42fb-b3ae-bbb112b72a3b",
   "metadata": {},
   "outputs": [
    {
     "data": {
      "text/plain": [
       "array([[ 1.,  2.,  3., nan],\n",
       "       [ 4.,  5.,  6., nan],\n",
       "       [ 7.,  8.,  9., nan]], dtype=float32)"
      ]
     },
     "execution_count": 13,
     "metadata": {},
     "output_type": "execute_result"
    }
   ],
   "source": [
    "vmnp.resize(3,4)\n",
    "vmnp"
   ]
  },
  {
   "cell_type": "code",
   "execution_count": 66,
   "id": "4d68cb88-baa3-4ebb-89b9-c021e09d866b",
   "metadata": {},
   "outputs": [],
   "source": [
    "colors = np.array([\n",
    "    [1.0, 0.1, 0.0, 1.0],  # Red\n",
    "    [0.0, 1.0, 0.0, 1.0],  # Green\n",
    "    [0.0, 0.0, 1.0, 1.0]   # Blue\n",
    "], dtype=np.float32)\n",
    "vertex_data_manual_c = GeomVertexData('manual', v3c4, Geom.UHStatic)\n",
    "vertex_writer = GeomVertexWriter(vertex_data_manual_c, 'color')\n",
    "for i in range(3):\n",
    "    \n",
    "    vertex_writer.add_data4f(*colors[i])\n",
    "vmcarr = vertex_data_manual_c.modify_array(0)\n",
    "vmch = vmcarr.modifyHandle()\n",
    "vmcb = vmch.getData()\n",
    "vmcnp = np.frombuffer(vmcb, np.uint8)"
   ]
  },
  {
   "cell_type": "code",
   "execution_count": 67,
   "id": "3c3672b8-82ef-4a6f-a4e0-553409447be3",
   "metadata": {},
   "outputs": [
    {
     "data": {
      "text/plain": [
       "(48,)"
      ]
     },
     "execution_count": 67,
     "metadata": {},
     "output_type": "execute_result"
    }
   ],
   "source": [
    "vmcnp.shape"
   ]
  },
  {
   "cell_type": "code",
   "execution_count": 68,
   "id": "fc2eab81-316d-4b88-8344-844e733f8398",
   "metadata": {},
   "outputs": [
    {
     "data": {
      "text/plain": [
       "array([[  0,   0,   0,   0,   0,   0,   0,   0,   0,   0,   0,   0, 255,\n",
       "         25,   0, 255],\n",
       "       [  0,   0,   0,   0,   0,   0,   0,   0,   0,   0,   0,   0,   0,\n",
       "        255,   0, 255],\n",
       "       [  0,   0,   0,   0,   0,   0,   0,   0,   0,   0,   0,   0,   0,\n",
       "          0, 255, 255]], dtype=uint8)"
      ]
     },
     "execution_count": 68,
     "metadata": {},
     "output_type": "execute_result"
    }
   ],
   "source": [
    "vmcnp.resize(3,16)\n",
    "vmcnp"
   ]
  },
  {
   "cell_type": "code",
   "execution_count": 73,
   "id": "98e344a5-1f1c-4e7b-802a-5cc2bf89854a",
   "metadata": {},
   "outputs": [
    {
     "name": "stdout",
     "output_type": "stream",
     "text": [
      "Help on built-in function add_data1i:\n",
      "\n",
      "add_data1i(...) method of panda3d.core.GeomVertexWriter instance\n",
      "    C++ Interface:\n",
      "    add_data1i(const GeomVertexWriter self, int data)\n",
      "    \n",
      "    /**\n",
      "     * Sets the write row to a particular 1-component value, and advances the\n",
      "     * write row.\n",
      "     *\n",
      "     * If the write row advances past the end of data, implicitly adds a new row\n",
      "     * to the data.\n",
      "     */\n",
      "\n"
     ]
    }
   ],
   "source": [
    "help(vertex_writer.add_data1i)"
   ]
  },
  {
   "cell_type": "code",
   "execution_count": null,
   "id": "5b7584af-4409-49ad-8f57-250c275de0dc",
   "metadata": {},
   "outputs": [],
   "source": [
    "colors = np.array([\n",
    "    [1.0, 0.0, 0.0, 1.0],  # Red\n",
    "    [0.0, 1.0, 0.0, 1.0],  # Green\n",
    "    [0.0, 0.0, 1.0, 1.0]   # Blue\n",
    "], dtype=np.float32)\n",
    "vertex_data_manual_c = GeomVertexData('manual', v3c4, Geom.UHStatic)\n",
    "vertex_writer = GeomVertexWriter(vertex_data_manual_c, 'vertex')\n",
    "for i in range(3):\n",
    "    \n",
    "    vertex_writer.add_data4f(*colors[i])\n",
    "vmcarr = vertex_data_manual_c.modify_array(0)\n",
    "vmch = vmcarr.modifyHandle()\n",
    "vmcb = vmch.getData()\n",
    "vmcnp = np.frombuffer(vmcb, np.float32)"
   ]
  },
  {
   "cell_type": "code",
   "execution_count": 77,
   "id": "322afe4c-f1f6-43e4-a286-e032dd768492",
   "metadata": {},
   "outputs": [
    {
     "ename": "NameError",
     "evalue": "name 'sizeof' is not defined",
     "output_type": "error",
     "traceback": [
      "\u001b[0;31m---------------------------------------------------------------------------\u001b[0m",
      "\u001b[0;31mNameError\u001b[0m                                 Traceback (most recent call last)",
      "Cell \u001b[0;32mIn[77], line 1\u001b[0m\n\u001b[0;32m----> 1\u001b[0m \u001b[43msizeof\u001b[49m(\u001b[38;5;28mint\u001b[39m)\n",
      "\u001b[0;31mNameError\u001b[0m: name 'sizeof' is not defined"
     ]
    }
   ],
   "source": [
    "sizeof(int)"
   ]
  },
  {
   "cell_type": "code",
   "execution_count": 79,
   "id": "e6e6d7fd-07d3-4b08-8c27-07117fe8345d",
   "metadata": {},
   "outputs": [
    {
     "ename": "TypeError",
     "evalue": "'getset_descriptor' object is not callable",
     "output_type": "error",
     "traceback": [
      "\u001b[0;31m---------------------------------------------------------------------------\u001b[0m",
      "\u001b[0;31mTypeError\u001b[0m                                 Traceback (most recent call last)",
      "Cell \u001b[0;32mIn[79], line 1\u001b[0m\n\u001b[0;32m----> 1\u001b[0m \u001b[43mnp\u001b[49m\u001b[38;5;241;43m.\u001b[39;49m\u001b[43mfloat32\u001b[49m\u001b[38;5;241;43m.\u001b[39;49m\u001b[43mitemsize\u001b[49m\u001b[43m(\u001b[49m\u001b[43m)\u001b[49m\n",
      "\u001b[0;31mTypeError\u001b[0m: 'getset_descriptor' object is not callable"
     ]
    }
   ],
   "source": [
    "np.float32.itemsize()"
   ]
  },
  {
   "cell_type": "code",
   "execution_count": 80,
   "id": "d2db3a94-865e-4a8b-9511-1f25bf278030",
   "metadata": {},
   "outputs": [
    {
     "data": {
      "text/plain": [
       "4"
      ]
     },
     "execution_count": 80,
     "metadata": {},
     "output_type": "execute_result"
    }
   ],
   "source": [
    "np.dtype(np.float32).itemsize"
   ]
  },
  {
   "cell_type": "code",
   "execution_count": 81,
   "id": "7b063dda-b5f2-4aa3-8693-f96130951f21",
   "metadata": {},
   "outputs": [
    {
     "data": {
      "text/plain": [
       "1"
      ]
     },
     "execution_count": 81,
     "metadata": {},
     "output_type": "execute_result"
    }
   ],
   "source": [
    "np.dtype(np.uint8).itemsize"
   ]
  },
  {
   "cell_type": "code",
   "execution_count": null,
   "id": "1992042c-bfd1-47aa-b6b4-95e7b95035a7",
   "metadata": {},
   "outputs": [],
   "source": []
  }
 ],
 "metadata": {
  "kernelspec": {
   "display_name": "game",
   "language": "python",
   "name": "game"
  },
  "language_info": {
   "codemirror_mode": {
    "name": "ipython",
    "version": 3
   },
   "file_extension": ".py",
   "mimetype": "text/x-python",
   "name": "python",
   "nbconvert_exporter": "python",
   "pygments_lexer": "ipython3",
   "version": "3.11.9"
  }
 },
 "nbformat": 4,
 "nbformat_minor": 5
}
