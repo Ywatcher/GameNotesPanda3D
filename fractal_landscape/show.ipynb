{
 "cells": [
  {
   "cell_type": "code",
   "execution_count": 1,
   "id": "032fd684-9673-4b28-8076-bc3c03c11b3f",
   "metadata": {},
   "outputs": [],
   "source": [
    "import filepath_"
   ]
  },
  {
   "cell_type": "code",
   "execution_count": 2,
   "id": "78f11cf1-533e-42b9-8ecd-116bf717ffea",
   "metadata": {},
   "outputs": [],
   "source": [
    "import torch\n",
    "import numpy as np\n",
    "import sympy as sp\n",
    "from abc import ABC\n",
    "from typing import List, Dict, Tuple\n",
    "from panda3d.core import VBase3\n",
    "from panda3d.core import Vec3\n",
    "from panda3d.core import Quat\n",
    "from panda3d.core import invert\n",
    "\n",
    "from panda3d_game.game_object import GameObject, PhysicsGameObject\n",
    "from panda3d.core import TransformState\n",
    "# \n",
    "from util.geometry import batch_transform, createPosIndicatorNPth\n",
    "from art.basic import geom_frm_faces, create_cylinder_node, create_cylinder\n",
    "from panda3d.core import GeomPrimitive\n",
    "from panda3d.core import (\n",
    "    Geom,\n",
    "    GeomNode,\n",
    "    GeomTriangles,\n",
    "    GeomVertexData,\n",
    "    GeomVertexFormat,\n",
    "    GeomVertexWriter,\n",
    "    GeomEnums, Vec3, LPoint3f\n",
    ")    \n",
    "from panda3d.core import GeomNode, NodePath, GeomVertexReader, BitMask32\n",
    "from art.basic import uv_curve_surface, uv_curve_surface_lambda\n",
    "from panda3d.bullet import (\n",
    "    BulletWorld, BulletRigidBodyNode, BulletTriangleMesh, \n",
    "    BulletTriangleMeshShape, BulletDebugNode,\n",
    "      BulletHingeConstraint, BulletGenericConstraint,\n",
    "    BulletShape, BulletMinkowskiSumShape,BulletCylinderShape,\n",
    "BulletConvexHullShape,BulletTriangleMeshShape, BulletTriangleMesh\n",
    ")\n",
    "from panda3d_game.constraints import FixedConstraint\n",
    "from panda3d_game.app import UniversalGravitySpace\n",
    "from qpanda3d import QControl\n",
    "from ui.qtui import *\n",
    "from panda3d.bullet import BulletRigidBodyNode\n",
    "from panda3d.bullet import BulletSphereShape, BulletCylinderShape\n",
    "from console.physics_room_console import PhyscRoomConsole"
   ]
  },
  {
   "cell_type": "code",
   "execution_count": 3,
   "id": "272e6802-4701-4a5d-ba60-34fd0208ab4b",
   "metadata": {},
   "outputs": [],
   "source": [
    "from icosahedron import *\n",
    "from panda3d_spherical import *\n",
    "from panda3d.core import DirectionalLight, Vec3, PointLight\n",
    "from sympy.physics.units import (\n",
    "    kilometer, meter,centimeter,\n",
    "    gram, kilogram, tonne,\n",
    "    newton, second\n",
    ")"
   ]
  },
  {
   "cell_type": "code",
   "execution_count": 4,
   "id": "f3fbc3b9-89d1-4c3b-b047-0b9c35298ddd",
   "metadata": {},
   "outputs": [],
   "source": [
    "mesh = SphereMeshObject(R=100)"
   ]
  },
  {
   "cell_type": "code",
   "execution_count": 5,
   "id": "a9152ff3-a540-4fb3-ab32-af8494afdda1",
   "metadata": {},
   "outputs": [
    {
     "name": "stdout",
     "output_type": "stream",
     "text": [
      "iter 0\n",
      "iter 1\n",
      "iter 2\n",
      "iter 3\n",
      "iter 4\n",
      "iter 5\n"
     ]
    }
   ],
   "source": [
    "mesh.uniformSplit(6)"
   ]
  },
  {
   "cell_type": "code",
   "execution_count": 6,
   "id": "b1a51820-d99d-4eb2-be4f-eb4e0ad2355f",
   "metadata": {},
   "outputs": [
    {
     "data": {
      "text/plain": [
       "True"
      ]
     },
     "execution_count": 6,
     "metadata": {},
     "output_type": "execute_result"
    }
   ],
   "source": [
    "a = torch.Tensor([np.nan])\n",
    "any(torch.isnan(a))"
   ]
  },
  {
   "cell_type": "code",
   "execution_count": 7,
   "id": "6be838dd-fa04-4f1e-bc00-df2081f6af53",
   "metadata": {},
   "outputs": [],
   "source": [
    "mesh.setBulletShape()"
   ]
  },
  {
   "cell_type": "code",
   "execution_count": 8,
   "id": "3b363846-673b-4aa0-b6b3-05b4ada814ae",
   "metadata": {},
   "outputs": [],
   "source": [
    "\n",
    "        \n",
    "\n",
    "def addHyperEdgeAsTriangle(hp:HyperEdge):\n",
    "    rho = 1\n",
    "    x = hp.x\n",
    "    p = x.theta\n",
    "    y = hp.y\n",
    "    z = hp.z\n",
    "    \n",
    "\n",
    "class ShipScene(\n",
    "    # StarScene, \n",
    "    UniversalGravitySpace, \n",
    "    QControl\n",
    "    # ControlShowBase\n",
    "):\n",
    "    def __init__(self, num_iterations=20):\n",
    "        # StarScene.__init__(self)\n",
    "        unit = {\n",
    "            \"mass\" : tonne,\n",
    "            \"length\" : 10*meter,\n",
    "            \"time\": 1 * second,\n",
    "            # \"force\" : sp.Number(1e3) * newton\n",
    "        }\n",
    "        G_game = 0.001\n",
    "        UniversalGravitySpace.__init__(self, unit, G_game, 20, 1/(60*20))\n",
    "        QControl.__init__(self)\n",
    "       \n",
    "       \n",
    "        point_light = PointLight('light')\n",
    "        \n",
    "        point_light.setColor((1, 1, 1, 1))  # 设置光源颜色 (白色)\n",
    "        point_light.setShadowCaster(True)\n",
    "        light_np = self.render.attachNewNode(point_light)\n",
    "        light_np.setPos(2, 2, 2)\n",
    "        self.render.setLight(light_np)  # 将光源应用到场景\n",
    "        \n",
    "        # point_light.set_sc\n",
    "        dire_light =DirectionalLight('light')\n",
    "        dire_light.setDirection((-1,-1,-1))\n",
    "        dire_light.set_color((1, 1, 1, 1.0)) \n",
    "        dire_light.setShadowCaster(True)\n",
    "        light_dr = render.attachNewNode(dire_light)\n",
    "        # light_dr.setPos(1, 2, 6)  # 设置光源位置\n",
    "        \n",
    "        self.render.setShaderAuto()\n",
    "        self.render.setLight(light_dr)\n",
    "        self.startQt()\n",
    "        self.m = mesh\n",
    "        self.m.rigid_np.reparentTo(self.rdr_scene)\n",
    "        self.bullet_world.attachRigidBody(mesh.rigid_node)\n",
    "\n",
    "        # self.ship.toBulletWorld(self.bullet_world)\n",
    "        # self.shell.toBulletWorld(self.bullet_world)\n",
    "        # self.planet1.toBulletWorld(self.bullet_world)\n",
    "        # self.taskMgr.add(self.update_torque_)\n",
    "       \n",
    "\n",
    "        debug_node = BulletDebugNode('Debug')\n",
    "        debug_node.showWireframe(True)\n",
    "        debug_node.showConstraints(True)\n",
    "        debug_node.showBoundingBoxes(False)\n",
    "        debug_node.showNormals(False)\n",
    "        debug_np = self.rdr_scene.attach_new_node(debug_node)\n",
    "        self.bullet_world.set_debug_node(debug_node)\n",
    "        debug_np.show()\n",
    "class ShipView(RawQtGUI):\n",
    "    def get_game(self):\n",
    "        return ShipScene()\n",
    "\n",
    "    def get_console(self):\n",
    "        return PhyscRoomConsole(showbase=self.panda3d) "
   ]
  },
  {
   "cell_type": "code",
   "execution_count": null,
   "id": "c5f2d27c-b77d-4146-b12e-e5395458502e",
   "metadata": {},
   "outputs": [
    {
     "name": "stderr",
     "output_type": "stream",
     "text": [
      "Known pipe types:\n",
      "  glxGraphicsPipe\n",
      "(all display modules loaded.)\n",
      ":audio(error): Couldn't open default OpenAL device\n",
      ":audio(error): OpenALAudioManager: No open device or context\n",
      ":audio(error):   OpenALAudioManager is not valid, will use NullAudioManager\n",
      ":audio(error): Couldn't open default OpenAL device\n",
      ":audio(error): OpenALAudioManager: No open device or context\n",
      ":audio(error):   OpenALAudioManager is not valid, will use NullAudioManager\n"
     ]
    }
   ],
   "source": [
    "if __name__ == '__main__':\n",
    "    # torch.set_printoptions(precision=16, sci_mode=False)\n",
    "    import sys\n",
    "    app = QApplication(sys.argv)\n",
    "    window = ShipView()\n",
    "    window.show()\n",
    "    sys.exit(app.exec_())"
   ]
  },
  {
   "cell_type": "code",
   "execution_count": null,
   "id": "cc84c566-2349-42da-940c-a0c468919450",
   "metadata": {},
   "outputs": [],
   "source": []
  },
  {
   "cell_type": "code",
   "execution_count": null,
   "id": "417f1a3f-61e1-4d61-a4cb-ce7364807611",
   "metadata": {},
   "outputs": [],
   "source": []
  }
 ],
 "metadata": {
  "kernelspec": {
   "display_name": "game",
   "language": "python",
   "name": "game"
  },
  "language_info": {
   "codemirror_mode": {
    "name": "ipython",
    "version": 3
   },
   "file_extension": ".py",
   "mimetype": "text/x-python",
   "name": "python",
   "nbconvert_exporter": "python",
   "pygments_lexer": "ipython3",
   "version": "3.11.9"
  }
 },
 "nbformat": 4,
 "nbformat_minor": 5
}
