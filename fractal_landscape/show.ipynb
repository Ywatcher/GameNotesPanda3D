{
 "cells": [
  {
   "cell_type": "code",
   "execution_count": 1,
   "id": "032fd684-9673-4b28-8076-bc3c03c11b3f",
   "metadata": {},
   "outputs": [],
   "source": [
    "import filepath_"
   ]
  },
  {
   "cell_type": "code",
   "execution_count": 2,
   "id": "78f11cf1-533e-42b9-8ecd-116bf717ffea",
   "metadata": {},
   "outputs": [],
   "source": [
    "import torch\n",
    "import numpy as np\n",
    "import sympy as sp\n",
    "from abc import ABC\n",
    "from typing import List, Dict, Tuple\n",
    "from panda3d.core import VBase3\n",
    "from panda3d.core import Vec3\n",
    "from panda3d.core import Quat\n",
    "from panda3d.core import invert\n",
    "\n",
    "from panda3d_game.game_object import GameObject, PhysicsGameObject\n",
    "from panda3d.core import TransformState\n",
    "# \n",
    "from util.geometry import batch_transform, createPosIndicatorNPth\n",
    "from art.basic import geom_frm_faces, create_cylinder_node, create_cylinder\n",
    "from panda3d.core import GeomPrimitive\n",
    "from panda3d.core import (\n",
    "    Geom,\n",
    "    GeomNode,\n",
    "    GeomTriangles,\n",
    "    GeomVertexData,\n",
    "    GeomVertexFormat,\n",
    "    GeomVertexWriter,\n",
    "    GeomEnums, Vec3, LPoint3f\n",
    ")    \n",
    "from panda3d.core import GeomNode, NodePath, GeomVertexReader, BitMask32\n",
    "from art.basic import uv_curve_surface, uv_curve_surface_lambda\n",
    "from panda3d.bullet import (\n",
    "    BulletWorld, BulletRigidBodyNode, BulletTriangleMesh, \n",
    "    BulletTriangleMeshShape, BulletDebugNode,\n",
    "      BulletHingeConstraint, BulletGenericConstraint,\n",
    "    BulletShape, BulletMinkowskiSumShape,BulletCylinderShape,\n",
    "BulletConvexHullShape,BulletTriangleMeshShape, BulletTriangleMesh\n",
    ")\n",
    "from panda3d_game.constraints import FixedConstraint\n",
    "from panda3d_game.app import UniversalGravitySpace\n",
    "from qpanda3d import QControl\n",
    "from ui.qtui import *\n",
    "from panda3d.bullet import BulletRigidBodyNode\n",
    "from panda3d.bullet import BulletSphereShape, BulletCylinderShape\n",
    "from console.physics_room_console import PhyscRoomConsole"
   ]
  },
  {
   "cell_type": "code",
   "execution_count": 3,
   "id": "272e6802-4701-4a5d-ba60-34fd0208ab4b",
   "metadata": {},
   "outputs": [],
   "source": [
    "# from icosahedron import *\n",
    "from art.procedural_art.fractal_landscape.panda3d_spherical import *\n",
    "from panda3d.core import DirectionalLight, Vec3, PointLight\n",
    "from sympy.physics.units import (\n",
    "    kilometer, meter,centimeter,\n",
    "    gram, kilogram, tonne,\n",
    "    newton, second\n",
    ")"
   ]
  },
  {
   "cell_type": "code",
   "execution_count": 4,
   "id": "f3fbc3b9-89d1-4c3b-b047-0b9c35298ddd",
   "metadata": {},
   "outputs": [],
   "source": [
    "mesh = SphereMeshObject(R=100)"
   ]
  },
  {
   "cell_type": "code",
   "execution_count": 5,
   "id": "a9152ff3-a540-4fb3-ab32-af8494afdda1",
   "metadata": {},
   "outputs": [
    {
     "name": "stdout",
     "output_type": "stream",
     "text": [
      "iter 0\n",
      "iter 1\n",
      "iter 2\n",
      "iter 3\n",
      "iter 4\n"
     ]
    }
   ],
   "source": [
    "mesh.uniformSplit(5)"
   ]
  },
  {
   "cell_type": "code",
   "execution_count": 6,
   "id": "c051abf7-e6a0-4c92-83e0-464a53e9ada8",
   "metadata": {},
   "outputs": [],
   "source": [
    "# mesh.setBulletShape()\n",
    "# mesh.setGeom()\n",
    "mesh.setBulletAndGeom()"
   ]
  },
  {
   "cell_type": "code",
   "execution_count": 7,
   "id": "3b363846-673b-4aa0-b6b3-05b4ada814ae",
   "metadata": {},
   "outputs": [],
   "source": [
    "\n",
    "        \n",
    "\n",
    "def addHyperEdgeAsTriangle(hp:HyperEdge):\n",
    "    rho = 1\n",
    "    x = hp.x\n",
    "    p = x.theta\n",
    "    y = hp.y\n",
    "    z = hp.z\n",
    "    \n",
    "\n",
    "class ShipScene(\n",
    "    # StarScene, \n",
    "    UniversalGravitySpace, \n",
    "    QControl\n",
    "    # ControlShowBase\n",
    "):\n",
    "    def __init__(self, num_iterations=20):\n",
    "        # StarScene.__init__(self)\n",
    "        unit = {\n",
    "            \"mass\" : tonne,\n",
    "            \"length\" : 10*meter,\n",
    "            \"time\": 1 * second,\n",
    "            # \"force\" : sp.Number(1e3) * newton\n",
    "        }\n",
    "        G_game = 0.001\n",
    "        UniversalGravitySpace.__init__(self, unit, G_game, 20, 1/(60*20))\n",
    "        QControl.__init__(self)\n",
    "       \n",
    "       \n",
    "        point_light = PointLight('light')\n",
    "        \n",
    "        point_light.setColor((1, 1, 1, 1))  # 设置光源颜色 (白色)\n",
    "        point_light.setShadowCaster(True)\n",
    "        light_np = self.render.attachNewNode(point_light)\n",
    "        light_np.setPos(2, 2, 2)\n",
    "        self.render.setLight(light_np)  # 将光源应用到场景\n",
    "        \n",
    "        # point_light.set_sc\n",
    "        dire_light =DirectionalLight('light')\n",
    "        dire_light.setDirection((-1,-1,-1))\n",
    "        dire_light.set_color((1, 1, 1, 1.0)) \n",
    "        dire_light.setShadowCaster(True)\n",
    "        light_dr = render.attachNewNode(dire_light)\n",
    "        # light_dr.setPos(1, 2, 6)  # 设置光源位置\n",
    "        \n",
    "        self.render.setShaderAuto()\n",
    "        self.render.setLight(light_dr)\n",
    "        self.startQt()\n",
    "        self.m = mesh\n",
    "        self.m.rigid_np.reparentTo(self.rdr_scene)\n",
    "        self.bullet_world.attachRigidBody(mesh.rigid_node)\n",
    "\n",
    "        # self.ship.toBulletWorld(self.bullet_world)\n",
    "        # self.shell.toBulletWorld(self.bullet_world)\n",
    "        # self.planet1.toBulletWorld(self.bullet_world)\n",
    "        # self.taskMgr.add(self.update_torque_)\n",
    "       \n",
    "\n",
    "        debug_node = BulletDebugNode('Debug')\n",
    "        debug_node.showWireframe(True)\n",
    "        debug_node.showConstraints(True)\n",
    "        debug_node.showBoundingBoxes(False)\n",
    "        debug_node.showNormals(False)\n",
    "        debug_np = self.rdr_scene.attach_new_node(debug_node)\n",
    "        self.bullet_world.set_debug_node(debug_node)\n",
    "        debug_np.show()\n",
    "class ShipView(RawQtGUI):\n",
    "    def get_game(self):\n",
    "        return ShipScene()\n",
    "\n",
    "    def get_console(self):\n",
    "        return PhyscRoomConsole(showbase=self.panda3d) "
   ]
  },
  {
   "cell_type": "code",
   "execution_count": null,
   "id": "c5f2d27c-b77d-4146-b12e-e5395458502e",
   "metadata": {},
   "outputs": [
    {
     "name": "stderr",
     "output_type": "stream",
     "text": [
      "Known pipe types:\n",
      "  glxGraphicsPipe\n",
      "(all display modules loaded.)\n",
      ":audio(error): Couldn't open default OpenAL device\n",
      ":audio(error): OpenALAudioManager: No open device or context\n",
      ":audio(error):   OpenALAudioManager is not valid, will use NullAudioManager\n",
      ":audio(error): Couldn't open default OpenAL device\n",
      ":audio(error): OpenALAudioManager: No open device or context\n",
      ":audio(error):   OpenALAudioManager is not valid, will use NullAudioManager\n"
     ]
    }
   ],
   "source": [
    "if __name__ == '__main__':\n",
    "    # torch.set_printoptions(precision=16, sci_mode=False)\n",
    "    import sys\n",
    "    app = QApplication(sys.argv)\n",
    "    window = ShipView()\n",
    "    window.show()\n",
    "    sys.exit(app.exec_())"
   ]
  },
  {
   "cell_type": "code",
   "execution_count": 6,
   "id": "dd0d9845-866f-4ed7-a0b6-16b171045a1c",
   "metadata": {},
   "outputs": [
    {
     "name": "stdout",
     "output_type": "stream",
     "text": [
      "coord (12, 3)\n",
      "arr (12, 4)\n"
     ]
    }
   ],
   "source": [
    "v = mesh.getVdata()"
   ]
  },
  {
   "cell_type": "code",
   "execution_count": 7,
   "id": "c05f33a5-2c99-4c5f-a894-4ce7c3b78fee",
   "metadata": {},
   "outputs": [
    {
     "data": {
      "text/plain": [
       "12 rows: [ vertex(3f) color(4b) ]"
      ]
     },
     "execution_count": 7,
     "metadata": {},
     "output_type": "execute_result"
    }
   ],
   "source": [
    "v"
   ]
  },
  {
   "cell_type": "code",
   "execution_count": 8,
   "id": "b35c31b7-b71f-42e1-9f3f-508b71ccee86",
   "metadata": {},
   "outputs": [],
   "source": [
    "varr = v.modifyArray(0)"
   ]
  },
  {
   "cell_type": "code",
   "execution_count": 9,
   "id": "dc879b80-a18e-4bce-acd4-be34b05342e7",
   "metadata": {},
   "outputs": [],
   "source": [
    "vhandle = varr.modifyHandle()"
   ]
  },
  {
   "cell_type": "code",
   "execution_count": 18,
   "id": "15bbfc9d-8d9c-40b1-8d5d-614bbeec2303",
   "metadata": {},
   "outputs": [
    {
     "data": {
      "text/plain": [
       "array([[ 0.0000000e+00,  0.0000000e+00,  1.0000000e+02],\n",
       "       [ 8.9442726e+01,  0.0000000e+00,  4.4721352e+01],\n",
       "       [ 2.7639317e+01,  8.5065086e+01,  4.4721352e+01],\n",
       "       [-7.2360687e+01,  5.2573109e+01,  4.4721352e+01],\n",
       "       [-7.2360680e+01, -5.2573128e+01,  4.4721352e+01],\n",
       "       [ 2.7639332e+01, -8.5065086e+01,  4.4721352e+01],\n",
       "       [ 7.2360680e+01,  5.2573116e+01, -4.4721352e+01],\n",
       "       [-2.7639326e+01,  8.5065086e+01, -4.4721352e+01],\n",
       "       [-8.9442726e+01, -7.8193307e-06, -4.4721352e+01],\n",
       "       [-2.7639332e+01, -8.5065086e+01, -4.4721352e+01],\n",
       "       [ 7.2360680e+01, -5.2573120e+01, -4.4721352e+01],\n",
       "       [-8.7422777e-06, -0.0000000e+00, -1.0000000e+02]], dtype=float32)"
      ]
     },
     "execution_count": 18,
     "metadata": {},
     "output_type": "execute_result"
    }
   ],
   "source": [
    "vbyte = vhandle.getData()\n",
    "varr_np = np.frombuffer(vbyte, np.float32)\n",
    "varr_np.resize(12,7)\n",
    "varr_np[:,:3]"
   ]
  },
  {
   "cell_type": "code",
   "execution_count": 12,
   "id": "c4dc4757-6848-4252-bc87-97a7de3c5b01",
   "metadata": {},
   "outputs": [
    {
     "data": {
      "text/plain": [
       "(84,)"
      ]
     },
     "execution_count": 12,
     "metadata": {},
     "output_type": "execute_result"
    }
   ],
   "source": [
    "varr_np.shape"
   ]
  },
  {
   "cell_type": "code",
   "execution_count": 13,
   "id": "487891b0-06e8-489d-9681-d129a763e22b",
   "metadata": {},
   "outputs": [],
   "source": [
    "from panda3d.core import GeomNode, GeomVertexReader\n",
    "vread = []\n",
    "vertex_reader = GeomVertexReader(v, \"vertex\")\n",
    "while not vertex_reader.is_at_end():\n",
    "    x, y, z = vertex_reader.get_data3f()  # Read the vertex position as an (x, y, z) tuple\n",
    "    vread.append((x, y, z))"
   ]
  },
  {
   "cell_type": "code",
   "execution_count": 19,
   "id": "52c31f98-8ea3-494c-83c5-df6fd1ccdab9",
   "metadata": {},
   "outputs": [],
   "source": [
    "from panda3d.core import GeomNode, GeomVertexReader\n",
    "vreadc = []\n",
    "vertex_reader = GeomVertexReader(v, \"color\")\n",
    "while not vertex_reader.is_at_end():\n",
    "    x, y, z = vertex_reader.get_data3f()  # Read the vertex position as an (x, y, z) tuple\n",
    "    vreadc.append((x, y, z))"
   ]
  },
  {
   "cell_type": "code",
   "execution_count": 14,
   "id": "4d5bd813-216b-4458-b18a-a2a36d54b5ef",
   "metadata": {},
   "outputs": [
    {
     "data": {
      "text/plain": [
       "21"
      ]
     },
     "execution_count": 14,
     "metadata": {},
     "output_type": "execute_result"
    }
   ],
   "source": [
    "len(vread)"
   ]
  },
  {
   "cell_type": "code",
   "execution_count": 15,
   "id": "2357591d-27a3-4e7c-a69e-5dca59204660",
   "metadata": {},
   "outputs": [
    {
     "data": {
      "text/plain": [
       "[(0.0, 0.0, 100.0),\n",
       " (0.0, 0.0, 0.0),\n",
       " (0.0, 44.721351623535156, 0.0),\n",
       " (0.0, 0.0, 27.63931655883789),\n",
       " (44.721351623535156, 0.0, 0.0),\n",
       " (0.0, -72.36068725585938, 52.5731086730957),\n",
       " (0.0, 0.0, 0.0),\n",
       " (-72.36067962646484, -52.57312774658203, 44.721351623535156),\n",
       " (0.0, 0.0, 0.0),\n",
       " (-85.0650863647461, 44.721351623535156, 0.0),\n",
       " (0.0, 0.0, 72.36067962646484),\n",
       " (-44.721351623535156, 0.0, 0.0),\n",
       " (0.0, -27.639326095581055, 85.0650863647461),\n",
       " (0.0, 0.0, 0.0),\n",
       " (-89.4427261352539, -7.819330676284153e-06, -44.721351623535156),\n",
       " (0.0, 0.0, 0.0),\n",
       " (-85.0650863647461, -44.721351623535156, 0.0),\n",
       " (0.0, 0.0, 72.36067962646484),\n",
       " (-44.721351623535156, 0.0, 0.0),\n",
       " (0.0, -8.742277714191005e-06, -0.0),\n",
       " (0.0, 0.0, 0.0)]"
      ]
     },
     "execution_count": 15,
     "metadata": {},
     "output_type": "execute_result"
    }
   ],
   "source": [
    "vread"
   ]
  },
  {
   "cell_type": "code",
   "execution_count": 20,
   "id": "5a37793d-f3a5-4529-8c9c-f7934c63c5f2",
   "metadata": {},
   "outputs": [
    {
     "data": {
      "text/plain": [
       "[(0.0, 0.0, 0.0),\n",
       " (0.6784313917160034, 0.8862745761871338, 0.6980392336845398),\n",
       " (0.0, 0.0, 0.0),\n",
       " (0.32549020648002625, 0.12941177189350128, 0.6666666865348816),\n",
       " (0.0, 0.0, 0.0),\n",
       " (0.6666666865348816, 0.8862745761871338, 0.19607844948768616),\n",
       " (0.0, 0.0, 0.0),\n",
       " (0.0, 0.0, 0.0),\n",
       " (0.3529411852359772, 0.11372549831867218, 0.8666667342185974),\n",
       " (0.0, 0.0, 0.0),\n",
       " (0.874509871006012, 0.29019609093666077, 0.32156863808631897),\n",
       " (0.0, 0.0, 0.0),\n",
       " (0.6666666865348816, 0.8862745761871338, 0.19607844948768616),\n",
       " (0.0, 0.0, 0.0),\n",
       " (0.0, 0.0, 0.0),\n",
       " (0.3529411852359772, 0.11372549831867218, 0.8666667342185974),\n",
       " (0.0, 0.0, 0.0),\n",
       " (0.8784314393997192, 0.29019609093666077, 0.32156863808631897),\n",
       " (0.0, 0.0, 0.0),\n",
       " (0.0, 0.0, 0.7843137979507446),\n",
       " (0.0, 0.0, 0.0)]"
      ]
     },
     "execution_count": 20,
     "metadata": {},
     "output_type": "execute_result"
    }
   ],
   "source": [
    "vreadc"
   ]
  },
  {
   "cell_type": "code",
   "execution_count": 8,
   "id": "57a7ad9f-2bb5-4709-9d69-eae0c6d99471",
   "metadata": {},
   "outputs": [
    {
     "data": {
      "text/plain": [
       "Geom [ GeomTriangles ], 5 faces"
      ]
     },
     "execution_count": 8,
     "metadata": {},
     "output_type": "execute_result"
    }
   ],
   "source": [
    "mesh.toGeom()"
   ]
  },
  {
   "cell_type": "code",
   "execution_count": 10,
   "id": "841851c4-9f60-4891-96f1-208ee78c9437",
   "metadata": {},
   "outputs": [
    {
     "data": {
      "text/plain": [
       "'\\n:gobj(error): GeomTriangles references vertices up to 64982, but GeomVertexData has only 48738 rows!\\nAssertion failed: primitive->check_valid(cdata->_data.get_read_pointer(current_thread)) at line 364 of panda/src/gobj/geom.cxx\\n'"
      ]
     },
     "execution_count": 10,
     "metadata": {},
     "output_type": "execute_result"
    }
   ],
   "source": [
    "\"\"\"\n",
    ":gobj(error): GeomTriangles references vertices up to 64982, but GeomVertexData has only 48738 rows!\n",
    "Assertion failed: primitive->check_valid(cdata->_data.get_read_pointer(current_thread)) at line 364 of panda/src/gobj/geom.cxx\n",
    "\"\"\""
   ]
  },
  {
   "cell_type": "code",
   "execution_count": 11,
   "id": "dae501e9-f11d-42c2-8bdb-4836de687f93",
   "metadata": {},
   "outputs": [
    {
     "data": {
      "text/plain": [
       "12"
      ]
     },
     "execution_count": 11,
     "metadata": {},
     "output_type": "execute_result"
    }
   ],
   "source": [
    "len(mesh.verts)"
   ]
  },
  {
   "cell_type": "code",
   "execution_count": 12,
   "id": "f173e5bf-2f51-4c58-b841-b8027989c419",
   "metadata": {},
   "outputs": [
    {
     "data": {
      "text/latex": [
       "$\\displaystyle \\frac{4}{3}$"
      ],
      "text/plain": [
       "4/3"
      ]
     },
     "execution_count": 12,
     "metadata": {},
     "output_type": "execute_result"
    }
   ],
   "source": [
    "x = sp.Symbol('x')\n",
    "e = (64984*x)/ (48738*x)\n",
    "e.simplify()\n",
    "# seems that it is format issue"
   ]
  },
  {
   "cell_type": "code",
   "execution_count": 13,
   "id": "47d6a3fd-c69f-4ff8-a04d-10532f491e32",
   "metadata": {},
   "outputs": [
    {
     "data": {
      "text/plain": [
       "torch.Size([12, 3])"
      ]
     },
     "execution_count": 13,
     "metadata": {},
     "output_type": "execute_result"
    }
   ],
   "source": [
    "mesh.getXYZ().shape"
   ]
  },
  {
   "cell_type": "code",
   "execution_count": 14,
   "id": "b1a51820-d99d-4eb2-be4f-eb4e0ad2355f",
   "metadata": {},
   "outputs": [],
   "source": [
    "tp = mesh.getThetaPhi()\n"
   ]
  },
  {
   "cell_type": "code",
   "execution_count": 15,
   "id": "c43e2971-82e1-4568-8577-764644a66ac5",
   "metadata": {},
   "outputs": [
    {
     "ename": "RuntimeError",
     "evalue": "The size of tensor a (3) must match the size of tensor b (12) at non-singleton dimension 1",
     "output_type": "error",
     "traceback": [
      "\u001b[0;31m---------------------------------------------------------------------------\u001b[0m",
      "\u001b[0;31mRuntimeError\u001b[0m                              Traceback (most recent call last)",
      "Cell \u001b[0;32mIn[15], line 2\u001b[0m\n\u001b[1;32m      1\u001b[0m xyz \u001b[38;5;241m=\u001b[39m sphr2cart_pt(tp[:,\u001b[38;5;241m0\u001b[39m], tp[:,\u001b[38;5;241m1\u001b[39m])\n\u001b[0;32m----> 2\u001b[0m \u001b[43mxyz\u001b[49m\u001b[43m \u001b[49m\u001b[38;5;241;43m*\u001b[39;49m\u001b[43m \u001b[49m\u001b[43mmesh\u001b[49m\u001b[38;5;241;43m.\u001b[39;49m\u001b[43mgetHeight\u001b[49m\u001b[43m(\u001b[49m\u001b[43m)\u001b[49m\n",
      "\u001b[0;31mRuntimeError\u001b[0m: The size of tensor a (3) must match the size of tensor b (12) at non-singleton dimension 1"
     ]
    }
   ],
   "source": [
    "xyz = sphr2cart_pt(tp[:,0], tp[:,1])\n",
    "xyz * mesh.getHeight()"
   ]
  },
  {
   "cell_type": "code",
   "execution_count": null,
   "id": "6be838dd-fa04-4f1e-bc00-df2081f6af53",
   "metadata": {},
   "outputs": [],
   "source": [
    "xyz.shape"
   ]
  },
  {
   "cell_type": "code",
   "execution_count": null,
   "id": "cc84c566-2349-42da-940c-a0c468919450",
   "metadata": {},
   "outputs": [],
   "source": []
  },
  {
   "cell_type": "code",
   "execution_count": null,
   "id": "417f1a3f-61e1-4d61-a4cb-ce7364807611",
   "metadata": {},
   "outputs": [],
   "source": []
  }
 ],
 "metadata": {
  "kernelspec": {
   "display_name": "game",
   "language": "python",
   "name": "game"
  },
  "language_info": {
   "codemirror_mode": {
    "name": "ipython",
    "version": 3
   },
   "file_extension": ".py",
   "mimetype": "text/x-python",
   "name": "python",
   "nbconvert_exporter": "python",
   "pygments_lexer": "ipython3",
   "version": "3.11.9"
  }
 },
 "nbformat": 4,
 "nbformat_minor": 5
}
