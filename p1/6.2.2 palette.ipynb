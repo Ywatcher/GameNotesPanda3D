{
 "cells": [
  {
   "cell_type": "code",
   "execution_count": null,
   "id": "bed46b13-a076-4582-8aba-03f8ad31305f",
   "metadata": {},
   "outputs": [],
   "source": [
    "palette.setColor(QPalette.Window, QColor(100, 100, 100))  # Gray background\n",
    "palette.setColor(QPalette.WindowText, QColor(255, 255, 255))  # White text"
   ]
  },
  {
   "cell_type": "code",
   "execution_count": 5,
   "id": "982842d6-9d92-47ba-8df1-524b955b8afb",
   "metadata": {},
   "outputs": [
    {
     "name": "stdout",
     "output_type": "stream",
     "text": [
      "Help on built-in function setColorGroup:\n",
      "\n",
      "setColorGroup(...) method of PyQt5.QtGui.QPalette instance\n",
      "    setColorGroup(self, cr: QPalette.ColorGroup, foreground: Union[QBrush, QColor, Qt.GlobalColor, QGradient], button: Union[QBrush, QColor, Qt.GlobalColor, QGradient], light: Union[QBrush, QColor, Qt.GlobalColor, QGradient], dark: Union[QBrush, QColor, Qt.GlobalColor, QGradient], mid: Union[QBrush, QColor, Qt.GlobalColor, QGradient], text: Union[QBrush, QColor, Qt.GlobalColor, QGradient], bright_text: Union[QBrush, QColor, Qt.GlobalColor, QGradient], base: Union[QBrush, QColor, Qt.GlobalColor, QGradient], background: Union[QBrush, QColor, Qt.GlobalColor, QGradient])\n",
      "\n"
     ]
    }
   ],
   "source": [
    "help(palette.setColorGroup)"
   ]
  },
  {
   "cell_type": "code",
   "execution_count": 6,
   "id": "fa56c75d-4b3b-4d09-bac1-6dee7cc2f217",
   "metadata": {
    "collapsed": true,
    "jupyter": {
     "outputs_hidden": true
    }
   },
   "outputs": [
    {
     "name": "stdout",
     "output_type": "stream",
     "text": [
      "Help on class ColorGroup in module PyQt5.QtGui:\n",
      "\n",
      "class ColorGroup(builtins.int)\n",
      " |  Method resolution order:\n",
      " |      ColorGroup\n",
      " |      builtins.int\n",
      " |      builtins.object\n",
      " |  \n",
      " |  Methods defined here:\n",
      " |  \n",
      " |  __reduce__ = _pickle_enum(...)\n",
      " |  \n",
      " |  ----------------------------------------------------------------------\n",
      " |  Data descriptors defined here:\n",
      " |  \n",
      " |  __dict__\n",
      " |      dictionary for instance variables\n",
      " |  \n",
      " |  ----------------------------------------------------------------------\n",
      " |  Methods inherited from builtins.int:\n",
      " |  \n",
      " |  __abs__\n",
      " |      abs(self)\n",
      " |  \n",
      " |  __add__\n",
      " |      Return self+value.\n",
      " |  \n",
      " |  __and__\n",
      " |      Return self&value.\n",
      " |  \n",
      " |  __bool__\n",
      " |      True if self else False\n",
      " |  \n",
      " |  __ceil__\n",
      " |      Ceiling of an Integral returns itself.\n",
      " |  \n",
      " |  __divmod__\n",
      " |      Return divmod(self, value).\n",
      " |  \n",
      " |  __eq__(value, /) from builtins.object\n",
      " |      Return self==value.\n",
      " |  \n",
      " |  __float__\n",
      " |      float(self)\n",
      " |  \n",
      " |  __floor__\n",
      " |      Flooring an Integral returns itself.\n",
      " |  \n",
      " |  __floordiv__\n",
      " |      Return self//value.\n",
      " |  \n",
      " |  __ge__(value, /) from builtins.object\n",
      " |      Return self>=value.\n",
      " |  \n",
      " |  __getattribute__(name, /) from sip.enumtype\n",
      " |      Return getattr(self, name).\n",
      " |  \n",
      " |  __getnewargs__\n",
      " |  \n",
      " |  __gt__(value, /) from builtins.object\n",
      " |      Return self>value.\n",
      " |  \n",
      " |  __hash__() from builtins.object\n",
      " |      Return hash(self).\n",
      " |  \n",
      " |  __index__\n",
      " |      Return self converted to an integer, if self is suitable for use as an index into a list.\n",
      " |  \n",
      " |  __int__\n",
      " |      int(self)\n",
      " |  \n",
      " |  __invert__\n",
      " |      ~self\n",
      " |  \n",
      " |  __le__(value, /) from builtins.object\n",
      " |      Return self<=value.\n",
      " |  \n",
      " |  __lshift__\n",
      " |      Return self<<value.\n",
      " |  \n",
      " |  __lt__(value, /) from builtins.object\n",
      " |      Return self<value.\n",
      " |  \n",
      " |  __mod__\n",
      " |      Return self%value.\n",
      " |  \n",
      " |  __mul__\n",
      " |      Return self*value.\n",
      " |  \n",
      " |  __ne__(value, /) from builtins.object\n",
      " |      Return self!=value.\n",
      " |  \n",
      " |  __neg__\n",
      " |      -self\n",
      " |  \n",
      " |  __or__(value, /) from builtins.type\n",
      " |      Return self|value.\n",
      " |  \n",
      " |  __pos__\n",
      " |      +self\n",
      " |  \n",
      " |  __pow__\n",
      " |      Return pow(self, value, mod).\n",
      " |  \n",
      " |  __radd__\n",
      " |      Return value+self.\n",
      " |  \n",
      " |  __rand__\n",
      " |      Return value&self.\n",
      " |  \n",
      " |  __rdivmod__\n",
      " |      Return divmod(value, self).\n",
      " |  \n",
      " |  __repr__() from builtins.type\n",
      " |      Return repr(self).\n",
      " |  \n",
      " |  __rfloordiv__\n",
      " |      Return value//self.\n",
      " |  \n",
      " |  __rlshift__\n",
      " |      Return value<<self.\n",
      " |  \n",
      " |  __rmod__\n",
      " |      Return value%self.\n",
      " |  \n",
      " |  __rmul__\n",
      " |      Return value*self.\n",
      " |  \n",
      " |  __ror__(value, /) from builtins.type\n",
      " |      Return value|self.\n",
      " |  \n",
      " |  __round__\n",
      " |      Rounding an Integral returns itself.\n",
      " |      \n",
      " |      Rounding with an ndigits argument also returns an integer.\n",
      " |  \n",
      " |  __rpow__\n",
      " |      Return pow(value, self, mod).\n",
      " |  \n",
      " |  __rrshift__\n",
      " |      Return value>>self.\n",
      " |  \n",
      " |  __rshift__\n",
      " |      Return self>>value.\n",
      " |  \n",
      " |  __rsub__\n",
      " |      Return value-self.\n",
      " |  \n",
      " |  __rtruediv__\n",
      " |      Return value/self.\n",
      " |  \n",
      " |  __rxor__\n",
      " |      Return value^self.\n",
      " |  \n",
      " |  __sub__\n",
      " |      Return self-value.\n",
      " |  \n",
      " |  __truediv__\n",
      " |      Return self/value.\n",
      " |  \n",
      " |  __trunc__\n",
      " |      Truncating an Integral returns itself.\n",
      " |  \n",
      " |  __xor__\n",
      " |      Return self^value.\n",
      " |  \n",
      " |  as_integer_ratio\n",
      " |      Return integer ratio.\n",
      " |      \n",
      " |      Return a pair of integers, whose ratio is exactly equal to the original int\n",
      " |      and with a positive denominator.\n",
      " |      \n",
      " |      >>> (10).as_integer_ratio()\n",
      " |      (10, 1)\n",
      " |      >>> (-10).as_integer_ratio()\n",
      " |      (-10, 1)\n",
      " |      >>> (0).as_integer_ratio()\n",
      " |      (0, 1)\n",
      " |  \n",
      " |  bit_count\n",
      " |      Number of ones in the binary representation of the absolute value of self.\n",
      " |      \n",
      " |      Also known as the population count.\n",
      " |      \n",
      " |      >>> bin(13)\n",
      " |      '0b1101'\n",
      " |      >>> (13).bit_count()\n",
      " |      3\n",
      " |  \n",
      " |  bit_length\n",
      " |      Number of bits necessary to represent self in binary.\n",
      " |      \n",
      " |      >>> bin(37)\n",
      " |      '0b100101'\n",
      " |      >>> (37).bit_length()\n",
      " |      6\n",
      " |  \n",
      " |  conjugate\n",
      " |      Returns self, the complex conjugate of any int.\n",
      " |  \n",
      " |  to_bytes\n",
      " |      Return an array of bytes representing an integer.\n",
      " |      \n",
      " |      length\n",
      " |        Length of bytes object to use.  An OverflowError is raised if the\n",
      " |        integer is not representable with the given number of bytes.  Default\n",
      " |        is length 1.\n",
      " |      byteorder\n",
      " |        The byte order used to represent the integer.  If byteorder is 'big',\n",
      " |        the most significant byte is at the beginning of the byte array.  If\n",
      " |        byteorder is 'little', the most significant byte is at the end of the\n",
      " |        byte array.  To request the native byte order of the host system, use\n",
      " |        `sys.byteorder' as the byte order value.  Default is to use 'big'.\n",
      " |      signed\n",
      " |        Determines whether two's complement is used to represent the integer.\n",
      " |        If signed is False and a negative integer is given, an OverflowError\n",
      " |        is raised.\n",
      " |  \n",
      " |  ----------------------------------------------------------------------\n",
      " |  Class methods inherited from builtins.int:\n",
      " |  \n",
      " |  from_bytes\n",
      " |      Return the integer represented by the given array of bytes.\n",
      " |      \n",
      " |      bytes\n",
      " |        Holds the array of bytes to convert.  The argument must either\n",
      " |        support the buffer protocol or be an iterable object producing bytes.\n",
      " |        Bytes and bytearray are examples of built-in objects that support the\n",
      " |        buffer protocol.\n",
      " |      byteorder\n",
      " |        The byte order used to represent the integer.  If byteorder is 'big',\n",
      " |        the most significant byte is at the beginning of the byte array.  If\n",
      " |        byteorder is 'little', the most significant byte is at the end of the\n",
      " |        byte array.  To request the native byte order of the host system, use\n",
      " |        `sys.byteorder' as the byte order value.  Default is to use 'big'.\n",
      " |      signed\n",
      " |        Indicates whether two's complement is used to represent the integer.\n",
      " |  \n",
      " |  ----------------------------------------------------------------------\n",
      " |  Static methods inherited from builtins.int:\n",
      " |  \n",
      " |  __format__(format_spec, /)\n",
      " |      Default object formatter.\n",
      " |  \n",
      " |  __new__(*args, **kwargs) class method of builtins.type\n",
      " |      Create and return a new object.  See help(type) for accurate signature.\n",
      " |  \n",
      " |  __sizeof__()\n",
      " |      Return memory consumption of the type object.\n",
      " |  \n",
      " |  ----------------------------------------------------------------------\n",
      " |  Data descriptors inherited from builtins.int:\n",
      " |  \n",
      " |  denominator\n",
      " |      the denominator of a rational number in lowest terms\n",
      " |  \n",
      " |  imag\n",
      " |      the imaginary part of a complex number\n",
      " |  \n",
      " |  numerator\n",
      " |      the numerator of a rational number in lowest terms\n",
      " |  \n",
      " |  real\n",
      " |      the real part of a complex number\n",
      "\n"
     ]
    }
   ],
   "source": [
    "help(QPalette.ColorGroup)"
   ]
  },
  {
   "cell_type": "code",
   "execution_count": 4,
   "id": "87141af5-8f25-402f-bc5d-dec39c3b38a2",
   "metadata": {},
   "outputs": [],
   "source": [
    "def hex2pal(hexstr:str) -> QColor:\n",
    "    hexstr = hexstr.lstrip('#')\n",
    "    return QColor(\n",
    "        int(hexstr[:2],16),\n",
    "        int(hexstr[2:4],16),\n",
    "        int(hexstr[4:6],16)\n",
    "    )\n",
    "\n",
    "c_violet_frame = hex2pal('#97739e')\n",
    "c_violet_bg = hex2pal('#472c4d')\n",
    "c_gold_text = hex2pal('#472c4d')\n",
    "c_orange_text = hex2pal('#f5a16d')\n",
    "\n"
   ]
  },
  {
   "cell_type": "code",
   "execution_count": 1,
   "id": "758c1343-281e-4d47-9bec-1802924c01fc",
   "metadata": {},
   "outputs": [],
   "source": [
    "from PyQt5.QtWidgets import QApplication, QWidget\n",
    "from PyQt5.QtGui import QPalette, QColor\n",
    "from PyQt5 import Qt\n",
    "# app = QApplication([])\n",
    "\n",
    "# Create a widget\n",
    "# widget = QWidget()\n",
    "\n",
    "# Create a palette\n",
    "# palette = QPalette()"
   ]
  },
  {
   "cell_type": "code",
   "execution_count": 2,
   "id": "949bb9ae-156c-496a-9c45-15bdd8b75e04",
   "metadata": {},
   "outputs": [
    {
     "data": {
      "text/plain": [
       "0"
      ]
     },
     "execution_count": 2,
     "metadata": {},
     "output_type": "execute_result"
    }
   ],
   "source": [
    "import sys\n",
    "from PyQt5.QtWidgets import QApplication, QMainWindow, QDockWidget, QTextEdit\n",
    "from PyQt5.QtGui import QPalette, QColor\n",
    "app = QApplication(sys.argv)\n",
    "w = QWidget()\n",
    "# w.setBackgroundRole(QPalette.Base)\n",
    "p = w.palette()\n",
    "p.setColor(w.backgroundRole(),  QColor(\"blue\"))\n",
    "p.setColor(w.foregroundRole(),  QColor(255,0,0))\n",
    "w.setPalette(p)\n",
    "w.show()\n",
    "app.exec_()"
   ]
  },
  {
   "cell_type": "code",
   "execution_count": 3,
   "id": "35b01680-874a-42f4-961e-5fdcf85a7c25",
   "metadata": {},
   "outputs": [],
   "source": [
    "w = QWidget()"
   ]
  },
  {
   "cell_type": "code",
   "execution_count": 4,
   "id": "cd7b09c0-1ec2-4aa5-87f3-2430b002ff1d",
   "metadata": {},
   "outputs": [
    {
     "data": {
      "text/plain": [
       "''"
      ]
     },
     "execution_count": 4,
     "metadata": {},
     "output_type": "execute_result"
    }
   ],
   "source": [
    "w.windowRole()"
   ]
  },
  {
   "cell_type": "code",
   "execution_count": 5,
   "id": "cb2e5e59-df51-4744-9c3c-a909b6049230",
   "metadata": {},
   "outputs": [
    {
     "data": {
      "text/plain": [
       "10"
      ]
     },
     "execution_count": 5,
     "metadata": {},
     "output_type": "execute_result"
    }
   ],
   "source": [
    "w.backgroundRole()"
   ]
  },
  {
   "cell_type": "code",
   "execution_count": 8,
   "id": "c4ff17a5-8658-4b54-9c7f-93d31c2c81c4",
   "metadata": {},
   "outputs": [
    {
     "data": {
      "text/plain": [
       "0"
      ]
     },
     "execution_count": 8,
     "metadata": {},
     "output_type": "execute_result"
    }
   ],
   "source": [
    "w.foregroundRole()"
   ]
  },
  {
   "cell_type": "code",
   "execution_count": null,
   "id": "24f1f764-a322-471c-9084-df40f75131ee",
   "metadata": {},
   "outputs": [],
   "source": [
    "w.Role"
   ]
  }
 ],
 "metadata": {
  "kernelspec": {
   "display_name": "game",
   "language": "python",
   "name": "game"
  },
  "language_info": {
   "codemirror_mode": {
    "name": "ipython",
    "version": 3
   },
   "file_extension": ".py",
   "mimetype": "text/x-python",
   "name": "python",
   "nbconvert_exporter": "python",
   "pygments_lexer": "ipython3",
   "version": "3.11.9"
  }
 },
 "nbformat": 4,
 "nbformat_minor": 5
}
