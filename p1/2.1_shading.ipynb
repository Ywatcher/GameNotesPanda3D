{
 "cells": [
  {
   "cell_type": "code",
   "execution_count": null,
   "id": "bb02716f-75be-40f1-8727-96fad2edb455",
   "metadata": {},
   "outputs": [],
   "source": [
    "import vispy\n"
   ]
  }
 ],
 "metadata": {
  "kernelspec": {
   "display_name": "game",
   "language": "python",
   "name": "game"
  },
  "language_info": {
   "codemirror_mode": {
    "name": "ipython",
    "version": 3
   },
   "file_extension": ".py",
   "mimetype": "text/x-python",
   "name": "python",
   "nbconvert_exporter": "python",
   "pygments_lexer": "ipython3",
   "version": "3.11.9"
  }
 },
 "nbformat": 4,
 "nbformat_minor": 5
}
