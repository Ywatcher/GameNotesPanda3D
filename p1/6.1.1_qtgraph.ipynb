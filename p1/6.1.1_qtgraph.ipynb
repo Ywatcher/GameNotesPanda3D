{
 "cells": [
  {
   "cell_type": "code",
   "execution_count": 3,
   "id": "b6e9689c-1710-46c1-ba43-3e6ee3a8b30a",
   "metadata": {},
   "outputs": [],
   "source": [
    "import pyqtgraph as pg\n",
    "import numpy as np\n",
    "import sys\n",
    "from PyQt5.QtWidgets import QApplication, QMainWindow, QTextEdit, QVBoxLayout, QWidget, QPushButton, QDockWidget\n",
    "from PyQt5.QtCore import Qt"
   ]
  },
  {
   "cell_type": "code",
   "execution_count": 1,
   "id": "7f7f45ff-4a4b-4ed5-8d0b-674150f7d275",
   "metadata": {},
   "outputs": [],
   "source": [
    "# pyqt: https://stackoverflow.com/questions/33525279/pyqtgraph-how-do-i-plot-an-ellipse-or-a-circle\n",
    "# hard to use"
   ]
  },
  {
   "cell_type": "code",
   "execution_count": 4,
   "id": "ca96143a-3721-4194-ae67-8bada6c06e59",
   "metadata": {},
   "outputs": [
    {
     "ename": "AttributeError",
     "evalue": "module 'pyqtgraph.Qt.QtGui' has no attribute 'QGraphicsEllipseItem'",
     "output_type": "error",
     "traceback": [
      "\u001b[0;31m---------------------------------------------------------------------------\u001b[0m",
      "\u001b[0;31mAttributeError\u001b[0m                            Traceback (most recent call last)",
      "Cell \u001b[0;32mIn[4], line 15\u001b[0m\n\u001b[1;32m     13\u001b[0m \u001b[38;5;66;03m# Create ellipses\u001b[39;00m\n\u001b[1;32m     14\u001b[0m \u001b[38;5;28;01mfor\u001b[39;00m i \u001b[38;5;129;01min\u001b[39;00m \u001b[38;5;28mrange\u001b[39m(n):\n\u001b[0;32m---> 15\u001b[0m     ellipse \u001b[38;5;241m=\u001b[39m \u001b[43mpg\u001b[49m\u001b[38;5;241;43m.\u001b[39;49m\u001b[43mQtGui\u001b[49m\u001b[38;5;241;43m.\u001b[39;49m\u001b[43mQGraphicsEllipseItem\u001b[49m(\u001b[38;5;241m0\u001b[39m, \u001b[38;5;241m0\u001b[39m, widths[i], \u001b[38;5;241m1\u001b[39m)\n\u001b[1;32m     16\u001b[0m     ellipse\u001b[38;5;241m.\u001b[39msetPos(x[i], y[i])\n\u001b[1;32m     17\u001b[0m     ellipse\u001b[38;5;241m.\u001b[39msetPen(pg\u001b[38;5;241m.\u001b[39mmkPen(\u001b[38;5;124m'\u001b[39m\u001b[38;5;124mr\u001b[39m\u001b[38;5;124m'\u001b[39m))\n",
      "\u001b[0;31mAttributeError\u001b[0m: module 'pyqtgraph.Qt.QtGui' has no attribute 'QGraphicsEllipseItem'"
     ]
    }
   ],
   "source": [
    "app = QApplication([])\n",
    "\n",
    "# Create a plot window\n",
    "win = pg.plot()\n",
    "win.setWindowTitle('Scatter plot with ellipses')\n",
    "\n",
    "# Data\n",
    "n = 100\n",
    "x = np.random.rand(n) * 10\n",
    "y = np.random.rand(n) * 10\n",
    "widths = y * 0.2\n",
    "\n",
    "# Create ellipses\n",
    "for i in range(n):\n",
    "    ellipse = pg.QtGui.QGraphicsEllipseItem(0, 0, widths[i], 1)\n",
    "    ellipse.setPos(x[i], y[i])\n",
    "    ellipse.setPen(pg.mkPen('r'))\n",
    "    win.addItem(ellipse)\n",
    "\n",
    "# Run the app"
   ]
  },
  {
   "cell_type": "code",
   "execution_count": 1,
   "id": "8a233ff7-3d04-493a-be93-06ea6b340bac",
   "metadata": {},
   "outputs": [
    {
     "ename": "NameError",
     "evalue": "name 'pg' is not defined",
     "output_type": "error",
     "traceback": [
      "\u001b[0;31m---------------------------------------------------------------------------\u001b[0m",
      "\u001b[0;31mNameError\u001b[0m                                 Traceback (most recent call last)",
      "Cell \u001b[0;32mIn[1], line 1\u001b[0m\n\u001b[0;32m----> 1\u001b[0m win \u001b[38;5;241m=\u001b[39m \u001b[43mpg\u001b[49m\u001b[38;5;241m.\u001b[39mGraphicsLayoutWidget(show\u001b[38;5;241m=\u001b[39m\u001b[38;5;28;01mTrue\u001b[39;00m, title\u001b[38;5;241m=\u001b[39m\u001b[38;5;124m\"\u001b[39m\u001b[38;5;124mPlotting\u001b[39m\u001b[38;5;124m\"\u001b[39m)\n\u001b[1;32m      2\u001b[0m p \u001b[38;5;241m=\u001b[39m win\u001b[38;5;241m.\u001b[39maddPlot(title\u001b[38;5;241m=\u001b[39m\u001b[38;5;124m'\u001b[39m\u001b[38;5;124m'\u001b[39m)\n\u001b[1;32m      4\u001b[0m p_ellipse \u001b[38;5;241m=\u001b[39m pg\u001b[38;5;241m.\u001b[39mQtGui\u001b[38;5;241m.\u001b[39mQGraphicsEllipseItem(\u001b[38;5;241m0\u001b[39m, \u001b[38;5;241m0\u001b[39m, \u001b[38;5;241m10\u001b[39m, \u001b[38;5;241m20\u001b[39m)  \u001b[38;5;66;03m# x, y, width, height\u001b[39;00m\n",
      "\u001b[0;31mNameError\u001b[0m: name 'pg' is not defined"
     ]
    }
   ],
   "source": [
    "win = pg.GraphicsLayoutWidget(show=True, title=\"Plotting\")\n",
    "p = win.addPlot(title='')\n",
    "\n",
    "p_ellipse = pg.QtGui.QGraphicsEllipseItem(0, 0, 10, 20)  # x, y, width, height\n",
    "p_ellipse.setPen(pg.mkPen((0, 0, 0, 100)))\n",
    "p_ellipse.setBrush(pg.mkBrush((50, 50, 200)))\n",
    "\n",
    "p.addItem(p_ellipse)"
   ]
  },
  {
   "cell_type": "code",
   "execution_count": null,
   "id": "14898ccd-886c-4d25-8da5-04e939c073ca",
   "metadata": {},
   "outputs": [],
   "source": [
    "import numpy as np\n",
    "import pyqtgraph as pg\n",
    "image = np.random.normal(size=(500, 400))\n",
    "plt1 = pg.PlotWidget()\n",
    "plt1_imageitem = pg.ImageItem(image)\n",
    "plt1.addItem(plt1_imageitem)\n",
    "roi_circle = pg.CircleROI([250, 250], [120, 120], pen=pg.mkPen('r',width=2))\n",
    "# roi_circle.sigRegionChanged.connect(circle_update)\n",
    "plt1.addItem(roi_circle)\n",
    "plt1.show()"
   ]
  },
  {
   "cell_type": "code",
   "execution_count": 2,
   "id": "1f84c9f2-d780-4d1b-bddd-8ddcce779f11",
   "metadata": {},
   "outputs": [
    {
     "data": {
      "text/plain": [
       "<pyqtgraph.widgets.PlotWidget.PlotWidget at 0x7f7951615870>"
      ]
     },
     "execution_count": 2,
     "metadata": {},
     "output_type": "execute_result"
    }
   ],
   "source": [
    "# doc example\n",
    "import pyqtgraph as pg\n",
    "import numpy as np\n",
    "x = np.random.normal(size=1000)\n",
    "y = np.random.normal(size=1000)\n",
    "pg.plot(x, y, pen=None, symbol='o')  ## setting pen=None disables line drawing\n"
   ]
  },
  {
   "cell_type": "code",
   "execution_count": 1,
   "id": "ff25185b-e820-41ca-9fa9-98eb470f80a8",
   "metadata": {},
   "outputs": [],
   "source": [
    "# doc example\n",
    "import pyqtgraph as pg\n",
    "import numpy as np\n",
    "x = np.arange(1000)\n",
    "y = np.random.normal(size=(3, 1000))\n",
    "plotWidget = pg.plot(title=\"Three plot curves\")\n",
    "for i in range(3):\n",
    "    plotWidget.plot(x, y[i], pen=(i,3))  ## setting pen=(i,3) automaticaly creates three different-colored pens\n"
   ]
  },
  {
   "cell_type": "code",
   "execution_count": null,
   "id": "d0fc0fcf-54ed-4949-be28-d49d532a34dc",
   "metadata": {},
   "outputs": [],
   "source": []
  }
 ],
 "metadata": {
  "kernelspec": {
   "display_name": "game",
   "language": "python",
   "name": "game"
  },
  "language_info": {
   "codemirror_mode": {
    "name": "ipython",
    "version": 3
   },
   "file_extension": ".py",
   "mimetype": "text/x-python",
   "name": "python",
   "nbconvert_exporter": "python",
   "pygments_lexer": "ipython3",
   "version": "3.11.9"
  }
 },
 "nbformat": 4,
 "nbformat_minor": 5
}
