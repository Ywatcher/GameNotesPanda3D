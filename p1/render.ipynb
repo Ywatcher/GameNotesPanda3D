{
 "cells": [
  {
   "cell_type": "code",
   "execution_count": 1,
   "id": "f3a4f5fd-c141-4512-a9df-9c1815099eac",
   "metadata": {},
   "outputs": [],
   "source": [
    "from math import cos, pi, sin\n",
    "\n",
    "from direct.showbase.ShowBase import ShowBase\n",
    "from py_src.util.app import ContextShowBase\n",
    "from direct.task import Task\n",
    "from panda3d.core import (\n",
    "    Geom,\n",
    "    GeomNode,\n",
    "    GeomTriangles,\n",
    "    GeomVertexData,\n",
    "    GeomVertexFormat,\n",
    "    GeomVertexWriter,\n",
    "    GeomEnums\n",
    ")\n",
    "# Declare the format of the vertex\n",
    "# (what and how data will be stored in the vertex buffer)\n",
    "# https://docs.panda3d.org/1.10/python/programming/internal-structures/procedural-generation/custom-vertex-format\n",
    "# https://docs.panda3d.org/1.10/python/programming/internal-structures/procedural-generation/predefined-vertex-formats\n",
    "format_ = GeomVertexFormat.getV3c4()\n",
    "format_ = GeomVertexFormat.registerFormat(format_)"
   ]
  },
  {
   "cell_type": "code",
   "execution_count": 2,
   "id": "e7650b06-9588-47b8-a67c-e0f273feb51f",
   "metadata": {},
   "outputs": [],
   "source": [
    "\n",
    "def create_cube():\n",
    "    # Instantiate a vertex buffer\n",
    "    # https://docs.panda3d.org/1.10/python/programming/internal-structures/procedural-generation/creating-vertex-data\n",
    "    vdata = GeomVertexData(\"name\", format_, Geom.UHStatic)\n",
    "    vertex = GeomVertexWriter(vdata, \"vertex\")\n",
    "    color = GeomVertexWriter(vdata, \"color\")\n",
    "\n",
    "    # Add vertices and colors\n",
    "    vertex.addData3f(-1, -1, -1)\n",
    "    color.addData4f(0, 0, 0, 1)\n",
    "\n",
    "    vertex.addData3f(-1, -1, 1)\n",
    "    color.addData4f(0, 0, 1, 1)\n",
    "\n",
    "    vertex.addData3f(-1, 1, -1)\n",
    "    color.addData4f(0, 1, 0, 1)\n",
    "\n",
    "    vertex.addData3f(-1, 1, 1)\n",
    "    color.addData4f(0, 1, 1, 1)\n",
    "\n",
    "    vertex.addData3f(1, -1, -1)\n",
    "    color.addData4f(1, 0, 0, 1)\n",
    "\n",
    "    vertex.addData3f(1, -1, 1)\n",
    "    color.addData4f(1, 0, 1, 1)\n",
    "\n",
    "    vertex.addData3f(1, 1, -1)\n",
    "    color.addData4f(1, 1, 0, 1)\n",
    "\n",
    "    vertex.addData3f(1, 1, 1)\n",
    "    color.addData4f(1, 1, 1, 1)\n",
    "\n",
    "    # Create the triangles (2 per face)\n",
    "    # https://docs.panda3d.org/1.10/python/programming/internal-structures/procedural-generation/creating-primitives\n",
    "    # prim = GeomTriangles(Geom.UHStatic)\n",
    "    prim = GeomTriangles(Geom.UHDynamic)\n",
    "    prim.addVertices(0, 1, 2)\n",
    "    prim.addVertices(2, 1, 3)\n",
    "    prim.addVertices(2, 3, 6)\n",
    "    prim.addVertices(6, 3, 7)\n",
    "    prim.addVertices(6, 7, 4)\n",
    "    prim.addVertices(4, 7, 5)\n",
    "    prim.addVertices(4, 5, 0)\n",
    "    prim.addVertices(0, 5, 1)\n",
    "    prim.addVertices(1, 5, 3)\n",
    "    prim.addVertices(3, 5, 7)\n",
    "    prim.addVertices(6, 4, 2)\n",
    "    prim.addVertices(2, 4, 0)\n",
    "\n",
    "    geom = Geom(vdata)\n",
    "    geom.addPrimitive(prim)\n",
    "    node = GeomNode(\"node\")\n",
    "    node.addGeom(geom)\n",
    "\n",
    "    return node"
   ]
  },
  {
   "cell_type": "code",
   "execution_count": 27,
   "id": "77e6db32-0cfc-46f1-865b-fa5f218cd444",
   "metadata": {},
   "outputs": [],
   "source": [
    "c = create_cube()\n"
   ]
  },
  {
   "cell_type": "code",
   "execution_count": 29,
   "id": "f496a86e-6aa6-4432-a7af-3f1e93214fbe",
   "metadata": {},
   "outputs": [
    {
     "data": {
      "text/plain": [
       "[]"
      ]
     },
     "execution_count": 29,
     "metadata": {},
     "output_type": "execute_result"
    }
   ],
   "source": [
    "list(c.children)"
   ]
  },
  {
   "cell_type": "code",
   "execution_count": 30,
   "id": "2338052d-7002-4ab3-95f6-1153cc9a96e5",
   "metadata": {},
   "outputs": [
    {
     "name": "stderr",
     "output_type": "stream",
     "text": [
      "Known pipe types:\n",
      "  glxGraphicsPipe\n",
      "(all display modules loaded.)\n"
     ]
    },
    {
     "ename": "Exception",
     "evalue": "Attempt to spawn multiple ShowBase instances!",
     "output_type": "error",
     "traceback": [
      "\u001b[0;31m---------------------------------------------------------------------------\u001b[0m",
      "\u001b[0;31mException\u001b[0m                                 Traceback (most recent call last)",
      "Cell \u001b[0;32mIn[30], line 31\u001b[0m\n\u001b[1;32m     26\u001b[0m         \u001b[38;5;28mself\u001b[39m\u001b[38;5;241m.\u001b[39mcamera\u001b[38;5;241m.\u001b[39msetHpr(angleDegrees, \u001b[38;5;241m0\u001b[39m, \u001b[38;5;241m0\u001b[39m)\n\u001b[1;32m     28\u001b[0m         \u001b[38;5;28;01mreturn\u001b[39;00m Task\u001b[38;5;241m.\u001b[39mcont\n\u001b[0;32m---> 31\u001b[0m app \u001b[38;5;241m=\u001b[39m \u001b[43mMyApp\u001b[49m\u001b[43m(\u001b[49m\u001b[43m)\u001b[49m\n\u001b[1;32m     32\u001b[0m app\u001b[38;5;241m.\u001b[39mrun()\n",
      "Cell \u001b[0;32mIn[30], line 13\u001b[0m, in \u001b[0;36mMyApp.__init__\u001b[0;34m(self)\u001b[0m\n\u001b[1;32m     12\u001b[0m \u001b[38;5;28;01mdef\u001b[39;00m \u001b[38;5;21m__init__\u001b[39m(\u001b[38;5;28mself\u001b[39m):\n\u001b[0;32m---> 13\u001b[0m     \u001b[38;5;28;43msuper\u001b[39;49m\u001b[43m(\u001b[49m\u001b[43m)\u001b[49m\u001b[38;5;241;43m.\u001b[39;49m\u001b[38;5;21;43m__init__\u001b[39;49m\u001b[43m(\u001b[49m\u001b[43m)\u001b[49m\n\u001b[1;32m     15\u001b[0m     cube \u001b[38;5;241m=\u001b[39m create_cube()\n\u001b[1;32m     16\u001b[0m     \u001b[38;5;28mself\u001b[39m\u001b[38;5;241m.\u001b[39mrender\u001b[38;5;241m.\u001b[39mattachNewNode(cube)\n",
      "File \u001b[0;32m/media/ywatcher/ExtDisk1/LDisk/Packages/game_env/env/lib/python3.11/site-packages/direct/showbase/ShowBase.py:429\u001b[0m, in \u001b[0;36mShowBase.__init__\u001b[0;34m(self, fStartDirect, windowType)\u001b[0m\n\u001b[1;32m    427\u001b[0m \u001b[38;5;66;03m# Make sure we're not making more than one ShowBase.\u001b[39;00m\n\u001b[1;32m    428\u001b[0m \u001b[38;5;28;01mif\u001b[39;00m \u001b[38;5;28mhasattr\u001b[39m(builtins, \u001b[38;5;124m'\u001b[39m\u001b[38;5;124mbase\u001b[39m\u001b[38;5;124m'\u001b[39m):\n\u001b[0;32m--> 429\u001b[0m     \u001b[38;5;28;01mraise\u001b[39;00m \u001b[38;5;167;01mException\u001b[39;00m(\u001b[38;5;124m\"\u001b[39m\u001b[38;5;124mAttempt to spawn multiple ShowBase instances!\u001b[39m\u001b[38;5;124m\"\u001b[39m)\n\u001b[1;32m    431\u001b[0m \u001b[38;5;66;03m# DO NOT ADD TO THIS LIST.  We're trying to phase out the use of\u001b[39;00m\n\u001b[1;32m    432\u001b[0m \u001b[38;5;66;03m# built-in variables by ShowBase.  Use a Global module if necessary.\u001b[39;00m\n\u001b[1;32m    433\u001b[0m builtins\u001b[38;5;241m.\u001b[39mbase \u001b[38;5;241m=\u001b[39m \u001b[38;5;28mself\u001b[39m\n",
      "\u001b[0;31mException\u001b[0m: Attempt to spawn multiple ShowBase instances!"
     ]
    }
   ],
   "source": [
    "# https://stackoverflow.com/questions/75774821/how-to-create-three-dimensional-geometric-shapes-in-panda3d-in-python\n",
    "\n",
    "#!/usr/bin/env python3\n",
    "\n",
    "\n",
    "\n",
    "\n",
    "\n",
    "\n",
    "\n",
    "class MyApp(ShowBase):\n",
    "    def __init__(self):\n",
    "        super().__init__()\n",
    "\n",
    "        cube = create_cube()\n",
    "        self.render.attachNewNode(cube)\n",
    "\n",
    "        # Set the camera position\n",
    "        # https://docs.panda3d.org/1.10/python/introduction/tutorial/controlling-the-camera\n",
    "        self.taskMgr.add(self.spin_camera_task, \"SpinCameraTask\")\n",
    "\n",
    "    def spin_camera_task(self, task):\n",
    "        angleDegrees = task.time * 60.0\n",
    "        angleRadians = angleDegrees * (pi / 180.0)\n",
    "        self.camera.setPos(20 * sin(angleRadians), -20 * cos(angleRadians), 3)\n",
    "        self.camera.setHpr(angleDegrees, 0, 0)\n",
    "\n",
    "        return Task.cont\n",
    "\n",
    "\n",
    "app = MyApp()\n",
    "app.run()"
   ]
  },
  {
   "cell_type": "code",
   "execution_count": null,
   "id": "6d513ba0-d01a-43b0-b355-dd9d5420ab82",
   "metadata": {},
   "outputs": [],
   "source": []
  },
  {
   "cell_type": "code",
   "execution_count": 7,
   "id": "e7b37ff7-4bde-4cb5-83c9-02008801a9b4",
   "metadata": {},
   "outputs": [
    {
     "data": {
      "text/plain": [
       "4"
      ]
     },
     "execution_count": 7,
     "metadata": {},
     "output_type": "execute_result"
    }
   ],
   "source": [
    "tot = 5\n",
    "idx = -1\n",
    "idx % tot\n"
   ]
  },
  {
   "cell_type": "code",
   "execution_count": 7,
   "id": "9c48bbb3-9c91-46fd-9327-922007eaadfb",
   "metadata": {},
   "outputs": [],
   "source": [
    "import numpy as np\n",
    "import torch\n",
    "\n",
    "from py_src.util.indexing import loop_bound_idx, tup2cnt\n",
    "\n",
    "def create_sphere_node(\n",
    "    name:str,\n",
    "    lat_res:int,\n",
    "    lon_res:int,\n",
    "    scale:float=1,\n",
    "    geom_type: GeomEnums = Geom.UH_static\n",
    ") -> GeomNode:\n",
    "    node = GeomNode(\"SphNd.\"+name)\n",
    "    geom = create_sphere(name, lat_res, lon_res, scale, geom_type)\n",
    "    node.addGeom(geom)\n",
    "    return node\n",
    "\n",
    "def create_sphere(\n",
    "    name:str,\n",
    "    lat_res:int,\n",
    "    lon_res:int,\n",
    "    scale:float=1,\n",
    "    geom_type: GeomEnums = Geom.UH_static\n",
    ") -> Geom:\n",
    "    assert isinstance(lat_res, int) \\\n",
    "        and lat_res > 0, \\\n",
    "        \"lat_res should be postive int, got {}\".format(lat_res)\n",
    "    name_sphere = \"Spr.{}\".format(name)\n",
    "    vdata = GeomVertexData(name_sphere, format_, geom_type)\n",
    "    vertex_writer = GeomVertexWriter(vdata, \"vertex\")\n",
    "    vertex_size = (lon_res, lat_res)\n",
    "    # color = GeomVertexWriter(vdata, \"color\")\n",
    "    # vertex: n_lat * n_lon * 3\n",
    "    axis_coord_theta = torch.arange(0,1,step=1/lon_res) * 2 * np.pi\n",
    "    axis_coord_phi = torch.arange(0,1,step=1/lat_res) * 2 * np.pi\n",
    "    vertex_coord_theta = torch.broadcast_to(axis_coord_theta.view(-1, 1), vertex_size)\n",
    "    vertex_coord_phi = torch.broadcast_to(axis_coord_phi.view(1, -1), vertex_size)\n",
    "    vertex_coord_r = torch.cos(vertex_coord_phi)\n",
    "    vertex_coord_z = torch.sin(vertex_coord_phi)\n",
    "    vertex_coord_x = torch.cos(vertex_coord_theta) * vertex_coord_r\n",
    "    vertex_coord_y = torch.sin(vertex_coord_theta) * vertex_coord_r\n",
    "    vertex_coord_xyz = torch.concat([\n",
    "        vertex_coord_x.unsqueeze(-1),\n",
    "        vertex_coord_y.unsqueeze(-1),\n",
    "        vertex_coord_z.unsqueeze(-1)\n",
    "    ], dim=-1)\n",
    "    \n",
    "    # add vertices\n",
    "    for row in range(lat_res):\n",
    "        for col in range(lon_res):\n",
    "            coord = vertex_coord_xyz[row, col]\n",
    "            vertex_writer.addData3f(\n",
    "                coord[0], coord[1], coord[2]\n",
    "            )\n",
    "    # add triangles\n",
    "    prim = GeomTriangles(geom_type)\n",
    "    for row in range(lat_res-1):\n",
    "        for col in range(lon_res):\n",
    "            prim.addVertices(\n",
    "                tup2cnt(vertex_size, row, col-1),\n",
    "                tup2cnt(vertex_size, row, col),\n",
    "                tup2cnt(vertex_size, row+1, col-1)\n",
    "            )\n",
    "            prim.addVertices(\n",
    "                tup2cnt(vertex_size, row+1, col-1),\n",
    "                tup2cnt(vertex_size, row+1, col),\n",
    "                tup2cnt(vertex_size, row, col)\n",
    "            )\n",
    "    geom = Geom(vdata)\n",
    "    geom.addPrimitive(prim)\n",
    "    \n",
    "                \n",
    "    \n",
    "    return geom\n",
    "    \n",
    "\n",
    "    # # Add vertices and colors\n",
    "    # vertex.addData3f(-1, -1, -1)\n",
    "    # color.addData4f(0, 0, 0, 1)"
   ]
  },
  {
   "cell_type": "code",
   "execution_count": null,
   "id": "afcd2c98-7f50-435d-b6ba-d04256805b4b",
   "metadata": {},
   "outputs": [],
   "source": []
  },
  {
   "cell_type": "code",
   "execution_count": null,
   "id": "6b7965aa-08f7-48f4-831e-32ee9ea087e3",
   "metadata": {},
   "outputs": [],
   "source": [
    "def uv_curve_surface(\n",
    "    coord_mat:torch.Tensor, is_u_loop:bool, is_v_loop:bool,\n",
    "    geom_type: GeomEnums = Geom.UH_static\n",
    ") -> Geom:\n",
    "    # coord_mat: [u_size, v_size, format_size]\n",
    "    u_size = coord_mat.shape[0]\n",
    "    v_size = coord_mat.shape[1]\n",
    "    vertex_size = (u_size, v_size)\n",
    "    for row in range(u_size):\n",
    "        for col in range(v_size):\n",
    "            coord = coord_mat[row, col]\n",
    "            vertex_writer.addData3f(\n",
    "                coord[0], coord[1], coord[2]\n",
    "            )\n",
    "            # TODO: add colour\n",
    "    # add triangles\n",
    "    prim = GeomTriangles(geom_type)\n",
    "    for row in range(u_size - (not is_u_loop)):\n",
    "        for col in range(v_size - (not is_v_loop)):\n",
    "            prim.addVertices(\n",
    "                tup2cnt(vertex_size, row, col-1),\n",
    "                tup2cnt(vertex_size, row, col),\n",
    "                tup2cnt(vertex_size, row+1, col-1)\n",
    "            )\n",
    "            prim.addVertices(\n",
    "                tup2cnt(vertex_size, row+1, col-1),\n",
    "                tup2cnt(vertex_size, row+1, col),\n",
    "                tup2cnt(vertex_size, row, col)\n",
    "            )\n",
    "    geom = Geom(vdata)\n",
    "    geom.addPrimitive(prim)  "
   ]
  },
  {
   "cell_type": "code",
   "execution_count": 12,
   "id": "85dec499-c473-4197-9ee9-f8efba88bc39",
   "metadata": {},
   "outputs": [
    {
     "data": {
      "text/plain": [
       "8"
      ]
     },
     "execution_count": 12,
     "metadata": {},
     "output_type": "execute_result"
    }
   ],
   "source": [
    "9 - (not False)"
   ]
  },
  {
   "cell_type": "code",
   "execution_count": 19,
   "id": "e4dde22f-aa8c-43a0-a1d2-7f498c37d2d8",
   "metadata": {},
   "outputs": [
    {
     "data": {
      "text/plain": [
       "panda3d.core.GeomNode"
      ]
     },
     "execution_count": 19,
     "metadata": {},
     "output_type": "execute_result"
    }
   ],
   "source": [
    "s = create_sphere_node(\"1\", 12,12)\n",
    "type(s)"
   ]
  },
  {
   "cell_type": "code",
   "execution_count": 23,
   "id": "bde77eab-834c-4af8-adff-14658b801925",
   "metadata": {},
   "outputs": [
    {
     "data": {
      "text/plain": [
       "<panda3d.core.Children at 0x7fdcdc039080>"
      ]
     },
     "execution_count": 23,
     "metadata": {},
     "output_type": "execute_result"
    }
   ],
   "source": [
    "s."
   ]
  },
  {
   "cell_type": "code",
   "execution_count": 12,
   "id": "2ee0dd6f-00a6-4a4f-8390-b076f03e4ce5",
   "metadata": {},
   "outputs": [
    {
     "data": {
      "text/plain": [
       "<matplotlib.collections.PathCollection at 0x7fdce09aa690>"
      ]
     },
     "execution_count": 12,
     "metadata": {},
     "output_type": "execute_result"
    },
    {
     "data": {
      "image/png": "[encoded data removed]",
      "text/plain": [
       "<Figure size 640x480 with 1 Axes>"
      ]
     },
     "metadata": {},
     "output_type": "display_data"
    }
   ],
   "source": [
    "import matplotlib.pyplot as plt\n",
    "plt.scatter(s[:,:,2],s[:,:,1])"
   ]
  },
  {
   "cell_type": "code",
   "execution_count": 8,
   "id": "f9f01563-0856-492c-993d-c7adc48d9bd4",
   "metadata": {},
   "outputs": [],
   "source": [
    "a = torch.arange(0,1,step=1/6)"
   ]
  },
  {
   "cell_type": "code",
   "execution_count": 9,
   "id": "2cec4e97-418d-4eb1-b4d9-b39ef64fad04",
   "metadata": {},
   "outputs": [],
   "source": [
    "import torch"
   ]
  },
  {
   "cell_type": "code",
   "execution_count": 12,
   "id": "949774aa-70ed-4691-8cbc-c57893601296",
   "metadata": {},
   "outputs": [
    {
     "name": "stdout",
     "output_type": "stream",
     "text": [
      "Help on built-in function concat in module torch:\n",
      "\n",
      "concat(...)\n",
      "    concat(tensors, dim=0, *, out=None) -> Tensor\n",
      "    \n",
      "    Alias of :func:`torch.cat`.\n",
      "\n"
     ]
    }
   ],
   "source": [
    "help(torch.concat)"
   ]
  },
  {
   "cell_type": "code",
   "execution_count": 11,
   "id": "e44aec64-78a8-474a-bf9b-714d3b01fe38",
   "metadata": {},
   "outputs": [
    {
     "name": "stdout",
     "output_type": "stream",
     "text": [
      "Help on built-in function broadcast_to in module torch:\n",
      "\n",
      "broadcast_to(...)\n",
      "    broadcast_to(input, shape) -> Tensor\n",
      "    \n",
      "    Broadcasts :attr:`input` to the shape :attr:`\\shape`.\n",
      "    Equivalent to calling ``input.expand(shape)``. See :meth:`~Tensor.expand` for details.\n",
      "    \n",
      "    Args:\n",
      "        input (Tensor): the input tensor.\n",
      "        shape (list, tuple, or :class:`torch.Size`): the new shape.\n",
      "    \n",
      "    Example::\n",
      "    \n",
      "        >>> x = torch.tensor([1, 2, 3])\n",
      "        >>> torch.broadcast_to(x, (3, 3))\n",
      "        tensor([[1, 2, 3],\n",
      "                [1, 2, 3],\n",
      "                [1, 2, 3]])\n",
      "\n"
     ]
    }
   ],
   "source": [
    "help(torch.broadcast_to)"
   ]
  },
  {
   "cell_type": "code",
   "execution_count": null,
   "id": "49e5736a-19a2-4a89-b87d-e4ea8be64917",
   "metadata": {},
   "outputs": [],
   "source": []
  },
  {
   "cell_type": "code",
   "execution_count": 17,
   "id": "c5be29d7-6e23-4afd-a9be-148a5352305e",
   "metadata": {},
   "outputs": [
    {
     "data": {
      "text/plain": [
       "tensor([0.0000, 0.1667, 0.3333, 0.5000, 0.6667, 0.8333])"
      ]
     },
     "execution_count": 17,
     "metadata": {},
     "output_type": "execute_result"
    }
   ],
   "source": [
    "a"
   ]
  },
  {
   "cell_type": "code",
   "execution_count": 20,
   "id": "28af6b19-1781-4a0e-b1f4-358b1fe8eee0",
   "metadata": {},
   "outputs": [
    {
     "data": {
      "text/plain": [
       "tensor([[0.0000],\n",
       "        [0.1667],\n",
       "        [0.3333],\n",
       "        [0.5000],\n",
       "        [0.6667],\n",
       "        [0.8333]])"
      ]
     },
     "execution_count": 20,
     "metadata": {},
     "output_type": "execute_result"
    }
   ],
   "source": [
    "a.unsqueeze(-1)"
   ]
  },
  {
   "cell_type": "code",
   "execution_count": 6,
   "id": "f0d21754-e61b-46c8-a9e8-dbc4e5861056",
   "metadata": {},
   "outputs": [
    {
     "name": "stdout",
     "output_type": "stream",
     "text": [
      "name 'create_sphere_node' is not defined\n"
     ]
    },
    {
     "name": "stderr",
     "output_type": "stream",
     "text": [
      "Known pipe types:\n",
      "  glxGraphicsPipe\n",
      "(all display modules loaded.)\n",
      ":audio(error): Couldn't open default OpenAL device\n",
      ":audio(error): OpenALAudioManager: No open device or context\n",
      ":audio(error):   OpenALAudioManager is not valid, will use NullAudioManager\n",
      ":audio(error): Couldn't open default OpenAL device\n",
      ":audio(error): OpenALAudioManager: No open device or context\n",
      ":audio(error):   OpenALAudioManager is not valid, will use NullAudioManager\n"
     ]
    }
   ],
   "source": [
    "import builtins\n",
    "\n",
    "\n",
    "class MyApp(ContextShowBase):\n",
    "    def __init__(self):\n",
    "        super().__init__()\n",
    "\n",
    "        # cube = create_cube()\n",
    "        sphere = create_sphere_node(\"01\",12,12)\n",
    "        self.render.attachNewNode(sphere)\n",
    "\n",
    "        # Set the camera position\n",
    "        # https://docs.panda3d.org/1.10/python/introduction/tutorial/controlling-the-camera\n",
    "        self.taskMgr.add(self.spin_camera_task, \"SpinCameraTask\")\n",
    "\n",
    "    def spin_camera_task(self, task):\n",
    "        angleDegrees = task.time * 60.0\n",
    "        angleRadians = angleDegrees * (pi / 180.0)\n",
    "        self.camera.setPos(20 * sin(angleRadians), -20 * cos(angleRadians), 3)\n",
    "        self.camera.setHpr(angleDegrees, 0, 0)\n",
    "\n",
    "        return Task.cont\n",
    "    \n",
    "\n",
    "# class AppWrapper:\n",
    "#     def __init__(self, appClass):\n",
    "#         self.appClass = appClass\n",
    "#     def __enter__(self):\n",
    "#         self.app = appClass()\n",
    "    \n",
    "#     def run(self, *args, **kwargs):\n",
    "#         self.app.run(*args, **kwargs)\n",
    "        \n",
    "#     def __exit__(self, *args):\n",
    "#         self.app.destroy()\n",
    "\n",
    "try:\n",
    "    with MyApp() as app:\n",
    "        app.run()\n",
    "except Exception as e:\n",
    "    print(e)\n",
    "finally:\n",
    "    if hasattr(builtins, 'base'):\n",
    "        builtins.base.destroy()"
   ]
  },
  {
   "cell_type": "code",
   "execution_count": null,
   "id": "e8eb9ff0-09d3-443f-89eb-72cf63a70956",
   "metadata": {},
   "outputs": [],
   "source": [
    "ShowBase."
   ]
  },
  {
   "cell_type": "code",
   "execution_count": 2,
   "id": "74238f20-c7bd-4a84-b3f0-b39cb5c22cb0",
   "metadata": {},
   "outputs": [
    {
     "name": "stdout",
     "output_type": "stream",
     "text": [
      "<__main__.Cls object at 0x7fd6b5656950>\n",
      "exit\n"
     ]
    }
   ],
   "source": [
    "class Cls:\n",
    "    def __enter__(self):\n",
    "        return self\n",
    "    def __exit__(self,*args):\n",
    "        print(\"exit\")\n",
    "with Cls() as s:\n",
    "    print(s)"
   ]
  },
  {
   "cell_type": "code",
   "execution_count": 9,
   "id": "d57e2ab3-f73a-454e-98b4-ab69de044c78",
   "metadata": {},
   "outputs": [
    {
     "name": "stdout",
     "output_type": "stream",
     "text": [
      "2024-08-21 23:05:08.025825\n"
     ]
    }
   ],
   "source": [
    "import datetime\n",
    "print(\"{}\".format(datetime.datetime.now()))"
   ]
  },
  {
   "cell_type": "code",
   "execution_count": null,
   "id": "5db223c9-f035-4712-b885-3783c0e02a79",
   "metadata": {},
   "outputs": [],
   "source": []
  }
 ],
 "metadata": {
  "kernelspec": {
   "display_name": "game",
   "language": "python",
   "name": "game"
  },
  "language_info": {
   "codemirror_mode": {
    "name": "ipython",
    "version": 3
   },
   "file_extension": ".py",
   "mimetype": "text/x-python",
   "name": "python",
   "nbconvert_exporter": "python",
   "pygments_lexer": "ipython3",
   "version": "3.11.9"
  }
 },
 "nbformat": 4,
 "nbformat_minor": 5
}
