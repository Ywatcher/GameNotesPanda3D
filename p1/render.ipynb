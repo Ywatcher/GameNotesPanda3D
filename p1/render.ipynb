{
 "cells": [
  {
   "cell_type": "code",
   "execution_count": 1,
   "id": "f3a4f5fd-c141-4512-a9df-9c1815099eac",
   "metadata": {},
   "outputs": [],
   "source": [
    "from math import cos, pi, sin\n",
    "\n",
    "from direct.showbase.ShowBase import ShowBase\n",
    "from py_src.util.app import ContextShowBase\n",
    "from direct.task import Task\n",
    "from panda3d.core import (\n",
    "    Geom,\n",
    "    GeomNode,\n",
    "    GeomTriangles,\n",
    "    GeomVertexData,\n",
    "    GeomVertexFormat,\n",
    "    GeomVertexWriter,\n",
    "    GeomEnums\n",
    ")\n"
   ]
  },
  {
   "cell_type": "code",
   "execution_count": 2,
   "id": "9c48bbb3-9c91-46fd-9327-922007eaadfb",
   "metadata": {},
   "outputs": [],
   "source": [
    "import numpy as np\n",
    "import torch\n",
    "from py_src.geom.basic import create_cube_node, create_sphere_node,uv_curve_surface\n"
   ]
  },
  {
   "cell_type": "code",
   "execution_count": 3,
   "id": "f0d21754-e61b-46c8-a9e8-dbc4e5861056",
   "metadata": {},
   "outputs": [
    {
     "name": "stderr",
     "output_type": "stream",
     "text": [
      "Known pipe types:\n",
      "  glxGraphicsPipe\n",
      "(all display modules loaded.)\n",
      ":audio(error): Couldn't open default OpenAL device\n",
      ":audio(error): OpenALAudioManager: No open device or context\n",
      ":audio(error):   OpenALAudioManager is not valid, will use NullAudioManager\n",
      ":audio(error): Couldn't open default OpenAL device\n",
      ":audio(error): OpenALAudioManager: No open device or context\n",
      ":audio(error):   OpenALAudioManager is not valid, will use NullAudioManager\n"
     ]
    },
    {
     "name": "stdout",
     "output_type": "stream",
     "text": [
      "---<__main__.MyApp object at 0x7fa7619b0790> destroy at 2024-08-22 00:29:06.130705---\n",
      "---<__main__.MyApp object at 0x7fa7619b0790> destroyed at 2024-08-22 00:29:06.131165, exit---\n"
     ]
    },
    {
     "ename": "SystemExit",
     "evalue": "",
     "output_type": "error",
     "traceback": [
      "An exception has occurred, use %tb to see the full traceback.\n",
      "\u001b[0;31mSystemExit\u001b[0m\n"
     ]
    },
    {
     "name": "stderr",
     "output_type": "stream",
     "text": [
      "/media/ywatcher/ExtDisk1/LDisk/Packages/game_env/env/lib/python3.11/site-packages/IPython/core/interactiveshell.py:3585: UserWarning: To exit: use 'exit', 'quit', or Ctrl-D.\n",
      "  warn(\"To exit: use 'exit', 'quit', or Ctrl-D.\", stacklevel=1)\n"
     ]
    }
   ],
   "source": [
    "import builtins\n",
    "\n",
    "\n",
    "class MyApp(ContextShowBase):\n",
    "    def __init__(self):\n",
    "        super().__init__()\n",
    "\n",
    "        # cube = create_cube()\n",
    "        sphere = create_sphere_node(\"01\",4, 4)\n",
    "        self.render.attachNewNode(sphere)\n",
    "\n",
    "        # Set the camera position\n",
    "        # https://docs.panda3d.org/1.10/python/introduction/tutorial/controlling-the-camera\n",
    "        self.taskMgr.add(self.spin_camera_task, \"SpinCameraTask\")\n",
    "\n",
    "    def spin_camera_task(self, task):\n",
    "        angleDegrees = task.time * 60.0\n",
    "        angleRadians = angleDegrees * (pi / 180.0)\n",
    "        self.camera.setPos(20 * sin(angleRadians), -20 * cos(angleRadians), 3)\n",
    "        self.camera.setHpr(angleDegrees, 0, 0)\n",
    "\n",
    "        return Task.cont\n",
    "    \n",
    "# class AppWrapper:\n",
    "#     def __init__(self, appClass):\n",
    "#         self.appClass = appClass\n",
    "#     def __enter__(self):\n",
    "#         self.app = appClass()\n",
    "    \n",
    "#     def run(self, *args, **kwargs):\n",
    "#         self.app.run(*args, **kwargs)\n",
    "        \n",
    "#     def __exit__(self, *args):\n",
    "#         self.app.destroy()\n",
    "import traceback\n",
    "try:\n",
    "    with MyApp() as app:\n",
    "        app.run()\n",
    "except Exception as e:\n",
    "    \n",
    "    print(e)\n",
    "    print(traceback.format_exc())\n",
    "finally:\n",
    "    if hasattr(builtins, 'base'):\n",
    "        builtins.base.destroy()"
   ]
  },
  {
   "cell_type": "code",
   "execution_count": 30,
   "id": "2338052d-7002-4ab3-95f6-1153cc9a96e5",
   "metadata": {},
   "outputs": [
    {
     "name": "stderr",
     "output_type": "stream",
     "text": [
      "Known pipe types:\n",
      "  glxGraphicsPipe\n",
      "(all display modules loaded.)\n"
     ]
    },
    {
     "ename": "Exception",
     "evalue": "Attempt to spawn multiple ShowBase instances!",
     "output_type": "error",
     "traceback": [
      "\u001b[0;31m---------------------------------------------------------------------------\u001b[0m",
      "\u001b[0;31mException\u001b[0m                                 Traceback (most recent call last)",
      "Cell \u001b[0;32mIn[30], line 31\u001b[0m\n\u001b[1;32m     26\u001b[0m         \u001b[38;5;28mself\u001b[39m\u001b[38;5;241m.\u001b[39mcamera\u001b[38;5;241m.\u001b[39msetHpr(angleDegrees, \u001b[38;5;241m0\u001b[39m, \u001b[38;5;241m0\u001b[39m)\n\u001b[1;32m     28\u001b[0m         \u001b[38;5;28;01mreturn\u001b[39;00m Task\u001b[38;5;241m.\u001b[39mcont\n\u001b[0;32m---> 31\u001b[0m app \u001b[38;5;241m=\u001b[39m \u001b[43mMyApp\u001b[49m\u001b[43m(\u001b[49m\u001b[43m)\u001b[49m\n\u001b[1;32m     32\u001b[0m app\u001b[38;5;241m.\u001b[39mrun()\n",
      "Cell \u001b[0;32mIn[30], line 13\u001b[0m, in \u001b[0;36mMyApp.__init__\u001b[0;34m(self)\u001b[0m\n\u001b[1;32m     12\u001b[0m \u001b[38;5;28;01mdef\u001b[39;00m \u001b[38;5;21m__init__\u001b[39m(\u001b[38;5;28mself\u001b[39m):\n\u001b[0;32m---> 13\u001b[0m     \u001b[38;5;28;43msuper\u001b[39;49m\u001b[43m(\u001b[49m\u001b[43m)\u001b[49m\u001b[38;5;241;43m.\u001b[39;49m\u001b[38;5;21;43m__init__\u001b[39;49m\u001b[43m(\u001b[49m\u001b[43m)\u001b[49m\n\u001b[1;32m     15\u001b[0m     cube \u001b[38;5;241m=\u001b[39m create_cube()\n\u001b[1;32m     16\u001b[0m     \u001b[38;5;28mself\u001b[39m\u001b[38;5;241m.\u001b[39mrender\u001b[38;5;241m.\u001b[39mattachNewNode(cube)\n",
      "File \u001b[0;32m/media/ywatcher/ExtDisk1/LDisk/Packages/game_env/env/lib/python3.11/site-packages/direct/showbase/ShowBase.py:429\u001b[0m, in \u001b[0;36mShowBase.__init__\u001b[0;34m(self, fStartDirect, windowType)\u001b[0m\n\u001b[1;32m    427\u001b[0m \u001b[38;5;66;03m# Make sure we're not making more than one ShowBase.\u001b[39;00m\n\u001b[1;32m    428\u001b[0m \u001b[38;5;28;01mif\u001b[39;00m \u001b[38;5;28mhasattr\u001b[39m(builtins, \u001b[38;5;124m'\u001b[39m\u001b[38;5;124mbase\u001b[39m\u001b[38;5;124m'\u001b[39m):\n\u001b[0;32m--> 429\u001b[0m     \u001b[38;5;28;01mraise\u001b[39;00m \u001b[38;5;167;01mException\u001b[39;00m(\u001b[38;5;124m\"\u001b[39m\u001b[38;5;124mAttempt to spawn multiple ShowBase instances!\u001b[39m\u001b[38;5;124m\"\u001b[39m)\n\u001b[1;32m    431\u001b[0m \u001b[38;5;66;03m# DO NOT ADD TO THIS LIST.  We're trying to phase out the use of\u001b[39;00m\n\u001b[1;32m    432\u001b[0m \u001b[38;5;66;03m# built-in variables by ShowBase.  Use a Global module if necessary.\u001b[39;00m\n\u001b[1;32m    433\u001b[0m builtins\u001b[38;5;241m.\u001b[39mbase \u001b[38;5;241m=\u001b[39m \u001b[38;5;28mself\u001b[39m\n",
      "\u001b[0;31mException\u001b[0m: Attempt to spawn multiple ShowBase instances!"
     ]
    }
   ],
   "source": [
    "# https://stackoverflow.com/questions/75774821/how-to-create-three-dimensional-geometric-shapes-in-panda3d-in-python\n",
    "\n",
    "#!/usr/bin/env python3\n",
    "\n",
    "\n",
    "\n",
    "class MyApp(ShowBase):\n",
    "    def __init__(self):\n",
    "        super().__init__()\n",
    "\n",
    "        cube = create_cube()\n",
    "        self.render.attachNewNode(cube)\n",
    "\n",
    "        # Set the camera position\n",
    "        # https://docs.panda3d.org/1.10/python/introduction/tutorial/controlling-the-camera\n",
    "        self.taskMgr.add(self.spin_camera_task, \"SpinCameraTask\")\n",
    "\n",
    "    def spin_camera_task(self, task):\n",
    "        angleDegrees = task.time * 60.0\n",
    "        angleRadians = angleDegrees * (pi / 180.0)\n",
    "        self.camera.setPos(20 * sin(angleRadians), -20 * cos(angleRadians), 3)\n",
    "        self.camera.setHpr(angleDegrees, 0, 0)\n",
    "\n",
    "        return Task.cont\n",
    "\n",
    "\n",
    "app = MyApp()\n",
    "app.run()"
   ]
  },
  {
   "cell_type": "code",
   "execution_count": 28,
   "id": "afcd2c98-7f50-435d-b6ba-d04256805b4b",
   "metadata": {},
   "outputs": [],
   "source": [
    "def plane():\n",
    "    u_size=6\n",
    "    v_size=6\n",
    "    u = torch.broadcast_to(torch.arange(6).view(-1,1), (6,6))\n",
    "    v = torch.broadcast_to(torch.arange(6).view(1,-1), (6,6))\n",
    "    # x = torch.zeros(6,6)\n",
    "    # y = u\n",
    "    # z = v\n",
    "    uv = torch.concat([u.unsqueeze(-1),v.unsqueeze(-1)],dim=-1)\n",
    "    return uv\n",
    "uv = plane()"
   ]
  },
  {
   "cell_type": "code",
   "execution_count": 48,
   "id": "c63dd7b3-9294-4c8c-b5f5-c7198dfacc00",
   "metadata": {
    "tags": []
   },
   "outputs": [
    {
     "data": {
      "text/plain": [
       "torch.Size([6, 6, 2])"
      ]
     },
     "execution_count": 48,
     "metadata": {},
     "output_type": "execute_result"
    }
   ],
   "source": [
    "uv.shape"
   ]
  },
  {
   "cell_type": "code",
   "execution_count": 38,
   "id": "25523542-559c-47a4-a977-5130caf33a28",
   "metadata": {},
   "outputs": [
    {
     "data": {
      "text/html": [
       "<svg  width=\"550\" height=\"55\"><rect x=\"0\" y=\"0\" width=\"55\" height=\"55\" style=\"fill:#1f77b4;stroke-width:2;stroke:rgb(255,255,255)\"/><rect x=\"55\" y=\"0\" width=\"55\" height=\"55\" style=\"fill:#ff7f0e;stroke-width:2;stroke:rgb(255,255,255)\"/><rect x=\"110\" y=\"0\" width=\"55\" height=\"55\" style=\"fill:#2ca02c;stroke-width:2;stroke:rgb(255,255,255)\"/><rect x=\"165\" y=\"0\" width=\"55\" height=\"55\" style=\"fill:#d62728;stroke-width:2;stroke:rgb(255,255,255)\"/><rect x=\"220\" y=\"0\" width=\"55\" height=\"55\" style=\"fill:#9467bd;stroke-width:2;stroke:rgb(255,255,255)\"/><rect x=\"275\" y=\"0\" width=\"55\" height=\"55\" style=\"fill:#8c564b;stroke-width:2;stroke:rgb(255,255,255)\"/><rect x=\"330\" y=\"0\" width=\"55\" height=\"55\" style=\"fill:#e377c2;stroke-width:2;stroke:rgb(255,255,255)\"/><rect x=\"385\" y=\"0\" width=\"55\" height=\"55\" style=\"fill:#7f7f7f;stroke-width:2;stroke:rgb(255,255,255)\"/><rect x=\"440\" y=\"0\" width=\"55\" height=\"55\" style=\"fill:#bcbd22;stroke-width:2;stroke:rgb(255,255,255)\"/><rect x=\"495\" y=\"0\" width=\"55\" height=\"55\" style=\"fill:#17becf;stroke-width:2;stroke:rgb(255,255,255)\"/></svg>"
      ],
      "text/plain": [
       "[(0.12156862745098039, 0.4666666666666667, 0.7058823529411765),\n",
       " (1.0, 0.4980392156862745, 0.054901960784313725),\n",
       " (0.17254901960784313, 0.6274509803921569, 0.17254901960784313),\n",
       " (0.8392156862745098, 0.15294117647058825, 0.1568627450980392),\n",
       " (0.5803921568627451, 0.403921568627451, 0.7411764705882353),\n",
       " (0.5490196078431373, 0.33725490196078434, 0.29411764705882354),\n",
       " (0.8901960784313725, 0.4666666666666667, 0.7607843137254902),\n",
       " (0.4980392156862745, 0.4980392156862745, 0.4980392156862745),\n",
       " (0.7372549019607844, 0.7411764705882353, 0.13333333333333333),\n",
       " (0.09019607843137255, 0.7450980392156863, 0.8117647058823529)]"
      ]
     },
     "execution_count": 38,
     "metadata": {},
     "output_type": "execute_result"
    }
   ],
   "source": [
    "import seaborn as sns\n",
    "sns.color_palette(\"tab10\")"
   ]
  },
  {
   "cell_type": "code",
   "execution_count": 53,
   "id": "92d4898f-66d1-4c32-a35e-3caaac526f60",
   "metadata": {},
   "outputs": [
    {
     "data": {
      "image/png": "[encoded data removed]",
      "text/plain": [
       "<Figure size 640x480 with 1 Axes>"
      ]
     },
     "metadata": {},
     "output_type": "display_data"
    }
   ],
   "source": [
    "uv_unsq = uv.view(-1,2)\n",
    "plt.scatter(uv_unsq[:,0], uv_unsq[:,1])\n",
    "import matplotlib.pyplot as plt\n",
    "cnt=0\n",
    "p =sns.color_palette(\"tab10\") \n",
    "# t1 = plt.Polygon(uv[:3,:], color=Y[0])\n",
    "t = []\n",
    "T = []\n",
    "for row in range(5):\n",
    "    for col in range(2):\n",
    "        v1 = uv[row,col].unsqueeze(0)\n",
    "        v2 = uv[row,col+1].unsqueeze(0)\n",
    "        v3 = uv[row+1,col].unsqueeze(0)\n",
    "        v4 = uv[row+1,col+1].unsqueeze(0)\n",
    "        \n",
    "        \n",
    "        # print(v1.shape)\n",
    "        v = torch.concat([v1,v2,v3,v4],dim=0)\n",
    "        # V = \n",
    "        # print(v)\n",
    "        t.append(plt.Polygon(\n",
    "            # uv[,:], \n",
    "            v[:-1],\n",
    "            # color=Y[0],\n",
    "            color=p[cnt], alpha=0.5\n",
    "        ))\n",
    "        T.append(plt.Polygon(\n",
    "            # uv[,:], \n",
    "            v[1:],\n",
    "            # color=Y[0],\n",
    "            color=p[cnt], alpha=0.5\n",
    "        ))\n",
    "        plt.gca().add_patch(t[-1])\n",
    "        plt.gca().add_patch(T[-1])\n",
    "        cnt+=1\n",
    "        # print(cnt)\n",
    "plt.show()"
   ]
  },
  {
   "cell_type": "code",
   "execution_count": 69,
   "id": "6b7965aa-08f7-48f4-831e-32ee9ea087e3",
   "metadata": {},
   "outputs": [],
   "source": []
  },
  {
   "cell_type": "code",
   "execution_count": 12,
   "id": "85dec499-c473-4197-9ee9-f8efba88bc39",
   "metadata": {},
   "outputs": [
    {
     "data": {
      "text/plain": [
       "8"
      ]
     },
     "execution_count": 12,
     "metadata": {},
     "output_type": "execute_result"
    }
   ],
   "source": [
    "9 - (not False)"
   ]
  },
  {
   "cell_type": "code",
   "execution_count": 19,
   "id": "e4dde22f-aa8c-43a0-a1d2-7f498c37d2d8",
   "metadata": {},
   "outputs": [
    {
     "data": {
      "text/plain": [
       "panda3d.core.GeomNode"
      ]
     },
     "execution_count": 19,
     "metadata": {},
     "output_type": "execute_result"
    }
   ],
   "source": [
    "s = create_sphere_node(\"1\", 12,12)\n",
    "type(s)"
   ]
  },
  {
   "cell_type": "code",
   "execution_count": 23,
   "id": "bde77eab-834c-4af8-adff-14658b801925",
   "metadata": {},
   "outputs": [
    {
     "data": {
      "text/plain": [
       "<panda3d.core.Children at 0x7fdcdc039080>"
      ]
     },
     "execution_count": 23,
     "metadata": {},
     "output_type": "execute_result"
    }
   ],
   "source": [
    "s."
   ]
  },
  {
   "cell_type": "code",
   "execution_count": 12,
   "id": "2ee0dd6f-00a6-4a4f-8390-b076f03e4ce5",
   "metadata": {},
   "outputs": [
    {
     "data": {
      "text/plain": [
       "<matplotlib.collections.PathCollection at 0x7fdce09aa690>"
      ]
     },
     "execution_count": 12,
     "metadata": {},
     "output_type": "execute_result"
    },
    {
     "data": {
      "image/png": "[encoded data removed]",
      "text/plain": [
       "<Figure size 640x480 with 1 Axes>"
      ]
     },
     "metadata": {},
     "output_type": "display_data"
    }
   ],
   "source": [
    "import matplotlib.pyplot as plt\n",
    "plt.scatter(s[:,:,2],s[:,:,1])"
   ]
  },
  {
   "cell_type": "code",
   "execution_count": 8,
   "id": "f9f01563-0856-492c-993d-c7adc48d9bd4",
   "metadata": {},
   "outputs": [],
   "source": [
    "a = torch.arange(0,1,step=1/6)"
   ]
  },
  {
   "cell_type": "code",
   "execution_count": 9,
   "id": "2cec4e97-418d-4eb1-b4d9-b39ef64fad04",
   "metadata": {},
   "outputs": [],
   "source": [
    "import torch"
   ]
  },
  {
   "cell_type": "code",
   "execution_count": 12,
   "id": "949774aa-70ed-4691-8cbc-c57893601296",
   "metadata": {},
   "outputs": [
    {
     "name": "stdout",
     "output_type": "stream",
     "text": [
      "Help on built-in function concat in module torch:\n",
      "\n",
      "concat(...)\n",
      "    concat(tensors, dim=0, *, out=None) -> Tensor\n",
      "    \n",
      "    Alias of :func:`torch.cat`.\n",
      "\n"
     ]
    }
   ],
   "source": [
    "help(torch.concat)"
   ]
  },
  {
   "cell_type": "code",
   "execution_count": 11,
   "id": "e44aec64-78a8-474a-bf9b-714d3b01fe38",
   "metadata": {},
   "outputs": [
    {
     "name": "stdout",
     "output_type": "stream",
     "text": [
      "Help on built-in function broadcast_to in module torch:\n",
      "\n",
      "broadcast_to(...)\n",
      "    broadcast_to(input, shape) -> Tensor\n",
      "    \n",
      "    Broadcasts :attr:`input` to the shape :attr:`\\shape`.\n",
      "    Equivalent to calling ``input.expand(shape)``. See :meth:`~Tensor.expand` for details.\n",
      "    \n",
      "    Args:\n",
      "        input (Tensor): the input tensor.\n",
      "        shape (list, tuple, or :class:`torch.Size`): the new shape.\n",
      "    \n",
      "    Example::\n",
      "    \n",
      "        >>> x = torch.tensor([1, 2, 3])\n",
      "        >>> torch.broadcast_to(x, (3, 3))\n",
      "        tensor([[1, 2, 3],\n",
      "                [1, 2, 3],\n",
      "                [1, 2, 3]])\n",
      "\n"
     ]
    }
   ],
   "source": [
    "help(torch.broadcast_to)"
   ]
  },
  {
   "cell_type": "code",
   "execution_count": null,
   "id": "49e5736a-19a2-4a89-b87d-e4ea8be64917",
   "metadata": {},
   "outputs": [],
   "source": []
  },
  {
   "cell_type": "code",
   "execution_count": 17,
   "id": "c5be29d7-6e23-4afd-a9be-148a5352305e",
   "metadata": {},
   "outputs": [
    {
     "data": {
      "text/plain": [
       "tensor([0.0000, 0.1667, 0.3333, 0.5000, 0.6667, 0.8333])"
      ]
     },
     "execution_count": 17,
     "metadata": {},
     "output_type": "execute_result"
    }
   ],
   "source": [
    "a"
   ]
  },
  {
   "cell_type": "code",
   "execution_count": 20,
   "id": "28af6b19-1781-4a0e-b1f4-358b1fe8eee0",
   "metadata": {},
   "outputs": [
    {
     "data": {
      "text/plain": [
       "tensor([[0.0000],\n",
       "        [0.1667],\n",
       "        [0.3333],\n",
       "        [0.5000],\n",
       "        [0.6667],\n",
       "        [0.8333]])"
      ]
     },
     "execution_count": 20,
     "metadata": {},
     "output_type": "execute_result"
    }
   ],
   "source": [
    "a.unsqueeze(-1)"
   ]
  },
  {
   "cell_type": "code",
   "execution_count": null,
   "id": "e8eb9ff0-09d3-443f-89eb-72cf63a70956",
   "metadata": {},
   "outputs": [],
   "source": [
    "ShowBase."
   ]
  },
  {
   "cell_type": "code",
   "execution_count": 2,
   "id": "74238f20-c7bd-4a84-b3f0-b39cb5c22cb0",
   "metadata": {},
   "outputs": [
    {
     "name": "stdout",
     "output_type": "stream",
     "text": [
      "<__main__.Cls object at 0x7fd6b5656950>\n",
      "exit\n"
     ]
    }
   ],
   "source": [
    "class Cls:\n",
    "    def __enter__(self):\n",
    "        return self\n",
    "    def __exit__(self,*args):\n",
    "        print(\"exit\")\n",
    "with Cls() as s:\n",
    "    print(s)"
   ]
  },
  {
   "cell_type": "code",
   "execution_count": 9,
   "id": "d57e2ab3-f73a-454e-98b4-ab69de044c78",
   "metadata": {},
   "outputs": [
    {
     "name": "stdout",
     "output_type": "stream",
     "text": [
      "2024-08-21 23:05:08.025825\n"
     ]
    }
   ],
   "source": [
    "import datetime\n",
    "print(\"{}\".format(datetime.datetime.now()))"
   ]
  },
  {
   "cell_type": "code",
   "execution_count": null,
   "id": "5db223c9-f035-4712-b885-3783c0e02a79",
   "metadata": {},
   "outputs": [],
   "source": []
  }
 ],
 "metadata": {
  "kernelspec": {
   "display_name": "game",
   "language": "python",
   "name": "game"
  },
  "language_info": {
   "codemirror_mode": {
    "name": "ipython",
    "version": 3
   },
   "file_extension": ".py",
   "mimetype": "text/x-python",
   "name": "python",
   "nbconvert_exporter": "python",
   "pygments_lexer": "ipython3",
   "version": "3.11.9"
  }
 },
 "nbformat": 4,
 "nbformat_minor": 5
}
