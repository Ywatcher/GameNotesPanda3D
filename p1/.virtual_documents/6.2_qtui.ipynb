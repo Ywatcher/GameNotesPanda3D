# create a qapp
# create game window, left panel top
# create debug window, left panel bot
# create a panel, right

import sys
from PyQt5.QtWidgets import QApplication, QMainWindow, QDockWidget, QTextEdit
from PyQt5.QtCore import Qt, QTimer, QPoint
import filepath
import pdb
from panda3d.core import *
# from panda3d.core import loadPrcFileData



type(Qt.Key_0)


from qpanda3d import QShowBase, QPanda3DWidget, QControl
from QPanda3D.QPanda3DWidget import QPanda3DSynchronizer
from demos.physics_room import RoomScene
from panda3d_game.app import ControlShowBase, ContextShowBase



# TODO: conversion between panda cursor pos and qt cursor pos

class TestRoom(
    # ControlShowBase, 
    RoomScene, 
    # QShowBase,
    QControl
):
    # todo: physics showbase
    def __init__(self, qt=True):
        QControl.__init__(self)
        RoomScene.__init__(self,25,25,25)
        # ControlShowBase.__init__(self)
        self.isQt = qt
        if self.isQt:
            self.startQt()

class ConsoleWidget:
    pass # set a console for it

class TextBuffer:
    # FIXME: use a queue instead
    # implement: write to a cache file
    # cached queue
    pass

class TextBrowserWidget:
    # browse a buffer
    pass

    
        
class Synchronizer(QTimer):

    def __init__(self, FPS=60):
        QTimer.__init__(self)
        dt = 1000 // FPS
        self.setInterval(int(round(dt)))
        self.timeout.connect(self.tick)
        self.showbase = [] # it should have only one member
        self.widgets = []

    def addWidget(self, widget):
        self.widgets.append(widget)

    def setShowBase(self,  showbase):
        assert hasattr(showbase, "taskMgr")
        self.showbase.append(showbase)

    def tick(self):
        # print(self.showbase)
        if len(self.showbase)>0:
            self.showbase[0].taskMgr.step()
            # self.showbsae.taskMgr.step()
        for widget in self.widgets:
            # print(widget.mapToGlobal(QPoint(0, 0)))
            widget.update()
        


class MainWindow(QMainWindow):
    def __init__(self, FPS=60):
        super().__init__()

        # central_widget = QTextEdit("Central Widget")
        # self.setCentralWidget(central_widget)
        self.FPS = FPS

        # Create three dock widgets
        self.dock_top_left = QDockWidget("Top Left Dock", self)
        self.dock_bottom_left = QDockWidget("Bottom Left Dock", self)
        self.dock_right = QDockWidget("Right Dock", self)

        
        # Add the docks to the main window
        self.addDockWidget(Qt.LeftDockWidgetArea, self.dock_top_left)
        self.addDockWidget(Qt.RightDockWidgetArea, self.dock_right)

        # Split the left dock area vertically (top and bottom)
        self.splitDockWidget(self.dock_top_left, self.dock_bottom_left, Qt.Vertical)

        # You can adjust the sizes of the docks
        self.resizeDocks([self.dock_top_left, self.dock_bottom_left], [200, 200], Qt.Vertical)

        self.setWindowTitle("Three Dock Layout")
        self.resize(800, 600)

        # self.panda3d = TestRoom()
        self.panda3d = None
        self.synchronizer = Synchronizer(self.FPS)
        loadPrcFileData("", "window-type offscreen")
        self.startGame()
        # TODO: destroy
        # Set widget content for the docks (could be any widget)
        # self.dock_top_left.setWidget(QTextEdit("Top Left Content"))
        self.dock_bottom_left.setWidget(QTextEdit("Bottom Left Content"))
        self.dock_right.setWidget(QTextEdit("Right Content"))
        
        # pdb.set_trace()

    def startGame(self):
        self.panda3d = TestRoom()
        self.synchronizer.setShowBase(self.panda3d)
        self.pandaWidget = QPanda3DWidget(
            self.panda3d, 
            synchronizer=self.synchronizer
        )
        print(self.panda3d.parent)
        self.synchronizer.addWidget(self.pandaWidget)
        self.dock_top_left.setWidget(self.pandaWidget)
        self.synchronizer.start()
        print(self.synchronizer.showbase)
        self.panda3d.enable_mouse()
        print(self.panda3d.win.getXSize(), self.panda3d.win.getYSize(),"panda win size")
        print(self.pandaWidget.width(), self.pandaWidget.height(), "qt win size")
        self.panda_mouse_watcher = self.panda3d.mouseWatcherNode # FIXME: let a widget watch this
        self.pandaWidget.setFocus()
        # self.panda3d.cam_sensitivity = 0.01
    
        
        

    

    

if __name__ == '__main__':
    app = QApplication(sys.argv)
    window = MainWindow()
    window.show()
    sys.exit(app.exec_())


640/800asdfasfasfadsafsad


800/600


from PyQt5.QtWidgets import QApplication, QWidget
from PyQt5.QtCore import QPoint
from PyQt5.QtGui import QCursor
import sys

class MyWidget(QWidget):
    def __init__(self):
        super().__init__()
        self.setGeometry(100, 100, 400, 300)  # Set the position and size of the widget
        self.setWindowTitle("Move Mouse Example")
    
    def moveMouse(self):
        # Get the global position of the widget (top-left corner)
        widget_pos = self.mapToGlobal(QPoint(0, 0))
        
        # Calculate the desired position within the widget (e.g., center)
        center_x = widget_pos.x() + self.width() // 2
        center_y = widget_pos.y() + self.height() // 2

        # Move the cursor to the center of the widget
        QCursor.setPos(center_x, center_y)

if __name__ == "__main__":
    app = QApplication(sys.argv)
    
    widget = MyWidget()
    widget.show()
    
    # Move mouse after showing the widget
    widget.moveMouse()
    
    sys.exit(app.exec_())






# todo: a logger
