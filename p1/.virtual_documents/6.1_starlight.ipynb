import numpy as np
import matplotlib.pyplot as plt
import matplotlib.colors as mcolors

def generate_nebula_image(width, height):
    # 生成模拟星云图像
    image = np.zeros((width, height, 3))
    
    # 模拟发射星云：红色区域
    rr, cc = np.ogrid[:width, :height]
    mask = (rr - width / 2) ** 2 + (cc - height / 2) ** 2 < (min(width, height) / 4) ** 2
    image[mask] = [1, 0.2, 0.2]  # 红色
    
    # 模拟反射星云：蓝色区域
    mask = (rr - width / 2) ** 2 + (cc - height / 2) ** 2 < (min(width, height) / 6) ** 2
    image[mask] = [0.2, 0.2, 1]  # 蓝色
    
    return image

# 生成图像
image = generate_nebula_image(512, 512)

# 绘制图像
plt.imshow(image)
plt.title('Simulated Nebula')
plt.axis('off')
plt.show()
plt.close()


import numpy as np
import matplotlib.pyplot as plt

def generate_nebula_shape():
    # 生成随机的星云形状
    width, height = 512, 512
    image = np.zeros((width, height, 3))

    # 发射星云（泡沫状）
    rr, cc = np.ogrid[:width, :height]
    mask = (rr - width / 2) ** 2 + (cc - height / 2) ** 2 < (min(width, height) / 4) ** 2
    image[mask] = [1, 0.5, 0.5]  # 红色发射

    # 反射星云（蓝色区域）
    mask = (rr - width / 2) ** 2 + (cc - height / 2) ** 2 < (min(width, height) / 6) ** 2
    image[mask] = [0.5, 0.5, 1]  # 蓝色反射

    # 添加随机分布的暗星云区域
    num_dark_spots = 10
    for _ in range(num_dark_spots):
        cx, cy = np.random.randint(0, width), np.random.randint(0, height)
        radius = np.random.randint(20, 50)
        rr, cc = np.ogrid[:width, :height]
        mask = (rr - cx) ** 2 + (cc - cy) ** 2 < radius ** 2
        image[mask] = [0, 0, 0]  # 黑色暗星云

    return image

# 生成图像
image = generate_nebula_shape()

# 绘制图像
plt.imshow(image)
plt.title('Simulated Nebula Shape')
plt.axis('off')
plt.show()



import numpy as np
import matplotlib.pyplot as plt
from scipy.ndimage import gaussian_filter

# 初始化星云区域
def initialize_nebula(size, center, radius):
    x, y = np.ogrid[:size, :size]
    mask = (x - center[0])**2 + (y - center[1])**2 < radius**2
    return mask.astype(float)

# 模拟气体扩散
def diffuse_gas(image, sigma):
    return gaussian_filter(image, sigma=sigma)

# 设置参数
size = 512
center = (size // 2, size // 2)
initial_radius = 50
diffusion_sigma = 10

# 初始化星云
nebula = initialize_nebula(size, center, initial_radius)

# 运行气体扩散模拟
diffused_nebula = diffuse_gas(nebula, diffusion_sigma)

# 绘制图像
plt.figure(figsize=(10, 5))
plt.subplot(1, 2, 1)
plt.title('Initial Nebula')
plt.imshow(nebula, cmap='inferno')
plt.axis('off')

plt.subplot(1, 2, 2)
plt.title('Diffused Nebula')
plt.imshow(diffused_nebula, cmap='inferno')
plt.axis('off')

plt.show()



import numpy as np
import matplotlib.pyplot as plt

class Noise:
    def __init__(self, octaves=1):
        self.p = np.random.randint(0, 256, 512, dtype=np.uint8)
        self.octaves = octaves

    def lerp(self, t, a, b):
        return a + t * (b - a)

    def grad2d(self, i, x, y):
        v = x if (i & 1) == 0 else y
        return -v if (i & 2) == 0 else v

    def noise2d(self, x2d, y2d):
        X = int(x2d) & 255
        Y = int(y2d) & 255
        x = x2d - int(x2d)
        y = y2d - int(y2d)
        fx = (3 - 2 * x) * x ** 2
        fy = (3 - 2 * y) * y ** 2
        p0 = self.p[X] + Y
        p1 = self.p[X + 1] + Y
        return self.lerp(
            fy,
            self.lerp(
                fx,
                self.grad2d(self.p[p0], x, y),
                self.grad2d(self.p[p1], x - 1, y)
            ),
            self.lerp(
                fx,
                self.grad2d(self.p[p0 + 1], x, y - 1),
                self.grad2d(self.p[p1 + 1], x - 1, y - 1)
            )
        )

    def noise(self, x, y):
        e = 1
        k = 1
        s = 0
        for i in range(self.octaves):
            e *= 0.5
            s += e * (1 + self.noise2d(k * x, k * y)) / 2
            k *= 2
        return s

def generate_curve(noise, num_curves=300):
    plt.figure(figsize=(10, 6))
    plt.axis('equal')
    plt.title('Perlin Noise Curve')

    for i in range(num_curves):
        j = np.arange(-101, 100)
        h = noise.noise(100 + j * 0.01, 100 + i * 0.01)
        plt.plot(j, 0.1 * i + h * 200 - 100, color='black', alpha=0.33)

    plt.show()

# Create a Noise instance
perlin = Noise(octaves=3)
generate_curve(perlin)




