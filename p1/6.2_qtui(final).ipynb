{
 "cells": [
  {
   "cell_type": "code",
   "execution_count": 1,
   "id": "129b3909-9e37-46e6-9ff8-ec2793c15ec3",
   "metadata": {},
   "outputs": [],
   "source": [
    "# create a qapp\n",
    "# create game window, left panel top\n",
    "# create debug window, left panel bot\n",
    "# create a panel, right\n",
    "\n",
    "import sys\n",
    "from PyQt5.QtWidgets import QApplication, QMainWindow, QDockWidget, QTextEdit\n",
    "from PyQt5.QtCore import Qt, QTimer, QPoint\n",
    "import filepath\n",
    "import pdb\n",
    "from panda3d.core import *\n",
    "# from panda3d.core import loadPrcFileData\n"
   ]
  },
  {
   "cell_type": "code",
   "execution_count": 2,
   "id": "e5baa9c3-679e-4e4a-a2c2-badc1d7dbcfc",
   "metadata": {},
   "outputs": [
    {
     "data": {
      "text/plain": [
       "PyQt5.QtCore.Qt.Key"
      ]
     },
     "execution_count": 2,
     "metadata": {},
     "output_type": "execute_result"
    }
   ],
   "source": [
    "\n",
    "type(Qt.Key_0)"
   ]
  },
  {
   "cell_type": "code",
   "execution_count": 3,
   "id": "ea8047aa-5f60-4f0d-a46e-83c41ffe1641",
   "metadata": {},
   "outputs": [],
   "source": [
    "from qpanda3d import QShowBase, QPanda3DWidget, QControl, Synchronizer\n",
    "# from QPanda3D.QPanda3DWidget import QPanda3DSynchronizer\n",
    "from demos.physics_room import RoomScene\n",
    "from panda3d_game.app import ControlShowBase, ContextShowBase"
   ]
  },
  {
   "cell_type": "code",
   "execution_count": 4,
   "id": "0e6ce9f4-95b0-4b3c-aa1b-60dad9746fee",
   "metadata": {},
   "outputs": [
    {
     "name": "stderr",
     "output_type": "stream",
     "text": [
      "Known pipe types:\n",
      "  glxGraphicsPipe\n",
      "(all display modules loaded.)\n",
      ":audio(error): Couldn't open default OpenAL device\n",
      ":audio(error): OpenALAudioManager: No open device or context\n",
      ":audio(error):   OpenALAudioManager is not valid, will use NullAudioManager\n",
      ":audio(error): Couldn't open default OpenAL device\n",
      ":audio(error): OpenALAudioManager: No open device or context\n",
      ":audio(error):   OpenALAudioManager is not valid, will use NullAudioManager\n",
      "/media/ywatcher/ExtDisk1/LDisk/Packages/game_env/env/lib/python3.11/site-packages/torch/functional.py:504: UserWarning: torch.meshgrid: in an upcoming release, it will be required to pass the indexing argument. (Triggered internally at /home/conda/feedstock_root/build_artifacts/libtorch_1711322746054/work/aten/src/ATen/native/TensorShape.cpp:3526.)\n",
      "  return _VF.meshgrid(tensors, **kwargs)  # type: ignore[attr-defined]\n"
     ]
    },
    {
     "name": "stdout",
     "output_type": "stream",
     "text": [
      "init ContextShowBase\n",
      "---set ref---:render,<class 'panda3d.core.NodePath'>\n"
     ]
    },
    {
     "ename": "SystemExit",
     "evalue": "0",
     "output_type": "error",
     "traceback": [
      "An exception has occurred, use %tb to see the full traceback.\n",
      "\u001b[0;31mSystemExit\u001b[0m\u001b[0;31m:\u001b[0m 0\n"
     ]
    },
    {
     "name": "stderr",
     "output_type": "stream",
     "text": [
      "/media/ywatcher/ExtDisk1/LDisk/Packages/game_env/env/lib/python3.11/site-packages/IPython/core/interactiveshell.py:3585: UserWarning: To exit: use 'exit', 'quit', or Ctrl-D.\n",
      "  warn(\"To exit: use 'exit', 'quit', or Ctrl-D.\", stacklevel=1)\n"
     ]
    }
   ],
   "source": [
    "class TestRoom(\n",
    "    # ControlShowBase, \n",
    "    RoomScene, \n",
    "    # QShowBase,\n",
    "    QControl\n",
    "):\n",
    "    # todo: physics showbase\n",
    "    def __init__(self, qt=True):\n",
    "        QControl.__init__(self)\n",
    "        RoomScene.__init__(self,25,25,25)\n",
    "        self.isQt = qt\n",
    "        if self.isQt:\n",
    "            self.startQt()\n",
    "\n",
    "\n",
    "class ConsoleWidget:\n",
    "    pass # set a console for it\n",
    "\n",
    "class TextBuffer:\n",
    "    # FIXME: use a queue instead\n",
    "    # implement: write to a cache file\n",
    "    # cached queue\n",
    "    pass\n",
    "\n",
    "class TextBrowserWidget:\n",
    "    # browse a buffer\n",
    "    pass\n",
    "\n",
    "\n",
    "\n",
    "class MainWindow(QMainWindow):\n",
    "    def __init__(self, FPS=60):\n",
    "        super().__init__()\n",
    "\n",
    "        # central_widget = QTextEdit(\"Central Widget\")\n",
    "        # self.setCentralWidget(central_widget)\n",
    "        self.FPS = FPS\n",
    "\n",
    "        # Create three dock widgets\n",
    "        self.dock_top_left = QDockWidget(\"Top Left Dock\", self)\n",
    "        self.dock_bottom_left = QDockWidget(\"Bottom Left Dock\", self)\n",
    "        self.dock_right = QDockWidget(\"Right Dock\", self)\n",
    "\n",
    "        \n",
    "        # Add the docks to the main window\n",
    "        self.addDockWidget(Qt.LeftDockWidgetArea, self.dock_top_left)\n",
    "        self.addDockWidget(Qt.RightDockWidgetArea, self.dock_right)\n",
    "\n",
    "        # Split the left dock area vertically (top and bottom)\n",
    "        self.splitDockWidget(self.dock_top_left, self.dock_bottom_left, Qt.Vertical)\n",
    "\n",
    "        # You can adjust the sizes of the docks\n",
    "        self.resizeDocks([self.dock_top_left, self.dock_bottom_left], [200, 200], Qt.Vertical)\n",
    "\n",
    "        self.setWindowTitle(\"Three Dock Layout\")\n",
    "        self.resize(800, 600)\n",
    "\n",
    "        # self.panda3d = TestRoom()\n",
    "        self.panda3d = None\n",
    "        self.synchronizer = Synchronizer(self.FPS)\n",
    "        loadPrcFileData(\"\", \"window-type offscreen\")\n",
    "        self.startGame()\n",
    "        # TODO: destroy\n",
    "        # Set widget content for the docks (could be any widget)\n",
    "        # self.dock_top_left.setWidget(QTextEdit(\"Top Left Content\"))\n",
    "        self.dock_bottom_left.setWidget(QTextEdit(\"Bottom Left Content\"))\n",
    "        self.dock_right.setWidget(QTextEdit(\"Right Content\"))\n",
    "        # ToDO; set loggers\n",
    "        \n",
    "        # pdb.set_trace()\n",
    "\n",
    "    def startGame(self):\n",
    "        self.panda3d = TestRoom()\n",
    "        self.synchronizer.setShowBase(self.panda3d)\n",
    "        self.pandaWidget = QPanda3DWidget(\n",
    "            self.panda3d, \n",
    "            synchronizer=self.synchronizer\n",
    "        )\n",
    "        # TODO: log, std\n",
    "        # print(self.panda3d.parent)\n",
    "        self.synchronizer.addWidget(self.pandaWidget)\n",
    "        self.dock_top_left.setWidget(self.pandaWidget)\n",
    "        self.synchronizer.start()\n",
    "        # print(self.synchronizer.showbase)\n",
    "        # self.panda3d.enable_mouse()\n",
    "        # print(self.panda3d.win.getXSize(), self.panda3d.win.getYSize(),\"panda win size\")\n",
    "        # print(self.pandaWidget.width(), self.pandaWidget.height(), \"qt win size\")\n",
    "        self.panda_mouse_watcher = self.panda3d.mouseWatcherNode # FIXME: let a widget watch this\n",
    "        self.pandaWidget.setFocus()\n",
    "        # self.panda3d.cam_sensitivity = 0.01\n",
    "\n",
    "    # todo: remove a widget\n",
    "\n",
    "    \n",
    "\n",
    "if __name__ == '__main__':\n",
    "    app = QApplication(sys.argv)\n",
    "    window = MainWindow()\n",
    "    window.show()\n",
    "    sys.exit(app.exec_())"
   ]
  },
  {
   "cell_type": "markdown",
   "id": "49c3866b-e342-4329-8537-1bb9eb00bb0f",
   "metadata": {},
   "source": [
    " issue\n",
    "since we are using Qt as gui and disabled direct window of panda3d by `loadPrcFileData(\"\", \"window-type offscreen\")`, `your_showbase.win` is no longer a panda3d window but a graphics buffer and does not have `getPointer()` nor `movePointer` anymore. There is alternative way to get x and y of the mouse:\n",
    "```py\n",
    "x,y = tuple(self.mouseWatcherNode.getMouse())\n",
    "```\n",
    "note that the scale of window size can be different in Qt and in panda3D, so when you "
   ]
  },
  {
   "cell_type": "code",
   "execution_count": null,
   "id": "9a40063f-4d71-47fe-bea4-a8019effa15d",
   "metadata": {},
   "outputs": [],
   "source": [
    "# todo: a logger"
   ]
  },
  {
   "cell_type": "code",
   "execution_count": null,
   "id": "5c884bd8-ebb9-4931-af47-771e88414480",
   "metadata": {},
   "outputs": [],
   "source": []
  }
 ],
 "metadata": {
  "kernelspec": {
   "display_name": "game",
   "language": "python",
   "name": "game"
  },
  "language_info": {
   "codemirror_mode": {
    "name": "ipython",
    "version": 3
   },
   "file_extension": ".py",
   "mimetype": "text/x-python",
   "name": "python",
   "nbconvert_exporter": "python",
   "pygments_lexer": "ipython3",
   "version": "3.11.9"
  }
 },
 "nbformat": 4,
 "nbformat_minor": 5
}
