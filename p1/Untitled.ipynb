{
 "cells": [
  {
   "cell_type": "code",
   "execution_count": 1,
   "id": "3e6d46c0-20d0-47bf-b141-b5ecc16e7ea5",
   "metadata": {},
   "outputs": [],
   "source": [
    "import torch\n",
    "from torch import Tensor\n",
    "from torch.nn import functional as F"
   ]
  },
  {
   "cell_type": "code",
   "execution_count": 2,
   "id": "973166b0-79dc-4578-b479-b1e963bbfa71",
   "metadata": {},
   "outputs": [],
   "source": [
    "torch.set_printoptions(precision=16, sci_mode=False)"
   ]
  },
  {
   "cell_type": "code",
   "execution_count": 11,
   "id": "32008891-14ec-4889-9751-aa1734321ae9",
   "metadata": {},
   "outputs": [],
   "source": [
    "G_game = 0.001\n",
    "G_game_tensor = torch.Tensor([G_game])"
   ]
  },
  {
   "cell_type": "code",
   "execution_count": 12,
   "id": "4d16cdc6-76ae-4eca-b4c7-871c6915f578",
   "metadata": {},
   "outputs": [],
   "source": [
    "import filepath\n",
    "from util.math import one,safe_reciprocal"
   ]
  },
  {
   "cell_type": "code",
   "execution_count": 14,
   "id": "50ae2e00-0db0-4aaf-a8bb-65e79d3c21c4",
   "metadata": {},
   "outputs": [],
   "source": [
    "dist_sq_rcpr = Tensor([[0.0000, 0.0124],\n",
    "        [0.0124, 0.0000]])\n",
    "mass = Tensor([1000000., 1000000.])"
   ]
  },
  {
   "cell_type": "code",
   "execution_count": 3,
   "id": "fbd1152c-e68a-49c3-afa8-00911aef4b46",
   "metadata": {},
   "outputs": [
    {
     "data": {
      "text/plain": [
       "(tensor(8.7413158416748047), tensor(8.7413091659545898))"
      ]
     },
     "execution_count": 3,
     "metadata": {},
     "output_type": "execute_result"
    }
   ],
   "source": [
    "d1 = torch.Tensor([8.7252, 0.530555])\n",
    "d2 = torch.Tensor([-8.72161, -0.586524])\n",
    "torch.norm(d1), torch.norm(d2)"
   ]
  },
  {
   "cell_type": "code",
   "execution_count": 6,
   "id": "18880093-0236-4b86-be8f-3de6be3e27ed",
   "metadata": {},
   "outputs": [
    {
     "data": {
      "text/plain": [
       "tensor([[0.0000, 0.0124],\n",
       "        [0.0124, 0.0000]])"
      ]
     },
     "execution_count": 6,
     "metadata": {},
     "output_type": "execute_result"
    }
   ],
   "source": [
    "dist_sq_rcpr"
   ]
  },
  {
   "cell_type": "code",
   "execution_count": 15,
   "id": "03e261c5-09ca-4afd-88db-f41ce23a0dd5",
   "metadata": {},
   "outputs": [],
   "source": [
    "gravity_scalar = torch.einsum(\n",
    "            \"o, n, mn, m -> mn\",\n",
    "            G_game_tensor,\n",
    "            mass, dist_sq_rcpr, mass\n",
    "        )"
   ]
  },
  {
   "cell_type": "code",
   "execution_count": 16,
   "id": "b8b94da0-ac2e-43b5-838e-f56450fd7596",
   "metadata": {},
   "outputs": [
    {
     "data": {
      "text/plain": [
       "tensor([[       0., 12400002.],\n",
       "        [12400002.,        0.]])"
      ]
     },
     "execution_count": 16,
     "metadata": {},
     "output_type": "execute_result"
    }
   ],
   "source": [
    "gravity_scalar"
   ]
  },
  {
   "cell_type": "code",
   "execution_count": 17,
   "id": "acb8830c-e6d2-4b25-b4e1-cf260afbf427",
   "metadata": {},
   "outputs": [
    {
     "data": {
      "text/plain": [
       "0.01238834169638393"
      ]
     },
     "execution_count": 17,
     "metadata": {},
     "output_type": "execute_result"
    }
   ],
   "source": [
    "1/80.7210540771484375"
   ]
  },
  {
   "cell_type": "code",
   "execution_count": 22,
   "id": "310ed98b-e4c1-4459-9118-6f9e8a67d7f3",
   "metadata": {},
   "outputs": [
    {
     "data": {
      "text/plain": [
       "tensor([0.0123883420601487])"
      ]
     },
     "execution_count": 22,
     "metadata": {},
     "output_type": "execute_result"
    }
   ],
   "source": [
    "torch.reciprocal(Tensor([80.7210540771484375]))"
   ]
  },
  {
   "cell_type": "code",
   "execution_count": null,
   "id": "bf9f70b0-6fc4-4483-8737-8fa2b9684325",
   "metadata": {},
   "outputs": [],
   "source": []
  }
 ],
 "metadata": {
  "kernelspec": {
   "display_name": "game",
   "language": "python",
   "name": "game"
  },
  "language_info": {
   "codemirror_mode": {
    "name": "ipython",
    "version": 3
   },
   "file_extension": ".py",
   "mimetype": "text/x-python",
   "name": "python",
   "nbconvert_exporter": "python",
   "pygments_lexer": "ipython3",
   "version": "3.11.9"
  }
 },
 "nbformat": 4,
 "nbformat_minor": 5
}
