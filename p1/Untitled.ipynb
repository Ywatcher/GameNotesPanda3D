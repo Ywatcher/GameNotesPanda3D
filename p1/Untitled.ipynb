{
 "cells": [
  {
   "cell_type": "code",
   "execution_count": 1,
   "id": "ac693163-f222-4fd0-8177-c6e86d04bcb6",
   "metadata": {},
   "outputs": [],
   "source": [
    "import panda3d\n",
    "from direct.showbase.ShowBase import ShowBase"
   ]
  },
  {
   "cell_type": "code",
   "execution_count": 1,
   "id": "3bfaeece-0dd8-4e5b-8c0b-a9421bd1640b",
   "metadata": {},
   "outputs": [],
   "source": [
    "\n",
    "\n",
    "# class App1(ShowBase):\n",
    "    \n",
    "#     def __init__(self):\n",
    "#         ShowBase.__init__(self)\n",
    "        \n",
    "# app = App1()\n",
    "# app.run()\n",
    "# del app"
   ]
  },
  {
   "cell_type": "code",
   "execution_count": 2,
   "id": "eb1c164b-a47c-429d-a08f-614a3cd653c0",
   "metadata": {},
   "outputs": [
    {
     "name": "stderr",
     "output_type": "stream",
     "text": [
      "Known pipe types:\n",
      "  glxGraphicsPipe\n",
      "(1 aux display modules not yet loaded.)\n"
     ]
    }
   ],
   "source": [
    "class MyApp(ShowBase):\n",
    "\n",
    "\n",
    "    def __init__(self):\n",
    "\n",
    "        ShowBase.__init__(self)\n",
    "\n",
    "\n",
    "        # Load the environment model.\n",
    "\n",
    "        self.scene = self.loader.loadModel(\"models/environment\")\n",
    "\n",
    "        # Reparent the model to render.\n",
    "\n",
    "        self.scene.reparentTo(self.render)\n",
    "\n",
    "        # Apply scale and position transforms on the model.\n",
    "\n",
    "        self.scene.setScale(0.25, 0.25, 0.25)\n",
    "\n",
    "        self.scene.setPos(-8, 42, 0)\n",
    "        \n",
    "\n",
    "app = MyApp()\n",
    "# app.run()\n"
   ]
  },
  {
   "cell_type": "code",
   "execution_count": 6,
   "id": "0a146155-e1be-41a2-81d7-61d5159d9425",
   "metadata": {},
   "outputs": [],
   "source": [
    "n = app.buttonThrowers[0].node()"
   ]
  },
  {
   "cell_type": "code",
   "execution_count": null,
   "id": "170e6bf3-4a2c-468d-8a7c-0e5ccc23e076",
   "metadata": {},
   "outputs": [],
   "source": [
    "n.setButtonRepeatEvent"
   ]
  },
  {
   "cell_type": "code",
   "execution_count": 2,
   "id": "96047703-11f6-4f31-97c0-c0ee16365629",
   "metadata": {},
   "outputs": [],
   "source": [
    "import sys\n",
    "import time\n",
    "\n",
    "\n",
    "from ursina import input_handler\n",
    "from ursina.input_handler import held_keys\n",
    "\n",
    "from direct.task import Task\n",
    "from direct.showbase.ShowBaseGlobal import globalClock\n",
    "\n",
    "\n",
    "# from panda3d.core import \n",
    "\n",
    "class InputSupport:\n",
    "    \n",
    "    def __init__(self, app:ShowBase):\n",
    "        \n",
    "        # copy from     ursina/ursina/main.py\n",
    "        self.app = app \n",
    "        self.app.pewied = False # what \n",
    "        \n",
    "        # input\n",
    "        self.app.buttonThrowers[0].node().setButtonDownEvent(\"ButtonDown\") \n",
    "        self.app.buttonThrowers[0].node().setButtonRepeatEvent(\"ButtonRepeat\") \n",
    "        self.app.buttonThrowers[0].node().setButtonUpEvent(\"ButtonUp\") \n",
    "        self.app.buttonThrowers[0].node().setKeystrokeEvent(\"keystroke\")\n",
    "        self._Input_name_changes = []\n",
    "        \n",
    "        for e in keyboard_keys:\n",
    "            self.app.accept(f\"raw-{e}\", self.input, [e,True])\n",
    "            self.app.accept(f\"raw-{e}-up\", self.input_up, [e,True])\n",
    "            self.app.accept(f\"raw-{e}-repeat\", self.input_hold, [e,True])# FIXME\n",
    "        \n",
    "        self.app.accept(\"buttonDown\", self.input)\n",
    "        # buttonUp, input_up\n",
    "        # buttonHold, input_Hold\n",
    "        # keystroke, text_input\n",
    "            \n",
    "        \n",
    "        # Button up\n",
    "        # Repeat\n",
    "        \n",
    "        \n",
    "        \n",
    "\n",
    "\n",
    "\n",
    "\n",
    "ursina_2_panda3d = {} # key name from ursina to panda3d\n",
    "\n",
    "class Demo(ShowBase):\n",
    "    def __init__(self):\n",
    "        super().__init__(self)\n",
    "        # TODO: read doc\n",
    "        # about add, accept\n",
    "        # and roles of the name string \n",
    "        self.taskMgr.add(self.timer_task, \"timer_task\") \n",
    "        self.accept(\"escape\", self.escape)\n",
    "        \n",
    "    def timer_task(self, task):\n",
    "        \n",
    "        \n",
    "        \n",
    "        \n",
    "        # TODO: annotation, type of task\n",
    "        # TODO: read doc of input_handler\n",
    "        # does it have instances?\n",
    "        for key, value in input_handler.held_keys.items():\n",
    "            if value != 0:\n",
    "                print(key)\n",
    "                \n",
    "        return Task.cont # TODO: what is this\n",
    "    \n",
    "    def remove_all_task(self):\n",
    "        self.taskMgr.remove_all_task(\"timer_task\")\n",
    "        \n",
    "    def escape(self):\n",
    "        # TODO: log tools \n",
    "        # log or not depend on configurations\n",
    "        print(\"...Demo Method: escape...\")\n",
    "        print(\"remove task in demo\")\n",
    "        self.remove_all_task()\n",
    "        # TODO: wrap these strings\n",
    "        print(\"ShowBase.destroy()\")\n",
    "        self.destroy()\n",
    "        print(\"demo destroyed\")\n",
    "        sys.exit(0)\n",
    "    \n"
   ]
  },
  {
   "cell_type": "code",
   "execution_count": 5,
   "id": "255b0464-ffa3-4aad-b43d-3906e0d0bfaa",
   "metadata": {},
   "outputs": [],
   "source": [
    "del demo"
   ]
  },
  {
   "cell_type": "code",
   "execution_count": 6,
   "id": "6aa6b006-7a90-40bd-bee9-86dff324c25c",
   "metadata": {},
   "outputs": [
    {
     "name": "stderr",
     "output_type": "stream",
     "text": [
      "Known pipe types:\n",
      "  glxGraphicsPipe\n",
      "(1 aux display modules not yet loaded.)\n"
     ]
    },
    {
     "ename": "Exception",
     "evalue": "Attempt to spawn multiple ShowBase instances!",
     "output_type": "error",
     "traceback": [
      "\u001b[0;31m---------------------------------------------------------------------------\u001b[0m",
      "\u001b[0;31mException\u001b[0m                                 Traceback (most recent call last)",
      "Cell \u001b[0;32mIn[6], line 1\u001b[0m\n\u001b[0;32m----> 1\u001b[0m demo \u001b[38;5;241m=\u001b[39m \u001b[43mDemo\u001b[49m\u001b[43m(\u001b[49m\u001b[43m)\u001b[49m\n",
      "Cell \u001b[0;32mIn[2], line 8\u001b[0m, in \u001b[0;36mDemo.__init__\u001b[0;34m(self)\u001b[0m\n\u001b[1;32m      7\u001b[0m \u001b[38;5;28;01mdef\u001b[39;00m \u001b[38;5;21m__init__\u001b[39m(\u001b[38;5;28mself\u001b[39m):\n\u001b[0;32m----> 8\u001b[0m     \u001b[38;5;28;43msuper\u001b[39;49m\u001b[43m(\u001b[49m\u001b[43m)\u001b[49m\u001b[38;5;241;43m.\u001b[39;49m\u001b[38;5;21;43m__init__\u001b[39;49m\u001b[43m(\u001b[49m\u001b[38;5;28;43mself\u001b[39;49m\u001b[43m)\u001b[49m\n\u001b[1;32m      9\u001b[0m     \u001b[38;5;66;03m# TODO: read doc\u001b[39;00m\n\u001b[1;32m     10\u001b[0m     \u001b[38;5;66;03m# about add, accept\u001b[39;00m\n\u001b[1;32m     11\u001b[0m     \u001b[38;5;66;03m# and roles of the name string \u001b[39;00m\n\u001b[1;32m     12\u001b[0m     \u001b[38;5;28mself\u001b[39m\u001b[38;5;241m.\u001b[39mtaskMgr\u001b[38;5;241m.\u001b[39madd(\u001b[38;5;28mself\u001b[39m\u001b[38;5;241m.\u001b[39mtimer_task, \u001b[38;5;124m\"\u001b[39m\u001b[38;5;124mtimer_task\u001b[39m\u001b[38;5;124m\"\u001b[39m) \n",
      "File \u001b[0;32m~/anaconda3/envs/blender/lib/python3.10/site-packages/direct/showbase/ShowBase.py:429\u001b[0m, in \u001b[0;36mShowBase.__init__\u001b[0;34m(self, fStartDirect, windowType)\u001b[0m\n\u001b[1;32m    427\u001b[0m \u001b[38;5;66;03m# Make sure we're not making more than one ShowBase.\u001b[39;00m\n\u001b[1;32m    428\u001b[0m \u001b[38;5;28;01mif\u001b[39;00m \u001b[38;5;28mhasattr\u001b[39m(builtins, \u001b[38;5;124m'\u001b[39m\u001b[38;5;124mbase\u001b[39m\u001b[38;5;124m'\u001b[39m):\n\u001b[0;32m--> 429\u001b[0m     \u001b[38;5;28;01mraise\u001b[39;00m \u001b[38;5;167;01mException\u001b[39;00m(\u001b[38;5;124m\"\u001b[39m\u001b[38;5;124mAttempt to spawn multiple ShowBase instances!\u001b[39m\u001b[38;5;124m\"\u001b[39m)\n\u001b[1;32m    431\u001b[0m \u001b[38;5;66;03m# DO NOT ADD TO THIS LIST.  We're trying to phase out the use of\u001b[39;00m\n\u001b[1;32m    432\u001b[0m \u001b[38;5;66;03m# built-in variables by ShowBase.  Use a Global module if necessary.\u001b[39;00m\n\u001b[1;32m    433\u001b[0m builtins\u001b[38;5;241m.\u001b[39mbase \u001b[38;5;241m=\u001b[39m \u001b[38;5;28mself\u001b[39m\n",
      "\u001b[0;31mException\u001b[0m: Attempt to spawn multiple ShowBase instances!"
     ]
    }
   ],
   "source": [
    "demo = Demo()"
   ]
  },
  {
   "cell_type": "code",
   "execution_count": 1,
   "id": "9cad217c-e278-4321-a227-af0cb0b19a25",
   "metadata": {},
   "outputs": [
    {
     "ename": "NameError",
     "evalue": "name 'demo' is not defined",
     "output_type": "error",
     "traceback": [
      "\u001b[0;31m---------------------------------------------------------------------------\u001b[0m",
      "\u001b[0;31mNameError\u001b[0m                                 Traceback (most recent call last)",
      "Cell \u001b[0;32mIn[1], line 1\u001b[0m\n\u001b[0;32m----> 1\u001b[0m \u001b[43mdemo\u001b[49m\u001b[38;5;241m.\u001b[39m\u001b[38;5;18m__dict__\u001b[39m()\n",
      "\u001b[0;31mNameError\u001b[0m: name 'demo' is not defined"
     ]
    }
   ],
   "source": [
    "demo.__dict__()"
   ]
  },
  {
   "cell_type": "code",
   "execution_count": null,
   "id": "2f4cd108-fc94-4210-b876-51c79c7d538e",
   "metadata": {},
   "outputs": [],
   "source": []
  }
 ],
 "metadata": {
  "kernelspec": {
   "display_name": "blender",
   "language": "python",
   "name": "blender"
  },
  "language_info": {
   "codemirror_mode": {
    "name": "ipython",
    "version": 3
   },
   "file_extension": ".py",
   "mimetype": "text/x-python",
   "name": "python",
   "nbconvert_exporter": "python",
   "pygments_lexer": "ipython3",
   "version": "3.10.6"
  }
 },
 "nbformat": 4,
 "nbformat_minor": 5
}
