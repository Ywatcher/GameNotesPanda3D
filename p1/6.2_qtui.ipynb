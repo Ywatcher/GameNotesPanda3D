{
 "cells": [
  {
   "cell_type": "code",
   "execution_count": 1,
   "id": "129b3909-9e37-46e6-9ff8-ec2793c15ec3",
   "metadata": {},
   "outputs": [],
   "source": [
    "# create a qapp\n",
    "# create game window, left panel top\n",
    "# create debug window, left panel bot\n",
    "# create a panel, right\n",
    "\n",
    "import sys\n",
    "from PyQt5.QtWidgets import QApplication, QMainWindow, QDockWidget, QTextEdit\n",
    "from PyQt5.QtCore import Qt, QTimer\n",
    "import filepath\n",
    "import pdb\n",
    "from panda3d.core import *\n",
    "# from panda3d.core import loadPrcFileData"
   ]
  },
  {
   "cell_type": "code",
   "execution_count": 2,
   "id": "ea8047aa-5f60-4f0d-a46e-83c41ffe1641",
   "metadata": {},
   "outputs": [],
   "source": [
    "from qpanda3d import QShowBase, QPanda3DWidget\n",
    "from QPanda3D.QPanda3DWidget import QPanda3DSynchronizer\n",
    "from demos.physics_room import RoomScene\n",
    "from panda3d_game.app import ControlShowBase, ContextShowBase"
   ]
  },
  {
   "cell_type": "code",
   "execution_count": 3,
   "id": "0c157e95-54f9-4b7d-9265-4d899673fafc",
   "metadata": {},
   "outputs": [],
   "source": [
    "# todo:\n",
    "# mouse and other input control"
   ]
  },
  {
   "cell_type": "code",
   "execution_count": 4,
   "id": "0e6ce9f4-95b0-4b3c-aa1b-60dad9746fee",
   "metadata": {},
   "outputs": [
    {
     "name": "stderr",
     "output_type": "stream",
     "text": [
      "Known pipe types:\n",
      "  glxGraphicsPipe\n",
      "(all display modules loaded.)\n",
      ":audio(error): Couldn't open default OpenAL device\n",
      ":audio(error): OpenALAudioManager: No open device or context\n",
      ":audio(error):   OpenALAudioManager is not valid, will use NullAudioManager\n",
      ":audio(error): Couldn't open default OpenAL device\n",
      ":audio(error): OpenALAudioManager: No open device or context\n",
      ":audio(error):   OpenALAudioManager is not valid, will use NullAudioManager\n"
     ]
    },
    {
     "name": "stdout",
     "output_type": "stream",
     "text": [
      "init ContextShowBase\n",
      "---set ref---:render,<class 'panda3d.core.NodePath'>\n"
     ]
    },
    {
     "ename": "TypeError",
     "evalue": "'NoneType' object is not subscriptable",
     "output_type": "error",
     "traceback": [
      "\u001b[0;31m---------------------------------------------------------------------------\u001b[0m",
      "\u001b[0;31mTypeError\u001b[0m                                 Traceback (most recent call last)",
      "Cell \u001b[0;32mIn[4], line 99\u001b[0m\n\u001b[1;32m     97\u001b[0m \u001b[38;5;28;01mif\u001b[39;00m \u001b[38;5;18m__name__\u001b[39m \u001b[38;5;241m==\u001b[39m \u001b[38;5;124m'\u001b[39m\u001b[38;5;124m__main__\u001b[39m\u001b[38;5;124m'\u001b[39m:\n\u001b[1;32m     98\u001b[0m     app \u001b[38;5;241m=\u001b[39m QApplication(sys\u001b[38;5;241m.\u001b[39margv)\n\u001b[0;32m---> 99\u001b[0m     window \u001b[38;5;241m=\u001b[39m \u001b[43mMainWindow\u001b[49m\u001b[43m(\u001b[49m\u001b[43m)\u001b[49m\n\u001b[1;32m    100\u001b[0m     window\u001b[38;5;241m.\u001b[39mshow()\n\u001b[1;32m    101\u001b[0m     sys\u001b[38;5;241m.\u001b[39mexit(app\u001b[38;5;241m.\u001b[39mexec_())\n",
      "Cell \u001b[0;32mIn[4], line 69\u001b[0m, in \u001b[0;36mMainWindow.__init__\u001b[0;34m(self, FPS)\u001b[0m\n\u001b[1;32m     67\u001b[0m \u001b[38;5;28mself\u001b[39m\u001b[38;5;241m.\u001b[39msynchronizer \u001b[38;5;241m=\u001b[39m Synchronizer(\u001b[38;5;28mself\u001b[39m\u001b[38;5;241m.\u001b[39mFPS)\n\u001b[1;32m     68\u001b[0m loadPrcFileData(\u001b[38;5;124m\"\u001b[39m\u001b[38;5;124m\"\u001b[39m, \u001b[38;5;124m\"\u001b[39m\u001b[38;5;124mwindow-type offscreen\u001b[39m\u001b[38;5;124m\"\u001b[39m)\n\u001b[0;32m---> 69\u001b[0m \u001b[38;5;28;43mself\u001b[39;49m\u001b[38;5;241;43m.\u001b[39;49m\u001b[43mstartGame\u001b[49m\u001b[43m(\u001b[49m\u001b[43m)\u001b[49m\n\u001b[1;32m     70\u001b[0m \u001b[38;5;66;03m# TODO: destroy\u001b[39;00m\n\u001b[1;32m     71\u001b[0m \u001b[38;5;66;03m# Set widget content for the docks (could be any widget)\u001b[39;00m\n\u001b[1;32m     72\u001b[0m \u001b[38;5;66;03m# self.dock_top_left.setWidget(QTextEdit(\"Top Left Content\"))\u001b[39;00m\n\u001b[1;32m     73\u001b[0m \u001b[38;5;28mself\u001b[39m\u001b[38;5;241m.\u001b[39mdock_bottom_left\u001b[38;5;241m.\u001b[39msetWidget(QTextEdit(\u001b[38;5;124m\"\u001b[39m\u001b[38;5;124mBottom Left Content\u001b[39m\u001b[38;5;124m\"\u001b[39m))\n",
      "Cell \u001b[0;32mIn[4], line 78\u001b[0m, in \u001b[0;36mMainWindow.startGame\u001b[0;34m(self)\u001b[0m\n\u001b[1;32m     77\u001b[0m \u001b[38;5;28;01mdef\u001b[39;00m \u001b[38;5;21mstartGame\u001b[39m(\u001b[38;5;28mself\u001b[39m):\n\u001b[0;32m---> 78\u001b[0m     \u001b[38;5;28mself\u001b[39m\u001b[38;5;241m.\u001b[39mpanda3d \u001b[38;5;241m=\u001b[39m \u001b[43mTestRoom\u001b[49m\u001b[43m(\u001b[49m\u001b[43m)\u001b[49m\n\u001b[1;32m     79\u001b[0m     \u001b[38;5;28mself\u001b[39m\u001b[38;5;241m.\u001b[39msynchronizer\u001b[38;5;241m.\u001b[39msetShowBase(\u001b[38;5;28mself\u001b[39m\u001b[38;5;241m.\u001b[39mpanda3d)\n\u001b[1;32m     80\u001b[0m     \u001b[38;5;28mself\u001b[39m\u001b[38;5;241m.\u001b[39mpandaWidget \u001b[38;5;241m=\u001b[39m QPanda3DWidget(\n\u001b[1;32m     81\u001b[0m         \u001b[38;5;28mself\u001b[39m\u001b[38;5;241m.\u001b[39mpanda3d, \n\u001b[1;32m     82\u001b[0m         synchronizer\u001b[38;5;241m=\u001b[39m\u001b[38;5;28mself\u001b[39m\u001b[38;5;241m.\u001b[39msynchronizer\n\u001b[1;32m     83\u001b[0m     )\n",
      "Cell \u001b[0;32mIn[4], line 6\u001b[0m, in \u001b[0;36mTestRoom.__init__\u001b[0;34m(self, qt)\u001b[0m\n\u001b[1;32m      4\u001b[0m QShowBase\u001b[38;5;241m.\u001b[39m\u001b[38;5;21m__init__\u001b[39m(\u001b[38;5;28mself\u001b[39m)\n\u001b[1;32m      5\u001b[0m RoomScene\u001b[38;5;241m.\u001b[39m\u001b[38;5;21m__init__\u001b[39m(\u001b[38;5;28mself\u001b[39m,\u001b[38;5;241m25\u001b[39m,\u001b[38;5;241m25\u001b[39m,\u001b[38;5;241m25\u001b[39m)\n\u001b[0;32m----> 6\u001b[0m \u001b[43mControlShowBase\u001b[49m\u001b[38;5;241;43m.\u001b[39;49m\u001b[38;5;21;43m__init__\u001b[39;49m\u001b[43m(\u001b[49m\u001b[38;5;28;43mself\u001b[39;49m\u001b[43m)\u001b[49m\n\u001b[1;32m      7\u001b[0m \u001b[38;5;28mself\u001b[39m\u001b[38;5;241m.\u001b[39misQt \u001b[38;5;241m=\u001b[39m qt\n\u001b[1;32m      8\u001b[0m \u001b[38;5;28;01mif\u001b[39;00m \u001b[38;5;28mself\u001b[39m\u001b[38;5;241m.\u001b[39misQt:\n",
      "File \u001b[0;32m/media/ywatcher/ExtDisk1/Files/Games/learn_panda3d/p1/py_src/panda3d_game/app/app_.py:107\u001b[0m, in \u001b[0;36mControlShowBase.__init__\u001b[0;34m(self)\u001b[0m\n\u001b[1;32m    105\u001b[0m \u001b[38;5;28mself\u001b[39m\u001b[38;5;241m.\u001b[39mcam_controller\u001b[38;5;241m.\u001b[39msetRef(\u001b[38;5;28mself\u001b[39m\u001b[38;5;241m.\u001b[39mrdr_scene)  \u001b[38;5;66;03m# FIXME: autoset\u001b[39;00m\n\u001b[1;32m    106\u001b[0m \u001b[38;5;66;03m# control ------------\u001b[39;00m\n\u001b[0;32m--> 107\u001b[0m \u001b[38;5;28;43mself\u001b[39;49m\u001b[38;5;241;43m.\u001b[39;49m\u001b[43mbuttonThrowers\u001b[49m\u001b[43m[\u001b[49m\u001b[38;5;241;43m0\u001b[39;49m\u001b[43m]\u001b[49m\u001b[38;5;241m.\u001b[39mnode()\u001b[38;5;241m.\u001b[39msetButtonDownEvent(\u001b[38;5;124m'\u001b[39m\u001b[38;5;124mbutton\u001b[39m\u001b[38;5;124m'\u001b[39m)\n\u001b[1;32m    108\u001b[0m \u001b[38;5;28mself\u001b[39m\u001b[38;5;241m.\u001b[39mbuttonThrowers[\u001b[38;5;241m0\u001b[39m]\u001b[38;5;241m.\u001b[39mnode()\u001b[38;5;241m.\u001b[39msetButtonUpEvent(\u001b[38;5;124m'\u001b[39m\u001b[38;5;124mbutton-up\u001b[39m\u001b[38;5;124m'\u001b[39m)\n\u001b[1;32m    109\u001b[0m \u001b[38;5;66;03m# self.accept(\"space\", lambda: print(self.camera.get_pos()))\u001b[39;00m\n",
      "\u001b[0;31mTypeError\u001b[0m: 'NoneType' object is not subscriptable"
     ]
    }
   ],
   "source": [
    "class TestRoom(ControlShowBase, RoomScene, QShowBase):\n",
    "    # todo: physics showbase\n",
    "    def __init__(self, qt=True):\n",
    "        QShowBase.__init__(self)\n",
    "        RoomScene.__init__(self,25,25,25)\n",
    "        ControlShowBase.__init__(self)\n",
    "        self.isQt = qt\n",
    "        if self.isQt:\n",
    "            self.startQt()\n",
    "        \n",
    "class Synchronizer(QTimer):\n",
    "\n",
    "    def __init__(self, FPS=60):\n",
    "        QTimer.__init__(self)\n",
    "        dt = 1000 // FPS\n",
    "        self.setInterval(int(round(dt)))\n",
    "        self.timeout.connect(self.tick)\n",
    "        self.showbase = []\n",
    "        self.widgets = []\n",
    "\n",
    "    def addWidget(self, widget):\n",
    "        self.widgets.append(widget)\n",
    "\n",
    "    def setShowBase(self,  showbase):\n",
    "        assert hasattr(showbase, \"taskMgr\")\n",
    "        self.showbase.append(showbase)\n",
    "\n",
    "    def tick(self):\n",
    "        # print(self.showbase)\n",
    "        if len(self.showbase)>0:\n",
    "            self.showbase[0].taskMgr.step()\n",
    "            # self.showbsae.taskMgr.step()\n",
    "        for widget in self.widgets:\n",
    "            widget.update()\n",
    "        \n",
    "\n",
    "\n",
    "class MainWindow(QMainWindow):\n",
    "    def __init__(self, FPS=60):\n",
    "        super().__init__()\n",
    "\n",
    "        # central_widget = QTextEdit(\"Central Widget\")\n",
    "        # self.setCentralWidget(central_widget)\n",
    "        self.FPS = FPS\n",
    "\n",
    "        # Create three dock widgets\n",
    "        self.dock_top_left = QDockWidget(\"Top Left Dock\", self)\n",
    "        self.dock_bottom_left = QDockWidget(\"Bottom Left Dock\", self)\n",
    "        self.dock_right = QDockWidget(\"Right Dock\", self)\n",
    "\n",
    "        \n",
    "        # Add the docks to the main window\n",
    "        self.addDockWidget(Qt.LeftDockWidgetArea, self.dock_top_left)\n",
    "        self.addDockWidget(Qt.RightDockWidgetArea, self.dock_right)\n",
    "\n",
    "        # Split the left dock area vertically (top and bottom)\n",
    "        self.splitDockWidget(self.dock_top_left, self.dock_bottom_left, Qt.Vertical)\n",
    "\n",
    "        # You can adjust the sizes of the docks\n",
    "        self.resizeDocks([self.dock_top_left, self.dock_bottom_left], [200, 200], Qt.Vertical)\n",
    "\n",
    "        self.setWindowTitle(\"Three Dock Layout\")\n",
    "        self.resize(800, 600)\n",
    "\n",
    "        # self.panda3d = TestRoom()\n",
    "        self.panda3d = None\n",
    "        self.synchronizer = Synchronizer(self.FPS)\n",
    "        loadPrcFileData(\"\", \"window-type offscreen\")\n",
    "        self.startGame()\n",
    "        # TODO: destroy\n",
    "        # Set widget content for the docks (could be any widget)\n",
    "        # self.dock_top_left.setWidget(QTextEdit(\"Top Left Content\"))\n",
    "        self.dock_bottom_left.setWidget(QTextEdit(\"Bottom Left Content\"))\n",
    "        self.dock_right.setWidget(QTextEdit(\"Right Content\"))\n",
    "        # pdb.set_trace()\n",
    "\n",
    "    def startGame(self):\n",
    "        self.panda3d = TestRoom()\n",
    "        self.synchronizer.setShowBase(self.panda3d)\n",
    "        self.pandaWidget = QPanda3DWidget(\n",
    "            self.panda3d, \n",
    "            synchronizer=self.synchronizer\n",
    "        )\n",
    "        \n",
    "        self.synchronizer.addWidget(self.pandaWidget)\n",
    "        self.dock_top_left.setWidget(self.pandaWidget)\n",
    "        self.synchronizer.start()\n",
    "        print(self.synchronizer.showbase)\n",
    "\n",
    "        \n",
    "        \n",
    "\n",
    "    \n",
    "\n",
    "    \n",
    "\n",
    "if __name__ == '__main__':\n",
    "    app = QApplication(sys.argv)\n",
    "    window = MainWindow()\n",
    "    window.show()\n",
    "    sys.exit(app.exec_())"
   ]
  },
  {
   "cell_type": "code",
   "execution_count": null,
   "id": "bc7a16d3-d88b-4586-9b10-69b8baf740d0",
   "metadata": {},
   "outputs": [],
   "source": []
  },
  {
   "cell_type": "code",
   "execution_count": null,
   "id": "7db5b36a-680d-4a65-87f6-257ff9a148b1",
   "metadata": {},
   "outputs": [],
   "source": []
  },
  {
   "cell_type": "code",
   "execution_count": null,
   "id": "889049d9-8692-496d-bd68-cdfa673674c6",
   "metadata": {},
   "outputs": [],
   "source": []
  }
 ],
 "metadata": {
  "kernelspec": {
   "display_name": "game",
   "language": "python",
   "name": "game"
  },
  "language_info": {
   "codemirror_mode": {
    "name": "ipython",
    "version": 3
   },
   "file_extension": ".py",
   "mimetype": "text/x-python",
   "name": "python",
   "nbconvert_exporter": "python",
   "pygments_lexer": "ipython3",
   "version": "3.11.9"
  }
 },
 "nbformat": 4,
 "nbformat_minor": 5
}
