{
 "cells": [
  {
   "cell_type": "code",
   "execution_count": 1,
   "id": "4a129ea8-4092-4a6b-a363-40ec4cc0114b",
   "metadata": {},
   "outputs": [],
   "source": [
    "import sys\n",
    "from PyQt5.QtWidgets import QApplication, QMainWindow, QVBoxLayout, QWidget\n",
    "from panda3d.core import WindowProperties\n",
    "from direct.showbase.ShowBase import ShowBase"
   ]
  },
  {
   "cell_type": "code",
   "execution_count": 2,
   "id": "ab66252c-8bad-4d67-b756-cc7512ab12e2",
   "metadata": {},
   "outputs": [],
   "source": [
    "class MainWindow(QMainWindow):\n",
    "    def __init__(self):\n",
    "        super().__init__(self)\n",
    "        self.setWindowTitle(\"window\")\n",
    "        \n",
    "        central_widget = QWidget()\n",
    "        layout = QVBoxLayout()\n",
    "        central_widget.setLayout(layout)\n",
    "        self.setCentralWidget(central_widget)\n",
    "        \n",
    "        "
   ]
  },
  {
   "cell_type": "code",
   "execution_count": 12,
   "id": "311511b4-17ed-4ed2-a086-55131b851849",
   "metadata": {},
   "outputs": [
    {
     "ename": "NameError",
     "evalue": "name 'base' is not defined",
     "output_type": "error",
     "traceback": [
      "\u001b[0;31m---------------------------------------------------------------------------\u001b[0m",
      "\u001b[0;31mNameError\u001b[0m                                 Traceback (most recent call last)",
      "Cell \u001b[0;32mIn[12], line 4\u001b[0m\n\u001b[1;32m      1\u001b[0m \u001b[38;5;28;01mfrom\u001b[39;00m \u001b[38;5;21;01mpanda3d\u001b[39;00m\u001b[38;5;21;01m.\u001b[39;00m\u001b[38;5;21;01mcore\u001b[39;00m \u001b[38;5;28;01mimport\u001b[39;00m WindowProperties\n\u001b[1;32m      3\u001b[0m \u001b[38;5;66;03m# 创建主显示区域\u001b[39;00m\n\u001b[0;32m----> 4\u001b[0m main_display_region \u001b[38;5;241m=\u001b[39m \u001b[43mbase\u001b[49m\u001b[38;5;241m.\u001b[39mwin\u001b[38;5;241m.\u001b[39mmake_display_region(\u001b[38;5;241m0\u001b[39m, \u001b[38;5;241m1\u001b[39m, \u001b[38;5;241m0\u001b[39m, \u001b[38;5;241m1\u001b[39m)\n\u001b[1;32m      5\u001b[0m main_display_region\u001b[38;5;241m.\u001b[39mset_sort(\u001b[38;5;241m0\u001b[39m)  \u001b[38;5;66;03m# 默认显示区域，sort值最小\u001b[39;00m\n\u001b[1;32m      7\u001b[0m \u001b[38;5;66;03m# 创建新的显示区域\u001b[39;00m\n",
      "\u001b[0;31mNameError\u001b[0m: name 'base' is not defined"
     ]
    }
   ],
   "source": [
    "class WrappedApp:\n",
    "    def __init__(self):\n",
    "        pass\n",
    "    \n",
    "    \n",
    "    def run():\n",
    "        pass"
   ]
  },
  {
   "cell_type": "code",
   "execution_count": 1,
   "id": "416a34fa-c05f-4935-9067-01f486192fbc",
   "metadata": {},
   "outputs": [
    {
     "name": "stdout",
     "output_type": "stream",
     "text": [
      "(1, 2, 3)\n"
     ]
    }
   ],
   "source": [
    "def f(*args):\n",
    "    print(args)\n",
    "    \n",
    "f(1,2,3)"
   ]
  },
  {
   "cell_type": "code",
   "execution_count": 2,
   "id": "0d3e6c53-e5f6-438e-8c03-671e45c05f06",
   "metadata": {},
   "outputs": [
    {
     "name": "stdout",
     "output_type": "stream",
     "text": [
      "(1,)\n"
     ]
    }
   ],
   "source": [
    "f(1)"
   ]
  },
  {
   "cell_type": "code",
   "execution_count": 4,
   "id": "5ff17ace-600d-4c66-b44c-1c89bb53dfbd",
   "metadata": {},
   "outputs": [
    {
     "name": "stdout",
     "output_type": "stream",
     "text": [
      "()\n"
     ]
    }
   ],
   "source": [
    "f()"
   ]
  },
  {
   "cell_type": "code",
   "execution_count": 1,
   "id": "980cae72-1503-410a-82a0-da0a9ddf74f6",
   "metadata": {},
   "outputs": [
    {
     "ename": "SystemExit",
     "evalue": "0",
     "output_type": "error",
     "traceback": [
      "An exception has occurred, use %tb to see the full traceback.\n",
      "\u001b[0;31mSystemExit\u001b[0m\u001b[0;31m:\u001b[0m 0\n"
     ]
    },
    {
     "name": "stderr",
     "output_type": "stream",
     "text": [
      "/media/ywatcher/ExtDisk1/LDisk/Packages/game_env/env/lib/python3.11/site-packages/IPython/core/interactiveshell.py:3585: UserWarning: To exit: use 'exit', 'quit', or Ctrl-D.\n",
      "  warn(\"To exit: use 'exit', 'quit', or Ctrl-D.\", stacklevel=1)\n"
     ]
    }
   ],
   "source": [
    "import sys\n",
    "from PyQt5.QtWidgets import QApplication, QMainWindow, QTextEdit, QVBoxLayout, QWidget, QPushButton\n",
    "from PyQt5.QtCore import Qt, QTimer\n",
    "\n",
    "class CommandLineWindow(QMainWindow):\n",
    "    def __init__(self, log_window):\n",
    "        super().__init__()\n",
    "        \n",
    "        self.log_window = log_window\n",
    "        \n",
    "        self.setWindowTitle(\"Command Line\")\n",
    "        self.setGeometry(100, 100, 400, 300)\n",
    "\n",
    "        # Create a central widget and a layout\n",
    "        self.central_widget = QWidget()\n",
    "        self.setCentralWidget(self.central_widget)\n",
    "        self.layout = QVBoxLayout()\n",
    "        self.central_widget.setLayout(self.layout)\n",
    "\n",
    "        # Create a text edit for command input\n",
    "        self.command_input = QTextEdit()\n",
    "        self.command_input.setPlaceholderText(\"Enter commands here...\")\n",
    "        self.command_input.setMaximumHeight(100)\n",
    "        self.layout.addWidget(self.command_input)\n",
    "\n",
    "        # Create a button to execute commands\n",
    "        self.execute_button = QPushButton(\"Execute\")\n",
    "        self.execute_button.clicked.connect(self.execute_command)\n",
    "        self.layout.addWidget(self.execute_button)\n",
    "\n",
    "    def execute_command(self):\n",
    "        command = self.command_input.toPlainText().strip()\n",
    "        if command:\n",
    "            self.log_window.add_log(f\"Command executed: {command}\")\n",
    "            self.command_input.clear()\n",
    "        \n",
    "class LogWindow(QMainWindow):\n",
    "    def __init__(self):\n",
    "        super().__init__()\n",
    "\n",
    "        self.setWindowTitle(\"Log Window\")\n",
    "        self.setGeometry(500, 100, 400, 300)\n",
    "\n",
    "        # Create a central widget and a layout\n",
    "        self.central_widget = QWidget()\n",
    "        self.setCentralWidget(self.central_widget)\n",
    "        self.layout = QVBoxLayout()\n",
    "        self.central_widget.setLayout(self.layout)\n",
    "\n",
    "        # Create a text edit for displaying logs\n",
    "        self.log_display = QTextEdit()\n",
    "        self.log_display.setReadOnly(True)\n",
    "        self.layout.addWidget(self.log_display)\n",
    "\n",
    "    def add_log(self, message):\n",
    "        self.log_display.append(message)\n",
    "\n",
    "def main():\n",
    "    app = QApplication(sys.argv)\n",
    "    \n",
    "    log_window = LogWindow()\n",
    "    log_window.show()\n",
    "\n",
    "    command_window = CommandLineWindow(log_window)\n",
    "    command_window.show()\n",
    "\n",
    "    sys.exit(app.exec_())\n",
    "\n",
    "if __name__ == \"__main__\":\n",
    "    main()\n"
   ]
  },
  {
   "cell_type": "code",
   "execution_count": 2,
   "id": "4854660a-3dca-4a1c-9f5d-4e17c3532a72",
   "metadata": {},
   "outputs": [
    {
     "ename": "SystemExit",
     "evalue": "0",
     "output_type": "error",
     "traceback": [
      "An exception has occurred, use %tb to see the full traceback.\n",
      "\u001b[0;31mSystemExit\u001b[0m\u001b[0;31m:\u001b[0m 0\n"
     ]
    }
   ],
   "source": [
    "import sys\n",
    "from PyQt5.QtWidgets import QApplication, QMainWindow, QTextEdit, QVBoxLayout, QWidget, QPushButton, QDockWidget\n",
    "from PyQt5.QtCore import Qt\n",
    "\n",
    "class CommandLineWidget(QWidget):\n",
    "    def __init__(self):\n",
    "        super().__init__()\n",
    "        \n",
    "        self.layout = QVBoxLayout()\n",
    "        self.setLayout(self.layout)\n",
    "\n",
    "        # Create a text edit for command input\n",
    "        self.command_input = QTextEdit()\n",
    "        self.command_input.setPlaceholderText(\"Enter commands here...\")\n",
    "        self.command_input.setMaximumHeight(100)\n",
    "        self.layout.addWidget(self.command_input)\n",
    "\n",
    "        # Create a button to execute commands\n",
    "        self.execute_button = QPushButton(\"Execute\")\n",
    "        self.execute_button.clicked.connect(self.execute_command)\n",
    "        self.layout.addWidget(self.execute_button)\n",
    "\n",
    "    def execute_command(self):\n",
    "        command = self.command_input.toPlainText().strip()\n",
    "        if command:\n",
    "            # You would normally handle the command here\n",
    "            print(f\"Command executed: {command}\")\n",
    "            self.command_input.clear()\n",
    "\n",
    "class LogWidget(QWidget):\n",
    "    def __init__(self):\n",
    "        super().__init__()\n",
    "\n",
    "        self.layout = QVBoxLayout()\n",
    "        self.setLayout(self.layout)\n",
    "\n",
    "        # Create a text edit for displaying logs\n",
    "        self.log_display = QTextEdit()\n",
    "        self.log_display.setReadOnly(True)\n",
    "        self.layout.addWidget(self.log_display)\n",
    "\n",
    "    def add_log(self, message):\n",
    "        self.log_display.append(message)\n",
    "\n",
    "class MainWindow(QMainWindow):\n",
    "    def __init__(self):\n",
    "        super().__init__()\n",
    "\n",
    "        self.setWindowTitle(\"Main Window\")\n",
    "        self.setGeometry(100, 100, 800, 600)\n",
    "\n",
    "        # Create Command Line Dock Widget\n",
    "        self.command_line_widget = CommandLineWidget()\n",
    "        self.command_line_dock = QDockWidget(\"Command Line\", self)\n",
    "        self.command_line_dock.setWidget(self.command_line_widget)\n",
    "        self.addDockWidget(Qt.LeftDockWidgetArea, self.command_line_dock)\n",
    "\n",
    "        # Create Log Dock Widget\n",
    "        self.log_widget = LogWidget()\n",
    "        self.log_dock = QDockWidget(\"Log\", self)\n",
    "        self.log_dock.setWidget(self.log_widget)\n",
    "        self.addDockWidget(Qt.RightDockWidgetArea, self.log_dock)\n",
    "\n",
    "    def get_log_widget(self):\n",
    "        return self.log_widget\n",
    "\n",
    "def main():\n",
    "    app = QApplication(sys.argv)\n",
    "\n",
    "    main_window = MainWindow()\n",
    "    main_window.show()\n",
    "\n",
    "    sys.exit(app.exec_())\n",
    "\n",
    "if __name__ == \"__main__\":\n",
    "    main()\n"
   ]
  },
  {
   "cell_type": "code",
   "execution_count": 3,
   "id": "663f4422-84d0-410b-989c-822ddad0ec93",
   "metadata": {},
   "outputs": [
    {
     "name": "stderr",
     "output_type": "stream",
     "text": [
      ":audio(error): Couldn't open default OpenAL device\n",
      ":audio(error): OpenALAudioManager: No open device or context\n",
      ":audio(error):   OpenALAudioManager is not valid, will use NullAudioManager\n",
      ":audio(error): Couldn't open default OpenAL device\n",
      ":audio(error): OpenALAudioManager: No open device or context\n",
      ":audio(error):   OpenALAudioManager is not valid, will use NullAudioManager\n"
     ]
    },
    {
     "ename": "TypeError",
     "evalue": "Arguments must match:\nset_parent_window(const WindowProperties self)\nset_parent_window(const WindowProperties self, WindowHandle parent_window)\nset_parent_window(const WindowProperties self, int parent)\n",
     "output_type": "error",
     "traceback": [
      "\u001b[0;31m---------------------------------------------------------------------------\u001b[0m",
      "\u001b[0;31mTypeError\u001b[0m                                 Traceback (most recent call last)",
      "Cell \u001b[0;32mIn[3], line 63\u001b[0m, in \u001b[0;36mMainWindow.create_panda3d_window\u001b[0;34m(self)\u001b[0m\n\u001b[1;32m     60\u001b[0m window_id \u001b[38;5;241m=\u001b[39m \u001b[38;5;28mself\u001b[39m\u001b[38;5;241m.\u001b[39mpanda3d_container\u001b[38;5;241m.\u001b[39mwinId()\n\u001b[1;32m     62\u001b[0m \u001b[38;5;66;03m# 在 Panda3D 中创建新窗口，并嵌入 Qt 的 dock 中\u001b[39;00m\n\u001b[0;32m---> 63\u001b[0m \u001b[38;5;28;43mself\u001b[39;49m\u001b[38;5;241;43m.\u001b[39;49m\u001b[43mpanda_app\u001b[49m\u001b[38;5;241;43m.\u001b[39;49m\u001b[43mcreate_window_in_dock\u001b[49m\u001b[43m(\u001b[49m\u001b[43mwindow_id\u001b[49m\u001b[43m)\u001b[49m\n",
      "Cell \u001b[0;32mIn[3], line 17\u001b[0m, in \u001b[0;36mPanda3DApp.create_window_in_dock\u001b[0;34m(self, window_id)\u001b[0m\n\u001b[1;32m     14\u001b[0m \u001b[38;5;28;01mdef\u001b[39;00m \u001b[38;5;21mcreate_window_in_dock\u001b[39m(\u001b[38;5;28mself\u001b[39m, window_id):\n\u001b[1;32m     15\u001b[0m     \u001b[38;5;66;03m# 创建新的窗口并嵌入到 Qt dock 中\u001b[39;00m\n\u001b[1;32m     16\u001b[0m     wp \u001b[38;5;241m=\u001b[39m WindowProperties()\n\u001b[0;32m---> 17\u001b[0m     \u001b[43mwp\u001b[49m\u001b[38;5;241;43m.\u001b[39;49m\u001b[43mset_parent_window\u001b[49m\u001b[43m(\u001b[49m\u001b[43mwindow_id\u001b[49m\u001b[43m)\u001b[49m  \u001b[38;5;66;03m# 设置窗口 ID\u001b[39;00m\n\u001b[1;32m     18\u001b[0m     \u001b[38;5;28mself\u001b[39m\u001b[38;5;241m.\u001b[39mopenDefaultWindow(props\u001b[38;5;241m=\u001b[39mwp)  \u001b[38;5;66;03m# 创建并打开窗口\u001b[39;00m\n\u001b[1;32m     20\u001b[0m     \u001b[38;5;66;03m# 在这里初始化 Panda3D 场景\u001b[39;00m\n",
      "\u001b[0;31mTypeError\u001b[0m: Arguments must match:\nset_parent_window(const WindowProperties self)\nset_parent_window(const WindowProperties self, WindowHandle parent_window)\nset_parent_window(const WindowProperties self, int parent)\n"
     ]
    },
    {
     "ename": "SystemExit",
     "evalue": "0",
     "output_type": "error",
     "traceback": [
      "An exception has occurred, use %tb to see the full traceback.\n",
      "\u001b[0;31mSystemExit\u001b[0m\u001b[0;31m:\u001b[0m 0\n"
     ]
    }
   ],
   "source": [
    "import sys\n",
    "import threading\n",
    "from PyQt5 import QtCore, QtWidgets\n",
    "from direct.showbase.ShowBase import ShowBase\n",
    "from panda3d.core import WindowProperties, loadPrcFileData\n",
    "\n",
    "# 禁用启动时创建窗口\n",
    "loadPrcFileData('', 'window-type none')\n",
    "\n",
    "class Panda3DApp(ShowBase):\n",
    "    def __init__(self):\n",
    "        ShowBase.__init__(self, windowType='none')  # 不启动窗口\n",
    "\n",
    "    def create_window_in_dock(self, window_id):\n",
    "        # 创建新的窗口并嵌入到 Qt dock 中\n",
    "        wp = WindowProperties()\n",
    "        wp.set_parent_window(window_id)  # 设置窗口 ID\n",
    "        self.openDefaultWindow(props=wp)  # 创建并打开窗口\n",
    "\n",
    "        # 在这里初始化 Panda3D 场景\n",
    "        self.set_background_color(0, 0, 0)  # 设置背景色\n",
    "        self.load_default_scene()  # 加载一些测试用的 3D 模型\n",
    "\n",
    "    def load_default_scene(self):\n",
    "        # 加载简单模型\n",
    "        self.teapot = self.loader.loadModel(\"models/teapot\")\n",
    "        self.teapot.reparent_to(self.render)\n",
    "        self.teapot.set_pos(0, 10, 0)\n",
    "\n",
    "class MainWindow(QtWidgets.QMainWindow):\n",
    "    def __init__(self):\n",
    "        super(MainWindow, self).__init__()\n",
    "\n",
    "        # 设置主窗口标题和大小\n",
    "        self.setWindowTitle('Panda3D in PyQt5 Dock')\n",
    "        self.setGeometry(100, 100, 800, 600)\n",
    "\n",
    "        # 创建一个可停靠的窗口 (dock)\n",
    "        self.dock = QtWidgets.QDockWidget('Panda3D View', self)\n",
    "        self.addDockWidget(QtCore.Qt.RightDockWidgetArea, self.dock)\n",
    "\n",
    "        # 创建一个 QWidget 作为 dock 的内容\n",
    "        self.panda3d_container = QtWidgets.QWidget(self.dock)\n",
    "        self.dock.setWidget(self.panda3d_container)\n",
    "\n",
    "        # 启动 Panda3D\n",
    "        self.start_panda3d()\n",
    "\n",
    "    def start_panda3d(self):\n",
    "        # 启动 Panda3D 的线程\n",
    "        self.panda3d_thread = threading.Thread(target=self.run_panda3d, daemon=True)\n",
    "        self.panda3d_thread.start()\n",
    "\n",
    "    def run_panda3d(self):\n",
    "        # 初始化没有窗口的 Panda3D\n",
    "        self.panda_app = Panda3DApp()\n",
    "\n",
    "    def create_panda3d_window(self):\n",
    "        # 获取 QWidget 的窗口句柄 ID\n",
    "        window_id = self.panda3d_container.winId()\n",
    "\n",
    "        # 在 Panda3D 中创建新窗口，并嵌入 Qt 的 dock 中\n",
    "        self.panda_app.create_window_in_dock(window_id)\n",
    "\n",
    "if __name__ == '__main__':\n",
    "    app = QtWidgets.QApplication(sys.argv)\n",
    "\n",
    "    # 创建并显示 PyQt 主窗口\n",
    "    main_window = MainWindow()\n",
    "    main_window.show()\n",
    "\n",
    "    # 延迟创建 Panda3D 窗口\n",
    "    QtCore.QTimer.singleShot(1000, main_window.create_panda3d_window)\n",
    "\n",
    "    sys.exit(app.exec_())\n"
   ]
  },
  {
   "cell_type": "code",
   "execution_count": 1,
   "id": "e8e16c8c-6e60-469b-96af-17ee746308ad",
   "metadata": {},
   "outputs": [
    {
     "name": "stderr",
     "output_type": "stream",
     "text": [
      ":audio(error): Couldn't open default OpenAL device\n",
      ":audio(error): OpenALAudioManager: No open device or context\n",
      ":audio(error):   OpenALAudioManager is not valid, will use NullAudioManager\n",
      ":audio(error): Couldn't open default OpenAL device\n",
      ":audio(error): OpenALAudioManager: No open device or context\n",
      ":audio(error):   OpenALAudioManager is not valid, will use NullAudioManager\n",
      "Known pipe types:\n",
      "  glxGraphicsPipe\n",
      "(all display modules loaded.)\n",
      ":ShowBase(warning): Unable to open 'none' window.\n"
     ]
    },
    {
     "ename": "Exception",
     "evalue": "Could not open window.",
     "output_type": "error",
     "traceback": [
      "\u001b[0;31m---------------------------------------------------------------------------\u001b[0m",
      "\u001b[0;31mException\u001b[0m                                 Traceback (most recent call last)",
      "Cell \u001b[0;32mIn[1], line 67\u001b[0m, in \u001b[0;36mMainWindow.create_panda3d_window\u001b[0;34m(self)\u001b[0m\n\u001b[1;32m     64\u001b[0m window_id \u001b[38;5;241m=\u001b[39m \u001b[38;5;28mself\u001b[39m\u001b[38;5;241m.\u001b[39mpanda3d_container\u001b[38;5;241m.\u001b[39mwinId()\n\u001b[1;32m     66\u001b[0m \u001b[38;5;66;03m# 在 Panda3D 中创建新窗口，并嵌入 Qt 的 dock 中\u001b[39;00m\n\u001b[0;32m---> 67\u001b[0m \u001b[38;5;28;43mself\u001b[39;49m\u001b[38;5;241;43m.\u001b[39;49m\u001b[43mpanda_app\u001b[49m\u001b[38;5;241;43m.\u001b[39;49m\u001b[43mcreate_window_in_dock\u001b[49m\u001b[43m(\u001b[49m\u001b[43mwindow_id\u001b[49m\u001b[43m)\u001b[49m\n",
      "Cell \u001b[0;32mIn[1], line 22\u001b[0m, in \u001b[0;36mPanda3DApp.create_window_in_dock\u001b[0;34m(self, window_id)\u001b[0m\n\u001b[1;32m     19\u001b[0m wp\u001b[38;5;241m.\u001b[39mset_parent_window(\u001b[38;5;28mint\u001b[39m(window_id))  \u001b[38;5;66;03m# 在 Linux/Windows 上需要转换为 int\u001b[39;00m\n\u001b[1;32m     21\u001b[0m \u001b[38;5;66;03m# 创建并打开窗口\u001b[39;00m\n\u001b[0;32m---> 22\u001b[0m \u001b[38;5;28;43mself\u001b[39;49m\u001b[38;5;241;43m.\u001b[39;49m\u001b[43mopenDefaultWindow\u001b[49m\u001b[43m(\u001b[49m\u001b[43mprops\u001b[49m\u001b[38;5;241;43m=\u001b[39;49m\u001b[43mwp\u001b[49m\u001b[43m)\u001b[49m\n\u001b[1;32m     24\u001b[0m \u001b[38;5;66;03m# 在这里初始化 Panda3D 场景\u001b[39;00m\n\u001b[1;32m     25\u001b[0m \u001b[38;5;28mself\u001b[39m\u001b[38;5;241m.\u001b[39mset_background_color(\u001b[38;5;241m0\u001b[39m, \u001b[38;5;241m0\u001b[39m, \u001b[38;5;241m0\u001b[39m)  \u001b[38;5;66;03m# 设置背景色\u001b[39;00m\n",
      "File \u001b[0;32m/media/ywatcher/ExtDisk1/LDisk/Packages/game_env/env/lib/python3.11/site-packages/direct/showbase/ShowBase.py:1026\u001b[0m, in \u001b[0;36mShowBase.openDefaultWindow\u001b[0;34m(self, *args, **kw)\u001b[0m\n\u001b[1;32m   1023\u001b[0m \u001b[38;5;28;01mif\u001b[39;00m \u001b[38;5;124m'\u001b[39m\u001b[38;5;124mstartDirect\u001b[39m\u001b[38;5;124m'\u001b[39m \u001b[38;5;129;01min\u001b[39;00m kw:\n\u001b[1;32m   1024\u001b[0m     \u001b[38;5;28;01mdel\u001b[39;00m kw[\u001b[38;5;124m'\u001b[39m\u001b[38;5;124mstartDirect\u001b[39m\u001b[38;5;124m'\u001b[39m]\n\u001b[0;32m-> 1026\u001b[0m \u001b[38;5;28;43mself\u001b[39;49m\u001b[38;5;241;43m.\u001b[39;49m\u001b[43mopenMainWindow\u001b[49m\u001b[43m(\u001b[49m\u001b[38;5;241;43m*\u001b[39;49m\u001b[43margs\u001b[49m\u001b[43m,\u001b[49m\u001b[43m \u001b[49m\u001b[38;5;241;43m*\u001b[39;49m\u001b[38;5;241;43m*\u001b[39;49m\u001b[43mkw\u001b[49m\u001b[43m)\u001b[49m\n\u001b[1;32m   1028\u001b[0m \u001b[38;5;28;01mif\u001b[39;00m startDirect:\n\u001b[1;32m   1029\u001b[0m     \u001b[38;5;28mself\u001b[39m\u001b[38;5;241m.\u001b[39m__doStartDirect()\n",
      "File \u001b[0;32m/media/ywatcher/ExtDisk1/LDisk/Packages/game_env/env/lib/python3.11/site-packages/direct/showbase/ShowBase.py:1061\u001b[0m, in \u001b[0;36mShowBase.openMainWindow\u001b[0;34m(self, *args, **kw)\u001b[0m\n\u001b[1;32m   1058\u001b[0m     \u001b[38;5;28mself\u001b[39m\u001b[38;5;241m.\u001b[39mcloseWindow(\u001b[38;5;28mself\u001b[39m\u001b[38;5;241m.\u001b[39mwin, keepCamera \u001b[38;5;241m=\u001b[39m keepCamera)\n\u001b[1;32m   1060\u001b[0m \u001b[38;5;66;03m# Open a new window.\u001b[39;00m\n\u001b[0;32m-> 1061\u001b[0m \u001b[38;5;28;43mself\u001b[39;49m\u001b[38;5;241;43m.\u001b[39;49m\u001b[43mopenWindow\u001b[49m\u001b[43m(\u001b[49m\u001b[38;5;241;43m*\u001b[39;49m\u001b[43margs\u001b[49m\u001b[43m,\u001b[49m\u001b[43m \u001b[49m\u001b[38;5;241;43m*\u001b[39;49m\u001b[38;5;241;43m*\u001b[39;49m\u001b[43mkw\u001b[49m\u001b[43m)\u001b[49m\n\u001b[1;32m   1062\u001b[0m \u001b[38;5;28;01mif\u001b[39;00m \u001b[38;5;28mself\u001b[39m\u001b[38;5;241m.\u001b[39mwin \u001b[38;5;129;01mis\u001b[39;00m \u001b[38;5;28;01mNone\u001b[39;00m:\n\u001b[1;32m   1063\u001b[0m     \u001b[38;5;28mself\u001b[39m\u001b[38;5;241m.\u001b[39mwin \u001b[38;5;241m=\u001b[39m oldWin\n",
      "File \u001b[0;32m/media/ywatcher/ExtDisk1/LDisk/Packages/game_env/env/lib/python3.11/site-packages/direct/showbase/ShowBase.py:806\u001b[0m, in \u001b[0;36mShowBase.openWindow\u001b[0;34m(self, props, fbprops, pipe, gsg, host, type, name, size, aspectRatio, makeCamera, keepCamera, scene, stereo, unexposedDraw, callbackWindowDict, requireWindow)\u001b[0m\n\u001b[1;32m    802\u001b[0m     \u001b[38;5;28mself\u001b[39m\u001b[38;5;241m.\u001b[39mnotify\u001b[38;5;241m.\u001b[39mwarning(\u001b[38;5;124m\"\u001b[39m\u001b[38;5;124mUnable to open \u001b[39m\u001b[38;5;124m'\u001b[39m\u001b[38;5;132;01m%s\u001b[39;00m\u001b[38;5;124m'\u001b[39m\u001b[38;5;124m window.\u001b[39m\u001b[38;5;124m\"\u001b[39m \u001b[38;5;241m%\u001b[39m (\u001b[38;5;28mtype\u001b[39m))\n\u001b[1;32m    803\u001b[0m     \u001b[38;5;28;01mif\u001b[39;00m requireWindow:\n\u001b[1;32m    804\u001b[0m         \u001b[38;5;66;03m# Unless require-window is set to false, it is an\u001b[39;00m\n\u001b[1;32m    805\u001b[0m         \u001b[38;5;66;03m# error not to open a window.\u001b[39;00m\n\u001b[0;32m--> 806\u001b[0m         \u001b[38;5;28;01mraise\u001b[39;00m \u001b[38;5;167;01mException\u001b[39;00m(\u001b[38;5;124m'\u001b[39m\u001b[38;5;124mCould not open window.\u001b[39m\u001b[38;5;124m'\u001b[39m)\n\u001b[1;32m    807\u001b[0m \u001b[38;5;28;01melse\u001b[39;00m:\n\u001b[1;32m    808\u001b[0m     \u001b[38;5;28mself\u001b[39m\u001b[38;5;241m.\u001b[39mnotify\u001b[38;5;241m.\u001b[39minfo(\u001b[38;5;124m\"\u001b[39m\u001b[38;5;124mSuccessfully opened window of type \u001b[39m\u001b[38;5;132;01m%s\u001b[39;00m\u001b[38;5;124m (\u001b[39m\u001b[38;5;132;01m%s\u001b[39;00m\u001b[38;5;124m)\u001b[39m\u001b[38;5;124m\"\u001b[39m \u001b[38;5;241m%\u001b[39m (\n\u001b[1;32m    809\u001b[0m         win\u001b[38;5;241m.\u001b[39mgetType(), win\u001b[38;5;241m.\u001b[39mgetPipe()\u001b[38;5;241m.\u001b[39mgetInterfaceName()))\n",
      "\u001b[0;31mException\u001b[0m: Could not open window."
     ]
    },
    {
     "ename": "SystemExit",
     "evalue": "0",
     "output_type": "error",
     "traceback": [
      "An exception has occurred, use %tb to see the full traceback.\n",
      "\u001b[0;31mSystemExit\u001b[0m\u001b[0;31m:\u001b[0m 0\n"
     ]
    },
    {
     "name": "stderr",
     "output_type": "stream",
     "text": [
      "/media/ywatcher/ExtDisk1/LDisk/Packages/game_env/env/lib/python3.11/site-packages/IPython/core/interactiveshell.py:3585: UserWarning: To exit: use 'exit', 'quit', or Ctrl-D.\n",
      "  warn(\"To exit: use 'exit', 'quit', or Ctrl-D.\", stacklevel=1)\n"
     ]
    }
   ],
   "source": [
    "import sys\n",
    "import threading\n",
    "from PyQt5 import QtCore, QtWidgets\n",
    "from direct.showbase.ShowBase import ShowBase\n",
    "from panda3d.core import WindowProperties, loadPrcFileData\n",
    "\n",
    "# 禁用启动时创建窗口\n",
    "loadPrcFileData('', 'window-type none')\n",
    "\n",
    "class Panda3DApp(ShowBase):\n",
    "    def __init__(self):\n",
    "        ShowBase.__init__(self, windowType='none')  # 不启动窗口\n",
    "\n",
    "    def create_window_in_dock(self, window_id):\n",
    "        # 创建新的窗口并嵌入到 Qt dock 中\n",
    "        wp = WindowProperties()\n",
    "        \n",
    "        # 将 Qt 的窗口句柄（window_id）传给 Panda3D\n",
    "        wp.set_parent_window(int(window_id))  # 在 Linux/Windows 上需要转换为 int\n",
    "        \n",
    "        # 创建并打开窗口\n",
    "        self.openDefaultWindow(props=wp)\n",
    "\n",
    "        # 在这里初始化 Panda3D 场景\n",
    "        self.set_background_color(0, 0, 0)  # 设置背景色\n",
    "        self.load_default_scene()  # 加载一些测试用的 3D 模型\n",
    "\n",
    "    def load_default_scene(self):\n",
    "        # 加载简单模型\n",
    "        self.teapot = self.loader.loadModel(\"models/teapot\")\n",
    "        self.teapot.reparent_to(self.render)\n",
    "        self.teapot.set_pos(0, 10, 0)\n",
    "\n",
    "class MainWindow(QtWidgets.QMainWindow):\n",
    "    def __init__(self):\n",
    "        super(MainWindow, self).__init__()\n",
    "\n",
    "        # 设置主窗口标题和大小\n",
    "        self.setWindowTitle('Panda3D in PyQt5 Dock')\n",
    "        self.setGeometry(100, 100, 800, 600)\n",
    "\n",
    "        # 创建一个可停靠的窗口 (dock)\n",
    "        self.dock = QtWidgets.QDockWidget('Panda3D View', self)\n",
    "        self.addDockWidget(QtCore.Qt.RightDockWidgetArea, self.dock)\n",
    "\n",
    "        # 创建一个 QWidget 作为 dock 的内容\n",
    "        self.panda3d_container = QtWidgets.QWidget(self.dock)\n",
    "        self.dock.setWidget(self.panda3d_container)\n",
    "\n",
    "        # 启动 Panda3D\n",
    "        self.start_panda3d()\n",
    "\n",
    "    def start_panda3d(self):\n",
    "        # 启动 Panda3D 的线程\n",
    "        self.panda3d_thread = threading.Thread(target=self.run_panda3d, daemon=True)\n",
    "        self.panda3d_thread.start()\n",
    "\n",
    "    def run_panda3d(self):\n",
    "        # 初始化没有窗口的 Panda3D\n",
    "        self.panda_app = Panda3DApp()\n",
    "\n",
    "    def create_panda3d_window(self):\n",
    "        # 获取 QWidget 的窗口句柄 ID\n",
    "        window_id = self.panda3d_container.winId()\n",
    "\n",
    "        # 在 Panda3D 中创建新窗口，并嵌入 Qt 的 dock 中\n",
    "        self.panda_app.create_window_in_dock(window_id)\n",
    "\n",
    "if __name__ == '__main__':\n",
    "    app = QtWidgets.QApplication(sys.argv)\n",
    "\n",
    "    # 创建并显示 PyQt 主窗口\n",
    "    main_window = MainWindow()\n",
    "    main_window.show()\n",
    "\n",
    "    # 延迟创建 Panda3D 窗口\n",
    "    QtCore.QTimer.singleShot(1000, main_window.create_panda3d_window)\n",
    "\n",
    "    sys.exit(app.exec_())\n"
   ]
  },
  {
   "cell_type": "code",
   "execution_count": null,
   "id": "9c79cbba-c323-42b8-a10c-2b2669748b78",
   "metadata": {},
   "outputs": [],
   "source": [
    "import sys\n",
    "import threading\n",
    "from PyQt5 import QtWidgets\n",
    "from direct.showbase.ShowBase import ShowBase\n",
    "from panda3d.core import WindowProperties\n",
    "\n",
    "class Panda3DApp(ShowBase):\n",
    "    def __init__(self, window_id):\n",
    "        ShowBase.__init__(self)\n",
    "        \n",
    "        # 设置 Panda3D 窗口的属性，使其嵌入到 Qt 的 dock 中\n",
    "        window_props = WindowProperties()\n",
    "        window_props.set_parent_window(window_id)\n",
    "        self.win.request_properties(window_props)\n",
    "        \n",
    "        # 在这里初始化 Panda3D 场景\n",
    "        self.set_background_color(0, 0, 0)  # 设置背景色\n",
    "        self.load_default_scene()  # 加载一些测试用的 3D 模型\n",
    "\n",
    "    def load_default_scene(self):\n",
    "        # 加载简单模型\n",
    "        self.teapot = self.loader.loadModel(\"models/teapot\")\n",
    "        self.teapot.reparent_to(self.render)\n",
    "        self.teapot.set_pos(0, 10, 0)\n",
    "\n",
    "class MainWindow(QtWidgets.QMainWindow):\n",
    "    def __init__(self):\n",
    "        super(MainWindow, self).__init__()\n",
    "\n",
    "        # 设置主窗口标题和大小\n",
    "        self.setWindowTitle('Panda3D in PyQt5 Dock')\n",
    "        self.setGeometry(100, 100, 800, 600)\n",
    "\n",
    "        # 创建一个可停靠的窗口 (dock)\n",
    "        self.dock = QtWidgets.QDockWidget('Panda3D View', self)\n",
    "        self.addDockWidget(QtCore.Qt.RightDockWidgetArea, self.dock)\n",
    "\n",
    "        # 创建一个 QWidget 作为 dock 的内容\n",
    "        self.panda3d_container = QtWidgets.QWidget(self.dock)\n",
    "        self.dock.setWidget(self.panda3d_container)\n",
    "\n",
    "        # 启动 Panda3D\n",
    "        self.start_panda3d()\n",
    "\n",
    "    def start_panda3d(self):\n",
    "        # 获取 QWidget 的窗口句柄 ID\n",
    "        window_id = self.panda3d_container.winId()\n",
    "\n",
    "        # 使用线程启动 Panda3D，这样不会阻塞 Qt 的 GUI 事件循环\n",
    "        self.panda3d_thread = threading.Thread(target=self.run_panda3d, args=(window_id,), daemon=True)\n",
    "        self.panda3d_thread.start()\n",
    "\n",
    "    def run_panda3d(self, window_id):\n",
    "        # 创建并启动 Panda3D 的渲染器\n",
    "        self.panda_app = Panda3DApp(window_id)\n",
    "        self.panda_app.run()\n",
    "\n",
    "if __name__ == '__main__':\n",
    "    app = QtWidgets.QApplication(sys.argv)\n",
    "\n",
    "    # 创建并显示 PyQt 主窗口\n",
    "    main_window = MainWindow()\n",
    "    main_window.show()\n",
    "\n",
    "    sys.exit(app.exec_())\n"
   ]
  },
  {
   "cell_type": "code",
   "execution_count": 1,
   "id": "8e09c17f-9cb2-4b1d-ab48-aa2c02a78915",
   "metadata": {},
   "outputs": [
    {
     "name": "stderr",
     "output_type": "stream",
     "text": [
      "Known pipe types:\n",
      "  glxGraphicsPipe\n",
      "(all display modules loaded.)\n",
      ":audio(error): Couldn't open default OpenAL device\n",
      ":audio(error): OpenALAudioManager: No open device or context\n",
      ":audio(error):   OpenALAudioManager is not valid, will use NullAudioManager\n",
      ":audio(error): Couldn't open default OpenAL device\n",
      ":audio(error): OpenALAudioManager: No open device or context\n",
      ":audio(error):   OpenALAudioManager is not valid, will use NullAudioManager\n"
     ]
    },
    {
     "ename": "AttributeError",
     "evalue": "'panda3d.core.GraphicsBuffer' object has no attribute 'requestProperties'",
     "output_type": "error",
     "traceback": [
      "\u001b[0;31m---------------------------------------------------------------------------\u001b[0m",
      "\u001b[0;31mAttributeError\u001b[0m                            Traceback (most recent call last)",
      "Cell \u001b[0;32mIn[1], line 40\u001b[0m\n\u001b[1;32m     38\u001b[0m \u001b[38;5;28;01mif\u001b[39;00m \u001b[38;5;18m__name__\u001b[39m \u001b[38;5;241m==\u001b[39m \u001b[38;5;124m\"\u001b[39m\u001b[38;5;124m__main__\u001b[39m\u001b[38;5;124m\"\u001b[39m:\n\u001b[1;32m     39\u001b[0m     app \u001b[38;5;241m=\u001b[39m QApplication(sys\u001b[38;5;241m.\u001b[39margv)\n\u001b[0;32m---> 40\u001b[0m     main_window \u001b[38;5;241m=\u001b[39m \u001b[43mMainWindow\u001b[49m\u001b[43m(\u001b[49m\u001b[43m)\u001b[49m\n\u001b[1;32m     41\u001b[0m     main_window\u001b[38;5;241m.\u001b[39mshow()\n\u001b[1;32m     42\u001b[0m     sys\u001b[38;5;241m.\u001b[39mexit(app\u001b[38;5;241m.\u001b[39mexec_())\n",
      "Cell \u001b[0;32mIn[1], line 31\u001b[0m, in \u001b[0;36mMainWindow.__init__\u001b[0;34m(self)\u001b[0m\n\u001b[1;32m     28\u001b[0m window_id \u001b[38;5;241m=\u001b[39m \u001b[38;5;28mint\u001b[39m(\u001b[38;5;28mself\u001b[39m\u001b[38;5;241m.\u001b[39mcontainer\u001b[38;5;241m.\u001b[39mwinId())\n\u001b[1;32m     30\u001b[0m \u001b[38;5;66;03m# 初始化 Panda3D 应用并嵌入到 PyQt 窗口中\u001b[39;00m\n\u001b[0;32m---> 31\u001b[0m \u001b[38;5;28mself\u001b[39m\u001b[38;5;241m.\u001b[39mpanda_app \u001b[38;5;241m=\u001b[39m \u001b[43mPandaApp\u001b[49m\u001b[43m(\u001b[49m\u001b[43mwindow_id\u001b[49m\u001b[43m)\u001b[49m\n\u001b[1;32m     33\u001b[0m \u001b[38;5;66;03m# 设置定时器来周期性地调用 Panda3D 的任务\u001b[39;00m\n\u001b[1;32m     34\u001b[0m \u001b[38;5;28mself\u001b[39m\u001b[38;5;241m.\u001b[39mtimer \u001b[38;5;241m=\u001b[39m QTimer()\n",
      "Cell \u001b[0;32mIn[1], line 14\u001b[0m, in \u001b[0;36mPandaApp.__init__\u001b[0;34m(self, window_id)\u001b[0m\n\u001b[1;32m     12\u001b[0m props \u001b[38;5;241m=\u001b[39m WindowProperties()\n\u001b[1;32m     13\u001b[0m props\u001b[38;5;241m.\u001b[39mset_parent_window(window_id)\n\u001b[0;32m---> 14\u001b[0m \u001b[38;5;28;43mself\u001b[39;49m\u001b[38;5;241;43m.\u001b[39;49m\u001b[43mwin\u001b[49m\u001b[38;5;241;43m.\u001b[39;49m\u001b[43mrequestProperties\u001b[49m(props)\n",
      "\u001b[0;31mAttributeError\u001b[0m: 'panda3d.core.GraphicsBuffer' object has no attribute 'requestProperties'"
     ]
    }
   ],
   "source": [
    "import sys\n",
    "from PyQt5.QtWidgets import QApplication, QMainWindow, QVBoxLayout, QWidget\n",
    "from PyQt5.QtCore import QTimer\n",
    "from panda3d.core import WindowProperties\n",
    "from direct.showbase.ShowBase import ShowBase\n",
    "\n",
    "class PandaApp(ShowBase):\n",
    "    def __init__(self, window_id):\n",
    "        ShowBase.__init__(self, windowType='offscreen')\n",
    "\n",
    "        # 设置 Panda3D 的 parent window 为 PyQt 的窗口\n",
    "        props = WindowProperties()\n",
    "        props.set_parent_window(window_id)\n",
    "        self.win.requestProperties(props)\n",
    "\n",
    "class MainWindow(QMainWindow):\n",
    "    def __init__(self):\n",
    "        super().__init__()\n",
    "        self.setWindowTitle('Panda3D in PyQt5')\n",
    "\n",
    "        # 创建一个 QWidget 作为 Panda3D 的容器\n",
    "        self.container = QWidget()\n",
    "        self.setCentralWidget(self.container)\n",
    "        layout = QVBoxLayout()\n",
    "        self.container.setLayout(layout)\n",
    "\n",
    "        # 获取 QWidget 的 window ID\n",
    "        window_id = int(self.container.winId())\n",
    "\n",
    "        # 初始化 Panda3D 应用并嵌入到 PyQt 窗口中\n",
    "        self.panda_app = PandaApp(window_id)\n",
    "\n",
    "        # 设置定时器来周期性地调用 Panda3D 的任务\n",
    "        self.timer = QTimer()\n",
    "        self.timer.timeout.connect(self.panda_app.taskMgr.step)\n",
    "        self.timer.start(16)  # 大约每16ms更新一次\n",
    "\n",
    "if __name__ == \"__main__\":\n",
    "    app = QApplication(sys.argv)\n",
    "    main_window = MainWindow()\n",
    "    main_window.show()\n",
    "    sys.exit(app.exec_())\n"
   ]
  },
  {
   "cell_type": "code",
   "execution_count": 2,
   "id": "45ec24ed-5040-445c-958f-d2c9ddb0e9d8",
   "metadata": {},
   "outputs": [],
   "source": [
    "import PyQt5"
   ]
  },
  {
   "cell_type": "code",
   "execution_count": 2,
   "id": "d7d8f614-2f94-4efe-99b4-92f10d024228",
   "metadata": {},
   "outputs": [],
   "source": [
    "import filepath"
   ]
  },
  {
   "cell_type": "code",
   "execution_count": 3,
   "id": "afc7a0f1-20e2-4e9e-ba9b-e1ad62f51d9a",
   "metadata": {},
   "outputs": [],
   "source": [
    "from panda3d_game.app import ControlShowBase"
   ]
  },
  {
   "cell_type": "code",
   "execution_count": 4,
   "id": "c6c89ffd-871c-42f2-8fe1-3f20a4196e48",
   "metadata": {},
   "outputs": [
    {
     "name": "stdout",
     "output_type": "stream",
     "text": [
      "init ContextShowBase\n",
      "---set ref---:render,<class 'panda3d.core.NodePath'>\n"
     ]
    },
    {
     "name": "stderr",
     "output_type": "stream",
     "text": [
      "Known pipe types:\n",
      "  glxGraphicsPipe\n",
      "(all display modules loaded.)\n",
      ":audio(error): Couldn't open default OpenAL device\n",
      ":audio(error): OpenALAudioManager: No open device or context\n",
      ":audio(error):   OpenALAudioManager is not valid, will use NullAudioManager\n",
      ":audio(error): Couldn't open default OpenAL device\n",
      ":audio(error): OpenALAudioManager: No open device or context\n",
      ":audio(error):   OpenALAudioManager is not valid, will use NullAudioManager\n"
     ]
    }
   ],
   "source": [
    "s = ControlShowBase()"
   ]
  },
  {
   "cell_type": "code",
   "execution_count": 5,
   "id": "907445a5-73e1-41d3-a490-f81275be65b1",
   "metadata": {},
   "outputs": [
    {
     "data": {
      "text/plain": [
       "<panda3d.core.GraphicsWindow at 0x7f8eab8426a0>"
      ]
     },
     "execution_count": 5,
     "metadata": {},
     "output_type": "execute_result"
    }
   ],
   "source": [
    "s.win"
   ]
  },
  {
   "cell_type": "code",
   "execution_count": 6,
   "id": "755f4385-cd2e-4922-aeff-43bda03814eb",
   "metadata": {},
   "outputs": [
    {
     "data": {
      "text/plain": [
       "panda3d.core.GraphicsWindow"
      ]
     },
     "execution_count": 6,
     "metadata": {},
     "output_type": "execute_result"
    }
   ],
   "source": [
    "type(s.win)"
   ]
  },
  {
   "cell_type": "code",
   "execution_count": 1,
   "id": "dd144c3c-224a-4a9c-a22b-5ed28e8667d3",
   "metadata": {},
   "outputs": [
    {
     "name": "stderr",
     "output_type": "stream",
     "text": [
      ":audio(error): Couldn't open default OpenAL device\n",
      ":audio(error): OpenALAudioManager: No open device or context\n",
      ":audio(error):   OpenALAudioManager is not valid, will use NullAudioManager\n",
      ":audio(error): Couldn't open default OpenAL device\n",
      ":audio(error): OpenALAudioManager: No open device or context\n",
      ":audio(error):   OpenALAudioManager is not valid, will use NullAudioManager\n",
      "Known pipe types:\n",
      "  glxGraphicsPipe\n",
      "(all display modules loaded.)\n"
     ]
    },
    {
     "ename": "AttributeError",
     "evalue": "module 'collections' has no attribute 'Callable'",
     "output_type": "error",
     "traceback": [
      "\u001b[0;31m---------------------------------------------------------------------------\u001b[0m",
      "\u001b[0;31mAttributeError\u001b[0m                            Traceback (most recent call last)",
      "Cell \u001b[0;32mIn[1], line 37\u001b[0m\n\u001b[1;32m     35\u001b[0m app \u001b[38;5;241m=\u001b[39m QtWidgets\u001b[38;5;241m.\u001b[39mQApplication(sys\u001b[38;5;241m.\u001b[39margv)\n\u001b[1;32m     36\u001b[0m main_window \u001b[38;5;241m=\u001b[39m QtWidgets\u001b[38;5;241m.\u001b[39mQMainWindow()\n\u001b[0;32m---> 37\u001b[0m panda_app \u001b[38;5;241m=\u001b[39m \u001b[43mPandaInQt\u001b[49m\u001b[43m(\u001b[49m\u001b[43mmain_window\u001b[49m\u001b[43m)\u001b[49m\n\u001b[1;32m     38\u001b[0m sys\u001b[38;5;241m.\u001b[39mexit(app\u001b[38;5;241m.\u001b[39mexec_())\n",
      "Cell \u001b[0;32mIn[1], line 25\u001b[0m, in \u001b[0;36mPandaInQt.__init__\u001b[0;34m(self, parent)\u001b[0m\n\u001b[1;32m     23\u001b[0m scene \u001b[38;5;241m=\u001b[39m \u001b[38;5;28mself\u001b[39m\u001b[38;5;241m.\u001b[39mloader\u001b[38;5;241m.\u001b[39mload_model(\u001b[38;5;124m\"\u001b[39m\u001b[38;5;124menvironment\u001b[39m\u001b[38;5;124m\"\u001b[39m)\n\u001b[1;32m     24\u001b[0m scene\u001b[38;5;241m.\u001b[39mreparent_to(\u001b[38;5;28mself\u001b[39m\u001b[38;5;241m.\u001b[39mrender)\n\u001b[0;32m---> 25\u001b[0m \u001b[38;5;28;43mself\u001b[39;49m\u001b[38;5;241;43m.\u001b[39;49m\u001b[43mstartDirect\u001b[49m\u001b[43m(\u001b[49m\u001b[43m)\u001b[49m\n",
      "File \u001b[0;32m/media/ywatcher/ExtDisk1/LDisk/Packages/game_env/env/lib/python3.11/site-packages/direct/showbase/ShowBase.py:3292\u001b[0m, in \u001b[0;36mShowBase.startDirect\u001b[0;34m(self, fWantDirect, fWantTk, fWantWx)\u001b[0m\n\u001b[1;32m   3288\u001b[0m \u001b[38;5;28;01mif\u001b[39;00m \u001b[38;5;28mself\u001b[39m\u001b[38;5;241m.\u001b[39mwantDirect:\n\u001b[1;32m   3289\u001b[0m     \u001b[38;5;66;03m# Use importlib to prevent this import from being picked up\u001b[39;00m\n\u001b[1;32m   3290\u001b[0m     \u001b[38;5;66;03m# by modulefinder when packaging an application.\u001b[39;00m\n\u001b[1;32m   3291\u001b[0m     DirectSession \u001b[38;5;241m=\u001b[39m importlib\u001b[38;5;241m.\u001b[39mimport_module(\u001b[38;5;124m'\u001b[39m\u001b[38;5;124mdirect.directtools.DirectSession\u001b[39m\u001b[38;5;124m'\u001b[39m)\n\u001b[0;32m-> 3292\u001b[0m     \u001b[38;5;28mself\u001b[39m\u001b[38;5;241m.\u001b[39mdirect \u001b[38;5;241m=\u001b[39m \u001b[43mDirectSession\u001b[49m\u001b[38;5;241;43m.\u001b[39;49m\u001b[43mDirectSession\u001b[49m\u001b[43m(\u001b[49m\u001b[43m)\u001b[49m\n\u001b[1;32m   3293\u001b[0m     \u001b[38;5;28mself\u001b[39m\u001b[38;5;241m.\u001b[39mdirect\u001b[38;5;241m.\u001b[39menable()\n\u001b[1;32m   3294\u001b[0m     builtins\u001b[38;5;241m.\u001b[39mdirect \u001b[38;5;241m=\u001b[39m \u001b[38;5;28mself\u001b[39m\u001b[38;5;241m.\u001b[39mdirect\n",
      "File \u001b[0;32m/media/ywatcher/ExtDisk1/LDisk/Packages/game_env/env/lib/python3.11/site-packages/direct/directtools/DirectSession.py:297\u001b[0m, in \u001b[0;36mDirectSession.__init__\u001b[0;34m(self)\u001b[0m\n\u001b[1;32m    295\u001b[0m     \u001b[38;5;28;01mfrom\u001b[39;00m \u001b[38;5;21;01mdirect\u001b[39;00m\u001b[38;5;21;01m.\u001b[39;00m\u001b[38;5;21;01mshowbase\u001b[39;00m \u001b[38;5;28;01mimport\u001b[39;00m TkGlobal\n\u001b[1;32m    296\u001b[0m     \u001b[38;5;28;01mfrom\u001b[39;00m \u001b[38;5;21;01mdirect\u001b[39;00m\u001b[38;5;21;01m.\u001b[39;00m\u001b[38;5;21;01mtkpanels\u001b[39;00m \u001b[38;5;28;01mimport\u001b[39;00m DirectSessionPanel\n\u001b[0;32m--> 297\u001b[0m     \u001b[38;5;28mself\u001b[39m\u001b[38;5;241m.\u001b[39mpanel \u001b[38;5;241m=\u001b[39m \u001b[43mDirectSessionPanel\u001b[49m\u001b[38;5;241;43m.\u001b[39;49m\u001b[43mDirectSessionPanel\u001b[49m\u001b[43m(\u001b[49m\u001b[43mparent\u001b[49m\u001b[43m \u001b[49m\u001b[38;5;241;43m=\u001b[39;49m\u001b[43m \u001b[49m\u001b[43mtkroot\u001b[49m\u001b[43m)\u001b[49m\n\u001b[1;32m    298\u001b[0m \u001b[38;5;28;01mtry\u001b[39;00m:\n\u001b[1;32m    299\u001b[0m     \u001b[38;5;66;03m# Has the clusterMode been set externally (i.e. via the\u001b[39;00m\n\u001b[1;32m    300\u001b[0m     \u001b[38;5;66;03m# bootstrap application?\u001b[39;00m\n\u001b[1;32m    301\u001b[0m     \u001b[38;5;28mself\u001b[39m\u001b[38;5;241m.\u001b[39mclusterMode \u001b[38;5;241m=\u001b[39m clusterMode\n",
      "File \u001b[0;32m/media/ywatcher/ExtDisk1/LDisk/Packages/game_env/env/lib/python3.11/site-packages/direct/tkpanels/DirectSessionPanel.py:41\u001b[0m, in \u001b[0;36mDirectSessionPanel.__init__\u001b[0;34m(self, parent, **kw)\u001b[0m\n\u001b[1;32m     38\u001b[0m \u001b[38;5;28mself\u001b[39m\u001b[38;5;241m.\u001b[39mdefineoptions(kw, optiondefs)\n\u001b[1;32m     40\u001b[0m \u001b[38;5;66;03m# Call superclass initialization function\u001b[39;00m\n\u001b[0;32m---> 41\u001b[0m \u001b[43mAppShell\u001b[49m\u001b[38;5;241;43m.\u001b[39;49m\u001b[38;5;21;43m__init__\u001b[39;49m\u001b[43m(\u001b[49m\u001b[38;5;28;43mself\u001b[39;49m\u001b[43m,\u001b[49m\u001b[43m \u001b[49m\u001b[43mparent\u001b[49m\u001b[43m)\u001b[49m\n\u001b[1;32m     43\u001b[0m \u001b[38;5;66;03m# Active light\u001b[39;00m\n\u001b[1;32m     44\u001b[0m \u001b[38;5;28;01mif\u001b[39;00m \u001b[38;5;28mlen\u001b[39m(base\u001b[38;5;241m.\u001b[39mdirect\u001b[38;5;241m.\u001b[39mlights) \u001b[38;5;241m>\u001b[39m \u001b[38;5;241m0\u001b[39m:\n",
      "File \u001b[0;32m/media/ywatcher/ExtDisk1/LDisk/Packages/game_env/env/lib/python3.11/site-packages/direct/tkwidgets/AppShell.py:100\u001b[0m, in \u001b[0;36mAppShell.__init__\u001b[0;34m(self, parent, **kw)\u001b[0m\n\u001b[1;32m     98\u001b[0m \u001b[38;5;28mself\u001b[39m\u001b[38;5;241m.\u001b[39mappInit()\n\u001b[1;32m     99\u001b[0m \u001b[38;5;66;03m# create the interface\u001b[39;00m\n\u001b[0;32m--> 100\u001b[0m \u001b[38;5;28;43mself\u001b[39;49m\u001b[38;5;241;43m.\u001b[39;49m\u001b[43m__createInterface\u001b[49m\u001b[43m(\u001b[49m\u001b[43m)\u001b[49m\n\u001b[1;32m    101\u001b[0m \u001b[38;5;66;03m# Set focus to ourselves\u001b[39;00m\n\u001b[1;32m    102\u001b[0m \u001b[38;5;28mself\u001b[39m\u001b[38;5;241m.\u001b[39mfocus_set()\n",
      "File \u001b[0;32m/media/ywatcher/ExtDisk1/LDisk/Packages/game_env/env/lib/python3.11/site-packages/direct/tkwidgets/AppShell.py:122\u001b[0m, in \u001b[0;36mAppShell.__createInterface\u001b[0;34m(self)\u001b[0m\n\u001b[1;32m    117\u001b[0m \u001b[38;5;66;03m#\u001b[39;00m\n\u001b[1;32m    118\u001b[0m \u001b[38;5;66;03m# Create the parts of the interface\u001b[39;00m\n\u001b[1;32m    119\u001b[0m \u001b[38;5;66;03m# which can be modified by subclasses\u001b[39;00m\n\u001b[1;32m    120\u001b[0m \u001b[38;5;66;03m#\u001b[39;00m\n\u001b[1;32m    121\u001b[0m \u001b[38;5;28mself\u001b[39m\u001b[38;5;241m.\u001b[39mcreateMenuBar()\n\u001b[0;32m--> 122\u001b[0m \u001b[38;5;28;43mself\u001b[39;49m\u001b[38;5;241;43m.\u001b[39;49m\u001b[43mcreateInterface\u001b[49m\u001b[43m(\u001b[49m\u001b[43m)\u001b[49m\n",
      "File \u001b[0;32m/media/ywatcher/ExtDisk1/LDisk/Packages/game_env/env/lib/python3.11/site-packages/direct/tkpanels/DirectSessionPanel.py:141\u001b[0m, in \u001b[0;36mDirectSessionPanel.createInterface\u001b[0;34m(self)\u001b[0m\n\u001b[1;32m    135\u001b[0m \u001b[38;5;66;03m# Widget to select node paths (and display list of selected node paths)\u001b[39;00m\n\u001b[1;32m    136\u001b[0m \u001b[38;5;28mself\u001b[39m\u001b[38;5;241m.\u001b[39mnodePathMenu \u001b[38;5;241m=\u001b[39m Pmw\u001b[38;5;241m.\u001b[39mComboBox(\n\u001b[1;32m    137\u001b[0m     menuFrame, labelpos \u001b[38;5;241m=\u001b[39m W, label_text \u001b[38;5;241m=\u001b[39m \u001b[38;5;124m'\u001b[39m\u001b[38;5;124mDIRECT Select:\u001b[39m\u001b[38;5;124m'\u001b[39m,\n\u001b[1;32m    138\u001b[0m     entry_width \u001b[38;5;241m=\u001b[39m \u001b[38;5;241m20\u001b[39m,\n\u001b[1;32m    139\u001b[0m     selectioncommand \u001b[38;5;241m=\u001b[39m \u001b[38;5;28mself\u001b[39m\u001b[38;5;241m.\u001b[39mselectNodePathNamed,\n\u001b[1;32m    140\u001b[0m     scrolledlist_items \u001b[38;5;241m=\u001b[39m \u001b[38;5;28mself\u001b[39m\u001b[38;5;241m.\u001b[39mnodePathNames)\n\u001b[0;32m--> 141\u001b[0m \u001b[38;5;28;43mself\u001b[39;49m\u001b[38;5;241;43m.\u001b[39;49m\u001b[43mnodePathMenu\u001b[49m\u001b[38;5;241;43m.\u001b[39;49m\u001b[43mselectitem\u001b[49m\u001b[43m(\u001b[49m\u001b[38;5;124;43m'\u001b[39;49m\u001b[38;5;124;43mwidget\u001b[39;49m\u001b[38;5;124;43m'\u001b[39;49m\u001b[43m)\u001b[49m\n\u001b[1;32m    142\u001b[0m \u001b[38;5;28mself\u001b[39m\u001b[38;5;241m.\u001b[39mnodePathMenuEntry \u001b[38;5;241m=\u001b[39m (\n\u001b[1;32m    143\u001b[0m     \u001b[38;5;28mself\u001b[39m\u001b[38;5;241m.\u001b[39mnodePathMenu\u001b[38;5;241m.\u001b[39mcomponent(\u001b[38;5;124m'\u001b[39m\u001b[38;5;124mentryfield_entry\u001b[39m\u001b[38;5;124m'\u001b[39m))\n\u001b[1;32m    144\u001b[0m \u001b[38;5;28mself\u001b[39m\u001b[38;5;241m.\u001b[39mnodePathMenuBG \u001b[38;5;241m=\u001b[39m (\n\u001b[1;32m    145\u001b[0m     \u001b[38;5;28mself\u001b[39m\u001b[38;5;241m.\u001b[39mnodePathMenuEntry\u001b[38;5;241m.\u001b[39mconfigure(\u001b[38;5;124m'\u001b[39m\u001b[38;5;124mbackground\u001b[39m\u001b[38;5;124m'\u001b[39m)[\u001b[38;5;241m3\u001b[39m])\n",
      "File \u001b[0;32m/media/ywatcher/ExtDisk1/LDisk/Packages/game_env/env/lib/python3.11/site-packages/Pmw/Pmw_2_0_1/lib/PmwComboBox.py:186\u001b[0m, in \u001b[0;36mComboBox.selectitem\u001b[0;34m(self, index, setentry)\u001b[0m\n\u001b[1;32m    184\u001b[0m \u001b[38;5;28mself\u001b[39m\u001b[38;5;241m.\u001b[39msee(index)\n\u001b[1;32m    185\u001b[0m \u001b[38;5;28;01mif\u001b[39;00m setentry:\n\u001b[0;32m--> 186\u001b[0m     \u001b[38;5;28;43mself\u001b[39;49m\u001b[38;5;241;43m.\u001b[39;49m\u001b[43m_entryfield\u001b[49m\u001b[38;5;241;43m.\u001b[39;49m\u001b[43msetentry\u001b[49m\u001b[43m(\u001b[49m\u001b[43mtext\u001b[49m\u001b[43m)\u001b[49m\n",
      "File \u001b[0;32m/media/ywatcher/ExtDisk1/LDisk/Packages/game_env/env/lib/python3.11/site-packages/Pmw/Pmw_2_0_1/lib/PmwEntryField.py:325\u001b[0m, in \u001b[0;36mEntryField.setentry\u001b[0;34m(self, text)\u001b[0m\n\u001b[1;32m    323\u001b[0m \u001b[38;5;28mself\u001b[39m\u001b[38;5;241m.\u001b[39m_preProcess()\n\u001b[1;32m    324\u001b[0m \u001b[38;5;28mself\u001b[39m\u001b[38;5;241m.\u001b[39m__setEntry(text)\n\u001b[0;32m--> 325\u001b[0m \u001b[38;5;28;01mreturn\u001b[39;00m \u001b[38;5;28;43mself\u001b[39;49m\u001b[38;5;241;43m.\u001b[39;49m\u001b[43m_postProcess\u001b[49m\u001b[43m(\u001b[49m\u001b[43m)\u001b[49m\n",
      "File \u001b[0;32m/media/ywatcher/ExtDisk1/LDisk/Packages/game_env/env/lib/python3.11/site-packages/Pmw/Pmw_2_0_1/lib/PmwEntryField.py:218\u001b[0m, in \u001b[0;36mEntryField._postProcess\u001b[0;34m(self)\u001b[0m\n\u001b[1;32m    215\u001b[0m     \u001b[38;5;28;01mreturn\u001b[39;00m valid\n\u001b[1;32m    217\u001b[0m cmd \u001b[38;5;241m=\u001b[39m \u001b[38;5;28mself\u001b[39m[\u001b[38;5;124m'\u001b[39m\u001b[38;5;124mmodifiedcommand\u001b[39m\u001b[38;5;124m'\u001b[39m]\n\u001b[0;32m--> 218\u001b[0m \u001b[38;5;28;01mif\u001b[39;00m \u001b[38;5;28misinstance\u001b[39m(cmd, \u001b[43mcollections\u001b[49m\u001b[38;5;241;43m.\u001b[39;49m\u001b[43mCallable\u001b[49m) \u001b[38;5;129;01mand\u001b[39;00m previousText \u001b[38;5;241m!=\u001b[39m \u001b[38;5;28mself\u001b[39m\u001b[38;5;241m.\u001b[39m_entryFieldEntry\u001b[38;5;241m.\u001b[39mget():\n\u001b[1;32m    219\u001b[0m     cmd()\n\u001b[1;32m    220\u001b[0m \u001b[38;5;28;01mreturn\u001b[39;00m valid\n",
      "\u001b[0;31mAttributeError\u001b[0m: module 'collections' has no attribute 'Callable'"
     ]
    }
   ],
   "source": [
    "# from demos.physics_room import RoomScene\n",
    "from direct.showbase.ShowBase import ShowBase\n",
    "\n",
    "from panda3d.core import WindowProperties\n",
    "from PyQt5 import QtWidgets\n",
    "import sys\n",
    "\n",
    "class PandaInQt(ShowBase):\n",
    "    def __init__(self, parent):\n",
    "        ShowBase.__init__(self, windowType='none')\n",
    "        \n",
    "        # self.isShowBaseInit = True\n",
    "        # RoomScene.__init__(self,25,25,25)\n",
    "        self.parent = parent\n",
    "        self.parent.setGeometry(100, 100, 800, 600)\n",
    "        self.parent.show()\n",
    "\n",
    "        props = WindowProperties()\n",
    "        props.set_origin(0, 0)\n",
    "        props.set_size(self.parent.width(), self.parent.height())\n",
    "        props.set_parent_window(int(self.parent.winId()))\n",
    "        self.win = self.open_default_window(props=props)\n",
    "        scene = self.loader.load_model(\"environment\")\n",
    "        scene.reparent_to(self.render)\n",
    "        self.startDirect()\n",
    "#         self.taskMgr.add(self.spin_camera_task, \"SpinCameraTask\")\n",
    "\n",
    "#     def spin_camera_task(self, task):\n",
    "#         angle_degrees = task.time * 6.0\n",
    "#         angle_radians = angle_degrees * (3.14159 / 180.0)\n",
    "#         self.camera.set_pos(20 * sin(angle_radians), -20 * cos(angle_radians), 3)\n",
    "#         self.camera.look_at(0, 0, 0)\n",
    "#         return task.cont\n",
    "\n",
    "app = QtWidgets.QApplication(sys.argv)\n",
    "main_window = QtWidgets.QMainWindow()\n",
    "panda_app = PandaInQt(main_window)\n",
    "sys.exit(app.exec_())\n"
   ]
  },
  {
   "cell_type": "code",
   "execution_count": 1,
   "id": "461d869e-ef74-474a-a972-f78c773fec51",
   "metadata": {},
   "outputs": [
    {
     "name": "stdout",
     "output_type": "stream",
     "text": [
      "Help on function startDirect in module direct.showbase.ShowBase:\n",
      "\n",
      "startDirect(self, fWantDirect=1, fWantTk=1, fWantWx=0)\n",
      "\n"
     ]
    }
   ],
   "source": [
    "from direct.showbase.ShowBase import ShowBase\n",
    "help(ShowBase.startDirect)"
   ]
  },
  {
   "cell_type": "code",
   "execution_count": 1,
   "id": "5eaffe2b-89be-4bab-817e-8a94e1129530",
   "metadata": {},
   "outputs": [],
   "source": [
    "import filepath"
   ]
  },
  {
   "cell_type": "code",
   "execution_count": 1,
   "id": "6a583186-4c65-411f-9f83-cfb9904ea85d",
   "metadata": {},
   "outputs": [
    {
     "name": "stderr",
     "output_type": "stream",
     "text": [
      ":audio(error): Couldn't open default OpenAL device\n",
      ":audio(error): OpenALAudioManager: No open device or context\n",
      ":audio(error):   OpenALAudioManager is not valid, will use NullAudioManager\n",
      ":audio(error): Couldn't open default OpenAL device\n",
      ":audio(error): OpenALAudioManager: No open device or context\n",
      ":audio(error):   OpenALAudioManager is not valid, will use NullAudioManager\n",
      "Known pipe types:\n",
      "  glxGraphicsPipe\n",
      "(all display modules loaded.)\n",
      ":display:x11display(error): BadMatch (invalid parameter attributes)\n"
     ]
    }
   ],
   "source": [
    "from direct.showbase.ShowBase import ShowBase\n",
    "\n",
    "from panda3d.core import WindowProperties\n",
    "from PyQt5 import QtWidgets\n",
    "import sys\n",
    "import tkinter as tk\n",
    "from tkinter import Button\n",
    "from panda3d.core import WindowProperties\n",
    "class AppTk(ShowBase):\n",
    "\n",
    "    def __init__(self):\n",
    "        ShowBase.__init__(self, windowType='none')\n",
    "        self.startTk()\n",
    "\n",
    "        self.tk = self.tkRoot\n",
    "        self.tk.geometry(\"500x400\")\n",
    "\n",
    "        self.label_frame = tk.LabelFrame(self.tk, text='Panda3D Example', width=420, height=340)\n",
    "        self.label_frame.pack()\n",
    "\n",
    "        button = Button(self.tk, text='Click me !', bd='5', command=self.test)\n",
    "        button.pack()\n",
    "\n",
    "        # Set properties of the Panda3D window\n",
    "        props = WindowProperties()\n",
    "        props.set_parent_window(self.label_frame.winfo_id())  # Display within the label frame\n",
    "        props.set_origin(10, 20)  # Relative to the label frame\n",
    "        props.set_size(400, 300)\n",
    "\n",
    "        self.make_default_pipe()\n",
    "        self.open_default_window(props=props)\n",
    "\n",
    "        scene = self.loader.load_model(\"environment\")\n",
    "        scene.reparent_to(self.render)\n",
    "\n",
    "    def test(self):\n",
    "        print(\"Hello\")\n",
    "\n",
    "\n",
    "app = AppTk()\n",
    "# app.run()\n"
   ]
  },
  {
   "cell_type": "code",
   "execution_count": 3,
   "id": "735b9d69-7e7b-4cf8-adca-711b0943eb20",
   "metadata": {},
   "outputs": [
    {
     "ename": "AttributeError",
     "evalue": "'AppTk' object has no attribute 'startQt'",
     "output_type": "error",
     "traceback": [
      "\u001b[0;31m---------------------------------------------------------------------------\u001b[0m",
      "\u001b[0;31mAttributeError\u001b[0m                            Traceback (most recent call last)",
      "Cell \u001b[0;32mIn[3], line 1\u001b[0m\n\u001b[0;32m----> 1\u001b[0m help(\u001b[43mapp\u001b[49m\u001b[38;5;241;43m.\u001b[39;49m\u001b[43mstartQt\u001b[49m)\n",
      "\u001b[0;31mAttributeError\u001b[0m: 'AppTk' object has no attribute 'startQt'"
     ]
    }
   ],
   "source": [
    "help(app.startQt)"
   ]
  },
  {
   "cell_type": "code",
   "execution_count": 3,
   "id": "9f5f6a38-c98a-4aca-bd80-2f15b9bb3963",
   "metadata": {},
   "outputs": [],
   "source": [
    "app.run()"
   ]
  },
  {
   "cell_type": "code",
   "execution_count": 1,
   "id": "1d6ff766-8e58-416b-aa5f-564710c5930a",
   "metadata": {},
   "outputs": [
    {
     "name": "stderr",
     "output_type": "stream",
     "text": [
      ":audio(error): Couldn't open default OpenAL device\n",
      ":audio(error): OpenALAudioManager: No open device or context\n",
      ":audio(error):   OpenALAudioManager is not valid, will use NullAudioManager\n",
      ":audio(error): Couldn't open default OpenAL device\n",
      ":audio(error): OpenALAudioManager: No open device or context\n",
      ":audio(error):   OpenALAudioManager is not valid, will use NullAudioManager\n",
      "Known pipe types:\n",
      "  glxGraphicsPipe\n",
      "(all display modules loaded.)\n"
     ]
    }
   ],
   "source": [
    "from direct.showbase.ShowBase import ShowBase\n",
    "from panda3d.core import WindowProperties\n",
    "import tkinter as tk\n",
    "\n",
    "class PandaInTk(ShowBase):\n",
    "    def __init__(self, root):\n",
    "        ShowBase.__init__(self, windowType='none')\n",
    "        self.startTk()\n",
    "        self.root = root\n",
    "        self.frame = tk.Frame(root, width=800, height=600)\n",
    "        self.frame.pack(fill=tk.BOTH, expand=tk.YES)\n",
    "        self.frame.update()\n",
    "\n",
    "        props = WindowProperties()\n",
    "        props.set_origin(0, 0)\n",
    "        props.set_size(self.frame.winfo_width(), self.frame.winfo_height())\n",
    "        props.set_parent_window(self.frame.winfo_id())\n",
    "        self.win = self.open_default_window(props=props)\n",
    "        scene = self.loader.load_model(\"environment\")\n",
    "        scene.reparent_to(self.render)\n",
    "\n",
    "#         self.taskMgr.add(self.spin_camera_task, \"SpinCameraTask\")\n",
    "\n",
    "#     def spin_camera_task(self, task):\n",
    "#         angle_degrees = task.time * 6.0\n",
    "#         angle_radians = angle_degrees * (3.14159 / 180.0)\n",
    "#         self.camera.set_pos(20 * sin(angle_radians), -20 * cos(angle_radians), 3)\n",
    "#         self.camera.look_at(0, 0, 0)\n",
    "#         return task.cont\n",
    "\n",
    "root = tk.Tk()\n",
    "app = PandaInTk(root)\n",
    "root.mainloop()\n"
   ]
  },
  {
   "cell_type": "code",
   "execution_count": 1,
   "id": "fbbcd688-c464-4e00-aac4-cacf900cf596",
   "metadata": {},
   "outputs": [
    {
     "name": "stderr",
     "output_type": "stream",
     "text": [
      ":audio(error): Couldn't open default OpenAL device\n",
      ":audio(error): OpenALAudioManager: No open device or context\n",
      ":audio(error):   OpenALAudioManager is not valid, will use NullAudioManager\n",
      ":audio(error): Couldn't open default OpenAL device\n",
      ":audio(error): OpenALAudioManager: No open device or context\n",
      ":audio(error):   OpenALAudioManager is not valid, will use NullAudioManager\n",
      "Known pipe types:\n",
      "  glxGraphicsPipe\n",
      "(all display modules loaded.)\n"
     ]
    },
    {
     "ename": "SystemExit",
     "evalue": "0",
     "output_type": "error",
     "traceback": [
      "An exception has occurred, use %tb to see the full traceback.\n",
      "\u001b[0;31mSystemExit\u001b[0m\u001b[0;31m:\u001b[0m 0\n"
     ]
    },
    {
     "name": "stderr",
     "output_type": "stream",
     "text": [
      "/media/ywatcher/ExtDisk1/LDisk/Packages/game_env/env/lib/python3.11/site-packages/IPython/core/interactiveshell.py:3585: UserWarning: To exit: use 'exit', 'quit', or Ctrl-D.\n",
      "  warn(\"To exit: use 'exit', 'quit', or Ctrl-D.\", stacklevel=1)\n"
     ]
    }
   ],
   "source": [
    "from direct.showbase.ShowBase import ShowBase\n",
    "from panda3d.core import WindowProperties\n",
    "from PyQt5 import QtWidgets\n",
    "import sys\n",
    "import ctypes\n",
    "\n",
    "class PandaInQt(ShowBase):\n",
    "    def __init__(self, parent):\n",
    "        ShowBase.__init__(self, windowType='none')\n",
    "        self.parent = parent\n",
    "        self.parent.setGeometry(100, 100, 800, 600)\n",
    "        self.parent.show()\n",
    "\n",
    "        props = WindowProperties()\n",
    "        props.set_origin(0, 0)\n",
    "        props.set_size(self.parent.width(), self.parent.height())\n",
    "        props.set_parent_window(int(self.parent.winId()))\n",
    "        self.win = self.open_default_window(props=props)\n",
    "\n",
    "        self.taskMgr.add(self.spin_camera_task, \"SpinCameraTask\")\n",
    "\n",
    "    def spin_camera_task(self, task):\n",
    "        angle_degrees = task.time * 6.0\n",
    "        angle_radians = angle_degrees * (3.14159 / 180.0)\n",
    "        self.camera.set_pos(20 * sin(angle_radians), -20 * cos(angle_radians), 3)\n",
    "        self.camera.look_at(0, 0, 0)\n",
    "        return task.cont\n",
    "\n",
    "app = QtWidgets.QApplication(sys.argv)\n",
    "main_window = QtWidgets.QMainWindow()\n",
    "panda_app = PandaInQt(main_window)\n",
    "sys.exit(app.exec_())\n"
   ]
  },
  {
   "cell_type": "code",
   "execution_count": null,
   "id": "0a810fbb-c93a-408c-be8b-312c6604a4f0",
   "metadata": {},
   "outputs": [],
   "source": []
  }
 ],
 "metadata": {
  "kernelspec": {
   "display_name": "game",
   "language": "python",
   "name": "game"
  },
  "language_info": {
   "codemirror_mode": {
    "name": "ipython",
    "version": 3
   },
   "file_extension": ".py",
   "mimetype": "text/x-python",
   "name": "python",
   "nbconvert_exporter": "python",
   "pygments_lexer": "ipython3",
   "version": "3.11.9"
  }
 },
 "nbformat": 4,
 "nbformat_minor": 5
}
