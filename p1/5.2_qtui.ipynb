{
 "cells": [
  {
   "cell_type": "code",
   "execution_count": 1,
   "id": "4a129ea8-4092-4a6b-a363-40ec4cc0114b",
   "metadata": {},
   "outputs": [],
   "source": [
    "import sys\n",
    "from PyQt5.QtWidgets import QApplication, QMainWindow, QVBoxLayout, QWidget\n",
    "from panda3d.core import WindowProperties\n",
    "from direct.showbase.ShowBase import ShowBase"
   ]
  },
  {
   "cell_type": "code",
   "execution_count": 2,
   "id": "ab66252c-8bad-4d67-b756-cc7512ab12e2",
   "metadata": {},
   "outputs": [],
   "source": [
    "class MainWindow(QMainWindow):\n",
    "    def __init__(self):\n",
    "        super().__init__(self)\n",
    "        self.setWindowTitle(\"window\")\n",
    "        \n",
    "        central_widget = QWidget()\n",
    "        layout = QVBoxLayout()\n",
    "        central_widget.setLayout(layout)\n",
    "        self.setCentralWidget(central_widget)\n",
    "        \n",
    "        "
   ]
  },
  {
   "cell_type": "code",
   "execution_count": 12,
   "id": "311511b4-17ed-4ed2-a086-55131b851849",
   "metadata": {},
   "outputs": [
    {
     "ename": "NameError",
     "evalue": "name 'base' is not defined",
     "output_type": "error",
     "traceback": [
      "\u001b[0;31m---------------------------------------------------------------------------\u001b[0m",
      "\u001b[0;31mNameError\u001b[0m                                 Traceback (most recent call last)",
      "Cell \u001b[0;32mIn[12], line 4\u001b[0m\n\u001b[1;32m      1\u001b[0m \u001b[38;5;28;01mfrom\u001b[39;00m \u001b[38;5;21;01mpanda3d\u001b[39;00m\u001b[38;5;21;01m.\u001b[39;00m\u001b[38;5;21;01mcore\u001b[39;00m \u001b[38;5;28;01mimport\u001b[39;00m WindowProperties\n\u001b[1;32m      3\u001b[0m \u001b[38;5;66;03m# 创建主显示区域\u001b[39;00m\n\u001b[0;32m----> 4\u001b[0m main_display_region \u001b[38;5;241m=\u001b[39m \u001b[43mbase\u001b[49m\u001b[38;5;241m.\u001b[39mwin\u001b[38;5;241m.\u001b[39mmake_display_region(\u001b[38;5;241m0\u001b[39m, \u001b[38;5;241m1\u001b[39m, \u001b[38;5;241m0\u001b[39m, \u001b[38;5;241m1\u001b[39m)\n\u001b[1;32m      5\u001b[0m main_display_region\u001b[38;5;241m.\u001b[39mset_sort(\u001b[38;5;241m0\u001b[39m)  \u001b[38;5;66;03m# 默认显示区域，sort值最小\u001b[39;00m\n\u001b[1;32m      7\u001b[0m \u001b[38;5;66;03m# 创建新的显示区域\u001b[39;00m\n",
      "\u001b[0;31mNameError\u001b[0m: name 'base' is not defined"
     ]
    }
   ],
   "source": [
    "class WrappedApp:\n",
    "    def __init__(self):\n",
    "        pass\n",
    "    \n",
    "    \n",
    "    def run():\n",
    "        pass"
   ]
  }
 ],
 "metadata": {
  "kernelspec": {
   "display_name": "game",
   "language": "python",
   "name": "game"
  },
  "language_info": {
   "codemirror_mode": {
    "name": "ipython",
    "version": 3
   },
   "file_extension": ".py",
   "mimetype": "text/x-python",
   "name": "python",
   "nbconvert_exporter": "python",
   "pygments_lexer": "ipython3",
   "version": "3.11.9"
  }
 },
 "nbformat": 4,
 "nbformat_minor": 5
}
