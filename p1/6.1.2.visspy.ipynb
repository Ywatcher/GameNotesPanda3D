{
 "cells": [
  {
   "cell_type": "code",
   "execution_count": 2,
   "id": "cc6bc521-d274-4d4b-af94-6c69da3e9b84",
   "metadata": {},
   "outputs": [],
   "source": [
    "%gui qt"
   ]
  },
  {
   "cell_type": "code",
   "execution_count": null,
   "id": "d17d631e-62d5-4ac6-acfd-30902e8287a5",
   "metadata": {},
   "outputs": [],
   "source": [
    "\n",
    "o"
   ]
  },
  {
   "cell_type": "code",
   "execution_count": 1,
   "id": "f4639607-d9ff-4ac7-9a4f-b5d168521c17",
   "metadata": {
    "collapsed": true,
    "jupyter": {
     "outputs_hidden": true
    }
   },
   "outputs": [
    {
     "data": {
      "application/vnd.jupyter.widget-view+json": {
       "model_id": "c8f6278c1e5f4e82975648a2447e8ad4",
       "version_major": 2,
       "version_minor": 0
      },
      "text/plain": [
       "RFBOutputContext()"
      ]
     },
     "metadata": {},
     "output_type": "display_data"
    },
    {
     "name": "stdout",
     "output_type": "stream",
     "text": [
      "Platform: Linux-5.13.0-28-generic-x86_64-with-glibc2.35\n",
      "Python:   3.11.9 | packaged by conda-forge | (main, Apr 19 2024, 18:36:13) [GCC 12.3.0]\n",
      "NumPy:    1.26.4\n",
      "Backend:  jupyter_rfb\n",
      "pyqt4:    None\n",
      "pyqt5:    ('PyQt5', '5.15.9', '5.15.8')\n",
      "pyqt6:    None\n",
      "pyside:   None\n",
      "pyside2:  None\n",
      "pyside6:  None\n",
      "pyglet:   None\n",
      "glfw:     None\n",
      "sdl2:     None\n",
      "wx:       None\n",
      "egl:      EGL 1.5 NVIDIA: OpenGL_ES OpenGL\n",
      "osmesa:   None\n",
      "tkinter:  None\n",
      "jupyter_rfb: jupyter_rfb\n",
      "_test:    None\n",
      "\n",
      "GL version:  '4.6 (Compatibility Profile) Mesa 23.2.1-1ubuntu3.1~22.04.2'\n",
      "MAX_TEXTURE_SIZE: 16384\n",
      "Extensions: 'GL_ARB_multisample GL_EXT_abgr GL_EXT_bgra GL_EXT_blend_color GL_EXT_blend_minmax GL_EXT_blend_subtract GL_EXT_copy_texture GL_EXT_subtexture GL_EXT_texture_object GL_EXT_vertex_array GL_EXT_compiled_vertex_array GL_EXT_texture GL_EXT_texture3D GL_IBM_rasterpos_clip GL_ARB_point_parameters GL_EXT_draw_range_elements GL_EXT_packed_pixels GL_EXT_point_parameters GL_EXT_rescale_normal GL_EXT_separate_specular_color GL_EXT_texture_edge_clamp GL_SGIS_generate_mipmap GL_SGIS_texture_border_clamp GL_SGIS_texture_edge_clamp GL_SGIS_texture_lod GL_ARB_framebuffer_sRGB GL_ARB_multitexture GL_EXT_framebuffer_sRGB GL_IBM_multimode_draw_arrays GL_IBM_texture_mirrored_repeat GL_ARB_texture_cube_map GL_ARB_texture_env_add GL_ARB_transpose_matrix GL_EXT_blend_func_separate GL_EXT_fog_coord GL_EXT_multi_draw_arrays GL_EXT_secondary_color GL_EXT_texture_env_add GL_EXT_texture_filter_anisotropic GL_EXT_texture_lod_bias GL_INGR_blend_func_separate GL_NV_blend_square GL_NV_light_max_exponent GL_NV_texgen_reflection GL_NV_texture_env_combine4 GL_S3_s3tc GL_SUN_multi_draw_arrays GL_ARB_texture_border_clamp GL_ARB_texture_compression GL_EXT_framebuffer_object GL_EXT_texture_compression_s3tc GL_EXT_texture_env_combine GL_EXT_texture_env_dot3 GL_MESA_window_pos GL_NV_packed_depth_stencil GL_NV_texture_rectangle GL_ARB_depth_texture GL_ARB_occlusion_query GL_ARB_shadow GL_ARB_texture_env_combine GL_ARB_texture_env_crossbar GL_ARB_texture_env_dot3 GL_ARB_texture_mirrored_repeat GL_ARB_window_pos GL_ATI_fragment_shader GL_EXT_stencil_two_side GL_EXT_texture_cube_map GL_NV_copy_depth_to_color GL_NV_depth_clamp GL_NV_fog_distance GL_NV_half_float GL_APPLE_packed_pixels GL_ARB_draw_buffers GL_ARB_fragment_program GL_ARB_fragment_shader GL_ARB_shader_objects GL_ARB_vertex_program GL_ARB_vertex_shader GL_ATI_draw_buffers GL_ATI_texture_env_combine3 GL_ATI_texture_float GL_EXT_depth_bounds_test GL_EXT_shadow_funcs GL_EXT_stencil_wrap GL_MESA_pack_invert GL_NV_primitive_restart GL_ARB_depth_clamp GL_ARB_fragment_program_shadow GL_ARB_half_float_pixel GL_ARB_occlusion_query2 GL_ARB_point_sprite GL_ARB_shading_language_100 GL_ARB_sync GL_ARB_texture_non_power_of_two GL_ARB_vertex_buffer_object GL_ATI_blend_equation_separate GL_EXT_blend_equation_separate GL_OES_read_format GL_ARB_color_buffer_float GL_ARB_pixel_buffer_object GL_ARB_texture_compression_rgtc GL_ARB_texture_float GL_ARB_texture_rectangle GL_ATI_texture_compression_3dc GL_EXT_packed_float GL_EXT_pixel_buffer_object GL_EXT_texture_compression_dxt1 GL_EXT_texture_compression_rgtc GL_EXT_texture_mirror_clamp GL_EXT_texture_rectangle GL_EXT_texture_sRGB GL_EXT_texture_shared_exponent GL_ARB_framebuffer_object GL_EXT_framebuffer_blit GL_EXT_framebuffer_multisample GL_EXT_packed_depth_stencil GL_ARB_vertex_array_object GL_ATI_separate_stencil GL_ATI_texture_mirror_once GL_EXT_draw_buffers2 GL_EXT_draw_instanced GL_EXT_gpu_program_parameters GL_EXT_gpu_shader4 GL_EXT_texture_array GL_EXT_texture_compression_latc GL_EXT_texture_integer GL_EXT_texture_sRGB_decode GL_EXT_timer_query GL_OES_EGL_image GL_AMD_performance_monitor GL_EXT_texture_buffer_object GL_AMD_texture_texture4 GL_ARB_copy_buffer GL_ARB_depth_buffer_float GL_ARB_draw_instanced GL_ARB_half_float_vertex GL_ARB_instanced_arrays GL_ARB_map_buffer_range GL_ARB_texture_buffer_object GL_ARB_texture_rg GL_ARB_texture_swizzle GL_ARB_vertex_array_bgra GL_EXT_texture_swizzle GL_EXT_vertex_array_bgra GL_NV_conditional_render GL_AMD_conservative_depth GL_AMD_depth_clamp_separate GL_AMD_draw_buffers_blend GL_AMD_seamless_cubemap_per_texture GL_AMD_shader_stencil_export GL_ARB_ES2_compatibility GL_ARB_blend_func_extended GL_ARB_compatibility GL_ARB_debug_output GL_ARB_draw_buffers_blend GL_ARB_draw_elements_base_vertex GL_ARB_explicit_attrib_location GL_ARB_fragment_coord_conventions GL_ARB_provoking_vertex GL_ARB_sample_shading GL_ARB_sampler_objects GL_ARB_seamless_cube_map GL_ARB_shader_stencil_export GL_ARB_shader_texture_lod GL_ARB_tessellation_shader GL_ARB_texture_buffer_object_rgb32 GL_ARB_texture_cube_map_array GL_ARB_texture_gather GL_ARB_texture_multisample GL_ARB_texture_query_lod GL_ARB_texture_rgb10_a2ui GL_ARB_uniform_buffer_object GL_ARB_vertex_type_2_10_10_10_rev GL_ATI_meminfo GL_EXT_provoking_vertex GL_EXT_texture_snorm GL_MESA_texture_signed_rgba GL_NV_copy_image GL_NV_texture_barrier GL_ARB_draw_indirect GL_ARB_get_program_binary GL_ARB_gpu_shader5 GL_ARB_gpu_shader_fp64 GL_ARB_robustness GL_ARB_separate_shader_objects GL_ARB_shader_bit_encoding GL_ARB_shader_precision GL_ARB_shader_subroutine GL_ARB_texture_compression_bptc GL_ARB_timer_query GL_ARB_transform_feedback2 GL_ARB_transform_feedback3 GL_ARB_vertex_attrib_64bit GL_ARB_viewport_array GL_EXT_direct_state_access GL_EXT_shader_image_load_store GL_EXT_vertex_attrib_64bit GL_NV_vdpau_interop GL_AMD_multi_draw_indirect GL_ANGLE_texture_compression_dxt3 GL_ANGLE_texture_compression_dxt5 GL_ARB_base_instance GL_ARB_compressed_texture_pixel_storage GL_ARB_conservative_depth GL_ARB_internalformat_query GL_ARB_map_buffer_alignment GL_ARB_shader_atomic_counters GL_ARB_shader_image_load_store GL_ARB_shading_language_420pack GL_ARB_shading_language_packing GL_ARB_texture_storage GL_ARB_transform_feedback_instanced GL_EXT_framebuffer_multisample_blit_scaled GL_EXT_transform_feedback GL_AMD_query_buffer_object GL_AMD_shader_trinary_minmax GL_AMD_vertex_shader_layer GL_AMD_vertex_shader_viewport_index GL_ARB_ES3_compatibility GL_ARB_arrays_of_arrays GL_ARB_clear_buffer_object GL_ARB_compute_shader GL_ARB_copy_image GL_ARB_explicit_uniform_location GL_ARB_fragment_layer_viewport GL_ARB_framebuffer_no_attachments GL_ARB_invalidate_subdata GL_ARB_multi_draw_indirect GL_ARB_program_interface_query GL_ARB_robust_buffer_access_behavior GL_ARB_shader_image_size GL_ARB_shader_storage_buffer_object GL_ARB_stencil_texturing GL_ARB_texture_buffer_range GL_ARB_texture_query_levels GL_ARB_texture_storage_multisample GL_ARB_texture_view GL_ARB_vertex_attrib_binding GL_KHR_debug GL_KHR_robustness GL_KHR_texture_compression_astc_ldr GL_AMD_pinned_memory GL_ARB_bindless_texture GL_ARB_buffer_storage GL_ARB_clear_texture GL_ARB_compute_variable_group_size GL_ARB_enhanced_layouts GL_ARB_indirect_parameters GL_ARB_internalformat_query2 GL_ARB_multi_bind GL_ARB_query_buffer_object GL_ARB_seamless_cubemap_per_texture GL_ARB_shader_draw_parameters GL_ARB_shader_group_vote GL_ARB_shading_language_include GL_ARB_sparse_texture GL_ARB_texture_mirror_clamp_to_edge GL_ARB_texture_stencil8 GL_ARB_vertex_type_10f_11f_11f_rev GL_EXT_debug_label GL_EXT_shader_integer_mix GL_NVX_gpu_memory_info GL_ARB_ES3_1_compatibility GL_ARB_clip_control GL_ARB_conditional_render_inverted GL_ARB_cull_distance GL_ARB_derivative_control GL_ARB_direct_state_access GL_ARB_get_texture_sub_image GL_ARB_pipeline_statistics_query GL_ARB_shader_texture_image_samples GL_ARB_sparse_buffer GL_ARB_texture_barrier GL_ARB_transform_feedback_overflow_query GL_EXT_polygon_offset_clamp GL_EXT_shader_image_load_formatted GL_KHR_blend_equation_advanced GL_KHR_context_flush_control GL_KHR_robust_buffer_access_behavior GL_NV_shader_atomic_int64 GL_ARB_ES3_2_compatibility GL_ARB_gpu_shader_int64 GL_ARB_parallel_shader_compile GL_ARB_shader_atomic_counter_ops GL_ARB_shader_ballot GL_ARB_shader_clock GL_ARB_shader_viewport_layer_array GL_ARB_sparse_texture2 GL_ARB_sparse_texture_clamp GL_EXT_shader_samples_identical GL_EXT_texture_sRGB_R8 GL_KHR_no_error GL_KHR_texture_compression_astc_sliced_3d GL_ARB_gl_spirv GL_ARB_spirv_extensions GL_EXT_window_rectangles GL_MESA_shader_integer_functions GL_ARB_polygon_offset_clamp GL_ARB_texture_filter_anisotropic GL_EXT_memory_object GL_EXT_memory_object_fd GL_EXT_semaphore GL_EXT_semaphore_fd GL_KHR_parallel_shader_compile GL_NV_alpha_to_coverage_dither_control GL_AMD_framebuffer_multisample_advanced GL_EXT_EGL_image_storage GL_EXT_texture_shadow_lod GL_INTEL_blackhole_render GL_MESA_framebuffer_flip_y GL_NV_compute_shader_derivatives GL_EXT_EGL_sync GL_EXT_demote_to_helper_invocation GL_NV_ES1_1_compatibility '\n",
      "\n"
     ]
    }
   ],
   "source": [
    "import vispy\n",
    "# use jupyter rfb \n",
    "print(vispy.sys_info())"
   ]
  },
  {
   "cell_type": "code",
   "execution_count": null,
   "id": "e476552f-393f-4cc5-8521-339020b1bcce",
   "metadata": {},
   "outputs": [],
   "source": [
    "import sys\n",
    "from vispy import app, gloo\n"
   ]
  },
  {
   "cell_type": "code",
   "execution_count": 6,
   "id": "c20a6507-c90b-4e47-bbd5-d4bc79ff75a8",
   "metadata": {
    "scrolled": true
   },
   "outputs": [
    {
     "data": {
      "application/vnd.jupyter.widget-view+json": {
       "model_id": "a8980c4b7c664ac3add03dac6ce74a98",
       "version_major": 2,
       "version_minor": 0
      },
      "text/plain": [
       "RFBOutputContext()"
      ]
     },
     "metadata": {},
     "output_type": "display_data"
    }
   ],
   "source": [
    "# import sys\n",
    "# from vispy import app, gloo\n",
    "\n",
    "# class MyCanvas(app.Canvas):\n",
    "#     def on_draw(self, event):\n",
    "#         gloo.set_clear_color((0.2, 0.4, 0.6, 1.0))\n",
    "#         gloo.clear()\n",
    "\n",
    "\n",
    "# canvas = MyCanvas(keys='interactive')\n",
    "# canvas.show()\n",
    "\n",
    "# if __name__ == '__main__' and sys.flags.interactive == 0:\n",
    "#     app.run()"
   ]
  },
  {
   "cell_type": "code",
   "execution_count": 12,
   "id": "12a1bbe5-0d1d-4ee8-b78d-5e27299b42a7",
   "metadata": {
    "scrolled": true
   },
   "outputs": [],
   "source": [
    "import sys\n",
    "from vispy import app, scene, visuals,use\n",
    "from vispy.util.filter import gaussian_filter\n",
    "import numpy as np\n",
    "import vispy.io as io\n",
    "# if offscreen \n",
    "# use egl or osmesa\n",
    "try:\n",
    "    use('egl')\n",
    "except:\n",
    "    pass\n",
    "# canvas = scene.SceneCanvas(keys='interactive', title='Isocurve(s) overlayed '\n",
    "#                            'over Random Image Example')\n",
    "\n",
    "class IsoCanvas(scene.SceneCanvas):\n",
    "    def __init__(self):\n",
    "        scene.SceneCanvas.__init__(self,keys='interactive', title='Isocurve(s) overlayed '\n",
    "                           'over Random Image Example'\n",
    "                                  )\n",
    "        \n",
    "        self.show()\n",
    "        # self.size =  800, 1600\n",
    "        self.unfreeze()\n",
    "        # Set up a viewbox to display the image with interactive pan/zoom\n",
    "        self.view = self.central_widget.add_view()\n",
    "        # Create the image\n",
    "        img_data = np.empty((200, 100, 3), dtype=np.ubyte)\n",
    "        noise = np.random.normal(size=(200, 100), loc=50, scale=150)\n",
    "        noise = gaussian_filter(noise, (4, 4, 0))\n",
    "        img_data[:] = noise[..., np.newaxis]\n",
    "        image = scene.visuals.Image(img_data, parent=self.view.scene)\n",
    "        # move image behind curves\n",
    "        image.transform = visuals.transforms.STTransform(translate=(0, 0, 0.5))\n",
    "\n",
    "# level and color setup\n",
    "        levels = [40, 50, 60]\n",
    "        color_lev = [(1, 0, 0, 1),\n",
    "             (1, 0.5, 0, 1),\n",
    "             (1, 1, 0, 1)]\n",
    "\n",
    "# Create isocurve, make a child of the image to ensure the two are always\n",
    "# aligned.\n",
    "        curve = scene.visuals.Isocurve(noise, levels=levels, color_lev=color_lev,\n",
    "                               parent=self.view.scene)\n",
    "\n",
    "# Set 2D camera\n",
    "        self.view.camera = scene.PanZoomCamera(aspect=1)\n",
    "# the camera will scale to the contents in the scene\n",
    "        self.view.camera.set_range()\n",
    "\n",
    "canvas = IsoCanvas()\n",
    "img=canvas.render()\n",
    "io.write_png(\"res/iso_.png\",img)\n"
   ]
  },
  {
   "cell_type": "code",
   "execution_count": null,
   "id": "5347383f-a683-4bd5-a94d-816e46feca71",
   "metadata": {},
   "outputs": [],
   "source": [
    "# https://vispy.org/gallery/scene/instanced_mesh.html#sphx-glr-gallery-scene-instanced-mesh-py"
   ]
  },
  {
   "cell_type": "code",
   "execution_count": 6,
   "id": "674d9d72-1ac1-40b2-a8e4-385fbc3b7876",
   "metadata": {},
   "outputs": [
    {
     "name": "stdout",
     "output_type": "stream",
     "text": [
      "Help on method show in module vispy.app.canvas:\n",
      "\n",
      "show(visible=True, run=False) method of __main__.IsoCanvas instance\n",
      "    Show or hide the canvas\n",
      "    \n",
      "    Parameters\n",
      "    ----------\n",
      "    visible : bool\n",
      "        Make the canvas visible.\n",
      "    run : bool\n",
      "        Run the backend event loop.\n",
      "\n"
     ]
    }
   ],
   "source": [
    "help(canvas.show)"
   ]
  },
  {
   "cell_type": "code",
   "execution_count": null,
   "id": "49c05ce1-5b84-435b-bbfe-83361de20184",
   "metadata": {},
   "outputs": [],
   "source": [
    "# draw stars\n"
   ]
  },
  {
   "cell_type": "code",
   "execution_count": 9,
   "id": "6666d3d2-3878-4f1c-9da6-19a02abfcffd",
   "metadata": {},
   "outputs": [
    {
     "data": {
      "application/vnd.jupyter.widget-view+json": {
       "model_id": "f5d350f4d77747978759e69ea39f9190",
       "version_major": 2,
       "version_minor": 0
      },
      "text/plain": [
       "RFBOutputContext()"
      ]
     },
     "metadata": {},
     "output_type": "display_data"
    }
   ],
   "source": [
    "from vispy import app, gloo\n",
    "from vispy.gloo import Program\n",
    "import vispy.plot as vp\n",
    "import vispy.io as io\n",
    "\n",
    "vertex = \"\"\"\n",
    "    attribute vec4 color;\n",
    "    attribute vec2 position;\n",
    "    varying vec4 v_color;\n",
    "    void main()\n",
    "    {\n",
    "        gl_Position = vec4(position, 0.0, 1.0);\n",
    "        v_color = color;\n",
    "    } \"\"\"\n",
    "\n",
    "fragment = \"\"\"\n",
    "    varying vec4 v_color;\n",
    "    void main()\n",
    "    {\n",
    "        gl_FragColor = v_color;\n",
    "    } \"\"\"\n",
    "\n",
    "\n",
    "class Canvas(app.Canvas):\n",
    "    def __init__(self):\n",
    "        super().__init__(size=(512, 512), title='Colored quad',\n",
    "                         keys='interactive')\n",
    "\n",
    "        # Build program\n",
    "        self.program = Program(vertex, fragment, count=4)\n",
    "\n",
    "        # Set uniforms and attributes\n",
    "        self.program['color'] = [(1, 0, 0, 1), (0, 1, 0, 1),\n",
    "                                 (0, 0, 1, 1), (1, 1, 0, 1)]\n",
    "        self.program['position'] = [(-1, -1), (-1, +1),\n",
    "                                    (+1, -1), (+1, +1)]\n",
    "\n",
    "        gloo.set_viewport(0, 0, *self.physical_size)\n",
    "\n",
    "        self.show()\n",
    "\n",
    "    def on_draw(self, event):\n",
    "        gloo.clear()\n",
    "        self.program.draw('triangle_strip')\n",
    "\n",
    "    def on_resize(self, event):\n",
    "        gloo.set_viewport(0, 0, *event.physical_size)\n",
    "\n",
    "if __name__ == '__main__':\n",
    "    # c = Canvas()\n",
    "    # app.run()\n",
    "    c = Canvas()\n",
    "    img = c.render()\n",
    "    "
   ]
  },
  {
   "cell_type": "code",
   "execution_count": 4,
   "id": "52db623a-8f2b-438a-b896-53d84e15308c",
   "metadata": {},
   "outputs": [
    {
     "data": {
      "application/vnd.jupyter.widget-view+json": {
       "model_id": "eafd21233e4b497c921ac40a306c63db",
       "version_major": 2,
       "version_minor": 0
      },
      "text/plain": [
       "RFBOutputContext()"
      ]
     },
     "metadata": {},
     "output_type": "display_data"
    },
    {
     "ename": "AttributeError",
     "evalue": "module 'vispy.visuals.ellipse' has no attribute 'EllipseCollection'",
     "output_type": "error",
     "traceback": [
      "\u001b[0;31m---------------------------------------------------------------------------\u001b[0m",
      "\u001b[0;31mAttributeError\u001b[0m                            Traceback (most recent call last)",
      "Cell \u001b[0;32mIn[4], line 20\u001b[0m\n\u001b[1;32m     17\u001b[0m size \u001b[38;5;241m=\u001b[39m np\u001b[38;5;241m.\u001b[39mrandom\u001b[38;5;241m.\u001b[39mrand(n) \u001b[38;5;241m*\u001b[39m \u001b[38;5;241m100\u001b[39m  \u001b[38;5;66;03m# Base size for ellipses\u001b[39;00m\n\u001b[1;32m     19\u001b[0m \u001b[38;5;66;03m# Create ellipses\u001b[39;00m\n\u001b[0;32m---> 20\u001b[0m ellipses \u001b[38;5;241m=\u001b[39m \u001b[43mvisuals\u001b[49m\u001b[38;5;241;43m.\u001b[39;49m\u001b[43mellipse\u001b[49m\u001b[38;5;241;43m.\u001b[39;49m\u001b[43mEllipseCollection\u001b[49m()\n\u001b[1;32m     21\u001b[0m \u001b[38;5;28;01mfor\u001b[39;00m i \u001b[38;5;129;01min\u001b[39;00m \u001b[38;5;28mrange\u001b[39m(n):\n\u001b[1;32m     22\u001b[0m     width \u001b[38;5;241m=\u001b[39m y[i] \u001b[38;5;241m*\u001b[39m \u001b[38;5;241m0.2\u001b[39m\n",
      "\u001b[0;31mAttributeError\u001b[0m: module 'vispy.visuals.ellipse' has no attribute 'EllipseCollection'"
     ]
    }
   ],
   "source": [
    "import numpy as np\n",
    "from vispy import scene\n",
    "# from vispy.scene import visuals\n",
    "from vispy import visuals\n",
    "from vispy.app import Application\n",
    "\n",
    "# Specify the backend explicitly\n",
    "app = Application(backend_name='pyqt5')  # Options include 'pyqt5', 'wx', 'tk', 'osmesa', etc.\n",
    "# Create a canvas and plot\n",
    "canvas = scene.SceneCanvas(keys='interactive', show=True)\n",
    "view = canvas.central_widget.add_view()\n",
    "\n",
    "# Data\n",
    "n = 100\n",
    "x = np.random.rand(n) * 10\n",
    "y = np.random.rand(n) * 10\n",
    "size = np.random.rand(n) * 100  # Base size for ellipses\n",
    "\n",
    "# Create ellipses\n",
    "ellipses = visuals.ellipse.EllipseCollection()\n",
    "for i in range(n):\n",
    "    width = y[i] * 0.2\n",
    "    ellipses.append([x[i], y[i]], width, 1)  # width varies by y, height is constant\n",
    "\n",
    "# Add to canvas\n",
    "view.add(ellipses)\n",
    "view.camera = scene.cameras.PanZoomCamera(rect=(0, 0, 10, 10))\n",
    "\n",
    "canvas.app.run()\n"
   ]
  },
  {
   "cell_type": "code",
   "execution_count": 4,
   "id": "e043d5ff-7225-4ecf-9cc7-e459e6ca0316",
   "metadata": {},
   "outputs": [
    {
     "name": "stdout",
     "output_type": "stream",
     "text": [
      "Help on method on_draw in module vispy.scene.canvas:\n",
      "\n",
      "on_draw(event) method of vispy.scene.canvas.SceneCanvas instance\n",
      "    Draw handler\n",
      "    \n",
      "    Parameters\n",
      "    ----------\n",
      "    event : instance of Event\n",
      "        The draw event.\n",
      "\n"
     ]
    }
   ],
   "source": [
    "help(canvas.on_draw)"
   ]
  },
  {
   "cell_type": "code",
   "execution_count": null,
   "id": "0b8fad04-8209-4dd7-904b-17d3dc82476c",
   "metadata": {},
   "outputs": [],
   "source": []
  }
 ],
 "metadata": {
  "kernelspec": {
   "display_name": "game",
   "language": "python",
   "name": "game"
  },
  "language_info": {
   "codemirror_mode": {
    "name": "ipython",
    "version": 3
   },
   "file_extension": ".py",
   "mimetype": "text/x-python",
   "name": "python",
   "nbconvert_exporter": "python",
   "pygments_lexer": "ipython3",
   "version": "3.11.9"
  }
 },
 "nbformat": 4,
 "nbformat_minor": 5
}
