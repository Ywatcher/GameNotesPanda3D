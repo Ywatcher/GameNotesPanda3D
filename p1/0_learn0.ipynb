{
 "cells": [
  {
   "cell_type": "code",
   "execution_count": 1,
   "id": "ac693163-f222-4fd0-8177-c6e86d04bcb6",
   "metadata": {},
   "outputs": [],
   "source": [
    "import panda3d\n",
    "from direct.showbase.ShowBase import ShowBase"
   ]
  },
  {
   "cell_type": "code",
   "execution_count": 2,
   "id": "5f521c58-e573-49bb-9a6d-7b4d56dc34ec",
   "metadata": {},
   "outputs": [
    {
     "name": "stdout",
     "output_type": "stream",
     "text": [
      "Help on function accept in module direct.showbase.DirectObject:\n",
      "\n",
      "accept(self, event, method, extraArgs=[])\n",
      "\n"
     ]
    }
   ],
   "source": [
    "help(ShowBase.accept)"
   ]
  },
  {
   "cell_type": "code",
   "execution_count": 3,
   "id": "c49b0dc5-627d-4369-af2d-937b162b4a44",
   "metadata": {},
   "outputs": [
    {
     "name": "stdout",
     "output_type": "stream",
     "text": [
      "Help on function acceptOnce in module direct.showbase.DirectObject:\n",
      "\n",
      "acceptOnce(self, event, method, extraArgs=[])\n",
      "\n"
     ]
    }
   ],
   "source": [
    "help(ShowBase.accept_once)"
   ]
  },
  {
   "cell_type": "code",
   "execution_count": 1,
   "id": "3bfaeece-0dd8-4e5b-8c0b-a9421bd1640b",
   "metadata": {},
   "outputs": [],
   "source": [
    "\n",
    "\n",
    "# class App1(ShowBase):\n",
    "    \n",
    "#     def __init__(self):\n",
    "#         ShowBase.__init__(self)\n",
    "        \n",
    "# app = App1()\n",
    "# app.run()\n",
    "# del app"
   ]
  },
  {
   "cell_type": "code",
   "execution_count": 2,
   "id": "eb1c164b-a47c-429d-a08f-614a3cd653c0",
   "metadata": {},
   "outputs": [
    {
     "name": "stderr",
     "output_type": "stream",
     "text": [
      "Known pipe types:\n",
      "  glxGraphicsPipe\n",
      "(1 aux display modules not yet loaded.)\n"
     ]
    }
   ],
   "source": [
    "class MyApp(ShowBase):\n",
    "\n",
    "\n",
    "    def __init__(self):\n",
    "\n",
    "        ShowBase.__init__(self)\n",
    "\n",
    "\n",
    "        # Load the environment model.\n",
    "\n",
    "        self.scene = self.loader.loadModel(\"models/environment\")\n",
    "\n",
    "        # Reparent the model to render.\n",
    "\n",
    "        self.scene.reparentTo(self.render)\n",
    "\n",
    "        # Apply scale and position transforms on the model.\n",
    "\n",
    "        self.scene.setScale(0.25, 0.25, 0.25)\n",
    "\n",
    "        self.scene.setPos(-8, 42, 0)\n",
    "        \n",
    "\n",
    "app = MyApp()\n",
    "# app.run()\n"
   ]
  },
  {
   "cell_type": "code",
   "execution_count": 5,
   "id": "d422bb87-1c68-4363-a764-dc532d5f4950",
   "metadata": {},
   "outputs": [
    {
     "data": {
      "text/plain": [
       "panda3d.core.NodePath"
      ]
     },
     "execution_count": 5,
     "metadata": {},
     "output_type": "execute_result"
    }
   ],
   "source": [
    "s = app.scene\n",
    "\n",
    "type(app.scene)"
   ]
  },
  {
   "cell_type": "code",
   "execution_count": 7,
   "id": "b2104430-a07a-4ed3-9aeb-273a3b0ba26f",
   "metadata": {},
   "outputs": [
    {
     "data": {
      "text/plain": [
       "panda3d.core.NodePathCollection"
      ]
     },
     "execution_count": 7,
     "metadata": {},
     "output_type": "execute_result"
    }
   ],
   "source": [
    "type(s.children)"
   ]
  },
  {
   "cell_type": "code",
   "execution_count": 11,
   "id": "218dfd08-2f54-4f6a-acad-742304bcf871",
   "metadata": {},
   "outputs": [],
   "source": [
    "b = s.find(\"Branch2\")"
   ]
  },
  {
   "cell_type": "code",
   "execution_count": 6,
   "id": "0a146155-e1be-41a2-81d7-61d5159d9425",
   "metadata": {},
   "outputs": [],
   "source": [
    "n = app.buttonThrowers[0].node()"
   ]
  },
  {
   "cell_type": "code",
   "execution_count": null,
   "id": "170e6bf3-4a2c-468d-8a7c-0e5ccc23e076",
   "metadata": {},
   "outputs": [],
   "source": [
    "n.setButtonRepeatEvent"
   ]
  },
  {
   "cell_type": "code",
   "execution_count": 2,
   "id": "96047703-11f6-4f31-97c0-c0ee16365629",
   "metadata": {},
   "outputs": [],
   "source": [
    "import sys\n",
    "import time\n",
    "\n",
    "\n",
    "from ursina import input_handler\n",
    "from ursina.input_handler import held_keys\n",
    "\n",
    "from direct.task import Task\n",
    "from direct.showbase.ShowBaseGlobal import globalClock\n",
    "\n",
    "\n",
    "# from panda3d.core import \n",
    "\n",
    "class InputSupport:\n",
    "    \n",
    "    def __init__(self, app:ShowBase):\n",
    "        \n",
    "        # copy from     ursina/ursina/main.py\n",
    "        self.app = app \n",
    "        self.app.pewied = False # what \n",
    "        \n",
    "        # input\n",
    "        self.app.buttonThrowers[0].node().setButtonDownEvent(\"ButtonDown\") \n",
    "        self.app.buttonThrowers[0].node().setButtonRepeatEvent(\"ButtonRepeat\") \n",
    "        self.app.buttonThrowers[0].node().setButtonUpEvent(\"ButtonUp\") \n",
    "        self.app.buttonThrowers[0].node().setKeystrokeEvent(\"keystroke\")\n",
    "        self._Input_name_changes = []\n",
    "        \n",
    "        for e in keyboard_keys:\n",
    "            self.app.accept(f\"raw-{e}\", self.input, [e,True])\n",
    "            self.app.accept(f\"raw-{e}-up\", self.input_up, [e,True])\n",
    "            self.app.accept(f\"raw-{e}-repeat\", self.input_hold, [e,True])# FIXME\n",
    "        \n",
    "        self.app.accept(\"buttonDown\", self.input)\n",
    "        # buttonUp, input_up\n",
    "        # buttonHold, input_Hold\n",
    "        # keystroke, text_input\n",
    "            \n",
    "        \n",
    "        # Button up\n",
    "        # Repeat\n",
    "        \n",
    "        \n",
    "        \n",
    "\n",
    "\n",
    "\n",
    "\n",
    "ursina_2_panda3d = {} # key name from ursina to panda3d\n",
    "\n",
    "class Demo(ShowBase):\n",
    "    def __init__(self):\n",
    "        super().__init__(self)\n",
    "        # TODO: read doc\n",
    "        # about add, accept\n",
    "        # taskMgr.add(self.myTaskFunc, 'myTaskName', taskChain = 'myChain')\n",
    "\n",
    "        # and roles of the name string \n",
    "        self.taskMgr.add(self.timer_task, \"timer_task\") \n",
    "        self.accept(\"escape\", self.quit)\n",
    "        \n",
    "    def timer_task(self, task):\n",
    "        \n",
    "        # task: a task object\n",
    "        # TODO: read doc of input_handler\n",
    "        # does it have instances?\n",
    "        for key, value in input_handler.held_keys.items():\n",
    "            if value != 0:\n",
    "                print(key)\n",
    "                \n",
    "        return Task.cont # TODO: what is this\n",
    "    \n",
    "    def remove_all_task(self):\n",
    "        self.taskMgr.remove_all_task(\"timer_task\")\n",
    "        \n",
    "    def quit(self):\n",
    "        # TODO: log tools \n",
    "        # log or not depend on configurations\n",
    "        print(\"...Demo Method: escape...\")\n",
    "        print(\"remove task in demo\")\n",
    "        self.remove_all_task()\n",
    "        # TODO: wrap these strings\n",
    "        print(\"ShowBase.destroy()\")\n",
    "        self.destroy()\n",
    "        print(\"demo destroyed\")\n",
    "        sys.exit(0)\n",
    "    \n"
   ]
  },
  {
   "cell_type": "code",
   "execution_count": 5,
   "id": "255b0464-ffa3-4aad-b43d-3906e0d0bfaa",
   "metadata": {},
   "outputs": [],
   "source": [
    "del demo"
   ]
  },
  {
   "cell_type": "code",
   "execution_count": 6,
   "id": "6aa6b006-7a90-40bd-bee9-86dff324c25c",
   "metadata": {},
   "outputs": [
    {
     "name": "stderr",
     "output_type": "stream",
     "text": [
      "Known pipe types:\n",
      "  glxGraphicsPipe\n",
      "(1 aux display modules not yet loaded.)\n"
     ]
    },
    {
     "ename": "Exception",
     "evalue": "Attempt to spawn multiple ShowBase instances!",
     "output_type": "error",
     "traceback": [
      "\u001b[0;31m---------------------------------------------------------------------------\u001b[0m",
      "\u001b[0;31mException\u001b[0m                                 Traceback (most recent call last)",
      "Cell \u001b[0;32mIn[6], line 1\u001b[0m\n\u001b[0;32m----> 1\u001b[0m demo \u001b[38;5;241m=\u001b[39m \u001b[43mDemo\u001b[49m\u001b[43m(\u001b[49m\u001b[43m)\u001b[49m\n",
      "Cell \u001b[0;32mIn[2], line 8\u001b[0m, in \u001b[0;36mDemo.__init__\u001b[0;34m(self)\u001b[0m\n\u001b[1;32m      7\u001b[0m \u001b[38;5;28;01mdef\u001b[39;00m \u001b[38;5;21m__init__\u001b[39m(\u001b[38;5;28mself\u001b[39m):\n\u001b[0;32m----> 8\u001b[0m     \u001b[38;5;28;43msuper\u001b[39;49m\u001b[43m(\u001b[49m\u001b[43m)\u001b[49m\u001b[38;5;241;43m.\u001b[39;49m\u001b[38;5;21;43m__init__\u001b[39;49m\u001b[43m(\u001b[49m\u001b[38;5;28;43mself\u001b[39;49m\u001b[43m)\u001b[49m\n\u001b[1;32m      9\u001b[0m     \u001b[38;5;66;03m# TODO: read doc\u001b[39;00m\n\u001b[1;32m     10\u001b[0m     \u001b[38;5;66;03m# about add, accept\u001b[39;00m\n\u001b[1;32m     11\u001b[0m     \u001b[38;5;66;03m# and roles of the name string \u001b[39;00m\n\u001b[1;32m     12\u001b[0m     \u001b[38;5;28mself\u001b[39m\u001b[38;5;241m.\u001b[39mtaskMgr\u001b[38;5;241m.\u001b[39madd(\u001b[38;5;28mself\u001b[39m\u001b[38;5;241m.\u001b[39mtimer_task, \u001b[38;5;124m\"\u001b[39m\u001b[38;5;124mtimer_task\u001b[39m\u001b[38;5;124m\"\u001b[39m) \n",
      "File \u001b[0;32m~/anaconda3/envs/blender/lib/python3.10/site-packages/direct/showbase/ShowBase.py:429\u001b[0m, in \u001b[0;36mShowBase.__init__\u001b[0;34m(self, fStartDirect, windowType)\u001b[0m\n\u001b[1;32m    427\u001b[0m \u001b[38;5;66;03m# Make sure we're not making more than one ShowBase.\u001b[39;00m\n\u001b[1;32m    428\u001b[0m \u001b[38;5;28;01mif\u001b[39;00m \u001b[38;5;28mhasattr\u001b[39m(builtins, \u001b[38;5;124m'\u001b[39m\u001b[38;5;124mbase\u001b[39m\u001b[38;5;124m'\u001b[39m):\n\u001b[0;32m--> 429\u001b[0m     \u001b[38;5;28;01mraise\u001b[39;00m \u001b[38;5;167;01mException\u001b[39;00m(\u001b[38;5;124m\"\u001b[39m\u001b[38;5;124mAttempt to spawn multiple ShowBase instances!\u001b[39m\u001b[38;5;124m\"\u001b[39m)\n\u001b[1;32m    431\u001b[0m \u001b[38;5;66;03m# DO NOT ADD TO THIS LIST.  We're trying to phase out the use of\u001b[39;00m\n\u001b[1;32m    432\u001b[0m \u001b[38;5;66;03m# built-in variables by ShowBase.  Use a Global module if necessary.\u001b[39;00m\n\u001b[1;32m    433\u001b[0m builtins\u001b[38;5;241m.\u001b[39mbase \u001b[38;5;241m=\u001b[39m \u001b[38;5;28mself\u001b[39m\n",
      "\u001b[0;31mException\u001b[0m: Attempt to spawn multiple ShowBase instances!"
     ]
    }
   ],
   "source": [
    "demo = Demo()"
   ]
  },
  {
   "cell_type": "code",
   "execution_count": 1,
   "id": "9cad217c-e278-4321-a227-af0cb0b19a25",
   "metadata": {},
   "outputs": [
    {
     "ename": "NameError",
     "evalue": "name 'demo' is not defined",
     "output_type": "error",
     "traceback": [
      "\u001b[0;31m---------------------------------------------------------------------------\u001b[0m",
      "\u001b[0;31mNameError\u001b[0m                                 Traceback (most recent call last)",
      "Cell \u001b[0;32mIn[1], line 1\u001b[0m\n\u001b[0;32m----> 1\u001b[0m \u001b[43mdemo\u001b[49m\u001b[38;5;241m.\u001b[39m\u001b[38;5;18m__dict__\u001b[39m()\n",
      "\u001b[0;31mNameError\u001b[0m: name 'demo' is not defined"
     ]
    }
   ],
   "source": [
    "demo.__dict__()"
   ]
  },
  {
   "cell_type": "code",
   "execution_count": 1,
   "id": "2f4cd108-fc94-4210-b876-51c79c7d538e",
   "metadata": {},
   "outputs": [],
   "source": [
    "from panda3d.core import GeomVertexFormat, GeomVertexData, Geom, GeomVertexWriter, GeomTriangles, GeomNode\n",
    "from direct.showbase.ShowBase import ShowBase\n"
   ]
  },
  {
   "cell_type": "code",
   "execution_count": 2,
   "id": "3a464fec-85f1-412d-a8ac-9db7ef345f5e",
   "metadata": {},
   "outputs": [],
   "source": [
    "# modeling\n",
    "vertex_format = GeomVertexFormat.getV3()\n",
    "vertex_data = GeomVertexData('vertex_data', vertex_format, Geom.UHStatic)\n",
    "# 创建一个顶点写入器\n",
    "vertex_writer = GeomVertexWriter(vertex_data, 'vertex')\n",
    "\n",
    "# 添加顶点坐标 (x, y, z)\n",
    "vertex_writer.addData3f(0, 0, 0)  # 顶点 1\n",
    "vertex_writer.addData3f(10, 0, 0)  # 顶点 2\n",
    "vertex_writer.addData3f(0, 10, 0)  # 顶点 3\n",
    "# 创建几何形状\n",
    "triangles = GeomTriangles(Geom.UHStatic)\n",
    "\n",
    "# 定义三角形，使用顶点的索引\n",
    "triangles.addVertices(0, 1, 2)\n",
    "triangles.closePrimitive()\n",
    "# 创建几何对象\n",
    "geom = Geom(vertex_data)\n",
    "geom.addPrimitive(triangles)\n",
    "\n",
    "# 创建一个几何节点\n",
    "geom_node = GeomNode('triangle')\n",
    "geom_node.addGeom(geom)\n"
   ]
  },
  {
   "cell_type": "code",
   "execution_count": null,
   "id": "91e5ae95-99f3-4877-bb21-38b0e7e3c01a",
   "metadata": {},
   "outputs": [
    {
     "name": "stderr",
     "output_type": "stream",
     "text": [
      "Known pipe types:\n",
      "  glxGraphicsPipe\n",
      "(1 aux display modules not yet loaded.)\n"
     ]
    }
   ],
   "source": [
    "from panda3d.core import NodePath\n",
    "\n",
    "class MyApp(ShowBase):\n",
    "    def __init__(self):\n",
    "        ShowBase.__init__(self)\n",
    "        \n",
    "        # 创建一个节点路径并将几何节点附加到该路径\n",
    "        \n",
    "        self.nodePath = NodePath(geom_node)\n",
    "        self.nodePath.setPos(0, 10, 0)\n",
    "        self.nodePath.reparentTo(self.render)\n",
    "        \n",
    "        # 设置位置，旋转等\n",
    "        \n",
    "        \n",
    "        self.camera.lookAt(0,10,0)\n",
    "\n",
    "app = MyApp()\n",
    "app.run()\n"
   ]
  },
  {
   "cell_type": "code",
   "execution_count": 7,
   "id": "76e1906f-5e17-448e-8509-db8ba68d6b88",
   "metadata": {},
   "outputs": [
    {
     "data": {
      "text/plain": [
       "'vertex_data'"
      ]
     },
     "execution_count": 7,
     "metadata": {},
     "output_type": "execute_result"
    }
   ],
   "source": [
    "vertex_data.name"
   ]
  },
  {
   "cell_type": "code",
   "execution_count": null,
   "id": "67b125f2-654a-437d-837d-618493a595ab",
   "metadata": {},
   "outputs": [],
   "source": [
    "app.run()"
   ]
  },
  {
   "cell_type": "code",
   "execution_count": null,
   "id": "1b792026-0fd6-4eb3-81ce-74c56a01ce3f",
   "metadata": {},
   "outputs": [
    {
     "name": "stderr",
     "output_type": "stream",
     "text": [
      "Known pipe types:\n",
      "  glxGraphicsPipe\n",
      "(1 aux display modules not yet loaded.)\n"
     ]
    }
   ],
   "source": [
    "from panda3d.core import NodePath, Geom, GeomNode, GeomVertexData, GeomVertexFormat, GeomVertexWriter, GeomTriangles\n",
    "from direct.showbase.ShowBase import ShowBase\n",
    "\n",
    "class MyApp(ShowBase):\n",
    "    def __init__(self):\n",
    "        ShowBase.__init__(self)\n",
    "\n",
    "        # 定义多组三顶点坐标\n",
    "        triangles_coords = [\n",
    "            [(0, 0, 0), (1, 0, 0), (0, 1, 0)],  # 第一个三角形\n",
    "            [(1, 0, 0), (1, 1, 0), (0, 1, 0)],  # 第二个三角形\n",
    "            [(0, 0, 1), (1, 0, 1), (0, 1, 1)],  # 第三个三角形\n",
    "        ]\n",
    "\n",
    "        # 创建顶点格式和顶点数据\n",
    "        vertex_format = GeomVertexFormat.getV3()\n",
    "        vertex_data = GeomVertexData(\"triangles\", vertex_format, Geom.UHStatic)\n",
    "        vertex_writer = GeomVertexWriter(vertex_data, \"vertex\")\n",
    "\n",
    "        # 创建 GeomTriangles 对象\n",
    "        triangles = GeomTriangles(Geom.UHStatic)\n",
    "\n",
    "        # 添加所有三角形的顶点\n",
    "        vertex_index = 0\n",
    "        for tri_coords in triangles_coords:\n",
    "            for coord in tri_coords:\n",
    "                vertex_writer.addData3f(*coord)\n",
    "            triangles.addVertices(vertex_index, vertex_index + 1, vertex_index + 2)\n",
    "            vertex_index += 3\n",
    "        \n",
    "        triangles.closePrimitive()\n",
    "\n",
    "        # 创建 Geom 并附加到 GeomNode\n",
    "        geom = Geom(vertex_data)\n",
    "        geom.addPrimitive(triangles)\n",
    "\n",
    "        geom_node = GeomNode(\"triangles\")\n",
    "        geom_node.addGeom(geom)\n",
    "\n",
    "        # 包装 GeomNode 到 NodePath 并添加到渲染树中\n",
    "        node_path = NodePath(geom_node)\n",
    "        node_path.reparentTo(self.render)\n",
    "\n",
    "        # 设置摄像机，使其看到三角形\n",
    "        self.camera.setPos(0, -3, 2)\n",
    "        self.camera.lookAt(node_path)\n",
    "\n",
    "app = MyApp()\n",
    "app.run()"
   ]
  },
  {
   "cell_type": "code",
   "execution_count": null,
   "id": "1b73063b-ae46-47a6-a8d8-f0d31287b681",
   "metadata": {},
   "outputs": [],
   "source": []
  }
 ],
 "metadata": {
  "kernelspec": {
   "display_name": "blender",
   "language": "python",
   "name": "blender"
  },
  "language_info": {
   "codemirror_mode": {
    "name": "ipython",
    "version": 3
   },
   "file_extension": ".py",
   "mimetype": "text/x-python",
   "name": "python",
   "nbconvert_exporter": "python",
   "pygments_lexer": "ipython3",
   "version": "3.10.6"
  }
 },
 "nbformat": 4,
 "nbformat_minor": 5
}
