{
 "cells": [
  {
   "cell_type": "code",
   "execution_count": 1,
   "id": "d943efd7-046e-4a6e-a127-2e618a2e6901",
   "metadata": {},
   "outputs": [
    {
     "name": "stderr",
     "output_type": "stream",
     "text": [
      "Known pipe types:\n",
      "  glxGraphicsPipe\n",
      "(all display modules loaded.)\n",
      ":audio(error): Couldn't open default OpenAL device\n",
      ":audio(error): OpenALAudioManager: No open device or context\n",
      ":audio(error):   OpenALAudioManager is not valid, will use NullAudioManager\n",
      ":audio(error): Couldn't open default OpenAL device\n",
      ":audio(error): OpenALAudioManager: No open device or context\n",
      ":audio(error):   OpenALAudioManager is not valid, will use NullAudioManager\n"
     ]
    },
    {
     "name": "stdout",
     "output_type": "stream",
     "text": [
      "init ContextShowBase\n",
      "---set ref---:render,<class 'panda3d.core.NodePath'>\n",
      "(60000, 3)\n",
      "---<__main__.StarSphere object at 0x7f0b36ff6650> run(), at 2024-10-06 02:46:24.035906---\n",
      "---<__main__.StarSphere object at 0x7f0b36ff6650> destroy at 2024-10-06 02:47:08.306135---\n",
      "---<__main__.StarSphere object at 0x7f0b36ff6650> destroyed at 2024-10-06 02:47:08.306570, exit---\n"
     ]
    },
    {
     "ename": "SystemExit",
     "evalue": "",
     "output_type": "error",
     "traceback": [
      "An exception has occurred, use %tb to see the full traceback.\n",
      "\u001b[0;31mSystemExit\u001b[0m\n"
     ]
    },
    {
     "name": "stderr",
     "output_type": "stream",
     "text": [
      "/media/ywatcher/ExtDisk1/LDisk/Packages/game_env/env/lib/python3.11/site-packages/IPython/core/interactiveshell.py:3585: UserWarning: To exit: use 'exit', 'quit', or Ctrl-D.\n",
      "  warn(\"To exit: use 'exit', 'quit', or Ctrl-D.\", stacklevel=1)\n"
     ]
    }
   ],
   "source": [
    "import sys\n",
    "from vispy import app, scene, visuals,use\n",
    "from vispy.util.filter import gaussian_filter\n",
    "import numpy as np\n",
    "import vispy.io as io\n",
    "from vispy.scene.visuals import Ellipse\n",
    "# if offscreen \n",
    "# use egl or osmesa\n",
    "import filepath\n",
    "import os\n",
    "from util.repo import res_root\n",
    "from util.texture import np2texture, rgba_mpl2pd3d, texture_load_np\n",
    "from panda3d.core import PNMImage, Texture\n",
    "from panda3d_game.app import *\n",
    "from demos.ball_room import MassedBall,tmoon\n",
    "from panda3d.core import (\n",
    "    Geom,\n",
    "    GeomNode,\n",
    "    GeomTriangles,\n",
    "    GeomVertexData,\n",
    "    GeomVertexFormat,\n",
    "    GeomVertexWriter,\n",
    "    GeomEnums\n",
    ")\n",
    "from panda3d.core import (\n",
    "    NodePath,\n",
    "    CardMaker,\n",
    "    Texture,\n",
    "    CardMaker,\n",
    "    Point2,\n",
    "    Vec3\n",
    ")\n",
    "from vispy.visuals.transforms.linear import MatrixTransform\n",
    "from art.basic import create_cylinder_node, create_sphere_node\n",
    "# import direct.directbase.DirectStart\n",
    "from util.physics import autocomplete_units, G_val, getG\n",
    "from panda3d.core import AmbientLight\n",
    "from sympy.physics.units import (\n",
    "    kilometer, meter,centimeter,\n",
    "    gram, kilogram, tonne,\n",
    "    newton, second\n",
    ")\n",
    "import traceback\n",
    "try:\n",
    "    use( 'glfw')\n",
    "except Exception as e:\n",
    "    print(e)\n",
    "    print(traceback.format_exc())\n",
    "    pass\n",
    "class StarCanvas(scene.SceneCanvas):\n",
    "    def __init__(self, n_stars, rho=10):\n",
    "        scene.SceneCanvas.__init__(\n",
    "            self,keys='interactive', title='Isocurve(s) overlayed '\n",
    "                           'over Random Image Example',show=False,\n",
    "            # size=(1000,500)\n",
    "        )\n",
    "        \n",
    "\n",
    "        # self.size =  800, 1600\n",
    "        self.unfreeze()\n",
    "        # Set up a viewbox to display the image with interactive pan/zoom\n",
    "        self.view = self.central_widget.add_view()\n",
    "        self.view.camera = scene.TurntableCamera() # so it is 2d\n",
    "        self.view.camera.set_range()\n",
    "        # Create the image\n",
    "        # positions = np.random.uniform(-1, 1, (num_stars, 2))  # x, y positions\n",
    "        # sizes = np.random.uniform(0, 20, num_stars) # varying sizes of stars\n",
    "        # positions[:,0] *= 800/600\n",
    "        # Create a scatter plot with circular markers representing the stars\n",
    "        self.n_stars = n_stars \n",
    "        # self.view = self.central_widget.add_view()\n",
    "        # self.view.camera = scene.PanZoomCamera(aspect=1) # so it is 2d\n",
    "        np.random.seed(0)  # todo: use torch random state\n",
    "        cos_pos_theta = np.random.uniform(-1,1, n_stars)\n",
    "        pos_theta = np.arccos(cos_pos_theta)\n",
    "        pos_phi = np.random.uniform(0,2*np.pi, n_stars)\n",
    "        sizes = np.random.uniform(0, 5, n_stars) \n",
    "        # h = sizes\n",
    "        # w = sizes / np.sin(pos_theta)\n",
    "        # centers = np.vstack([pos_phi,pos_theta]).T\n",
    "        r = rho * np.sin(pos_theta)\n",
    "        x = r * np.cos(pos_phi)\n",
    "        y = r * np.sin(pos_phi)\n",
    "        z = rho * np.cos(pos_theta)\n",
    "        positions = np.vstack([x,y,z]).T\n",
    "        print(positions.shape)\n",
    "        scatter = scene.visuals.Markers()\n",
    "        scatter.set_data(positions, edge_color=None, face_color='white', size=sizes, symbol='o')\n",
    "        \n",
    "        # Add scatter plot to the view\n",
    "        self.view.add(scatter)\n",
    "        # print(\n",
    "\n",
    "    def update_camera(self, mat: np.ndarray):\n",
    "        self.view.scene.transform = MatrixTransform(\n",
    "            mat\n",
    "        )\n",
    "        # self.view.camera.orbit(1,0)\n",
    "        self.update()\n",
    "\n",
    "    def update_camera_hpr(self, h=0,p=0,r=0):\n",
    "        self.view.camera.azimuth = h\n",
    "        self.view.camera.elevation = p\n",
    "        self.view.camera.roll = r\n",
    "        # self.view.camera.roll = h\n",
    "        self.update()\n",
    "        # pass\n",
    "\n",
    "\n",
    "\n",
    "class StarSphere(ControlShowBase):\n",
    "    def __init__(self):\n",
    "        ContextShowBase.__init__(self)\n",
    "        ControlShowBase.__init__(self)\n",
    "        self.stars_canvas = StarCanvas(60000)\n",
    "        self.stars_canvas.app.run()\n",
    "        self.bg_texture = Texture()\n",
    "        self.bg_texture.set_wrap_u(Texture.WM_clamp)\n",
    "        self.bg_texture.set_wrap_v(Texture.WM_clamp)\n",
    "        self.bg_cm = CardMaker('bg')\n",
    "        self.bg_cm.setUvRange(Point2(0, 1),  # ll\n",
    "                          Point2(1, 1),  # lr\n",
    "                          Point2(1, 0),  # ur\n",
    "                          Point2(0, 0))\n",
    "        self.bg_plane_pth = self.rdr_scene.attach_new_node(self.bg_cm.generate())\n",
    "        # self.bg_plane.reparentTo(self.render)\n",
    "        # self.bg_plane_pth.setColor((1,1,1,1))\n",
    "        self.bg_plane_pth.setTexture(self.bg_texture)\n",
    "        self.taskMgr.add(self.updateStarsTask)\n",
    "\n",
    "    def updateStarsTask(self, task):\n",
    "        # cam_mat = np.array(self.cam.get_mat())\n",
    "        # self.stars_canvas.update_camera(cam_mat)\n",
    "        self.stars_canvas.update_camera_hpr(\n",
    "            self.display_camera.getH(),\n",
    "            -self.display_camera.getP(),\n",
    "            self.display_camera.getR()\n",
    "        )\n",
    "        stars = self.stars_canvas.render()\n",
    "        \n",
    "        \n",
    "        # print(stars.shape)\n",
    "        # i += 1\n",
    "        # if i % 1000 == 0:\n",
    "        #     io.write_png(\"res/tmp/{}.png\".format(i),stars)\n",
    "        texture_load_np(self.bg_texture, stars, format_=Texture.F_rgba)\n",
    "        # TODO: let card to follow camera\n",
    "        return task.cont\n",
    "    \n",
    " \n",
    "\n",
    "# canvas = StarCanvas(60000)\n",
    "# canvas.app.run()\n",
    "# # canvas.show()\n",
    "# img=canvas.render()\n",
    "# print(1)\n",
    "# img=canvas.render()\n",
    "# print(2)\n",
    "# io.write_png(\"res/starsphere.png\",img)\n",
    "# # app.quit()\n",
    "if __name__ == \"__main__\":\n",
    "    from ui.abstract_ui import InterfacePlaceHolder\n",
    "    import builtins\n",
    "    import traceback\n",
    "    # interface = InterfacePlaceHolder()\n",
    "    try:\n",
    "        with StarSphere() as app_:\n",
    "            # console = PhyscRoomConsole(showbase=app)\n",
    "            # interface = CMDInterface(console=console)\n",
    "            # .start()\n",
    "            # start a thread of app\n",
    "            app_.run()\n",
    "    except Exception as e:\n",
    "        print(e)\n",
    "        print(traceback.format_exc())\n",
    "    finally:\n",
    "        if hasattr(builtins, 'base'):\n",
    "            builtins.base.destroy()\n",
    "        # interface.join()\n"
   ]
  },
  {
   "cell_type": "code",
   "execution_count": 22,
   "id": "c0b574d4-2cee-40af-9cde-16f17d8225d0",
   "metadata": {},
   "outputs": [
    {
     "data": {
      "text/plain": [
       "vispy.visuals.transforms.linear.MatrixTransform"
      ]
     },
     "execution_count": 22,
     "metadata": {},
     "output_type": "execute_result"
    }
   ],
   "source": [
    "type(canvas.view.camera.transform)"
   ]
  },
  {
   "cell_type": "code",
   "execution_count": 25,
   "id": "e77c5911-865f-4999-8210-07ffdcf44732",
   "metadata": {},
   "outputs": [
    {
     "data": {
      "text/plain": [
       "MatrixTransform(matrix=[[1, 0, 0, 0],\n",
       "                        [0, 1, 0, 0],\n",
       "                        [0, 0, 1, 0],\n",
       "                        [0, 0, 0, 1]] at 0x7f3442ce7850)"
      ]
     },
     "execution_count": 25,
     "metadata": {},
     "output_type": "execute_result"
    }
   ],
   "source": [
    "vispy.visuals.transforms.linear.MatrixTransform(np.array([\n",
    "    [1,0,0,0],\n",
    "    [0,1,0,0],\n",
    "    [0,0,1,0],\n",
    "    [0,0,0,1]\n",
    "]))"
   ]
  },
  {
   "cell_type": "code",
   "execution_count": 5,
   "id": "6b986041-6a87-42d0-8e09-a28e95d5f555",
   "metadata": {},
   "outputs": [],
   "source": [
    "import vispy\n",
    "import panda3d"
   ]
  }
 ],
 "metadata": {
  "kernelspec": {
   "display_name": "game",
   "language": "python",
   "name": "game"
  },
  "language_info": {
   "codemirror_mode": {
    "name": "ipython",
    "version": 3
   },
   "file_extension": ".py",
   "mimetype": "text/x-python",
   "name": "python",
   "nbconvert_exporter": "python",
   "pygments_lexer": "ipython3",
   "version": "3.11.9"
  }
 },
 "nbformat": 4,
 "nbformat_minor": 5
}
