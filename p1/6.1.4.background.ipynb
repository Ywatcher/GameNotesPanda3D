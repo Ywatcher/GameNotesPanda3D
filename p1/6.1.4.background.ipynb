{
 "cells": [
  {
   "cell_type": "code",
   "execution_count": 1,
   "id": "d943efd7-046e-4a6e-a127-2e618a2e6901",
   "metadata": {},
   "outputs": [
    {
     "name": "stderr",
     "output_type": "stream",
     "text": [
      "Known pipe types:\n",
      "  glxGraphicsPipe\n",
      "(all display modules loaded.)\n",
      ":audio(error): Couldn't open default OpenAL device\n",
      ":audio(error): OpenALAudioManager: No open device or context\n",
      ":audio(error):   OpenALAudioManager is not valid, will use NullAudioManager\n",
      ":audio(error): Couldn't open default OpenAL device\n",
      ":audio(error): OpenALAudioManager: No open device or context\n",
      ":audio(error):   OpenALAudioManager is not valid, will use NullAudioManager\n"
     ]
    },
    {
     "name": "stdout",
     "output_type": "stream",
     "text": [
      "init ContextShowBase\n",
      "---set ref---:render,<class 'panda3d.core.NodePath'>\n",
      "---<__main__.PlanetSphere object at 0x7f7addf50c50> run(), at 2024-10-06 05:27:05.276180---\n"
     ]
    },
    {
     "name": "stderr",
     "output_type": "stream",
     "text": [
      "/media/ywatcher/ExtDisk1/LDisk/Packages/game_env/env/lib/python3.11/site-packages/torch/functional.py:504: UserWarning: torch.meshgrid: in an upcoming release, it will be required to pass the indexing argument. (Triggered internally at /home/conda/feedstock_root/build_artifacts/libtorch_1711322746054/work/aten/src/ATen/native/TensorShape.cpp:3526.)\n",
      "  return _VF.meshgrid(tensors, **kwargs)  # type: ignore[attr-defined]\n"
     ]
    },
    {
     "name": "stdout",
     "output_type": "stream",
     "text": [
      "---<__main__.PlanetSphere object at 0x7f7addf50c50> destroy at 2024-10-06 05:27:08.864654---\n",
      "---<__main__.PlanetSphere object at 0x7f7addf50c50> destroyed at 2024-10-06 05:27:08.865072, exit---\n"
     ]
    },
    {
     "ename": "SystemExit",
     "evalue": "",
     "output_type": "error",
     "traceback": [
      "An exception has occurred, use %tb to see the full traceback.\n",
      "\u001b[0;31mSystemExit\u001b[0m\n"
     ]
    },
    {
     "name": "stderr",
     "output_type": "stream",
     "text": [
      "/media/ywatcher/ExtDisk1/LDisk/Packages/game_env/env/lib/python3.11/site-packages/IPython/core/interactiveshell.py:3585: UserWarning: To exit: use 'exit', 'quit', or Ctrl-D.\n",
      "  warn(\"To exit: use 'exit', 'quit', or Ctrl-D.\", stacklevel=1)\n"
     ]
    }
   ],
   "source": [
    "from vispy import app, scene, visuals,use\n",
    "from vispy.util.filter import gaussian_filter\n",
    "import numpy as np\n",
    "import vispy.io as io\n",
    "from vispy.scene.visuals import Ellipse\n",
    "# if offscreen \n",
    "# use egl or osmesa\n",
    "import filepath\n",
    "import os\n",
    "from util.repo import res_root\n",
    "from util.texture import np2texture, rgba_mpl2pd3d, texture_load_np\n",
    "from panda3d.core import PNMImage, Texture\n",
    "from panda3d_game.app import *\n",
    "from demos.ball_room import MassedBall,tmoon\n",
    "from panda3d.core import (\n",
    "    Geom,\n",
    "    GeomNode,\n",
    "    GeomTriangles,\n",
    "    GeomVertexData,\n",
    "    GeomVertexFormat,\n",
    "    GeomVertexWriter,\n",
    "    GeomEnums\n",
    ")\n",
    "from panda3d.core import (\n",
    "    NodePath,\n",
    "    CardMaker,\n",
    "    Texture,\n",
    "    CardMaker,\n",
    "    Point2,\n",
    "    Vec3\n",
    ")\n",
    "from vispy.visuals.transforms.linear import MatrixTransform\n",
    "from art.basic import create_cylinder_node, create_sphere_node\n",
    "# import direct.directbase.DirectStart\n",
    "from util.physics import autocomplete_units, G_val, getG\n",
    "from panda3d.core import AmbientLight\n",
    "from sympy.physics.units import (\n",
    "    kilometer, meter,centimeter,\n",
    "    gram, kilogram, tonne,\n",
    "    newton, second\n",
    ")\n",
    "from util.rendering import *\n",
    "\n",
    "\n",
    "from vispyutil.scene import UnboundedTurnableCam\n",
    "from vispyutil.canvas import SynchronizedCanvas\n",
    "# from vispyutil.showbase import CanvasBackgroundShowBase\n",
    "from panda3d_game.app import CanvasBackgroundShowBase, QControl\n",
    "\n",
    "class StarCanvas(SynchronizedCanvas):\n",
    "    def __init__(self, n_stars, rho=10):\n",
    "        SynchronizedCanvas.__init__(self)\n",
    "        self.n_stars = n_stars \n",
    "        # randomly pick stars\n",
    "        np.random.seed(0)  # todo: use torch random state\n",
    "        cos_pos_theta = np.random.uniform(-1,1, n_stars)\n",
    "        pos_theta = np.arccos(cos_pos_theta)\n",
    "        pos_phi = np.random.uniform(0,2*np.pi, n_stars)\n",
    "        sizes = np.random.uniform(0, 5, n_stars) \n",
    "        r = rho * np.sin(pos_theta)\n",
    "        x = r * np.cos(pos_phi)\n",
    "        y = r * np.sin(pos_phi)\n",
    "        z = rho * np.cos(pos_theta)\n",
    "        positions = np.vstack([x,y,z]).T\n",
    "        scatter = scene.visuals.Markers()\n",
    "        scatter.set_data(positions, edge_color=None, face_color='white', size=sizes, symbol='o')\n",
    "        # Add scatter plot to the view\n",
    "        self.view.add(scatter)\n",
    "        # TODO: milky way\n",
    "\n",
    "\n",
    "class StarSphere(ControlShowBase, CanvasBackgroundShowBase):\n",
    "    def __init__(self):\n",
    "        ControlShowBase.__init__(self)\n",
    "        self.stars_canvas = StarCanvas(60000)\n",
    "        CanvasBackgroundShowBase.__init__(self,self.stars_canvas)\n",
    "\n",
    "class PlanetSphere(StarSphere,PhysicsShowBase):\n",
    "    def __init__(self):\n",
    "        StarSphere.__init__(self)\n",
    "        PhysicsShowBase.__init__(self)\n",
    "        self.bullet_world.setGravity((0,0,0))\n",
    "        self.unit = {\n",
    "            \"mass\" : tonne,\n",
    "            \"length\" : 100*meter,\n",
    "            \"time\": 1 * second,\n",
    "            # \"force\" : sp.Number(1e3) * newton\n",
    "        }\n",
    "        autocomplete_units(self.unit)\n",
    "        self.planet1 = MassedBall(\n",
    "            name=\"planet1\",\n",
    "            radius=1000*meter,\n",
    "            mass=1e6*tonne,\n",
    "            units=self.unit\n",
    "        )\n",
    "        self.planet1.reparentTo(self.render)\n",
    "        self.planet1.set_texture(tmoon)\n",
    "        self.planet1.setScale(10)\n",
    "        self.planet1.setPos(0,10,0)\n",
    "\n",
    "if __name__ == \"__main__\":\n",
    "    from ui.abstract_ui import InterfacePlaceHolder\n",
    "    import builtins\n",
    "    import traceback\n",
    "    # interface = InterfacePlaceHolder()\n",
    "    try:\n",
    "        with PlanetSphere() as app_:\n",
    "            # console = PhyscRoomConsole(showbase=app)\n",
    "            # interface = CMDInterface(console=console)\n",
    "            # .start()\n",
    "            # start a thread of app\n",
    "            app_.run()\n",
    "    except Exception as e:\n",
    "        print(e)\n",
    "        print(traceback.format_exc())\n",
    "    finally:\n",
    "        if hasattr(builtins, 'base'):\n",
    "            builtins.base.destroy()\n",
    "        # interface.join()\n"
   ]
  },
  {
   "cell_type": "code",
   "execution_count": null,
   "id": "8e3fe716-31c8-4087-bedf-49d98b39adec",
   "metadata": {},
   "outputs": [],
   "source": [
    "use( 'glfw')"
   ]
  },
  {
   "cell_type": "code",
   "execution_count": 65,
   "id": "0eea3b44-1de8-4f9a-ac82-c8eddd09f1d3",
   "metadata": {},
   "outputs": [
    {
     "name": "stdout",
     "output_type": "stream",
     "text": [
      "aclled\n"
     ]
    }
   ],
   "source": [
    "cam = UnboundedTurnableCam()"
   ]
  },
  {
   "cell_type": "code",
   "execution_count": 66,
   "id": "88b22df9-834c-426f-9d03-715e60a4afaa",
   "metadata": {},
   "outputs": [
    {
     "data": {
      "text/plain": [
       "{'_name': None,\n",
       " '_visible': True,\n",
       " '_canvas': None,\n",
       " '_document_node': None,\n",
       " '_scene_node': None,\n",
       " '_opacity': 1.0,\n",
       " '_order': 0,\n",
       " '_picking': False,\n",
       " '_clippers': <WeakKeyDictionary at 0x7f7de6f3fd90>,\n",
       " '_clip_children': False,\n",
       " '_clipper': None,\n",
       " 'transforms': <vispy.visuals.transforms.transform_system.TransformSystem at 0x7f7de6f3eb50>,\n",
       " 'events': <vispy.util.event.EmitterGroup at 0x7f7de6f65490>,\n",
       " '_children': [],\n",
       " '_transform': MatrixTransform(matrix=[[1.0, 0.0, 0.0, 0.0],\n",
       "                         [0.0, 1.0, 0.0, 0.0],\n",
       "                         [0.0, 0.0, 1.0, 0.0],\n",
       "                         [0.0, 0.0, 0.0, 1.0]] at 0x7f7e25d7c110),\n",
       " '_parent': None,\n",
       " '_document': None,\n",
       " '_viewbox': None,\n",
       " '_linked_cameras': {},\n",
       " '_linked_cameras_no_update': None,\n",
       " '_pre_transform': None,\n",
       " '_viewbox_tr': <STTransform scale=[1. 1. 1. 1.] translate=[0. 0. 0. 0.] at 0x140179277833232>,\n",
       " '_projection': MatrixTransform(matrix=[[1.0, 0.0, 0.0, 0.0],\n",
       "                         [0.0, 1.0, 0.0, 0.0],\n",
       "                         [0.0, 0.0, 1.0, 0.0],\n",
       "                         [0.0, 0.0, 0.0, 1.0]] at 0x7f7de6f34650),\n",
       " '_transform_cache': <vispy.visuals.transforms._util.TransformCache at 0x7f7de6f74390>,\n",
       " '_event_value': None,\n",
       " '_resetting': False,\n",
       " '_key_events_bound': False,\n",
       " '_set_range_args': None,\n",
       " '_xlim': None,\n",
       " '_ylim': None,\n",
       " '_zlim': None,\n",
       " '_default_state': None,\n",
       " '_fov': 45.0,\n",
       " '_center': None,\n",
       " '_depth_value': 1000000.0,\n",
       " '_interactive': True,\n",
       " '_flip': (False, False, False),\n",
       " '_flip_factors': (1, 1, 1),\n",
       " '_up': '+z',\n",
       " '_scale_factor': None,\n",
       " '_actual_distance': 0.0,\n",
       " '_azimuth': 30.0,\n",
       " '_elevation': 30.0,\n",
       " '_roll': 0.0,\n",
       " '_distance': None,\n",
       " 'translate_speed': 1.0}"
      ]
     },
     "execution_count": 66,
     "metadata": {},
     "output_type": "execute_result"
    }
   ],
   "source": [
    "cam.__dict__"
   ]
  },
  {
   "cell_type": "code",
   "execution_count": 67,
   "id": "8ec3f7ed-401f-4472-9f1c-69dfe7f6ac0a",
   "metadata": {},
   "outputs": [
    {
     "data": {
      "text/plain": [
       "('scale_factor', 'center', 'fov', 'elevation', 'azimuth', 'roll')"
      ]
     },
     "execution_count": 67,
     "metadata": {},
     "output_type": "execute_result"
    }
   ],
   "source": [
    "UnboundedTurnableCam._state_props"
   ]
  },
  {
   "cell_type": "code",
   "execution_count": 68,
   "id": "6f6b2c53-c619-447b-a153-f3f1aa82af4b",
   "metadata": {},
   "outputs": [
    {
     "data": {
      "text/plain": [
       "30.0"
      ]
     },
     "execution_count": 68,
     "metadata": {},
     "output_type": "execute_result"
    }
   ],
   "source": [
    "cam._elevation"
   ]
  },
  {
   "cell_type": "code",
   "execution_count": 57,
   "id": "c0b574d4-2cee-40af-9cde-16f17d8225d0",
   "metadata": {},
   "outputs": [
    {
     "ename": "NameError",
     "evalue": "name 'canvas' is not defined",
     "output_type": "error",
     "traceback": [
      "\u001b[0;31m---------------------------------------------------------------------------\u001b[0m",
      "\u001b[0;31mNameError\u001b[0m                                 Traceback (most recent call last)",
      "Cell \u001b[0;32mIn[57], line 1\u001b[0m\n\u001b[0;32m----> 1\u001b[0m \u001b[38;5;28mtype\u001b[39m(\u001b[43mcanvas\u001b[49m\u001b[38;5;241m.\u001b[39mview\u001b[38;5;241m.\u001b[39mcamera\u001b[38;5;241m.\u001b[39mtransformii)\n",
      "\u001b[0;31mNameError\u001b[0m: name 'canvas' is not defined"
     ]
    }
   ],
   "source": [
    "type(canvas.view.camera.transformii)"
   ]
  },
  {
   "cell_type": "code",
   "execution_count": 25,
   "id": "e77c5911-865f-4999-8210-07ffdcf44732",
   "metadata": {},
   "outputs": [
    {
     "data": {
      "text/plain": [
       "MatrixTransform(matrix=[[1, 0, 0, 0],\n",
       "                        [0, 1, 0, 0],\n",
       "                        [0, 0, 1, 0],\n",
       "                        [0, 0, 0, 1]] at 0x7f3442ce7850)"
      ]
     },
     "execution_count": 25,
     "metadata": {},
     "output_type": "execute_result"
    }
   ],
   "source": [
    "vispy.visuals.transforms.linear.MatrixTransform(np.array([\n",
    "    [1,0,0,0],\n",
    "    [0,1,0,0],\n",
    "    [0,0,1,0],\n",
    "    [0,0,0,1]\n",
    "]))"
   ]
  },
  {
   "cell_type": "code",
   "execution_count": 5,
   "id": "6b986041-6a87-42d0-8e09-a28e95d5f555",
   "metadata": {},
   "outputs": [],
   "source": [
    "import vispy\n",
    "import panda3d"
   ]
  }
 ],
 "metadata": {
  "kernelspec": {
   "display_name": "game",
   "language": "python",
   "name": "game"
  },
  "language_info": {
   "codemirror_mode": {
    "name": "ipython",
    "version": 3
   },
   "file_extension": ".py",
   "mimetype": "text/x-python",
   "name": "python",
   "nbconvert_exporter": "python",
   "pygments_lexer": "ipython3",
   "version": "3.11.9"
  }
 },
 "nbformat": 4,
 "nbformat_minor": 5
}
