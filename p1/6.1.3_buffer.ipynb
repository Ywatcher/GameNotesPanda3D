{
 "cells": [
  {
   "cell_type": "code",
   "execution_count": 1,
   "id": "01f19a14-5a7c-407e-bc24-8cad12c7c126",
   "metadata": {},
   "outputs": [],
   "source": [
    "from vispy import gloo\n",
    "from vispy import app\n",
    "import numpy as np\n",
    "from vispy.gloo import *\n",
    "from vispy.gloo.context import FakeCanvas"
   ]
  },
  {
   "cell_type": "code",
   "execution_count": 2,
   "id": "868a066e-b1c9-4156-9211-f511702a145f",
   "metadata": {},
   "outputs": [],
   "source": [
    "shape = (600,800)\n",
    "_rendertex = gloo.Texture2D((shape + (3,)))\n",
    "fbo =  gloo.FrameBuffer(_rendertex, gloo.RenderBuffer(shape))\n",
    "_ =  gloo.FrameBuffer(_rendertex, gloo.RenderBuffer(shape))"
   ]
  },
  {
   "cell_type": "code",
   "execution_count": 3,
   "id": "9a780849-6c5b-4a52-b954-356fe1f35b0f",
   "metadata": {},
   "outputs": [],
   "source": [
    "fake_canvas = FakeCanvas()"
   ]
  },
  {
   "cell_type": "code",
   "execution_count": 4,
   "id": "db5f9390-6aa8-461d-a7a8-47c36b99445d",
   "metadata": {},
   "outputs": [],
   "source": [
    "gloo.set_state(clear_color='white', blend=True,\n",
    "                       blend_func=('src_alpha', 'one_minus_src_alpha'))"
   ]
  },
  {
   "cell_type": "code",
   "execution_count": 5,
   "id": "fae51c5a-9f44-48cc-bdca-bcc5277802c0",
   "metadata": {},
   "outputs": [],
   "source": [
    "import vispy.io as io\n",
    "\n",
    "from vispy import gloo\n",
    "from vispy import app\n",
    "import numpy as np\n",
    "# from vispy.gloo import GLContext\n",
    "\n",
    "VERT_SHADER = \"\"\"\n",
    "attribute vec2  a_position;\n",
    "attribute vec3  a_color;\n",
    "attribute float a_size;\n",
    "\n",
    "varying vec4 v_fg_color;\n",
    "varying vec4 v_bg_color;\n",
    "varying float v_radius;\n",
    "varying float v_linewidth;\n",
    "varying float v_antialias;\n",
    "\n",
    "void main (void) {\n",
    "    v_radius = a_size;\n",
    "    v_linewidth = 1.0;\n",
    "    v_antialias = 1.0;\n",
    "    v_fg_color  = vec4(0.0,0.0,0.0,0.5);\n",
    "    v_bg_color  = vec4(a_color,    1.0);\n",
    "\n",
    "    gl_Position = vec4(a_position, 0.0, 1.0);\n",
    "    gl_PointSize = 2.0*(v_radius + v_linewidth + 1.5*v_antialias);\n",
    "}\n",
    "\"\"\"\n",
    "\n",
    "FRAG_SHADER = \"\"\"\n",
    "#version 120\n",
    "\n",
    "varying vec4 v_fg_color;\n",
    "varying vec4 v_bg_color;\n",
    "varying float v_radius;\n",
    "varying float v_linewidth;\n",
    "varying float v_antialias;\n",
    "void main()\n",
    "{\n",
    "    float size = 2.0*(v_radius + v_linewidth + 1.5*v_antialias);\n",
    "    float t = v_linewidth/2.0-v_antialias;\n",
    "    float r = length((gl_PointCoord.xy - vec2(0.5,0.5))*size);\n",
    "    float d = abs(r - v_radius) - t;\n",
    "    if( d < 0.0 )\n",
    "        gl_FragColor = v_fg_color;\n",
    "    else\n",
    "    {\n",
    "        float alpha = d/v_antialias;\n",
    "        alpha = exp(-alpha*alpha);\n",
    "        if (r > v_radius)\n",
    "            gl_FragColor = vec4(v_fg_color.rgb, alpha*v_fg_color.a);\n",
    "        else\n",
    "            gl_FragColor = mix(v_bg_color, v_fg_color, alpha);\n",
    "    }\n",
    "}\n",
    "\"\"\""
   ]
  },
  {
   "cell_type": "code",
   "execution_count": 6,
   "id": "93a8c48b-e809-43e3-bacc-84b102f6c6e8",
   "metadata": {},
   "outputs": [],
   "source": [
    "# Create vertices\n",
    "n = 10000\n",
    "ps=1\n",
    "v_position = 0.25 * np.random.randn(n, 2).astype(np.float32)\n",
    "v_color = np.random.uniform(0, 1, (n, 3)).astype(np.float32)\n",
    "v_size = np.random.uniform(2*ps, 12*ps, (n, 1)).astype(np.float32)\n",
    "\n",
    "program = gloo.Program(VERT_SHADER, FRAG_SHADER)"
   ]
  },
  {
   "cell_type": "code",
   "execution_count": 7,
   "id": "cd28cc5b-a8ea-4a1b-b769-a4d1714ed4c2",
   "metadata": {},
   "outputs": [],
   "source": [
    "# Set uniform and attribute\n",
    "program['a_color'] = gloo.VertexBuffer(v_color)\n",
    "program['a_position'] = gloo.VertexBuffer(v_position)\n",
    "program['a_size'] = gloo.VertexBuffer(v_size)"
   ]
  },
  {
   "cell_type": "code",
   "execution_count": 8,
   "id": "64661434-e8cc-4188-9027-1f29ba48bc13",
   "metadata": {},
   "outputs": [
    {
     "name": "stderr",
     "output_type": "stream",
     "text": [
      "WARNING: OpenGL version could not be determined, which might be a sign that OpenGL is not loaded correctly.\n"
     ]
    },
    {
     "ename": "IndexError",
     "evalue": "list index out of range",
     "output_type": "error",
     "traceback": [
      "\u001b[0;31m---------------------------------------------------------------------------\u001b[0m",
      "\u001b[0;31mIndexError\u001b[0m                                Traceback (most recent call last)",
      "Cell \u001b[0;32mIn[8], line 5\u001b[0m\n\u001b[1;32m      3\u001b[0m gloo\u001b[38;5;241m.\u001b[39mclear(color\u001b[38;5;241m=\u001b[39m\u001b[38;5;28;01mTrue\u001b[39;00m, depth\u001b[38;5;241m=\u001b[39m\u001b[38;5;28;01mTrue\u001b[39;00m)\n\u001b[1;32m      4\u001b[0m \u001b[38;5;66;03m# gloo.set_viewport(0, 0, *self.physical_size)\u001b[39;00m\n\u001b[0;32m----> 5\u001b[0m \u001b[43mprogram\u001b[49m\u001b[38;5;241;43m.\u001b[39;49m\u001b[43mdraw\u001b[49m\u001b[43m(\u001b[49m\u001b[38;5;124;43m'\u001b[39;49m\u001b[38;5;124;43mpoints\u001b[39;49m\u001b[38;5;124;43m'\u001b[39;49m\u001b[43m)\u001b[49m\n",
      "File \u001b[0;32m/media/ywatcher/ExtDisk1/LDisk/Packages/game_env/env/lib/python3.11/site-packages/vispy/gloo/program.py:543\u001b[0m, in \u001b[0;36mProgram.draw\u001b[0;34m(self, mode, indices, check_error)\u001b[0m\n\u001b[1;32m    539\u001b[0m     \u001b[38;5;28;01mraise\u001b[39;00m \u001b[38;5;167;01mTypeError\u001b[39;00m(\u001b[38;5;124m\"\u001b[39m\u001b[38;5;124mInvalid index: \u001b[39m\u001b[38;5;132;01m%r\u001b[39;00m\u001b[38;5;124m (must be IndexBuffer)\u001b[39m\u001b[38;5;124m\"\u001b[39m \u001b[38;5;241m%\u001b[39m\n\u001b[1;32m    540\u001b[0m                     indices)\n\u001b[1;32m    542\u001b[0m \u001b[38;5;66;03m# Process GLIR commands\u001b[39;00m\n\u001b[0;32m--> 543\u001b[0m \u001b[43mcanvas\u001b[49m\u001b[38;5;241;43m.\u001b[39;49m\u001b[43mcontext\u001b[49m\u001b[38;5;241;43m.\u001b[39;49m\u001b[43mflush_commands\u001b[49m\u001b[43m(\u001b[49m\u001b[43m)\u001b[49m\n",
      "File \u001b[0;32m/media/ywatcher/ExtDisk1/LDisk/Packages/game_env/env/lib/python3.11/site-packages/vispy/gloo/context.py:172\u001b[0m, in \u001b[0;36mGLContext.flush_commands\u001b[0;34m(self, event)\u001b[0m\n\u001b[1;32m    170\u001b[0m         fbo \u001b[38;5;241m=\u001b[39m \u001b[38;5;241m0\u001b[39m\n\u001b[1;32m    171\u001b[0m     \u001b[38;5;28mself\u001b[39m\u001b[38;5;241m.\u001b[39mshared\u001b[38;5;241m.\u001b[39mparser\u001b[38;5;241m.\u001b[39mparse([(\u001b[38;5;124m'\u001b[39m\u001b[38;5;124mCURRENT\u001b[39m\u001b[38;5;124m'\u001b[39m, \u001b[38;5;241m0\u001b[39m, fbo)])\n\u001b[0;32m--> 172\u001b[0m \u001b[38;5;28;43mself\u001b[39;49m\u001b[38;5;241;43m.\u001b[39;49m\u001b[43mglir\u001b[49m\u001b[38;5;241;43m.\u001b[39;49m\u001b[43mflush\u001b[49m\u001b[43m(\u001b[49m\u001b[38;5;28;43mself\u001b[39;49m\u001b[38;5;241;43m.\u001b[39;49m\u001b[43mshared\u001b[49m\u001b[38;5;241;43m.\u001b[39;49m\u001b[43mparser\u001b[49m\u001b[43m)\u001b[49m\n",
      "File \u001b[0;32m/media/ywatcher/ExtDisk1/LDisk/Packages/game_env/env/lib/python3.11/site-packages/vispy/gloo/glir.py:584\u001b[0m, in \u001b[0;36mGlirQueue.flush\u001b[0;34m(self, parser)\u001b[0m\n\u001b[1;32m    582\u001b[0m \u001b[38;5;28;01mdef\u001b[39;00m \u001b[38;5;21mflush\u001b[39m(\u001b[38;5;28mself\u001b[39m, parser):\n\u001b[1;32m    583\u001b[0m \u001b[38;5;250m    \u001b[39m\u001b[38;5;124;03m\"\"\"Flush all current commands to the GLIR interpreter.\"\"\"\u001b[39;00m\n\u001b[0;32m--> 584\u001b[0m     \u001b[38;5;28;43mself\u001b[39;49m\u001b[38;5;241;43m.\u001b[39;49m\u001b[43m_shared\u001b[49m\u001b[38;5;241;43m.\u001b[39;49m\u001b[43mflush\u001b[49m\u001b[43m(\u001b[49m\u001b[43mparser\u001b[49m\u001b[43m)\u001b[49m\n",
      "File \u001b[0;32m/media/ywatcher/ExtDisk1/LDisk/Packages/game_env/env/lib/python3.11/site-packages/vispy/gloo/glir.py:506\u001b[0m, in \u001b[0;36m_GlirQueueShare.flush\u001b[0;34m(self, parser)\u001b[0m\n\u001b[1;32m    504\u001b[0m     show \u001b[38;5;241m=\u001b[39m \u001b[38;5;28mself\u001b[39m\u001b[38;5;241m.\u001b[39m_verbose \u001b[38;5;28;01mif\u001b[39;00m \u001b[38;5;28misinstance\u001b[39m(\u001b[38;5;28mself\u001b[39m\u001b[38;5;241m.\u001b[39m_verbose, \u001b[38;5;28mstr\u001b[39m) \u001b[38;5;28;01melse\u001b[39;00m \u001b[38;5;28;01mNone\u001b[39;00m\n\u001b[1;32m    505\u001b[0m     \u001b[38;5;28mself\u001b[39m\u001b[38;5;241m.\u001b[39mshow(show)\n\u001b[0;32m--> 506\u001b[0m \u001b[43mparser\u001b[49m\u001b[38;5;241;43m.\u001b[39;49m\u001b[43mparse\u001b[49m\u001b[43m(\u001b[49m\u001b[38;5;28;43mself\u001b[39;49m\u001b[38;5;241;43m.\u001b[39;49m\u001b[43m_filter\u001b[49m\u001b[43m(\u001b[49m\u001b[38;5;28;43mself\u001b[39;49m\u001b[38;5;241;43m.\u001b[39;49m\u001b[43mclear\u001b[49m\u001b[43m(\u001b[49m\u001b[43m)\u001b[49m\u001b[43m,\u001b[49m\u001b[43m \u001b[49m\u001b[43mparser\u001b[49m\u001b[43m)\u001b[49m\u001b[43m)\u001b[49m\n",
      "File \u001b[0;32m/media/ywatcher/ExtDisk1/LDisk/Packages/game_env/env/lib/python3.11/site-packages/vispy/gloo/glir.py:824\u001b[0m, in \u001b[0;36mGlirParser.parse\u001b[0;34m(self, commands)\u001b[0m\n\u001b[1;32m    821\u001b[0m     \u001b[38;5;28mself\u001b[39m\u001b[38;5;241m.\u001b[39m_objects\u001b[38;5;241m.\u001b[39mpop(id_)\n\u001b[1;32m    823\u001b[0m \u001b[38;5;28;01mfor\u001b[39;00m command \u001b[38;5;129;01min\u001b[39;00m commands:\n\u001b[0;32m--> 824\u001b[0m     \u001b[38;5;28;43mself\u001b[39;49m\u001b[38;5;241;43m.\u001b[39;49m\u001b[43m_parse\u001b[49m\u001b[43m(\u001b[49m\u001b[43mcommand\u001b[49m\u001b[43m)\u001b[49m\n",
      "File \u001b[0;32m/media/ywatcher/ExtDisk1/LDisk/Packages/game_env/env/lib/python3.11/site-packages/vispy/gloo/glir.py:798\u001b[0m, in \u001b[0;36mGlirParser._parse\u001b[0;34m(self, command)\u001b[0m\n\u001b[1;32m    796\u001b[0m     ob\u001b[38;5;241m.\u001b[39mset_size(\u001b[38;5;241m*\u001b[39margs)  \u001b[38;5;66;03m# Texture[1D, 2D, 3D], RenderBuffer\u001b[39;00m\n\u001b[1;32m    797\u001b[0m \u001b[38;5;28;01melif\u001b[39;00m cmd \u001b[38;5;241m==\u001b[39m \u001b[38;5;124m'\u001b[39m\u001b[38;5;124mATTACH\u001b[39m\u001b[38;5;124m'\u001b[39m:  \u001b[38;5;66;03m# FrameBuffer, Program\u001b[39;00m\n\u001b[0;32m--> 798\u001b[0m     \u001b[43mob\u001b[49m\u001b[38;5;241;43m.\u001b[39;49m\u001b[43mattach\u001b[49m\u001b[43m(\u001b[49m\u001b[38;5;241;43m*\u001b[39;49m\u001b[43margs\u001b[49m\u001b[43m)\u001b[49m\n\u001b[1;32m    799\u001b[0m \u001b[38;5;28;01melif\u001b[39;00m cmd \u001b[38;5;241m==\u001b[39m \u001b[38;5;124m'\u001b[39m\u001b[38;5;124mFRAMEBUFFER\u001b[39m\u001b[38;5;124m'\u001b[39m:  \u001b[38;5;66;03m# FrameBuffer\u001b[39;00m\n\u001b[1;32m    800\u001b[0m     ob\u001b[38;5;241m.\u001b[39mset_framebuffer(\u001b[38;5;241m*\u001b[39margs)\n",
      "File \u001b[0;32m/media/ywatcher/ExtDisk1/LDisk/Packages/game_env/env/lib/python3.11/site-packages/vispy/gloo/glir.py:1803\u001b[0m, in \u001b[0;36mGlirFrameBuffer.attach\u001b[0;34m(self, attachment, buffer_id)\u001b[0m\n\u001b[1;32m   1801\u001b[0m         \u001b[38;5;28;01mraise\u001b[39;00m \u001b[38;5;167;01mValueError\u001b[39;00m(\u001b[38;5;124m\"\u001b[39m\u001b[38;5;124mInvalid attachment: \u001b[39m\u001b[38;5;132;01m%s\u001b[39;00m\u001b[38;5;124m\"\u001b[39m \u001b[38;5;241m%\u001b[39m \u001b[38;5;28mtype\u001b[39m(buffer))\n\u001b[1;32m   1802\u001b[0m \u001b[38;5;28mself\u001b[39m\u001b[38;5;241m.\u001b[39m_validated \u001b[38;5;241m=\u001b[39m \u001b[38;5;28;01mFalse\u001b[39;00m\n\u001b[0;32m-> 1803\u001b[0m \u001b[38;5;28;43mself\u001b[39;49m\u001b[38;5;241;43m.\u001b[39;49m\u001b[43mdeactivate\u001b[49m\u001b[43m(\u001b[49m\u001b[43m)\u001b[49m\n",
      "File \u001b[0;32m/media/ywatcher/ExtDisk1/LDisk/Packages/game_env/env/lib/python3.11/site-packages/vispy/gloo/glir.py:1774\u001b[0m, in \u001b[0;36mGlirFrameBuffer.deactivate\u001b[0;34m(self)\u001b[0m\n\u001b[1;32m   1772\u001b[0m \u001b[38;5;28;01mwhile\u001b[39;00m \u001b[38;5;28mself\u001b[39m\u001b[38;5;241m.\u001b[39m_handle \u001b[38;5;129;01min\u001b[39;00m stack:\n\u001b[1;32m   1773\u001b[0m     stack\u001b[38;5;241m.\u001b[39mremove(\u001b[38;5;28mself\u001b[39m\u001b[38;5;241m.\u001b[39m_handle)\n\u001b[0;32m-> 1774\u001b[0m gl\u001b[38;5;241m.\u001b[39mglBindFramebuffer(gl\u001b[38;5;241m.\u001b[39mGL_FRAMEBUFFER, \u001b[43mstack\u001b[49m\u001b[43m[\u001b[49m\u001b[38;5;241;43m-\u001b[39;49m\u001b[38;5;241;43m1\u001b[39;49m\u001b[43m]\u001b[49m)\n",
      "\u001b[0;31mIndexError\u001b[0m: list index out of range"
     ]
    }
   ],
   "source": [
    "# with fbo:\n",
    "fbo.activate()\n",
    "gloo.clear(color=True, depth=True)\n",
    "# gloo.set_viewport(0, 0, *self.physical_size)\n",
    "program.draw('points')"
   ]
  },
  {
   "cell_type": "code",
   "execution_count": null,
   "id": "2121ea53-57cf-4daa-931b-26e6650e32ad",
   "metadata": {},
   "outputs": [],
   "source": []
  }
 ],
 "metadata": {
  "kernelspec": {
   "display_name": "game",
   "language": "python",
   "name": "game"
  },
  "language_info": {
   "codemirror_mode": {
    "name": "ipython",
    "version": 3
   },
   "file_extension": ".py",
   "mimetype": "text/x-python",
   "name": "python",
   "nbconvert_exporter": "python",
   "pygments_lexer": "ipython3",
   "version": "3.11.9"
  }
 },
 "nbformat": 4,
 "nbformat_minor": 5
}
