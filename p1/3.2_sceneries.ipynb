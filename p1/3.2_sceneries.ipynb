{
 "cells": [
  {
   "cell_type": "code",
   "execution_count": 20,
   "id": "b28dd731-21f4-4d7e-8692-2d3aee648209",
   "metadata": {},
   "outputs": [],
   "source": [
    "import numpy as np\n",
    "from PIL import Image\n",
    "import filepath\n",
    "\n",
    "def create_checkerboard_(size, num_squares):\n",
    "    # size 是图像的尺寸 (width, height)\n",
    "    # num_squares 是每行和每列的方格数量\n",
    "\n",
    "    # 计算每个方格的尺寸\n",
    "    square_size = size[0] // num_squares\n",
    "    \n",
    "    # 创建一个空的 numpy 数组\n",
    "    checkerboard = np.zeros((size[1], size[0]), dtype=np.uint8)\n",
    "    \n",
    "    # 填充 checkerboard 数组\n",
    "    for y in range(num_squares):\n",
    "        for x in range(num_squares):\n",
    "            if (x + y) % 2 == 0:\n",
    "                checkerboard[y*square_size:(y+1)*square_size, x*square_size:(x+1)*square_size] = 255\n",
    "    \n",
    "    # 将 numpy 数组转换为 PIL 图像\n",
    "    image = Image.fromarray(checkerboard, 'L')\n",
    "    \n",
    "    return image\n",
    "\n",
    "def create_checkerboard(size, square_size:int):\n",
    "    size = (int(size[0]),int(size[1]))\n",
    "    square_size = int(square_size)\n",
    "    # size 是图像的尺寸 (width, height)\n",
    "    # num_squares 是每行和每列的方格数量\n",
    "\n",
    "    # 计算每个方格的尺寸\n",
    "    # square_size = size[0] // num_squares\n",
    "    num_squares_x = int(np.ceil(size[0] / square_size))\n",
    "    num_squares_y = int(np.ceil(size[1] / square_size))\n",
    "    \n",
    "    # 创建一个空的 numpy 数组\n",
    "    checkerboard = np.zeros((size[1], size[0]), dtype=np.uint8)\n",
    "    \n",
    "    # 填充 checkerboard 数组\n",
    "    for y in range(num_squares_y):\n",
    "        for x in range(num_squares_x):\n",
    "            if (x + y) % 2 == 0:\n",
    "                checkerboard[y*square_size:(y+1)*square_size, x*square_size:(x+1)*square_size] = 255\n",
    "    \n",
    "    # 将 numpy 数组转换为 PIL 图像\n",
    "    image = Image.fromarray(checkerboard, 'L')\n",
    "    \n",
    "    return image\n",
    "\n",
    "# 使用示例\n"
   ]
  },
  {
   "cell_type": "code",
   "execution_count": 21,
   "id": "1488a768-9469-4f61-990c-3fec72ff9399",
   "metadata": {},
   "outputs": [
    {
     "data": {
      "text/plain": [
       "1.0"
      ]
     },
     "execution_count": 21,
     "metadata": {},
     "output_type": "execute_result"
    }
   ],
   "source": [
    "np.ceil(.1)"
   ]
  },
  {
   "cell_type": "code",
   "execution_count": 22,
   "id": "ab2fee2b-9d24-497c-9390-75963a45d7ed",
   "metadata": {},
   "outputs": [
    {
     "name": "stderr",
     "output_type": "stream",
     "text": [
      "\n",
      "(eog:151858): Gtk-WARNING **: 08:38:29.361: Theme file for DMZ-White has no directories\n"
     ]
    }
   ],
   "source": [
    "square_size = 512/8\n",
    "size = (512, 512+square_size)  # 图像尺寸 (宽度, 高度)\n",
    "# num_squares = 8    # 每行和每列的方格数量\n",
    "\n",
    "\n",
    "# 创建棋盘格图像\n",
    "# checkerboard_image = create_checkerboard_(size, num_squares)\n",
    "checkerboard_image = create_checkerboard(size, square_size)\n",
    "# 保存图像\n",
    "checkerboard_image.save('checkerboard.png')\n",
    "\n",
    "# 显示图像（可选）\n",
    "checkerboard_image.show()"
   ]
  },
  {
   "cell_type": "code",
   "execution_count": 23,
   "id": "155bfa48-d914-4b5c-ad57-bc83366dbb23",
   "metadata": {},
   "outputs": [
    {
     "name": "stdout",
     "output_type": "stream",
     "text": [
      "Help on function fromarray in module PIL.Image:\n",
      "\n",
      "fromarray(obj, mode=None)\n",
      "    Creates an image memory from an object exporting the array interface\n",
      "    (using the buffer protocol)::\n",
      "    \n",
      "      from PIL import Image\n",
      "      import numpy as np\n",
      "      a = np.zeros((5, 5))\n",
      "      im = Image.fromarray(a)\n",
      "    \n",
      "    If ``obj`` is not contiguous, then the ``tobytes`` method is called\n",
      "    and :py:func:`~PIL.Image.frombuffer` is used.\n",
      "    \n",
      "    In the case of NumPy, be aware that Pillow modes do not always correspond\n",
      "    to NumPy dtypes. Pillow modes only offer 1-bit pixels, 8-bit pixels,\n",
      "    32-bit signed integer pixels, and 32-bit floating point pixels.\n",
      "    \n",
      "    Pillow images can also be converted to arrays::\n",
      "    \n",
      "      from PIL import Image\n",
      "      import numpy as np\n",
      "      im = Image.open(\"hopper.jpg\")\n",
      "      a = np.asarray(im)\n",
      "    \n",
      "    When converting Pillow images to arrays however, only pixel values are\n",
      "    transferred. This means that P and PA mode images will lose their palette.\n",
      "    \n",
      "    :param obj: Object with array interface\n",
      "    :param mode: Optional mode to use when reading ``obj``. Will be determined from\n",
      "      type if ``None``.\n",
      "    \n",
      "      This will not be used to convert the data after reading, but will be used to\n",
      "      change how the data is read::\n",
      "    \n",
      "        from PIL import Image\n",
      "        import numpy as np\n",
      "        a = np.full((1, 1), 300)\n",
      "        im = Image.fromarray(a, mode=\"L\")\n",
      "        im.getpixel((0, 0))  # 44\n",
      "        im = Image.fromarray(a, mode=\"RGB\")\n",
      "        im.getpixel((0, 0))  # (44, 1, 0)\n",
      "    \n",
      "      See: :ref:`concept-modes` for general information about modes.\n",
      "    :returns: An image object.\n",
      "    \n",
      "    .. versionadded:: 1.1.6\n",
      "\n"
     ]
    }
   ],
   "source": [
    "help(Image.fromarray)"
   ]
  },
  {
   "cell_type": "code",
   "execution_count": 18,
   "id": "cf01fe84-9d9c-40c3-a3ff-cb80f8a73d27",
   "metadata": {},
   "outputs": [
    {
     "data": {
      "text/plain": [
       "PIL.Image.Image"
      ]
     },
     "execution_count": 18,
     "metadata": {},
     "output_type": "execute_result"
    }
   ],
   "source": [
    "type(checkerboard_image)"
   ]
  },
  {
   "cell_type": "code",
   "execution_count": 24,
   "id": "f1af50fb-436b-4702-9123-d3bdeeef90dc",
   "metadata": {},
   "outputs": [],
   "source": [
    "from util.texture import *"
   ]
  },
  {
   "cell_type": "code",
   "execution_count": null,
   "id": "6dd4a358-310b-4646-95b9-24f804ab03e7",
   "metadata": {},
   "outputs": [],
   "source": []
  }
 ],
 "metadata": {
  "kernelspec": {
   "display_name": "game",
   "language": "python",
   "name": "game"
  },
  "language_info": {
   "codemirror_mode": {
    "name": "ipython",
    "version": 3
   },
   "file_extension": ".py",
   "mimetype": "text/x-python",
   "name": "python",
   "nbconvert_exporter": "python",
   "pygments_lexer": "ipython3",
   "version": "3.11.9"
  }
 },
 "nbformat": 4,
 "nbformat_minor": 5
}
