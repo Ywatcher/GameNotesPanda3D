{
 "cells": [
  {
   "cell_type": "code",
   "execution_count": 1,
   "id": "5ce9a89c-de0e-4451-ab59-981bda53840d",
   "metadata": {},
   "outputs": [
    {
     "name": "stderr",
     "output_type": "stream",
     "text": [
      "Known pipe types:\n",
      "  glxGraphicsPipe\n",
      "(all display modules loaded.)\n",
      ":audio(error): Couldn't open default OpenAL device\n",
      ":audio(error): OpenALAudioManager: No open device or context\n",
      ":audio(error):   OpenALAudioManager is not valid, will use NullAudioManager\n",
      ":audio(error): Couldn't open default OpenAL device\n",
      ":audio(error): OpenALAudioManager: No open device or context\n",
      ":audio(error):   OpenALAudioManager is not valid, will use NullAudioManager\n"
     ]
    },
    {
     "name": "stdout",
     "output_type": "stream",
     "text": [
      "z\n",
      "z\n",
      "z\n"
     ]
    },
    {
     "ename": "SystemExit",
     "evalue": "0",
     "output_type": "error",
     "traceback": [
      "An exception has occurred, use %tb to see the full traceback.\n",
      "\u001b[0;31mSystemExit\u001b[0m\u001b[0;31m:\u001b[0m 0\n"
     ]
    },
    {
     "name": "stderr",
     "output_type": "stream",
     "text": [
      "/media/ywatcher/ExtDisk1/LDisk/Packages/game_env/env/lib/python3.11/site-packages/IPython/core/interactiveshell.py:3585: UserWarning: To exit: use 'exit', 'quit', or Ctrl-D.\n",
      "  warn(\"To exit: use 'exit', 'quit', or Ctrl-D.\", stacklevel=1)\n"
     ]
    }
   ],
   "source": [
    "from QPanda3D.Panda3DWorld import Panda3DWorld\n",
    "import sys\n",
    "from PyQt5.QtWidgets import QApplication, QMainWindow, QTextEdit, QVBoxLayout, QWidget, QPushButton, QDockWidget\n",
    "\n",
    "\n",
    "class MyWorld(Panda3DWorld):\n",
    "    def __init__(self):\n",
    "        Panda3DWorld.__init__(self)\n",
    "        # from this point, act as if you are defining a classic panda3D environment\n",
    "        self.cam.setPos(0, -28, 6)\n",
    "        self.testModel = loader.loadModel('panda')\n",
    "        self.testModel.reparentTo(render)\n",
    "        self.accept('mouse1', self.mousePressEventLeft)\n",
    "        self.accept(\"mouse2\", self.wheelEvent)\n",
    "        self.accept(\"mouse1-up\", self.mouseReleaseEventLeft)\n",
    "        self.accept(\"mouse-move\", self.mouseMoveEvent)\n",
    "        self.accept('z', self.toggle_camera)\n",
    "\n",
    "    def mousePressEventLeft(self, evt:dict):\n",
    "        # le_key_evt.setText(f\"press @ {evt['x']},{evt['y']}\")\n",
    "        print(evt)\n",
    "    def mouseReleaseEventLeft(self, evt:dict):\n",
    "        # le_key_evt.setText(f\"release @ {evt['x']},{evt['y']}\")\n",
    "        print(evt)\n",
    "    def wheelEvent(self, evt:dict):\n",
    "        # le_key_evt.setText(f\"Wheel with {evt['delta']}\")\n",
    "        print(evt)\n",
    "    def mouseMoveEvent(self, evt:dict):\n",
    "        # le_key_evt.setText(f\"Mouse moved to  {evt['x']},{evt['y']}\")\n",
    "        print(evt)\n",
    "    def toggle_camera(self):\n",
    "        print(\"z\")\n",
    "        # self.display_camera.setPos(*self.default_cam_pos)\n",
    "        # self.display_camera.setHpr(0, 0, 0)\n",
    "\n",
    "from QPanda3D.QPanda3DWidget import QPanda3DWidget\n",
    "if __name__ == \"__main__\":\n",
    "    world = MyWorld()\n",
    "    \n",
    "    app = QApplication(sys.argv)\n",
    "    appw=QMainWindow()\n",
    "    appw.setGeometry(50, 50, 800, 600)\n",
    "\n",
    "    pandaWidget = QPanda3DWidget(world)\n",
    "    appw.setCentralWidget(pandaWidget)\n",
    "    appw.show()\n",
    "    \n",
    "    sys.exit(app.exec_())\n"
   ]
  },
  {
   "cell_type": "code",
   "execution_count": null,
   "id": "a6a8f555-44e0-4d90-9c8d-b01b79411fc1",
   "metadata": {},
   "outputs": [],
   "source": []
  },
  {
   "cell_type": "code",
   "execution_count": null,
   "id": "907f4e1a-349b-4c08-ad61-37d10f637182",
   "metadata": {},
   "outputs": [],
   "source": []
  }
 ],
 "metadata": {
  "kernelspec": {
   "display_name": "game",
   "language": "python",
   "name": "game"
  },
  "language_info": {
   "codemirror_mode": {
    "name": "ipython",
    "version": 3
   },
   "file_extension": ".py",
   "mimetype": "text/x-python",
   "name": "python",
   "nbconvert_exporter": "python",
   "pygments_lexer": "ipython3",
   "version": "3.11.9"
  }
 },
 "nbformat": 4,
 "nbformat_minor": 5
}
