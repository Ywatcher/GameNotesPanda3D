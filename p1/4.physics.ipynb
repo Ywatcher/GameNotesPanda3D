{
 "cells": [
  {
   "cell_type": "code",
   "execution_count": 1,
   "id": "0aa85acf-6f8b-4025-a0f2-a6b00936dc21",
   "metadata": {},
   "outputs": [],
   "source": []
  },
  {
   "cell_type": "code",
   "execution_count": 2,
   "id": "7ada923e-a304-4e46-82b1-0e494815dccd",
   "metadata": {},
   "outputs": [],
   "source": [
    "# TODO: a room with walls\n",
    "# a camera that can fly\n",
    "import filepath\n",
    "# from panda3d.core import PointLight, DirectionalLight\n",
    "from direct.task import Task\n",
    "import numpy as np\n",
    "import torch\n",
    "from torch import Tensor\n",
    "from geom.basic import create_cube_node, create_sphere_node,uv_curve_surface, create_colored_cube_node\n",
    "from panda3d.core import (\n",
    "    Geom,\n",
    "    GeomNode,\n",
    "    GeomTriangles,\n",
    "    GeomVertexData,\n",
    "    GeomVertexFormat,\n",
    "    GeomVertexWriter,\n",
    "    GeomEnums,\n",
    "    NodePath,\n",
    "    PointLight,\n",
    "    DirectionalLight,\n",
    "    CardMaker,\n",
    "    WindowProperties\n",
    ")\n",
    "from direct.showbase import DirectObject\n",
    "from panda3d_game.game_object import GameObject\n",
    "from panda3d_game.controller import PlayerController\n",
    "\n",
    "# controller\n",
    "# player controller\n",
    "# agent controller\n",
    "from typing import Set, List, Dict,Callable\n",
    "from datetime import datetime\n",
    "from abc import ABC\n",
    "from panda3d.core import PNMImage, Texture\n",
    "from panda3d.core import PTAUchar\n",
    "from panda3d.core import CardMaker\n",
    "from panda3d.core import Point2\n",
    "from panda3d.core import NodePath, Camera, PerspectiveLens\n",
    "# import gizeh as gz\n",
    "import random"
   ]
  },
  {
   "cell_type": "code",
   "execution_count": 3,
   "id": "82e3120d-d764-49a9-ad8c-19472bf318a1",
   "metadata": {},
   "outputs": [],
   "source": [
    "import sympy\n",
    "import torch"
   ]
  },
  {
   "cell_type": "code",
   "execution_count": 4,
   "id": "7f2d7ea1-33c0-48be-9e5b-80135a8aefa7",
   "metadata": {},
   "outputs": [],
   "source": [
    "from py_src.demos.physics_room import PhyscRoom"
   ]
  },
  {
   "cell_type": "code",
   "execution_count": null,
   "id": "54389ea7-ea9f-4204-b612-460956a45fe6",
   "metadata": {},
   "outputs": [],
   "source": [
    " "
   ]
  },
  {
   "cell_type": "code",
   "execution_count": 5,
   "id": "81354d05-1cda-4575-a971-c388211280f2",
   "metadata": {},
   "outputs": [],
   "source": [
    "from panda3d.core import Point3, LVector3f\n",
    "from panda3d.bullet import (\n",
    "    BulletWorld, \n",
    "    BulletBoxShape, \n",
    "    BulletPlaneShape,\n",
    "    BulletRigidBodyNode, BulletSphereShape\n",
    ")\n",
    "import sympy as sp\n",
    "from sympy.physics.units import (\n",
    "    kilometer, meter,centimeter,\n",
    "    gram, kilogram, tonne, \n",
    "    newton, second\n",
    ")\n",
    "from typing import List\n",
    "from torch.nn import functional as F"
   ]
  },
  {
   "cell_type": "code",
   "execution_count": 6,
   "id": "22d5b052-198a-46b8-88e5-f984ce4bc24d",
   "metadata": {},
   "outputs": [
    {
     "name": "stdout",
     "output_type": "stream",
     "text": [
      "init context showbase\n"
     ]
    },
    {
     "name": "stderr",
     "output_type": "stream",
     "text": [
      "Known pipe types:\n",
      "  glxGraphicsPipe\n",
      "(all display modules loaded.)\n",
      ":audio(error): Couldn't open default OpenAL device\n",
      ":audio(error): OpenALAudioManager: No open device or context\n",
      ":audio(error):   OpenALAudioManager is not valid, will use NullAudioManager\n",
      ":audio(error): Couldn't open default OpenAL device\n",
      ":audio(error): OpenALAudioManager: No open device or context\n",
      ":audio(error):   OpenALAudioManager is not valid, will use NullAudioManager\n"
     ]
    },
    {
     "name": "stdout",
     "output_type": "stream",
     "text": [
      "---set ref---:render,<class 'panda3d.core.NodePath'>\n",
      "tensor([1000000., 2000000.])\n",
      "tensor([[[        0.,         0.,         0.],\n",
      "         [        0.,         0.,  31250002.]],\n",
      "\n",
      "        [[        0.,         0., -31250002.],\n",
      "         [        0.,         0.,         0.]]])\n",
      "---Physics Room run(), at 2024-09-06 23:42:40.863694---\n",
      "---Physics Room destroy at 2024-09-06 23:42:44.796890---\n",
      "---Physics Room destroyed at 2024-09-06 23:42:44.797355, exit---\n"
     ]
    },
    {
     "ename": "SystemExit",
     "evalue": "",
     "output_type": "error",
     "traceback": [
      "An exception has occurred, use %tb to see the full traceback.\n",
      "\u001b[0;31mSystemExit\u001b[0m\n"
     ]
    },
    {
     "name": "stderr",
     "output_type": "stream",
     "text": [
      "/media/ywatcher/ExtDisk1/LDisk/Packages/game_env/env/lib/python3.11/site-packages/IPython/core/interactiveshell.py:3585: UserWarning: To exit: use 'exit', 'quit', or Ctrl-D.\n",
      "  warn(\"To exit: use 'exit', 'quit', or Ctrl-D.\", stacklevel=1)\n"
     ]
    }
   ],
   "source": [
    "# GameObject\n",
    "#   .totol_mass\n",
    "\n",
    "tmoon = Texture()\n",
    "tmoon.read(\"res/moon.jpeg\")\n",
    "tmoon.setWrapU(Texture.WM_repeat)\n",
    "tmoon.setWrapV(Texture.WM_repeat)\n",
    "\n",
    "G_val = 6.67430*1e-11 * newton * meter**2 / (kilogram**2)\n",
    "def getG(unit,G_val=G_val):\n",
    "    G = sp.symbols('G')\n",
    "    m1, m2 = sp.symbols('m1 m2')\n",
    "    r = sp.symbols('r')\n",
    "    M1 = m1 * unit[\"mass\"]\n",
    "    M2 = m2 * unit[\"mass\"]\n",
    "    R = r * unit[\"length\"]\n",
    "    F = G*(M1*M2)/R**2\n",
    "    f = F/unit[\"force\"]\n",
    "    G_game = f.simplify().subs({\n",
    "        m1:1,\n",
    "        m2:1,\n",
    "        r:1,\n",
    "        G:G_val\n",
    "    })\n",
    "    return G_game\n",
    "def safe_reciprocal(x):\n",
    "    return torch.where(x==0, 0*x, torch.reciprocal(x))\n",
    "\n",
    "one = sp.Number(1)\n",
    "\n",
    "class MassedBall(): # not yet inherent GameObject\n",
    "    def __init__(\n",
    "        self,\n",
    "        name,\n",
    "        radius,\n",
    "        mass,\n",
    "        units:dict\n",
    "        # lat_res,\n",
    "        # lon_res,\n",
    "        # geom_type\n",
    "        # TODO: texture\n",
    "    ):\n",
    "        # super().__init__(name)\n",
    "        self.worlds = []\n",
    "        self.radius = radius\n",
    "        self.mass = mass\n",
    "        self.units = units\n",
    "        # print(radius / units[\"length\"])\n",
    "        self.game_radius:float = (radius / units[\"length\"]).simplify().evalf()\n",
    "        self.game_mass: float = (mass / units[\"mass\"]).simplify().evalf()\n",
    "        # create geom\n",
    "        self.geom_node = create_sphere_node(name, lat_res=12,lon_res=12)\n",
    "        self.geom_np = NodePath(self.geom_node)\n",
    "        # print(self.game_radius)\n",
    "        self.geom_np.setScale(self.game_radius)\n",
    "        # create rigid body\n",
    "        self.rigid_body_node = BulletRigidBodyNode(\"SphrRg.\"+str(name))\n",
    "        sphere_shape = BulletSphereShape(self.game_radius)\n",
    "        self.rigid_body_node.add_shape(sphere_shape)\n",
    "        self.rigid_body_node.set_mass(self.game_mass)\n",
    "        self.rigid_body_np = NodePath(self.rigid_body_node)\n",
    "        # bind geom to rigid body\n",
    "        # self.rigid_body_np.attachNewNode(self.geom_node)\n",
    "        self.geom_np.reparent_to(self.rigid_body_np)\n",
    "        # bind self to rigid body\n",
    "        # self.reparent_to(self.rigid)\n",
    "        # self.geom_np.reparentTo(self)\n",
    "        # todo: add collison\n",
    "        \n",
    "    \n",
    "    def toBulletWorld(self, world:BulletWorld):\n",
    "        self.worlds.append(world)\n",
    "        world.attach_rigid_body(self.rigid_body_node)\n",
    "        # if there is contraint, attach constraint\n",
    "        \n",
    "    def set_texture(self, t):\n",
    "        self.geom_np.set_texture(t)\n",
    "        \n",
    "    def set_tex_scale(self, t):\n",
    "        self.geom_np.set_tex_scale(t)\n",
    "        \n",
    "    def setPos(self, *args):\n",
    "        # super().setPos(self,*args)\n",
    "        self.rigid_body_np.setPos(*args)\n",
    "    \n",
    "    @property\n",
    "    def mainPath(self):\n",
    "        return self.rigid_body_np\n",
    "        \n",
    "    def getPos(self, other=None):\n",
    "        if other is None:\n",
    "            return self.rigid_body_np.getPos()\n",
    "        elif isinstance(other, NodePath): \n",
    "            return self.rigid_body_np.getPos(other)\n",
    "        else:\n",
    "            return self.rigid_body_np.getPos(other.mainPath)\n",
    "        \n",
    "    def reparentTo(self, *args):\n",
    "        self.rigid_body_np.reparentTo(*args)\n",
    "    def reparent_to(self, *args):\n",
    "        self.rigid_body_np.reparent_to(*args)\n",
    "    \n",
    "    def setZ(self,*args):\n",
    "        self.rigid_body_np.setZ(*args)\n",
    "        \n",
    "    def apply_force(self, force, pos):\n",
    "        # print(force, pos)\n",
    "        self.rigid_body_node.apply_force(LVector3f(*force), LVector3f(*pos))\n",
    "\n",
    "def autocomplete_units(unit:dict):\n",
    "    force_unit = (\n",
    "        unit[\"mass\"] * unit[\"length\"] / unit[\"time\"] ** 2\n",
    "    )/(kilogram * meter / second**2).simplify()\n",
    "    unit[\"force\"] = force_unit * newton\n",
    "\n",
    "class PhysicsRoomBalls(PhyscRoom):\n",
    "    @property\n",
    "    def masses(self):\n",
    "        if hasattr(self, \"_masses\"):\n",
    "            return self._masses\n",
    "        else:\n",
    "            self._masses =  self.get_mass(self.gravitational_bodies)\n",
    "            return self._masses\n",
    "    def __init__(self, xb:int, yb:int , zb:int):\n",
    "        super().__init__(xb,yb,zb)\n",
    "        # objects\n",
    "        \n",
    "        self.bullet_world.setGravity((0,0,0)) # no global gravity\n",
    "        self.unit = {\n",
    "            \"mass\" : tonne,\n",
    "            \"length\" : 100*meter,\n",
    "            \"time\": 1 * second, \n",
    "            # \"force\" : sp.Number(1e3) * newton\n",
    "        }\n",
    "        autocomplete_units(self.unit)\n",
    "        # self.G_game = getG(self.unit, G_val=G_val)\n",
    "        self.G_game = 0.001\n",
    "        self.G_game_tensor = torch.Tensor([self.G_game])\n",
    "        \n",
    "        self.planet1 = MassedBall(\n",
    "            name=\"planet1\",\n",
    "            radius=100*meter,\n",
    "            mass=1e6*tonne,\n",
    "            units=self.unit\n",
    "        )\n",
    "        self.planet1.reparentTo(self.render)\n",
    "        self.planet2 = MassedBall(\n",
    "            name=\"planet2\",\n",
    "            radius=100*meter,\n",
    "            mass=2e6*tonne,\n",
    "            units=self.unit\n",
    "        )\n",
    "        self.planet2.reparentTo(self.render)\n",
    "        self.planet2.toBulletWorld(self.bullet_world)\n",
    "        \n",
    "        \n",
    "        self.planet1.set_texture(tmoon)\n",
    "        self.planet2.set_texture(tmoon)\n",
    "        self.planet2.setZ(4)\n",
    "        self.planet1.setZ(-4)\n",
    "        self.planet1.toBulletWorld(self.bullet_world)\n",
    "        self.gravitational_bodies = [self.planet1, self.planet2]\n",
    "        \n",
    "        print(self.masses)\n",
    "        dist = self.get_node_dist(self.gravitational_bodies)\n",
    "        gravity = self.cal_gravity(self.masses, dist)\n",
    "        print(gravity)\n",
    "        \n",
    "    \n",
    "    def apply_gravitational_force(self, task):\n",
    "        # N by N matrix, upper triaglar\n",
    "        gravity = self.cal_gravity(\n",
    "            self.masses,\n",
    "            self.get_node_dist(self.gravitational_bodies),\n",
    "            sumup=True\n",
    "        )\n",
    "        self.batch_apply_force(\n",
    "            self.gravitational_bodies,\n",
    "            gravity,\n",
    "            self.get_node_poses(self.gravitational_bodies)\n",
    "        )\n",
    "        \n",
    "    @staticmethod\n",
    "    def get_node_poses(node_paths:List[NodePath]) -> Tensor:\n",
    "        pos = torch.Tensor([\n",
    "            n.getPos()\n",
    "            for n in node_paths\n",
    "        ])\n",
    "        return pos\n",
    "    \n",
    "    @staticmethod\n",
    "    def get_node_dist(node_paths:List[NodePath]) -> Tensor:\n",
    "        nr_nodes = len(node_paths)\n",
    "        # FIXME: use vector distance\n",
    "        # dist ij\n",
    "        return torch.Tensor([\n",
    "            [\n",
    "                node_paths[j].getPos(node_paths[i])\n",
    "                # if i<j else (0,0,0)\n",
    "                for j in range(nr_nodes)\n",
    "            ]\n",
    "            for i in range(nr_nodes)\n",
    "        ])\n",
    "    \n",
    "    @staticmethod\n",
    "    def get_mass(objs:List[MassedBall]) -> torch.Tensor:\n",
    "        return torch.Tensor([\n",
    "            o.game_mass for o in objs\n",
    "        ])\n",
    "    \n",
    "    def cal_gravity(self, mass:torch.Tensor, dist:torch.Tensor, sumup=False) -> torch.Tensor:\n",
    "        dist_sq = torch.einsum(\n",
    "            \"mnd -> mn\",\n",
    "            dist ** 2\n",
    "        )\n",
    "        dist_sq_rcpr = safe_reciprocal(dist_sq)\n",
    "        gravity_scalar = torch.einsum(\n",
    "            \"o, n, mn, m -> mn\",\n",
    "            self.G_game_tensor, \n",
    "            mass, dist_sq_rcpr, mass\n",
    "        )\n",
    "        gravity_vector = torch.einsum(\n",
    "            \"mn, mnd -> mnd\",\n",
    "            gravity_scalar, \n",
    "            F.normalize(dist, dim=2, p=2)\n",
    "        )\n",
    "        if sumup:\n",
    "            return torch.einsum(\n",
    "                \"mnd -> md\",\n",
    "                gravity_vector\n",
    "            )\n",
    "        return gravity_vector\n",
    "        \n",
    "    @staticmethod\n",
    "    def batch_apply_force(bodies, force, pos):\n",
    "        for i in range(len(bodies)):\n",
    "            bodies[i].apply_force(\n",
    "                force[i],\n",
    "                pos[i]\n",
    "            )\n",
    "            \n",
    "    def update(self, task):\n",
    "        if not self.paused:\n",
    "            self.apply_gravitational_force(task)\n",
    "        return super().update(task)\n",
    "    \n",
    "    \n",
    "        \n",
    "import builtins\n",
    "import traceback\n",
    "try:\n",
    "    with PhysicsRoomBalls(25,25,25) as app:\n",
    "        app.run()\n",
    "except Exception as e:\n",
    "    print(e)\n",
    "    print(traceback.format_exc())\n",
    "finally:\n",
    "    if hasattr(builtins, 'base'):\n",
    "        builtins.base.destroy()             "
   ]
  },
  {
   "cell_type": "code",
   "execution_count": null,
   "id": "e04779a5-e36d-438e-9fd7-1f28bc712bc9",
   "metadata": {},
   "outputs": [],
   "source": []
  },
  {
   "cell_type": "code",
   "execution_count": 9,
   "id": "a2438340-f928-4033-826e-3030c6a975b0",
   "metadata": {},
   "outputs": [
    {
     "name": "stderr",
     "output_type": "stream",
     "text": [
      "Known pipe types:\n",
      "  glxGraphicsPipe\n",
      "(all display modules loaded.)\n",
      ":audio(error): Couldn't open default OpenAL device\n",
      ":audio(error): OpenALAudioManager: No open device or context\n",
      ":audio(error):   OpenALAudioManager is not valid, will use NullAudioManager\n",
      ":audio(error): Couldn't open default OpenAL device\n",
      ":audio(error): OpenALAudioManager: No open device or context\n",
      ":audio(error):   OpenALAudioManager is not valid, will use NullAudioManager\n"
     ]
    },
    {
     "name": "stdout",
     "output_type": "stream",
     "text": [
      "---set ref---:render,<class 'panda3d.core.NodePath'>\n",
      "---Physics Room run(), at 2024-08-27 13:00:03.180302---\n",
      "paused:False\n",
      "---Physics Room destroy at 2024-08-27 13:00:15.826385---\n",
      "---Physics Room destroyed at 2024-08-27 13:00:15.826845, exit---\n"
     ]
    },
    {
     "ename": "SystemExit",
     "evalue": "",
     "output_type": "error",
     "traceback": [
      "An exception has occurred, use %tb to see the full traceback.\n",
      "\u001b[0;31mSystemExit\u001b[0m\n"
     ]
    }
   ],
   "source": [
    "class PhysicsRoomPlane(PhyscRoom):\n",
    "    def __init__(self, xb:int, yb:int , zb:int):\n",
    "        super().__init__(xb,yb,zb)\n",
    "        # objects\n",
    "        \n",
    "        self.bullet_world = BulletWorld()\n",
    "        self.bullet_world.setGravity((0,0,-9.81))\n",
    "        self.groundNode = BulletRigidBodyNode('ground')\n",
    "        ground = BulletPlaneShape((0,0,1),1)\n",
    "        self.groundNode.addShape(ground)\n",
    "        self.groundNp = self.render.attachNewNode(self.groundNode)\n",
    "        self.bullet_world.attach_rigid_body(self.groundNode)\n",
    "        self.groundNp.setPos(0,0,-zb)\n",
    "        \n",
    "        self.sphereNode = BulletRigidBodyNode('sphere')\n",
    "        sphere_rigid = BulletSphereShape(1)\n",
    "        self.sphereNode.setMass(1)\n",
    "        self.sphereNode.addShape(sphere_rigid)\n",
    "        # self.sphereNp = self.render.attachNewNode(self.sphereNode)\n",
    "        self.sphereNp = NodePath(self.sphereNode)\n",
    "        self.sphereNp.reparentTo(self.render)\n",
    "        sphere_geom = create_sphere_node('sphere01',lat_res=6,lon_res=6)\n",
    "        sphere_geom_np = NodePath(sphere_geom)\n",
    "        sphere_geom_np.reparentTo(self.sphereNp)\n",
    "        sphere_geom_np.setPos(0,0,2)\n",
    "        self.bullet_world.attach_rigid_body(self.sphereNode)\n",
    "        sphere_geom_np.setTexture(tmoon)\n",
    "        # you cannot use non physical parent nodepath to\n",
    "        # set rigid pos\n",
    "        # self.new_np = NodePath(\"hey\")\n",
    "        # self.sphereNp.reparent_to(self.new_np)\n",
    "        # self.new_np.reparent_to(self.render)\n",
    "        # self.sphereNp.setPos(0,0,2)\n",
    "        # self.new_np.setPos(0,0,2)\n",
    "        \n",
    "    \n",
    "        \n",
    "import builtins\n",
    "import traceback\n",
    "try:\n",
    "    with PhysicsRoomPlane(25,25,25) as app:\n",
    "        app.run()\n",
    "except Exception as e:\n",
    "    print(e)\n",
    "    print(traceback.format_exc())\n",
    "finally:\n",
    "    if hasattr(builtins, 'base'):\n",
    "        builtins.base.destroy()             "
   ]
  },
  {
   "cell_type": "code",
   "execution_count": 105,
   "id": "d71ebe4a-0ce1-4692-822f-be2b07f24a3b",
   "metadata": {},
   "outputs": [],
   "source": [
    "autocomplete_units(unit)\n",
    "# unit"
   ]
  },
  {
   "cell_type": "code",
   "execution_count": null,
   "id": "1d67bfae-1eac-4576-9bf6-c6b714973884",
   "metadata": {},
   "outputs": [],
   "source": [
    "# model\n",
    "# either reparent to some rigid body\n",
    "# or a node, the position of node updates according to a function\n",
    "\n",
    "# geom nodes categorized into groups\n",
    "# each group renders one geom in certain condition\n",
    "# rendership do not change each frame\n",
    "# change it when certain criteria met"
   ]
  },
  {
   "cell_type": "raw",
   "id": "93f3d3d9-de47-477e-8523-209ff338433f",
   "metadata": {},
   "source": [
    "node\n",
    " - geoms []\n",
    " - rigid\n",
    " \n",
    " \n",
    "node \n",
    "- child node\n",
    "- child node.hide_geom -> use low res model as geom \n",
    "-> regularized with funcs\n",
    "render_res_1km():\n",
    "    child_nodes1.hide()\n",
    "    child_nodes2.hide()\n",
    "    child_nodes3.hide_sth()\n",
    "    self.low_res_geoms[1km].show()\n",
    "   \n",
    "or \n",
    "    child1.render_1km\n",
    "    \n",
    "    \n",
    "---、\n",
    "use LOD node\n",
    "GameObject\n",
    " - node\n",
    "     - lod_node"
   ]
  },
  {
   "cell_type": "code",
   "execution_count": 31,
   "id": "7f38b9eb-fc7b-40ed-8166-dec7942d2ab0",
   "metadata": {},
   "outputs": [],
   "source": [
    "# calculate gravity"
   ]
  },
  {
   "cell_type": "code",
   "execution_count": 33,
   "id": "b0eeed3a-4341-4337-bb9c-0fc45aa74ad8",
   "metadata": {},
   "outputs": [
    {
     "data": {
      "text/latex": [
       "$\\displaystyle \\frac{G m_{1} m_{2}}{r^{2}}$"
      ],
      "text/plain": [
       "G*m1*m2/r**2"
      ]
     },
     "execution_count": 33,
     "metadata": {},
     "output_type": "execute_result"
    }
   ],
   "source": [
    "\n",
    "F = G*(m1*m2)/r**2\n",
    "F"
   ]
  },
  {
   "cell_type": "code",
   "execution_count": 34,
   "id": "131f7d53-4c9b-49ce-8ca6-02be0baa7a77",
   "metadata": {},
   "outputs": [],
   "source": [
    "unit = {\n",
    "            \"mass\" : tonne,\n",
    "            \"length\" : 100*meter,\n",
    "            \"time\": 1 * second, \n",
    "            # \"force\" : sp.Number(1e3) * newton\n",
    "        }\n",
    "autocomplete_units(unit)"
   ]
  },
  {
   "cell_type": "code",
   "execution_count": 35,
   "id": "b0930e71-1330-4c3b-81d5-e959cb0ce068",
   "metadata": {},
   "outputs": [
    {
     "data": {
      "text/plain": [
       "{'mass': tonne,\n",
       " 'length': 100*meter,\n",
       " 'time': second,\n",
       " 'force': 100*newton*tonne/kilogram}"
      ]
     },
     "execution_count": 35,
     "metadata": {},
     "output_type": "execute_result"
    }
   ],
   "source": [
    "unit"
   ]
  },
  {
   "cell_type": "code",
   "execution_count": 42,
   "id": "d96c742d-07c6-486e-be81-c81c8bcd04e9",
   "metadata": {},
   "outputs": [],
   "source": [
    "G_val = 6.67430*1e-11 * newton * meter**2 / (kilogram**2)\n",
    "M1 = m1 * unit[\"mass\"]\n",
    "M2 = m2 * unit[\"mass\"]\n",
    "R = r * unit[\"length\"]\n",
    "F = G*(M1*M2)/R**2\n",
    "f = F/unit[\"force\"]\n",
    "G_game = f.simplify().subs({\n",
    "    m1:1,\n",
    "    m2:1,\n",
    "    r:1,\n",
    "    G:G_val\n",
    "})"
   ]
  },
  {
   "cell_type": "code",
   "execution_count": 43,
   "id": "feaca838-1876-46fd-b402-ab14430b064b",
   "metadata": {},
   "outputs": [
    {
     "data": {
      "text/latex": [
       "$\\displaystyle 6.6743 \\cdot 10^{-14}$"
      ],
      "text/plain": [
       "6.67430000000000e-14"
      ]
     },
     "execution_count": 43,
     "metadata": {},
     "output_type": "execute_result"
    }
   ],
   "source": [
    "G_game"
   ]
  },
  {
   "cell_type": "code",
   "execution_count": 78,
   "id": "fb66aa3e-7626-422d-937a-455114746eb8",
   "metadata": {},
   "outputs": [],
   "source": [
    "x = torch.Tensor([[1,0],[0,0]])*torch.Tensor([one])\n"
   ]
  },
  {
   "cell_type": "code",
   "execution_count": 72,
   "id": "be654f18-52f1-4c17-87de-ba20204a960c",
   "metadata": {},
   "outputs": [
    {
     "data": {
      "text/plain": [
       "float"
      ]
     },
     "execution_count": 72,
     "metadata": {},
     "output_type": "execute_result"
    }
   ],
   "source": [
    "type(x.to(dtype=float)[0].item())"
   ]
  },
  {
   "cell_type": "code",
   "execution_count": 73,
   "id": "36fd0756-f6b4-47ea-9577-7dc661ec953c",
   "metadata": {},
   "outputs": [
    {
     "data": {
      "text/plain": [
       "float"
      ]
     },
     "execution_count": 73,
     "metadata": {},
     "output_type": "execute_result"
    }
   ],
   "source": [
    "type(torch.reciprocal(x)[0].item())"
   ]
  },
  {
   "cell_type": "code",
   "execution_count": 76,
   "id": "618c61f0-e822-43e3-9075-eae53ec2df09",
   "metadata": {},
   "outputs": [
    {
     "data": {
      "text/plain": [
       "tensor([1.])"
      ]
     },
     "execution_count": 76,
     "metadata": {},
     "output_type": "execute_result"
    }
   ],
   "source": [
    "torch.Tensor([one])"
   ]
  },
  {
   "cell_type": "code",
   "execution_count": 70,
   "id": "1d5a6cb4-4324-41b5-a761-584a08829e96",
   "metadata": {},
   "outputs": [],
   "source": [
    "one = sp.Number(1)"
   ]
  },
  {
   "cell_type": "code",
   "execution_count": 80,
   "id": "26974e04-4c01-4c4a-98b6-24251b758bad",
   "metadata": {},
   "outputs": [
    {
     "data": {
      "text/plain": [
       "tensor([[1., 0.],\n",
       "        [0., 0.]])"
      ]
     },
     "execution_count": 80,
     "metadata": {},
     "output_type": "execute_result"
    }
   ],
   "source": [
    "F.normalize(x, dim=-1,p=2)"
   ]
  },
  {
   "cell_type": "code",
   "execution_count": 88,
   "id": "c1e72d9e-1bc2-43e1-869a-a17ff9675f30",
   "metadata": {},
   "outputs": [
    {
     "data": {
      "text/plain": [
       "array([[1., 0.],\n",
       "       [0., 0.]], dtype=float32)"
      ]
     },
     "execution_count": 88,
     "metadata": {},
     "output_type": "execute_result"
    }
   ],
   "source": [
    "x.numpy()"
   ]
  },
  {
   "cell_type": "code",
   "execution_count": 90,
   "id": "371281c7-3f24-423d-80f8-9788db775e08",
   "metadata": {},
   "outputs": [],
   "source": [
    "y = torch.Tensor([1,2,3])"
   ]
  },
  {
   "cell_type": "code",
   "execution_count": 93,
   "id": "c757585a-51db-4a4d-a5e0-646160874ae9",
   "metadata": {},
   "outputs": [
    {
     "data": {
      "text/plain": [
       "LVector3f(1, 2, 3)"
      ]
     },
     "execution_count": 93,
     "metadata": {},
     "output_type": "execute_result"
    }
   ],
   "source": [
    "LVector3f(*y)"
   ]
  },
  {
   "cell_type": "code",
   "execution_count": null,
   "id": "2bd88f40-3bde-49cc-9a0f-1cec64481e55",
   "metadata": {},
   "outputs": [],
   "source": []
  }
 ],
 "metadata": {
  "kernelspec": {
   "display_name": "game",
   "language": "python",
   "name": "game"
  },
  "language_info": {
   "codemirror_mode": {
    "name": "ipython",
    "version": 3
   },
   "file_extension": ".py",
   "mimetype": "text/x-python",
   "name": "python",
   "nbconvert_exporter": "python",
   "pygments_lexer": "ipython3",
   "version": "3.11.9"
  }
 },
 "nbformat": 4,
 "nbformat_minor": 5
}
