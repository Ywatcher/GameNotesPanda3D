{
 "cells": [
  {
   "cell_type": "code",
   "execution_count": 2,
   "id": "4f16d956-9b4e-41b4-bd8f-3ae025bbbd8d",
   "metadata": {},
   "outputs": [],
   "source": [
    "import filepath\n",
    "\n",
    "# TODO: a room with walls\n",
    "# a camera that can fly\n",
    "# from panda3d.core import PointLight, DirectionalLight\n",
    "from direct.task import Task\n",
    "import numpy as np\n",
    "import torch\n",
    "from torch import Tensor\n",
    "from geom.basic import create_cube_node, create_sphere_node,uv_curve_surface, create_colored_cube_node\n",
    "from panda3d.core import (\n",
    "    Geom,\n",
    "    GeomNode,\n",
    "    GeomTriangles,\n",
    "    GeomVertexData,\n",
    "    GeomVertexFormat,\n",
    "    GeomVertexWriter,\n",
    "    GeomEnums,\n",
    "    NodePath,\n",
    "    PointLight,\n",
    "    DirectionalLight,\n",
    "    CardMaker,\n",
    "    WindowProperties\n",
    ")\n",
    "from direct.showbase import DirectObject\n",
    "from game.game_object import GameObject\n",
    "from game.controller import PlayerController\n",
    "\n",
    "# controller\n",
    "# player controller\n",
    "# agent controller\n",
    "from typing import Set, List, Dict,Callable\n",
    "from datetime import datetime\n",
    "from abc import ABC\n",
    "from panda3d.core import PNMImage, Texture\n",
    "from panda3d.core import PTAUchar\n",
    "from panda3d.core import CardMaker\n",
    "from panda3d.core import Point2\n",
    "from panda3d.core import NodePath, Camera, PerspectiveLens\n",
    "# import gizeh as gz\n",
    "import random\n",
    "import sympy\n",
    "import torch"
   ]
  },
  {
   "cell_type": "code",
   "execution_count": 1,
   "id": "3e022bbc-ffbe-457b-81ff-06e17e146e9d",
   "metadata": {},
   "outputs": [
    {
     "ename": "SyntaxError",
     "evalue": "unterminated string literal (detected at line 5) (2880367776.py, line 5)",
     "output_type": "error",
     "traceback": [
      "\u001b[0;36m  Cell \u001b[0;32mIn[1], line 5\u001b[0;36m\u001b[0m\n\u001b[0;31m    \"ls\u001b[0m\n\u001b[0m    ^\u001b[0m\n\u001b[0;31mSyntaxError\u001b[0m\u001b[0;31m:\u001b[0m unterminated string literal (detected at line 5)\n"
     ]
    }
   ],
   "source": [
    "from typing import List\n",
    "class Console:\n",
    "    def __init__(self):\n",
    "        self.commands = {\n",
    "            \"ls\": self.ls\n",
    "        }\n",
    "        \n",
    "        \n",
    "    def ls(self):\n",
    "        return NotImplemented\n",
    "    \n",
    "    def select(self):\n",
    "        return NotImplemented\n",
    "    \n",
    "    def exec_(self, commands:)\n",
    "        pass\n",
    "    "
   ]
  },
  {
   "cell_type": "code",
   "execution_count": 1,
   "id": "5dcb1a31-d2be-45c4-871c-1306aa7f69a6",
   "metadata": {},
   "outputs": [],
   "source": [
    "from panda3d.core import KeyboardButton"
   ]
  },
  {
   "cell_type": "code",
   "execution_count": 3,
   "id": "4f8973e1-e6ef-4719-9c79-e55e95a883e9",
   "metadata": {},
   "outputs": [
    {
     "data": {
      "text/plain": [
       "control"
      ]
     },
     "execution_count": 3,
     "metadata": {},
     "output_type": "execute_result"
    }
   ],
   "source": [
    "KeyboardButton.control()"
   ]
  },
  {
   "cell_type": "code",
   "execution_count": null,
   "id": "82b92e43-a5b1-41cc-8e4f-3e98a19e356f",
   "metadata": {},
   "outputs": [],
   "source": []
  }
 ],
 "metadata": {
  "kernelspec": {
   "display_name": "game",
   "language": "python",
   "name": "game"
  },
  "language_info": {
   "codemirror_mode": {
    "name": "ipython",
    "version": 3
   },
   "file_extension": ".py",
   "mimetype": "text/x-python",
   "name": "python",
   "nbconvert_exporter": "python",
   "pygments_lexer": "ipython3",
   "version": "3.11.9"
  }
 },
 "nbformat": 4,
 "nbformat_minor": 5
}
