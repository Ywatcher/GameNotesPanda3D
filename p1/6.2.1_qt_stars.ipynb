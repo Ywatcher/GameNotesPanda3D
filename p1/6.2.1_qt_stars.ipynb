{
 "cells": [
  {
   "cell_type": "code",
   "execution_count": 1,
   "id": "3bfb3cac-4176-431b-be7c-84e796c0776c",
   "metadata": {},
   "outputs": [],
   "source": [
    "import sys\n",
    "from PyQt5.QtWidgets import QWidget, QApplication, QMainWindow, QDockWidget, QTextEdit, QPlainTextEdit\n",
    "from PyQt5.QtCore import Qt, QTimer\n",
    "import filepath\n",
    "import pdb\n",
    "\n",
    "from typing import Tuple\n",
    "from typing import List,Set, List, Dict,Callable\n",
    "from qpanda3d import QShowBase, QPanda3DWidget, QControl, Synchronizer\n",
    "from demos.physics_room import RoomScene\n",
    "from panda3d_game.app import ControlShowBase, ContextShowBase, PhysicsShowBase,UniversalGravitySpace\n",
    "from vispyutil.canvas import SynchronizedCanvas\n",
    "from vispyutil.showbase import CanvasBackgroundShowBase\n",
    "import numpy as np\n",
    "from vispy import app, scene, visuals,use\n",
    "from sympy.physics.units import (\n",
    "    kilometer, meter,centimeter,\n",
    "    gram, kilogram, tonne,\n",
    "    newton, second\n",
    ")\n",
    "from panda3d.core import (\n",
    "    NodePath,\n",
    "    WindowProperties,\n",
    "    Vec3,\n",
    "    TextNode,\n",
    "    PNMImage, Texture,\n",
    "    CardMaker,Point2,\n",
    "    NodePath, Camera, PerspectiveLens,\n",
    "    Point3, LVector3f\n",
    ")\n",
    "from util.physics import autocomplete_units, G_val, getG\n",
    "from demos.ball_room import MassedBall,tmoon\n",
    "from util.log import *\n",
    "from config.style import styleSheet\n",
    "import yaml\n",
    "import filepath\n",
    "from util.repo import *\n",
    "import os\n",
    "from PyQt5.QtCore import QObject, QEvent\n",
    "def load_config(config_file):\n",
    "    with open(config_file, 'r') as file:\n",
    "        return yaml.safe_load(file)\n",
    "\n",
    "config = load_config(os.path.join(config_root, \"layout_simple.yaml\"))\n",
    "from qtutil.event import *\n",
    "from ui.qtui import *\n",
    "import torch\n",
    "from torch import Tensor\n",
    "from torch.nn import functional as F\n",
    "from util.math import one,safe_reciprocal\n",
    "from util.physics import autocomplete_units, G_val, getG"
   ]
  },
  {
   "cell_type": "code",
   "execution_count": 2,
   "id": "96b450f0-452d-4bbd-b931-c47bb75e32b5",
   "metadata": {},
   "outputs": [
    {
     "name": "stderr",
     "output_type": "stream",
     "text": [
      "Known pipe types:\n",
      "  glxGraphicsPipe\n",
      "(all display modules loaded.)\n",
      ":audio(error): Couldn't open default OpenAL device\n",
      ":audio(error): OpenALAudioManager: No open device or context\n",
      ":audio(error):   OpenALAudioManager is not valid, will use NullAudioManager\n",
      ":audio(error): Couldn't open default OpenAL device\n",
      ":audio(error): OpenALAudioManager: No open device or context\n",
      ":audio(error):   OpenALAudioManager is not valid, will use NullAudioManager\n",
      "/media/ywatcher/ExtDisk1/LDisk/Packages/game_env/env/lib/python3.11/site-packages/torch/functional.py:504: UserWarning: torch.meshgrid: in an upcoming release, it will be required to pass the indexing argument. (Triggered internally at /home/conda/feedstock_root/build_artifacts/libtorch_1711322746054/work/aten/src/ATen/native/TensorShape.cpp:3526.)\n",
      "  return _VF.meshgrid(tensors, **kwargs)  # type: ignore[attr-defined]\n"
     ]
    },
    {
     "ename": "SystemExit",
     "evalue": "0",
     "output_type": "error",
     "traceback": [
      "An exception has occurred, use %tb to see the full traceback.\n",
      "\u001b[0;31mSystemExit\u001b[0m\u001b[0;31m:\u001b[0m 0\n"
     ]
    },
    {
     "name": "stderr",
     "output_type": "stream",
     "text": [
      "/media/ywatcher/ExtDisk1/LDisk/Packages/game_env/env/lib/python3.11/site-packages/IPython/core/interactiveshell.py:3585: UserWarning: To exit: use 'exit', 'quit', or Ctrl-D.\n",
      "  warn(\"To exit: use 'exit', 'quit', or Ctrl-D.\", stacklevel=1)\n"
     ]
    }
   ],
   "source": [
    "# TODO: press : for command\n",
    "# TODO: console history save and load\n",
    "# TODO: alias and scripts\n",
    "\n",
    "import pdb\n",
    "class StarCanvas(SynchronizedCanvas):\n",
    "    def __init__(self, n_stars, rho=10):\n",
    "        SynchronizedCanvas.__init__(self)\n",
    "        self.n_stars = n_stars \n",
    "        # randomly pick stars\n",
    "        np.random.seed(0)  # todo: use torch random state\n",
    "        cos_pos_theta = np.random.uniform(-1,1, n_stars)\n",
    "        pos_theta = np.arccos(cos_pos_theta)\n",
    "        pos_phi = np.random.uniform(0,2*np.pi, n_stars)\n",
    "        sizes = np.random.uniform(0, 5, n_stars) \n",
    "        r = rho * np.sin(pos_theta)\n",
    "        x = r * np.cos(pos_phi)\n",
    "        y = r * np.sin(pos_phi)\n",
    "        z = rho * np.cos(pos_theta)\n",
    "        positions = np.vstack([x,y,z]).T\n",
    "        scatter = scene.visuals.Markers()\n",
    "        scatter.set_data(positions, edge_color=None, face_color='white', size=sizes, symbol='o')\n",
    "        # Add scatter plot to the view\n",
    "        self.view.add(scatter)\n",
    "\n",
    "class StarScene(CanvasBackgroundShowBase):\n",
    "    def __init__(self):\n",
    "        self.stars_canvas = StarCanvas(60000)\n",
    "        CanvasBackgroundShowBase.__init__(self,self.stars_canvas)\n",
    "\n",
    "        \n",
    "class PlanetStarScene_(StarScene,PhysicsShowBase):\n",
    "    def __init__(self):\n",
    "        StarScene.__init__(self)\n",
    "        PhysicsShowBase.__init__(self)\n",
    "        self.bullet_world.setGravity((0,0,0))\n",
    "        self.unit = {\n",
    "            \"mass\" : tonne,\n",
    "            \"length\" : 100*meter,\n",
    "            \"time\": 1 * second,\n",
    "            # \"force\" : sp.Number(1e3) * newton\n",
    "        }\n",
    "        autocomplete_units(self.unit)\n",
    "        self.planet1 = MassedBall(\n",
    "            name=\"planet1\",\n",
    "            radius=1000*meter,\n",
    "            mass=1e6*tonne,\n",
    "            units=self.unit\n",
    "        )\n",
    "        self.planet1.reparentTo(self.render)\n",
    "        self.planet1.set_texture(tmoon)\n",
    "        self.planet1.setScale(10)\n",
    "        self.planet1.setPos(0,10,0)\n",
    "        \n",
    "\n",
    "class PlanetStarScene(StarScene,UniversalGravitySpace):\n",
    "\n",
    "    def __init__(self):\n",
    "        StarScene.__init__(self)\n",
    "        unit = {\n",
    "            \"mass\" : tonne,\n",
    "            \"length\" : 100*meter,\n",
    "            \"time\": 1 * second,\n",
    "            # \"force\" : sp.Number(1e3) * newton\n",
    "        }\n",
    "        G_game = 0.001\n",
    "        UniversalGravitySpace.__init__(\n",
    "            self, unit=unit, G_val=G_game)\n",
    "        self.planet1 = MassedBall(\n",
    "            name=\"planet1\",\n",
    "            radius=100*meter,\n",
    "            mass=1e6*tonne,\n",
    "            units=self.unit\n",
    "        )\n",
    "        self.planet1.reparentTo(self.render)\n",
    "        self.planet2 = MassedBall(\n",
    "            name=\"planet2\",\n",
    "            radius=100*meter,\n",
    "            mass=1e6*tonne,\n",
    "            units=self.unit\n",
    "        )\n",
    "        self.planet2.reparentTo(self.render)\n",
    "        self.planet1.set_texture(tmoon)\n",
    "        self.planet2.set_texture(tmoon)\n",
    "        self.planet1.setScale(1)\n",
    "        self.planet1.setPos(0,5,0)\n",
    "        self.planet2.setScale(1)\n",
    "        self.planet2.setPos(0,-5,0)\n",
    "        self.planet1.toBulletWorld(self.bullet_world)\n",
    "        self.planet2.toBulletWorld(self.bullet_world)\n",
    "        self.gravitational_bodies = [self.planet1, self.planet2]\n",
    "        self.objects.update({\n",
    "            \"planet1\":self.planet1,\n",
    "            \"planet2\":self.planet2\n",
    "        })\n",
    "        self.accept('p', self.pause_switch)\n",
    "        self.planet1.set_linear_velocity(Vec3(0,0,2))\n",
    "        self.planet2.set_linear_velocity(Vec3(0,0,-2))\n",
    "        # set velocity\n",
    "    # todo; set initial state; back to initial state\n",
    "\n",
    "    def potential(self):\n",
    "        pass\n",
    "     \n",
    "class PlanetStarSpace(PlanetStarScene, QControl):\n",
    "    def __init__(self, isQt = True):\n",
    "        import pdb\n",
    "        QControl.__init__(self)\n",
    "        PlanetStarScene.__init__(self)\n",
    "        self.isQt = isQt\n",
    "        if self.isQt:\n",
    "            self.startQt()\n",
    "\n",
    "\n",
    "from demos.physics_room import PhyscRoomConsole\n",
    "\n",
    "\n",
    "class SpaceGame(RawQtGUI):\n",
    "    def get_game(self):\n",
    "        return PlanetStarSpace()\n",
    "\n",
    "    def get_console(self):\n",
    "        return PhyscRoomConsole(showbase=self.panda3d)\n",
    "    \n",
    "\n",
    "if __name__ == '__main__':\n",
    "    torch.set_printoptions(precision=16, sci_mode=False)\n",
    "    app = QApplication(sys.argv)\n",
    "    window = SpaceGame()\n",
    "    window.show()\n",
    "    sys.exit(app.exec_())"
   ]
  },
  {
   "cell_type": "code",
   "execution_count": null,
   "id": "a7ff3ced-b494-4b3a-8dcd-7903e0b5ac3b",
   "metadata": {},
   "outputs": [],
   "source": [
    "\n",
    "\n",
    "3\n",
    "\n",
    "\n"
   ]
  },
  {
   "cell_type": "code",
   "execution_count": null,
   "id": "efb0bcf7-7148-41fc-8b84-b3fba2f5814c",
   "metadata": {},
   "outputs": [],
   "source": [
    "a = QEvent.registerEventType()\n",
    "b = QEvent.registerEventType()"
   ]
  },
  {
   "cell_type": "code",
   "execution_count": 5,
   "id": "40c3f1db-8206-4c22-b580-d1b87adadef7",
   "metadata": {},
   "outputs": [
    {
     "data": {
      "text/plain": [
       "int"
      ]
     },
     "execution_count": 5,
     "metadata": {},
     "output_type": "execute_result"
    }
   ],
   "source": [
    "type(a)"
   ]
  },
  {
   "cell_type": "code",
   "execution_count": 10,
   "id": "4d84c9f8-880e-4a91-b6c4-4129ceeb3805",
   "metadata": {},
   "outputs": [],
   "source": [
    "import PyQt5\n",
    "from PyQt5.QtGui import QTextCursor"
   ]
  },
  {
   "cell_type": "code",
   "execution_count": 4,
   "id": "2c9533d4-f09b-4c75-8429-f7936c3ef217",
   "metadata": {},
   "outputs": [],
   "source": [
    "t = QPlainTextEdit()"
   ]
  },
  {
   "cell_type": "code",
   "execution_count": 5,
   "id": "4a244660-0b02-43ad-b595-c222d207662d",
   "metadata": {},
   "outputs": [],
   "source": [
    "t.appendPlainText(\"hey\")"
   ]
  },
  {
   "cell_type": "code",
   "execution_count": 6,
   "id": "7657ad13-c91e-4930-880f-2a7ec8a1ecab",
   "metadata": {},
   "outputs": [
    {
     "data": {
      "text/plain": [
       "'hey'"
      ]
     },
     "execution_count": 6,
     "metadata": {},
     "output_type": "execute_result"
    }
   ],
   "source": [
    "t.toPlainText()"
   ]
  },
  {
   "cell_type": "code",
   "execution_count": 7,
   "id": "6141d4eb-aae4-44eb-8c10-d81d409023cf",
   "metadata": {},
   "outputs": [],
   "source": [
    "c = t.cursor()"
   ]
  },
  {
   "cell_type": "code",
   "execution_count": 10,
   "id": "24609292-c712-40e9-99d4-c6f018a9a01a",
   "metadata": {},
   "outputs": [
    {
     "data": {
      "text/plain": [
       "PyQt5.QtCore.QPoint(3203, 733)"
      ]
     },
     "execution_count": 10,
     "metadata": {},
     "output_type": "execute_result"
    }
   ],
   "source": [
    "c.pos()"
   ]
  },
  {
   "cell_type": "code",
   "execution_count": 11,
   "id": "9feac99c-c8e0-4a3b-90a4-8576f21582b5",
   "metadata": {},
   "outputs": [],
   "source": [
    "tc = t.textCursor()"
   ]
  },
  {
   "cell_type": "code",
   "execution_count": 13,
   "id": "4f8c4929-0f9d-45dd-a07f-71cf1fa366aa",
   "metadata": {},
   "outputs": [
    {
     "data": {
      "text/plain": [
       "3"
      ]
     },
     "execution_count": 13,
     "metadata": {},
     "output_type": "execute_result"
    }
   ],
   "source": [
    "tc.position()"
   ]
  },
  {
   "cell_type": "code",
   "execution_count": 15,
   "id": "05be9b07-2800-4b9d-8512-42fb7d656bab",
   "metadata": {},
   "outputs": [
    {
     "data": {
      "text/plain": [
       "0"
      ]
     },
     "execution_count": 15,
     "metadata": {},
     "output_type": "execute_result"
    }
   ],
   "source": [
    "tc.setPosition(0)\n",
    "tc.position()\n"
   ]
  },
  {
   "cell_type": "code",
   "execution_count": 11,
   "id": "61e871a1-eecc-4e97-8f24-09c41dbeb6af",
   "metadata": {},
   "outputs": [
    {
     "data": {
      "text/plain": [
       "dict_keys"
      ]
     },
     "execution_count": 11,
     "metadata": {},
     "output_type": "execute_result"
    }
   ],
   "source": [
    "type(config.keys())"
   ]
  },
  {
   "cell_type": "code",
   "execution_count": 12,
   "id": "8e0eacbd-0346-4832-bf4b-09338c2c4396",
   "metadata": {},
   "outputs": [],
   "source": [
    "dict_keys = type({}.keys())"
   ]
  },
  {
   "cell_type": "code",
   "execution_count": null,
   "id": "abf32170-a354-42ed-a45f-607ceeb9591d",
   "metadata": {},
   "outputs": [],
   "source": [
    "class ConfigMainWindow:\n",
    "    # TODO: create a dock dict\n",
    "    # create a command of printing that dict\n",
    "    \n",
    "    def parse_config(self, config:dict):\n",
    "        # FIXME: add multiple dock split\n",
    "        def is_vertical_split(d:Union[dict,str]):\n",
    "            return isinstance(d,dict) and set(d.keys()) == {'left','right'}\n",
    "        def is_horizontal_split(d:Union[dict,str]):\n",
    "            return isinstance(d,dict) and set(d.keys()) == {'top','bot'}\n",
    "        # TODO: assertion\n",
    "        def parse_dock(d:Union[dict,str], parent):\n",
    "            if isinstance(d, str):\n",
    "                self.docks[parent] = d\n",
    "            elif is_vertical_split(d):\n",
    "                # add two docks\n",
    "                left_dock = QDockWidget() # FIXME\n",
    "        \n",
    "\n",
    "    def __init__(self, FPS=60, stylesheet=styleSheet):\n",
    "        super().__init__()\n",
    "        self.FPS = FPS\n",
    "        self.panda3d = None\n",
    "        self.synchronizer = Synchronizer(self.FPS)\n",
    "        loadPrcFileData(\"\", \"window-type offscreen\")\n",
    "        self.resize(1600, 1200)\n",
    "        self.config = config\n",
    "        self.parse_config(config)\n",
    "        self.docks = {}\n",
    "        \n",
    "        # Create three dock widgets\n",
    "        # self.dock_top_left = QDockWidget(\"Game Camera\", self)\n",
    "        # self.dock_bottom_left = QDockWidget(\"Console\", self)\n",
    "        # self.dock_right = QDockWidget(\"Logger\", self)\n",
    "        \n",
    "        # # Add the docks to the main window\n",
    "        # self.addDockWidget(Qt.LeftDockWidgetArea, self.dock_top_left)\n",
    "        # self.addDockWidget(Qt.RightDockWidgetArea, self.dock_right)\n",
    "        # # Split the left dock area vertically (top and bottom)\n",
    "        # self.splitDockWidget(self.dock_top_left, self.dock_bottom_left, Qt.Vertical)\n",
    "        # self.resizeDocks([self.dock_top_left, self.dock_bottom_left], [200, 200], Qt.Vertical)\n",
    "        # self.setWindowTitle(\"Three Dock Layout\")\n",
    "        \n",
    "        \n",
    "        \n",
    "        self.dock_bottom_left.setWidget(ConsoleWidget(\"Bottom Left Content\"))\n",
    "        self.log_widget = LoggerWidget(\"Game Logs\")\n",
    "        self.dock_right.setWidget(self.log_widget)\n",
    "        self.log_widget.add_level(GAME_LOG)\n",
    "        Loggable.add_handlers_for_all(self.log_widget.handlers[GAME_LOG]) \n",
    "        self.startGame()\n",
    "        self.panda3d.log(\"game start\")\n",
    "        self.setStyleSheet(styleSheet)\n",
    "        if stylesheet is not None:\n",
    "            self.dock_bottom_left.setStyleSheet(stylesheet)\n",
    "\n",
    "    def startGame(self):\n",
    "        self.panda3d = PlanetStarSpace()\n",
    "        self.panda3d.log(\"create world\")\n",
    "        self.synchronizer.setShowBase(self.panda3d)\n",
    "        self.pandaWidget = QPanda3DWidget(\n",
    "            self.panda3d, \n",
    "            synchronizer=self.synchronizer\n",
    "        )\n",
    "        self.synchronizer.addWidget(self.pandaWidget)\n",
    "        self.dock_top_left.setWidget(self.pandaWidget)\n",
    "        self.synchronizer.start()\n",
    "        self.panda_mouse_watcher = self.panda3d.mouseWatcherNode # FIXME: let a widget watch this\n",
    "        self.pandaWidget.setFocus()\n",
    "    \n",
    "    def create_widget(self, widget_type:str):\n",
    "        pass\n",
    "    pass"
   ]
  }
 ],
 "metadata": {
  "kernelspec": {
   "display_name": "game",
   "language": "python",
   "name": "game"
  },
  "language_info": {
   "codemirror_mode": {
    "name": "ipython",
    "version": 3
   },
   "file_extension": ".py",
   "mimetype": "text/x-python",
   "name": "python",
   "nbconvert_exporter": "python",
   "pygments_lexer": "ipython3",
   "version": "3.11.9"
  }
 },
 "nbformat": 4,
 "nbformat_minor": 5
}
