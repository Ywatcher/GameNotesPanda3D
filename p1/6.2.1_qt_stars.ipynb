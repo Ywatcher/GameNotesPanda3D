{
 "cells": [
  {
   "cell_type": "code",
   "execution_count": 1,
   "id": "3bfb3cac-4176-431b-be7c-84e796c0776c",
   "metadata": {},
   "outputs": [],
   "source": [
    "import sys\n",
    "from PyQt5.QtWidgets import QApplication, QMainWindow, QDockWidget, QTextEdit, QPlainTextEdit\n",
    "from PyQt5.QtCore import Qt, QTimer\n",
    "import filepath\n",
    "import pdb\n",
    "from panda3d.core import (\n",
    "    loadPrcFileData\n",
    ")\n",
    "from typing import Tuple\n",
    "from qpanda3d import QShowBase, QPanda3DWidget, QControl, Synchronizer\n",
    "from demos.physics_room import RoomScene\n",
    "from panda3d_game.app import ControlShowBase, ContextShowBase, PhysicsShowBase\n",
    "from vispyutil.canvas import SynchronizedCanvas\n",
    "from vispyutil.showbase import CanvasBackgroundShowBase\n",
    "import numpy as np\n",
    "from vispy import app, scene, visuals,use\n",
    "from sympy.physics.units import (\n",
    "    kilometer, meter,centimeter,\n",
    "    gram, kilogram, tonne,\n",
    "    newton, second\n",
    ")\n",
    "from util.physics import autocomplete_units, G_val, getG\n",
    "from demos.ball_room import MassedBall,tmoon\n",
    "from util.log import *\n",
    "from style_config import *"
   ]
  },
  {
   "cell_type": "code",
   "execution_count": 3,
   "id": "96b450f0-452d-4bbd-b931-c47bb75e32b5",
   "metadata": {},
   "outputs": [
    {
     "name": "stderr",
     "output_type": "stream",
     "text": [
      "Known pipe types:\n",
      "  glxGraphicsPipe\n",
      "(all display modules loaded.)\n",
      ":audio(error): Couldn't open default OpenAL device\n",
      ":audio(error): OpenALAudioManager: No open device or context\n",
      ":audio(error):   OpenALAudioManager is not valid, will use NullAudioManager\n",
      ":audio(error): Couldn't open default OpenAL device\n",
      ":audio(error): OpenALAudioManager: No open device or context\n",
      ":audio(error):   OpenALAudioManager is not valid, will use NullAudioManager\n",
      "/media/ywatcher/ExtDisk1/LDisk/Packages/game_env/env/lib/python3.11/site-packages/torch/functional.py:504: UserWarning: torch.meshgrid: in an upcoming release, it will be required to pass the indexing argument. (Triggered internally at /home/conda/feedstock_root/build_artifacts/libtorch_1711322746054/work/aten/src/ATen/native/TensorShape.cpp:3526.)\n",
      "  return _VF.meshgrid(tensors, **kwargs)  # type: ignore[attr-defined]\n"
     ]
    },
    {
     "ename": "SystemExit",
     "evalue": "0",
     "output_type": "error",
     "traceback": [
      "An exception has occurred, use %tb to see the full traceback.\n",
      "\u001b[0;31mSystemExit\u001b[0m\u001b[0;31m:\u001b[0m 0\n"
     ]
    },
    {
     "name": "stderr",
     "output_type": "stream",
     "text": [
      "/media/ywatcher/ExtDisk1/LDisk/Packages/game_env/env/lib/python3.11/site-packages/IPython/core/interactiveshell.py:3585: UserWarning: To exit: use 'exit', 'quit', or Ctrl-D.\n",
      "  warn(\"To exit: use 'exit', 'quit', or Ctrl-D.\", stacklevel=1)\n"
     ]
    }
   ],
   "source": [
    "class StarCanvas(SynchronizedCanvas):\n",
    "    def __init__(self, n_stars, rho=10):\n",
    "        SynchronizedCanvas.__init__(self)\n",
    "        self.n_stars = n_stars \n",
    "        # randomly pick stars\n",
    "        np.random.seed(0)  # todo: use torch random state\n",
    "        cos_pos_theta = np.random.uniform(-1,1, n_stars)\n",
    "        pos_theta = np.arccos(cos_pos_theta)\n",
    "        pos_phi = np.random.uniform(0,2*np.pi, n_stars)\n",
    "        sizes = np.random.uniform(0, 5, n_stars) \n",
    "        r = rho * np.sin(pos_theta)\n",
    "        x = r * np.cos(pos_phi)\n",
    "        y = r * np.sin(pos_phi)\n",
    "        z = rho * np.cos(pos_theta)\n",
    "        positions = np.vstack([x,y,z]).T\n",
    "        scatter = scene.visuals.Markers()\n",
    "        scatter.set_data(positions, edge_color=None, face_color='white', size=sizes, symbol='o')\n",
    "        # Add scatter plot to the view\n",
    "        self.view.add(scatter)\n",
    "\n",
    "\n",
    "class StarScene(CanvasBackgroundShowBase):\n",
    "    def __init__(self):\n",
    "        # ControlShowBase.__init__(self)\n",
    "        self.stars_canvas = StarCanvas(60000)\n",
    "        CanvasBackgroundShowBase.__init__(self,self.stars_canvas)\n",
    "\n",
    "        \n",
    "class PlanetStarScene(StarScene,PhysicsShowBase):\n",
    "    def __init__(self):\n",
    "        StarScene.__init__(self)\n",
    "        PhysicsShowBase.__init__(self)\n",
    "        self.bullet_world.setGravity((0,0,0))\n",
    "        self.unit = {\n",
    "            \"mass\" : tonne,\n",
    "            \"length\" : 100*meter,\n",
    "            \"time\": 1 * second,\n",
    "            # \"force\" : sp.Number(1e3) * newton\n",
    "        }\n",
    "        autocomplete_units(self.unit)\n",
    "        self.planet1 = MassedBall(\n",
    "            name=\"planet1\",\n",
    "            radius=1000*meter,\n",
    "            mass=1e6*tonne,\n",
    "            units=self.unit\n",
    "        )\n",
    "        self.planet1.reparentTo(self.render)\n",
    "        self.planet1.set_texture(tmoon)\n",
    "        self.planet1.setScale(10)\n",
    "        self.planet1.setPos(0,10,0)\n",
    "\n",
    "class PlanetStarSpace(PlanetStarScene, QControl):\n",
    "    def __init__(self, isQt = True):\n",
    "        import pdb\n",
    "        QControl.__init__(self)\n",
    "        PlanetStarScene.__init__(self)\n",
    "        self.isQt = isQt\n",
    "        if self.isQt:\n",
    "            self.startQt()\n",
    "\n",
    "import logging\n",
    "class QLogHandler(logging.Handler):\n",
    "    def __init__(self, text_edit: QPlainTextEdit):\n",
    "        super().__init__()\n",
    "        self.text_edit = text_edit\n",
    "\n",
    "    def emit(self, record):\n",
    "        msg = self.format(record)\n",
    "        self.text_edit.appendPlainText(msg)\n",
    "\n",
    "class ConsoleWidget(QPlainTextEdit):\n",
    "    def __init__(self, title):\n",
    "        QTextEdit.__init__(self,title)\n",
    "        self.setObjectName(\"console\")\n",
    "    pass # set a console for it\n",
    "\n",
    "class LoggerWidget(QPlainTextEdit):\n",
    "    def __init__(self, title):\n",
    "        QTextEdit.__init__(self,title)\n",
    "        self.setObjectName(\"logger\")\n",
    "        self.setReadOnly(True)\n",
    "        self.handlers = {}\n",
    "\n",
    "    def add_level(self, level:int):\n",
    "        if level not in self.handlers.keys():\n",
    "            new_handler = QLogHandler(self)\n",
    "            formatter = logging.Formatter(\n",
    "                # FIXME\n",
    "                '%(asctime)s - %(levelname)s - %(message)s'\n",
    "            )\n",
    "            new_handler.setFormatter(formatter)\n",
    "            self.handlers[level] = new_handler\n",
    "    \n",
    "    pass\n",
    "\n",
    "\n",
    "\n",
    "class BufferWidget:\n",
    "    # each item has its type\n",
    "    # for example, input history or output history\n",
    "    # each has its str\n",
    "    pass\n",
    "\n",
    "class TextBuffer:\n",
    "    # FIXME: use a queue instead\n",
    "    # implement: write to a cache file\n",
    "    # cached queue\n",
    "    pass\n",
    "\n",
    "class TextBrowserWidget:\n",
    "    # browse a buffer\n",
    "    pass\n",
    "\n",
    "\n",
    "class MainWindow(QMainWindow):\n",
    "    def __init__(self, FPS=60, stylesheet=styleSheet):\n",
    "        super().__init__()\n",
    "        self.FPS = FPS\n",
    "        # Create three dock widgets\n",
    "        self.dock_top_left = QDockWidget(\"Game Camera\", self)\n",
    "        self.dock_bottom_left = QDockWidget(\"Console\", self)\n",
    "        self.dock_right = QDockWidget(\"Logger\", self)\n",
    "        \n",
    "        # Add the docks to the main window\n",
    "        self.addDockWidget(Qt.LeftDockWidgetArea, self.dock_top_left)\n",
    "        self.addDockWidget(Qt.RightDockWidgetArea, self.dock_right)\n",
    "        # Split the left dock area vertically (top and bottom)\n",
    "        self.splitDockWidget(self.dock_top_left, self.dock_bottom_left, Qt.Vertical)\n",
    "        self.resizeDocks([self.dock_top_left, self.dock_bottom_left], [200, 200], Qt.Vertical)\n",
    "        self.setWindowTitle(\"Three Dock Layout\")\n",
    "        self.resize(800, 600)\n",
    "        self.panda3d = None\n",
    "        self.synchronizer = Synchronizer(self.FPS)\n",
    "        loadPrcFileData(\"\", \"window-type offscreen\")\n",
    "        \n",
    "        self.dock_bottom_left.setWidget(ConsoleWidget(\"Bottom Left Content\"))\n",
    "        self.log_widget = LoggerWidget(\"Game Logs\")\n",
    "        self.dock_right.setWidget(self.log_widget)\n",
    "        self.log_widget.add_level(GAME_LOG)\n",
    "        Loggable.add_handlers_for_all(self.log_widget.handlers[GAME_LOG]) \n",
    "        self.startGame()\n",
    "        self.panda3d.log(\"game start\")\n",
    "        self.setStyleSheet(styleSheet)\n",
    "        if stylesheet is not None:\n",
    "            self.dock_bottom_left.setStyleSheet(stylesheet)\n",
    "\n",
    "    def startGame(self):\n",
    "        self.panda3d = PlanetStarSpace()\n",
    "        self.panda3d.log(\"create world\")\n",
    "        self.synchronizer.setShowBase(self.panda3d)\n",
    "        self.pandaWidget = QPanda3DWidget(\n",
    "            self.panda3d, \n",
    "            synchronizer=self.synchronizer\n",
    "        )\n",
    "        self.synchronizer.addWidget(self.pandaWidget)\n",
    "        self.dock_top_left.setWidget(self.pandaWidget)\n",
    "        self.synchronizer.start()\n",
    "        self.panda_mouse_watcher = self.panda3d.mouseWatcherNode # FIXME: let a widget watch this\n",
    "        self.pandaWidget.setFocus()\n",
    "        \n",
    "        # self.panda3d.cam_sensitivity = 0.01\n",
    "\n",
    "    # todo: remove a widget\n",
    "\n",
    "    \n",
    "\n",
    "if __name__ == '__main__':\n",
    "    app = QApplication(sys.argv)\n",
    "    window = MainWindow()\n",
    "    window.show()\n",
    "    sys.exit(app.exec_())"
   ]
  },
  {
   "cell_type": "code",
   "execution_count": 4,
   "id": "40c3f1db-8206-4c22-b580-d1b87adadef7",
   "metadata": {},
   "outputs": [],
   "source": [
    "from logging import Logger"
   ]
  },
  {
   "cell_type": "code",
   "execution_count": 5,
   "id": "4d84c9f8-880e-4a91-b6c4-4129ceeb3805",
   "metadata": {},
   "outputs": [
    {
     "name": "stdout",
     "output_type": "stream",
     "text": [
      "Help on function _log in module logging:\n",
      "\n",
      "_log(self, level, msg, args, exc_info=None, extra=None, stack_info=False, stacklevel=1)\n",
      "    Low-level logging routine which creates a LogRecord and then calls\n",
      "    all the handlers of this logger to handle the record.\n",
      "\n"
     ]
    }
   ],
   "source": [
    "help(Logger._log)cla"
   ]
  },
  {
   "cell_type": "code",
   "execution_count": 6,
   "id": "4a244660-0b02-43ad-b595-c222d207662d",
   "metadata": {},
   "outputs": [],
   "source": [
    "l = Logger(\"\")"
   ]
  },
  {
   "cell_type": "code",
   "execution_count": 7,
   "id": "7657ad13-c91e-4930-880f-2a7ec8a1ecab",
   "metadata": {},
   "outputs": [
    {
     "data": {
      "text/plain": [
       "0"
      ]
     },
     "execution_count": 7,
     "metadata": {},
     "output_type": "execute_result"
    }
   ],
   "source": [
    "l.level"
   ]
  },
  {
   "cell_type": "code",
   "execution_count": 4,
   "id": "6141d4eb-aae4-44eb-8c10-d81d409023cf",
   "metadata": {},
   "outputs": [
    {
     "data": {
      "text/plain": [
       "0"
      ]
     },
     "execution_count": 4,
     "metadata": {},
     "output_type": "execute_result"
    }
   ],
   "source": [
    "logging.NOTSET"
   ]
  },
  {
   "cell_type": "code",
   "execution_count": 5,
   "id": "24609292-c712-40e9-99d4-c6f018a9a01a",
   "metadata": {},
   "outputs": [
    {
     "ename": "AttributeError",
     "evalue": "type object 'Logger' has no attribute 'parent'",
     "output_type": "error",
     "traceback": [
      "\u001b[0;31m---------------------------------------------------------------------------\u001b[0m",
      "\u001b[0;31mAttributeError\u001b[0m                            Traceback (most recent call last)",
      "Cell \u001b[0;32mIn[5], line 1\u001b[0m\n\u001b[0;32m----> 1\u001b[0m help(\u001b[43mLogger\u001b[49m\u001b[38;5;241;43m.\u001b[39;49m\u001b[43mparent\u001b[49m)\n",
      "\u001b[0;31mAttributeError\u001b[0m: type object 'Logger' has no attribute 'parent'"
     ]
    }
   ],
   "source": [
    "help(Logger.parent)"
   ]
  },
  {
   "cell_type": "code",
   "execution_count": null,
   "id": "9feac99c-c8e0-4a3b-90a4-8576f21582b5",
   "metadata": {},
   "outputs": [],
   "source": []
  }
 ],
 "metadata": {
  "kernelspec": {
   "display_name": "game",
   "language": "python",
   "name": "game"
  },
  "language_info": {
   "codemirror_mode": {
    "name": "ipython",
    "version": 3
   },
   "file_extension": ".py",
   "mimetype": "text/x-python",
   "name": "python",
   "nbconvert_exporter": "python",
   "pygments_lexer": "ipython3",
   "version": "3.11.9"
  }
 },
 "nbformat": 4,
 "nbformat_minor": 5
}
