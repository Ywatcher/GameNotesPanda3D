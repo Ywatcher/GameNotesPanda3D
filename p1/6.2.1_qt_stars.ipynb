{
 "cells": [
  {
   "cell_type": "code",
   "execution_count": 1,
   "id": "3bfb3cac-4176-431b-be7c-84e796c0776c",
   "metadata": {},
   "outputs": [],
   "source": [
    "import sys\n",
    "from PyQt5.QtWidgets import QWidget, QApplication, QMainWindow, QDockWidget, QTextEdit, QPlainTextEdit\n",
    "from PyQt5.QtCore import Qt, QTimer\n",
    "import filepath\n",
    "import pdb\n",
    "from panda3d.core import (\n",
    "    loadPrcFileData\n",
    ")\n",
    "from typing import Tuple\n",
    "from qpanda3d import QShowBase, QPanda3DWidget, QControl, Synchronizer\n",
    "from demos.physics_room import RoomScene\n",
    "from panda3d_game.app import ControlShowBase, ContextShowBase, PhysicsShowBase\n",
    "from vispyutil.canvas import SynchronizedCanvas\n",
    "from vispyutil.showbase import CanvasBackgroundShowBase\n",
    "import numpy as np\n",
    "from vispy import app, scene, visuals,use\n",
    "from sympy.physics.units import (\n",
    "    kilometer, meter,centimeter,\n",
    "    gram, kilogram, tonne,\n",
    "    newton, second\n",
    ")\n",
    "from util.physics import autocomplete_units, G_val, getG\n",
    "from demos.ball_room import MassedBall,tmoon\n",
    "from util.log import *\n",
    "from config.style import styleSheet\n",
    "import yaml\n",
    "import filepath\n",
    "from util.repo import *\n",
    "import os\n",
    "from PyQt5.QtCore import QObject, QEvent\n",
    "def load_config(config_file):\n",
    "    with open(config_file, 'r') as file:\n",
    "        return yaml.safe_load(file)\n",
    "\n",
    "config = load_config(os.path.join(config_root, \"layout_simple.yaml\"))\n",
    "from qtutil.event import *"
   ]
  },
  {
   "cell_type": "code",
   "execution_count": null,
   "id": "156a61d6-cb58-4ffa-8cc5-84d2e67599d2",
   "metadata": {},
   "outputs": [],
   "source": []
  },
  {
   "cell_type": "code",
   "execution_count": null,
   "id": "96b450f0-452d-4bbd-b931-c47bb75e32b5",
   "metadata": {},
   "outputs": [
    {
     "name": "stderr",
     "output_type": "stream",
     "text": [
      "Known pipe types:\n",
      "  glxGraphicsPipe\n",
      "(all display modules loaded.)\n",
      ":audio(error): Couldn't open default OpenAL device\n",
      ":audio(error): OpenALAudioManager: No open device or context\n",
      ":audio(error):   OpenALAudioManager is not valid, will use NullAudioManager\n",
      ":audio(error): Couldn't open default OpenAL device\n",
      ":audio(error): OpenALAudioManager: No open device or context\n",
      ":audio(error):   OpenALAudioManager is not valid, will use NullAudioManager\n",
      "/media/ywatcher/ExtDisk1/LDisk/Packages/game_env/env/lib/python3.11/site-packages/torch/functional.py:504: UserWarning: torch.meshgrid: in an upcoming release, it will be required to pass the indexing argument. (Triggered internally at /home/conda/feedstock_root/build_artifacts/libtorch_1711322746054/work/aten/src/ATen/native/TensorShape.cpp:3526.)\n",
      "  return _VF.meshgrid(tensors, **kwargs)  # type: ignore[attr-defined]\n"
     ]
    }
   ],
   "source": [
    "# TODO: press : for command\n",
    "# TODO: console history save and load\n",
    "# TODO: alias and scripts\n",
    "\n",
    "import pdb\n",
    "class StarCanvas(SynchronizedCanvas):\n",
    "    def __init__(self, n_stars, rho=10):\n",
    "        SynchronizedCanvas.__init__(self)\n",
    "        self.n_stars = n_stars \n",
    "        # randomly pick stars\n",
    "        np.random.seed(0)  # todo: use torch random state\n",
    "        cos_pos_theta = np.random.uniform(-1,1, n_stars)\n",
    "        pos_theta = np.arccos(cos_pos_theta)\n",
    "        pos_phi = np.random.uniform(0,2*np.pi, n_stars)\n",
    "        sizes = np.random.uniform(0, 5, n_stars) \n",
    "        r = rho * np.sin(pos_theta)\n",
    "        x = r * np.cos(pos_phi)\n",
    "        y = r * np.sin(pos_phi)\n",
    "        z = rho * np.cos(pos_theta)\n",
    "        positions = np.vstack([x,y,z]).T\n",
    "        scatter = scene.visuals.Markers()\n",
    "        scatter.set_data(positions, edge_color=None, face_color='white', size=sizes, symbol='o')\n",
    "        # Add scatter plot to the view\n",
    "        self.view.add(scatter)\n",
    "\n",
    "class StarScene(CanvasBackgroundShowBase):\n",
    "    def __init__(self):\n",
    "        self.stars_canvas = StarCanvas(60000)\n",
    "        CanvasBackgroundShowBase.__init__(self,self.stars_canvas)\n",
    "\n",
    "        \n",
    "class PlanetStarScene(StarScene,PhysicsShowBase):\n",
    "    def __init__(self):\n",
    "        StarScene.__init__(self)\n",
    "        PhysicsShowBase.__init__(self)\n",
    "        self.bullet_world.setGravity((0,0,0))\n",
    "        self.unit = {\n",
    "            \"mass\" : tonne,\n",
    "            \"length\" : 100*meter,\n",
    "            \"time\": 1 * second,\n",
    "            # \"force\" : sp.Number(1e3) * newton\n",
    "        }\n",
    "        autocomplete_units(self.unit)\n",
    "        self.planet1 = MassedBall(\n",
    "            name=\"planet1\",\n",
    "            radius=1000*meter,\n",
    "            mass=1e6*tonne,\n",
    "            units=self.unit\n",
    "        )\n",
    "        self.planet1.reparentTo(self.render)\n",
    "        self.planet1.set_texture(tmoon)\n",
    "        self.planet1.setScale(10)\n",
    "        self.planet1.setPos(0,10,0)\n",
    "\n",
    "class PlanetStarSpace(PlanetStarScene, QControl):\n",
    "    def __init__(self, isQt = True):\n",
    "        import pdb\n",
    "        QControl.__init__(self)\n",
    "        PlanetStarScene.__init__(self)\n",
    "        self.isQt = isQt\n",
    "        if self.isQt:\n",
    "            self.startQt()\n",
    "\n",
    "\n",
    "\n",
    "\n",
    "\n",
    "from qtutil.qobserver import QObserved\n",
    "\n",
    "\n",
    "import logging\n",
    "class QLogHandler(logging.Handler):\n",
    "    def __init__(self, text_edit: QPlainTextEdit):\n",
    "        super().__init__()\n",
    "        self.text_edit = text_edit\n",
    "\n",
    "    def emit(self, record):\n",
    "        msg = self.format(record)\n",
    "        self.text_edit.appendPlainText(msg)\n",
    "\n",
    "from console import Console\n",
    "\n",
    "class ConsoleWidget(QPlainTextEdit, Loggable, QObserved):\n",
    "    def __init__(self, title, console:Console=None):\n",
    "        QTextEdit.__init__(self,title)\n",
    "        Loggable.__init__(self,name=\"console\")\n",
    "        QObserved.__init__(self)\n",
    "        self.setObjectName(\"console\")\n",
    "        self.console = console\n",
    "        self.setPlaceholderText(self.prompt)\n",
    "        self.prev_cursor = self.cursor_pos\n",
    "        \n",
    "\n",
    "    @property\n",
    "    def prompt(self):\n",
    "        # TODO： set prompt according to the user\n",
    "        return \"{game prompt} \"\n",
    "\n",
    "    @property\n",
    "    def cursor_pos(self):\n",
    "        return self.textCursor().position()\n",
    "        # TODO: set console\n",
    "\n",
    "    def mousePressEvent(self, event):\n",
    "        # return\n",
    "        pos_bfore_click = self.cursor_pos  # get current cursor\n",
    "        super().mousePressEvent(event)\n",
    "        pos_after_click = self.cursor_pos\n",
    "        if pos_after_click < self.prev_cursor:  \n",
    "            cursor = self.textCursor()\n",
    "            cursor.setPosition(pos_bfore_click)  \n",
    "            self.setTextCursor(cursor)  \n",
    "        \n",
    "\n",
    "    def keyPressEvent(self, event):\n",
    "        if event.key() == Qt.Key_Return or event.key() == Qt.Key_Enter:\n",
    "            self.put('', refresh_cursor=False, prompt=False)\n",
    "            if self.console is not None:\n",
    "                self.debug(\"handle command, cursor at\",self.cursor_pos)\n",
    "                self.handle_command()\n",
    "        elif event.key() == Qt.Key_Escape:\n",
    "            # FIXME: use this only when it is jumped from game to here\n",
    "            # back to the game\n",
    "            evt_back_to_game = QEvent(FOCUS_GAME)\n",
    "            self.send_qevent(evt_back_to_game) # send to all listeners\n",
    "        else:\n",
    "            pos_bfore_click = self.cursor_pos\n",
    "            super().keyPressEvent(event)\n",
    "            pos_after_click = self.cursor_pos\n",
    "            if pos_after_click < self.prev_cursor:  \n",
    "                cursor = self.textCursor()\n",
    "                cursor.setPosition(pos_bfore_click)  \n",
    "                self.setTextCursor(cursor)  \n",
    "\n",
    "    def handle_command(self):\n",
    "        command = self.toPlainText().strip()[self.prev_cursor:]\n",
    "        self.debug(\"command is `{}`\".format(command))\n",
    "        if command:\n",
    "            Console.parse(self.console, command)\n",
    "            self.print_output()\n",
    "\n",
    "    def print_output(self):\n",
    "        if self.console.out_buffer.empty():\n",
    "            self.put('') # line break\n",
    "        while not self.console.out_buffer.empty():\n",
    "            o = self.console.out_buffer.get()\n",
    "            self.debug(\"output is `{}`\".format(o))\n",
    "            self.put(o)\n",
    "\n",
    "    def put(\n",
    "        self, s, \n",
    "        linebreak=True, \n",
    "        refresh_cursor=True,\n",
    "        prompt=True\n",
    "    ):\n",
    "        \"\"\"\n",
    "        put new text to widget,\n",
    "        with predefined behaviour\n",
    "        \"\"\"\n",
    "        if linebreak and not s.endswith('\\n'):\n",
    "            s += '\\n'\n",
    "            if prompt:\n",
    "                s+=self.prompt\n",
    "        self.appendPlainText(s)\n",
    "        if refresh_cursor:\n",
    "            self.prev_cursor = self.cursor_pos\n",
    "\n",
    "    def clear(self):\n",
    "        super().clear(self)\n",
    "        self.prev_cursor = self.cursor_pos\n",
    "        \n",
    "\n",
    "class LoggerWidget(QPlainTextEdit):\n",
    "    def __init__(self, title):\n",
    "        QTextEdit.__init__(self,title)\n",
    "        self.setObjectName(\"logger\")\n",
    "        self.setReadOnly(True)\n",
    "        self.handlers = {}\n",
    "\n",
    "    def add_level(self, level:int):\n",
    "        if level not in self.handlers.keys():\n",
    "            new_handler = QLogHandler(self)\n",
    "            formatter = logging.Formatter(\n",
    "                # FIXME\n",
    "                '%(asctime)s - %(levelname)s - %(message)s'\n",
    "            )\n",
    "            new_handler.setFormatter(formatter)\n",
    "            self.handlers[level] = new_handler\n",
    "\n",
    "\n",
    "class BufferWidget:\n",
    "    # each item has its type\n",
    "    # for example, input history or output history\n",
    "    # each has its str\n",
    "    pass\n",
    "\n",
    "class TextBuffer:\n",
    "    # FIXME: use a queue instead\n",
    "    # implement: write to a cache file\n",
    "    # cached queue\n",
    "    pass\n",
    "\n",
    "class TextBrowserWidget:\n",
    "    # browse a buffer\n",
    "    pass\n",
    "from typing import Dict\n",
    "class FocusFilter(QObject):\n",
    "    def __init__(self, widgets_dict = Dict[int, QWidget]):\n",
    "        QObject.__init__(self)\n",
    "        self.widgets_dict = widgets_dict\n",
    "\n",
    "    def eventFilter(self, obj, event):\n",
    "        evt_type = event.type()\n",
    "        if evt_type in self.widgets_dict.keys():\n",
    "            self.widgets_dict[evt_type].setFocus()\n",
    "        return super().eventFilter(obj, event)\n",
    "# MainWindow read layout file\n",
    "\n",
    "from demos.physics_room import PhyscRoomConsole\n",
    "class MainWindow(QMainWindow):\n",
    "    def __init__(self, FPS=60, stylesheet=styleSheet):\n",
    "        super().__init__()\n",
    "        self.FPS = FPS\n",
    "        # Create three dock widgets\n",
    "        self.dock_top_left = QDockWidget(\"Game Camera\", self)\n",
    "        self.dock_bottom_left = QDockWidget(\"Console\", self)\n",
    "        self.dock_right = QDockWidget(\"Logger\", self)\n",
    "        \n",
    "        # Add the docks to the main window\n",
    "        self.addDockWidget(Qt.LeftDockWidgetArea, self.dock_top_left)\n",
    "        self.addDockWidget(Qt.RightDockWidgetArea, self.dock_right)\n",
    "        # Split the left dock area vertically (top and bottom)\n",
    "        self.splitDockWidget(self.dock_top_left, self.dock_bottom_left, Qt.Vertical)\n",
    "        self.resizeDocks([self.dock_top_left, self.dock_bottom_left], [200, 200], Qt.Vertical)\n",
    "        self.setWindowTitle(\"Three Dock Layout\")\n",
    "        self.resize(1600, 1200)\n",
    "        self.panda3d = None\n",
    "        self.synchronizer = Synchronizer(self.FPS)\n",
    "        loadPrcFileData(\"\", \"window-type offscreen\")\n",
    "        self.console_widget = ConsoleWidget(\"\")\n",
    "        self.dock_bottom_left.setWidget(self.console_widget)\n",
    "        self.log_widget = LoggerWidget(\"Game Logs\")\n",
    "        self.dock_right.setWidget(self.log_widget)\n",
    "        self.log_widget.add_level(GAME_LOG)\n",
    "        Loggable.add_handlers_for_all(self.log_widget.handlers[GAME_LOG]) \n",
    "        self.startGame()\n",
    "        self.panda3d.log(\"game start\")\n",
    "        self.console = self.get_console()\n",
    "        self.console_widget.console = self.console\n",
    "        self.setStyleSheet(styleSheet)\n",
    "        if stylesheet is not None:\n",
    "            self.dock_bottom_left.setStyleSheet(stylesheet)\n",
    "        self.focusFilter = FocusFilter({\n",
    "            FOCUS_CONSOLE:self.console_widget,\n",
    "            FOCUS_GAME:self.pandaWidget\n",
    "        })\n",
    "        self.installEventFilter(self.focusFilter)\n",
    "        self.console_widget.register_qobs(self)\n",
    "        self.pandaWidget.register_qobs(self)\n",
    "\n",
    "    def startGame(self):\n",
    "        # TODO: use get game()\n",
    "        self.panda3d = self.get_game()\n",
    "        self.panda3d.log(\"create world\")\n",
    "        self.synchronizer.setShowBase(self.panda3d)\n",
    "        self.pandaWidget = QPanda3DWidget(\n",
    "            self.panda3d, \n",
    "            synchronizer=self.synchronizer\n",
    "        )\n",
    "        self.synchronizer.addWidget(self.pandaWidget)\n",
    "        self.dock_top_left.setWidget(self.pandaWidget)\n",
    "        self.synchronizer.start()\n",
    "        self.panda_mouse_watcher = self.panda3d.mouseWatcherNode # FIXME: let a widget watch this\n",
    "        self.pandaWidget.setFocus()\n",
    "        \n",
    "        # self.panda3d.cam_sensitivity = 0.01\n",
    "\n",
    "    # todo: remove a widget\n",
    "\n",
    "    def get_game(self):\n",
    "        raise NotImplementedError\n",
    "\n",
    "    def get_console(self):\n",
    "        raise NotImplementedError\n",
    "\n",
    "    \n",
    "\n",
    "class SpaceGame(MainWindow):\n",
    "    def get_game(self):\n",
    "        return PlanetStarSpace()\n",
    "\n",
    "    def get_console(self):\n",
    "        return PhyscRoomConsole(showbase=self.panda3d)\n",
    "    \n",
    "\n",
    "if __name__ == '__main__':\n",
    "    app = QApplication(sys.argv)\n",
    "    window = SpaceGame()\n",
    "    window.show()\n",
    "    sys.exit(app.exec_())"
   ]
  },
  {
   "cell_type": "code",
   "execution_count": 5,
   "id": "a7ff3ced-b494-4b3a-8dcd-7903e0b5ac3b",
   "metadata": {},
   "outputs": [
    {
     "ename": "TypeError",
     "evalue": "ord() expected a character, but string of length 3 found",
     "output_type": "error",
     "traceback": [
      "\u001b[0;31m---------------------------------------------------------------------------\u001b[0m",
      "\u001b[0;31mTypeError\u001b[0m                                 Traceback (most recent call last)",
      "Cell \u001b[0;32mIn[5], line 1\u001b[0m\n\u001b[0;32m----> 1\u001b[0m \u001b[38;5;28;43mord\u001b[39;49m\u001b[43m(\u001b[49m\u001b[38;5;124;43m'\u001b[39;49m\u001b[38;5;124;43mesc\u001b[39;49m\u001b[38;5;124;43m'\u001b[39;49m\u001b[43m)\u001b[49m\n",
      "\u001b[0;31mTypeError\u001b[0m: ord() expected a character, but string of length 3 found"
     ]
    }
   ],
   "source": [
    "ord('esc')"
   ]
  },
  {
   "cell_type": "code",
   "execution_count": 4,
   "id": "efb0bcf7-7148-41fc-8b84-b3fba2f5814c",
   "metadata": {},
   "outputs": [],
   "source": [
    "a = QEvent.registerEventType()\n",
    "b = QEvent.registerEventType()"
   ]
  },
  {
   "cell_type": "code",
   "execution_count": 5,
   "id": "40c3f1db-8206-4c22-b580-d1b87adadef7",
   "metadata": {},
   "outputs": [
    {
     "data": {
      "text/plain": [
       "int"
      ]
     },
     "execution_count": 5,
     "metadata": {},
     "output_type": "execute_result"
    }
   ],
   "source": [
    "type(a)"
   ]
  },
  {
   "cell_type": "code",
   "execution_count": 10,
   "id": "4d84c9f8-880e-4a91-b6c4-4129ceeb3805",
   "metadata": {},
   "outputs": [],
   "source": [
    "import PyQt5\n",
    "from PyQt5.QtGui import QTextCursor"
   ]
  },
  {
   "cell_type": "code",
   "execution_count": 4,
   "id": "2c9533d4-f09b-4c75-8429-f7936c3ef217",
   "metadata": {},
   "outputs": [],
   "source": [
    "t = QPlainTextEdit()"
   ]
  },
  {
   "cell_type": "code",
   "execution_count": 5,
   "id": "4a244660-0b02-43ad-b595-c222d207662d",
   "metadata": {},
   "outputs": [],
   "source": [
    "t.appendPlainText(\"hey\")"
   ]
  },
  {
   "cell_type": "code",
   "execution_count": 6,
   "id": "7657ad13-c91e-4930-880f-2a7ec8a1ecab",
   "metadata": {},
   "outputs": [
    {
     "data": {
      "text/plain": [
       "'hey'"
      ]
     },
     "execution_count": 6,
     "metadata": {},
     "output_type": "execute_result"
    }
   ],
   "source": [
    "t.toPlainText()"
   ]
  },
  {
   "cell_type": "code",
   "execution_count": 7,
   "id": "6141d4eb-aae4-44eb-8c10-d81d409023cf",
   "metadata": {},
   "outputs": [],
   "source": [
    "c = t.cursor()"
   ]
  },
  {
   "cell_type": "code",
   "execution_count": 10,
   "id": "24609292-c712-40e9-99d4-c6f018a9a01a",
   "metadata": {},
   "outputs": [
    {
     "data": {
      "text/plain": [
       "PyQt5.QtCore.QPoint(3203, 733)"
      ]
     },
     "execution_count": 10,
     "metadata": {},
     "output_type": "execute_result"
    }
   ],
   "source": [
    "c.pos()"
   ]
  },
  {
   "cell_type": "code",
   "execution_count": 11,
   "id": "9feac99c-c8e0-4a3b-90a4-8576f21582b5",
   "metadata": {},
   "outputs": [],
   "source": [
    "tc = t.textCursor()"
   ]
  },
  {
   "cell_type": "code",
   "execution_count": 13,
   "id": "4f8c4929-0f9d-45dd-a07f-71cf1fa366aa",
   "metadata": {},
   "outputs": [
    {
     "data": {
      "text/plain": [
       "3"
      ]
     },
     "execution_count": 13,
     "metadata": {},
     "output_type": "execute_result"
    }
   ],
   "source": [
    "tc.position()"
   ]
  },
  {
   "cell_type": "code",
   "execution_count": 15,
   "id": "05be9b07-2800-4b9d-8512-42fb7d656bab",
   "metadata": {},
   "outputs": [
    {
     "data": {
      "text/plain": [
       "0"
      ]
     },
     "execution_count": 15,
     "metadata": {},
     "output_type": "execute_result"
    }
   ],
   "source": [
    "tc.setPosition(0)\n",
    "tc.position()\n"
   ]
  },
  {
   "cell_type": "code",
   "execution_count": 11,
   "id": "61e871a1-eecc-4e97-8f24-09c41dbeb6af",
   "metadata": {},
   "outputs": [
    {
     "data": {
      "text/plain": [
       "dict_keys"
      ]
     },
     "execution_count": 11,
     "metadata": {},
     "output_type": "execute_result"
    }
   ],
   "source": [
    "type(config.keys())"
   ]
  },
  {
   "cell_type": "code",
   "execution_count": 12,
   "id": "8e0eacbd-0346-4832-bf4b-09338c2c4396",
   "metadata": {},
   "outputs": [],
   "source": [
    "dict_keys = type({}.keys())"
   ]
  },
  {
   "cell_type": "code",
   "execution_count": null,
   "id": "abf32170-a354-42ed-a45f-607ceeb9591d",
   "metadata": {},
   "outputs": [],
   "source": [
    "class ConfigMainWindow:\n",
    "    # TODO: create a dock dict\n",
    "    # create a command of printing that dict\n",
    "    \n",
    "    def parse_config(self, config:dict):\n",
    "        # FIXME: add multiple dock split\n",
    "        def is_vertical_split(d:Union[dict,str]):\n",
    "            return isinstance(d,dict) and set(d.keys()) == {'left','right'}\n",
    "        def is_horizontal_split(d:Union[dict,str]):\n",
    "            return isinstance(d,dict) and set(d.keys()) == {'top','bot'}\n",
    "        # TODO: assertion\n",
    "        def parse_dock(d:Union[dict,str], parent):\n",
    "            if isinstance(d, str):\n",
    "                self.docks[parent] = d\n",
    "            elif is_vertical_split(d):\n",
    "                # add two docks\n",
    "                left_dock = QDockWidget() # FIXME\n",
    "        \n",
    "\n",
    "    def __init__(self, FPS=60, stylesheet=styleSheet):\n",
    "        super().__init__()\n",
    "        self.FPS = FPS\n",
    "        self.panda3d = None\n",
    "        self.synchronizer = Synchronizer(self.FPS)\n",
    "        loadPrcFileData(\"\", \"window-type offscreen\")\n",
    "        self.resize(1600, 1200)\n",
    "        self.config = config\n",
    "        self.parse_config(config)\n",
    "        self.docks = {}\n",
    "        \n",
    "        # Create three dock widgets\n",
    "        # self.dock_top_left = QDockWidget(\"Game Camera\", self)\n",
    "        # self.dock_bottom_left = QDockWidget(\"Console\", self)\n",
    "        # self.dock_right = QDockWidget(\"Logger\", self)\n",
    "        \n",
    "        # # Add the docks to the main window\n",
    "        # self.addDockWidget(Qt.LeftDockWidgetArea, self.dock_top_left)\n",
    "        # self.addDockWidget(Qt.RightDockWidgetArea, self.dock_right)\n",
    "        # # Split the left dock area vertically (top and bottom)\n",
    "        # self.splitDockWidget(self.dock_top_left, self.dock_bottom_left, Qt.Vertical)\n",
    "        # self.resizeDocks([self.dock_top_left, self.dock_bottom_left], [200, 200], Qt.Vertical)\n",
    "        # self.setWindowTitle(\"Three Dock Layout\")\n",
    "        \n",
    "        \n",
    "        \n",
    "        self.dock_bottom_left.setWidget(ConsoleWidget(\"Bottom Left Content\"))\n",
    "        self.log_widget = LoggerWidget(\"Game Logs\")\n",
    "        self.dock_right.setWidget(self.log_widget)\n",
    "        self.log_widget.add_level(GAME_LOG)\n",
    "        Loggable.add_handlers_for_all(self.log_widget.handlers[GAME_LOG]) \n",
    "        self.startGame()\n",
    "        self.panda3d.log(\"game start\")\n",
    "        self.setStyleSheet(styleSheet)\n",
    "        if stylesheet is not None:\n",
    "            self.dock_bottom_left.setStyleSheet(stylesheet)\n",
    "\n",
    "    def startGame(self):\n",
    "        self.panda3d = PlanetStarSpace()\n",
    "        self.panda3d.log(\"create world\")\n",
    "        self.synchronizer.setShowBase(self.panda3d)\n",
    "        self.pandaWidget = QPanda3DWidget(\n",
    "            self.panda3d, \n",
    "            synchronizer=self.synchronizer\n",
    "        )\n",
    "        self.synchronizer.addWidget(self.pandaWidget)\n",
    "        self.dock_top_left.setWidget(self.pandaWidget)\n",
    "        self.synchronizer.start()\n",
    "        self.panda_mouse_watcher = self.panda3d.mouseWatcherNode # FIXME: let a widget watch this\n",
    "        self.pandaWidget.setFocus()\n",
    "    \n",
    "    def create_widget(self, widget_type:str):\n",
    "        pass\n",
    "    pass"
   ]
  }
 ],
 "metadata": {
  "kernelspec": {
   "display_name": "game",
   "language": "python",
   "name": "game"
  },
  "language_info": {
   "codemirror_mode": {
    "name": "ipython",
    "version": 3
   },
   "file_extension": ".py",
   "mimetype": "text/x-python",
   "name": "python",
   "nbconvert_exporter": "python",
   "pygments_lexer": "ipython3",
   "version": "3.11.9"
  }
 },
 "nbformat": 4,
 "nbformat_minor": 5
}
